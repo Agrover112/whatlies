{
 "cells": [
  {
   "cell_type": "code",
   "execution_count": 1,
   "metadata": {},
   "outputs": [],
   "source": [
    "%load_ext autoreload\n",
    "%autoreload 2"
   ]
  },
  {
   "cell_type": "code",
   "execution_count": 2,
   "metadata": {},
   "outputs": [],
   "source": [
    "from whatlies import Embedding, EmbeddingSet\n",
    "import spacy "
   ]
  },
  {
   "cell_type": "markdown",
   "metadata": {},
   "source": [
    "## Making Plots ... More Cool \n",
    "\n",
    "The `Embedding` object merely has support for matplotlib, but the `EmbeddingSet` has support for Altair too! You can plot this interactively by just passing the names of the tokens you'd like to see."
   ]
  },
  {
   "cell_type": "code",
   "execution_count": 3,
   "metadata": {},
   "outputs": [],
   "source": [
    "nlp = spacy.load(\"en_core_web_md\")\n",
    "words = [\"prince\", \"princess\", \"nurse\", \"doctor\", \"banker\", \"man\", \"woman\", \n",
    "         \"cousin\", \"neice\", \"king\", \"queen\", \"dude\", \"guy\", \"gal\", \"fire\", \n",
    "         \"dog\", \"cat\", \"mouse\", \"red\", \"bluee\", \"green\", \"yellow\", \"water\", \n",
    "         \"person\", \"family\", \"brother\", \"sister\"]\n",
    "emb = EmbeddingSet({t.text: Embedding(t.text, t.vector) for t in nlp.pipe(words)})"
   ]
  },
  {
   "cell_type": "code",
   "execution_count": 4,
   "metadata": {},
   "outputs": [
    {
     "data": {
      "text/html": [
       "\n",
       "<div id=\"altair-viz-76eab2743bae419eba7843308fa2c56a\"></div>\n",
       "<script type=\"text/javascript\">\n",
       "  (function(spec, embedOpt){\n",
       "    const outputDiv = document.getElementById(\"altair-viz-76eab2743bae419eba7843308fa2c56a\");\n",
       "    const paths = {\n",
       "      \"vega\": \"https://cdn.jsdelivr.net/npm//vega@5?noext\",\n",
       "      \"vega-lib\": \"https://cdn.jsdelivr.net/npm//vega-lib?noext\",\n",
       "      \"vega-lite\": \"https://cdn.jsdelivr.net/npm//vega-lite@4.0.2?noext\",\n",
       "      \"vega-embed\": \"https://cdn.jsdelivr.net/npm//vega-embed@6?noext\",\n",
       "    };\n",
       "\n",
       "    function loadScript(lib) {\n",
       "      return new Promise(function(resolve, reject) {\n",
       "        var s = document.createElement('script');\n",
       "        s.src = paths[lib];\n",
       "        s.async = true;\n",
       "        s.onload = () => resolve(paths[lib]);\n",
       "        s.onerror = () => reject(`Error loading script: ${paths[lib]}`);\n",
       "        document.getElementsByTagName(\"head\")[0].appendChild(s);\n",
       "      });\n",
       "    }\n",
       "\n",
       "    function showError(err) {\n",
       "      outputDiv.innerHTML = `<div class=\"error\" style=\"color:red;\">${err}</div>`;\n",
       "      throw err;\n",
       "    }\n",
       "\n",
       "    function displayChart(vegaEmbed) {\n",
       "      vegaEmbed(outputDiv, spec, embedOpt)\n",
       "        .catch(err => showError(`Javascript Error: ${err.message}<br>This usually means there's a typo in your chart specification. See the javascript console for the full traceback.`));\n",
       "    }\n",
       "\n",
       "    if(typeof define === \"function\" && define.amd) {\n",
       "      requirejs.config({paths});\n",
       "      require([\"vega-embed\"], displayChart, err => showError(`Error loading script: ${err.message}`));\n",
       "    } else if (typeof vegaEmbed === \"function\") {\n",
       "      displayChart(vegaEmbed);\n",
       "    } else {\n",
       "      loadScript(\"vega\")\n",
       "        .then(() => loadScript(\"vega-lite\"))\n",
       "        .then(() => loadScript(\"vega-embed\"))\n",
       "        .catch(showError)\n",
       "        .then(() => displayChart(vegaEmbed));\n",
       "    }\n",
       "  })({\"config\": {\"view\": {\"continuousWidth\": 400, \"continuousHeight\": 300}}, \"layer\": [{\"mark\": {\"type\": \"circle\", \"size\": 60}, \"encoding\": {\"tooltip\": [{\"type\": \"nominal\", \"field\": \"name\"}, {\"type\": \"nominal\", \"field\": \"original\"}], \"x\": {\"type\": \"quantitative\", \"axis\": {\"title\": \"Emb[man]\"}, \"field\": \"x_axis\"}, \"y\": {\"type\": \"quantitative\", \"axis\": {\"title\": \"Emb[woman]\"}, \"field\": \"y_axis\"}}, \"selection\": {\"selector001\": {\"type\": \"interval\", \"bind\": \"scales\", \"encodings\": [\"x\", \"y\"]}}, \"title\": \"Emb[man] vs. Emb[woman]\"}, {\"mark\": {\"type\": \"text\", \"color\": \"black\", \"dx\": -15, \"dy\": 3}, \"encoding\": {\"text\": {\"type\": \"nominal\", \"field\": \"original\"}, \"x\": {\"type\": \"quantitative\", \"axis\": {\"title\": \"Emb[man]\"}, \"field\": \"x_axis\"}, \"y\": {\"type\": \"quantitative\", \"axis\": {\"title\": \"Emb[woman]\"}, \"field\": \"y_axis\"}}}], \"data\": {\"name\": \"data-f99450cb42a4c37029bbb687ee85b0ca\"}, \"$schema\": \"https://vega.github.io/schema/vega-lite/v4.0.2.json\", \"datasets\": {\"data-f99450cb42a4c37029bbb687ee85b0ca\": [{\"x_axis\": 0.40951526165008545, \"y_axis\": 0.3261851966381073, \"name\": \"Emb[prince]\", \"original\": \"prince\"}, {\"x_axis\": 0.27098548412323, \"y_axis\": 0.4069218039512634, \"name\": \"Emb[princess]\", \"original\": \"princess\"}, {\"x_axis\": 0.3271060585975647, \"y_axis\": 0.5211429595947266, \"name\": \"Emb[nurse]\", \"original\": \"nurse\"}, {\"x_axis\": 0.4489893317222595, \"y_axis\": 0.4943573474884033, \"name\": \"Emb[doctor]\", \"original\": \"doctor\"}, {\"x_axis\": 0.19353565573692322, \"y_axis\": 0.09302382916212082, \"name\": \"Emb[banker]\", \"original\": \"banker\"}, {\"x_axis\": 0.38155144453048706, \"y_axis\": 0.33430397510528564, \"name\": \"Emb[cousin]\", \"original\": \"cousin\"}, {\"x_axis\": 0.29427674412727356, \"y_axis\": 0.41036874055862427, \"name\": \"Emb[neice]\", \"original\": \"neice\"}, {\"x_axis\": 0.45961007475852966, \"y_axis\": 0.27491992712020874, \"name\": \"Emb[king]\", \"original\": \"king\"}, {\"x_axis\": 0.2914373576641083, \"y_axis\": 0.40253907442092896, \"name\": \"Emb[queen]\", \"original\": \"queen\"}, {\"x_axis\": 0.6322574615478516, \"y_axis\": 0.37293168902397156, \"name\": \"Emb[dude]\", \"original\": \"dude\"}, {\"x_axis\": 0.689598560333252, \"y_axis\": 0.4880948066711426, \"name\": \"Emb[guy]\", \"original\": \"guy\"}, {\"x_axis\": 0.30102455615997314, \"y_axis\": 0.3522968888282776, \"name\": \"Emb[gal]\", \"original\": \"gal\"}, {\"x_axis\": 0.4537816643714905, \"y_axis\": 0.31863078474998474, \"name\": \"Emb[fire]\", \"original\": \"fire\"}, {\"x_axis\": 0.4621913731098175, \"y_axis\": 0.4013059139251709, \"name\": \"Emb[dog]\", \"original\": \"dog\"}, {\"x_axis\": 0.3758322596549988, \"y_axis\": 0.34616324305534363, \"name\": \"Emb[cat]\", \"original\": \"cat\"}, {\"x_axis\": 0.2176199108362198, \"y_axis\": 0.18362130224704742, \"name\": \"Emb[mouse]\", \"original\": \"mouse\"}, {\"x_axis\": 0.2972288429737091, \"y_axis\": 0.3045094907283783, \"name\": \"Emb[red]\", \"original\": \"red\"}, {\"x_axis\": 0.0, \"y_axis\": 0.0, \"name\": \"Emb[bluee]\", \"original\": \"bluee\"}, {\"x_axis\": 0.25164204835891724, \"y_axis\": 0.215010866522789, \"name\": \"Emb[green]\", \"original\": \"green\"}, {\"x_axis\": 0.2725669741630554, \"y_axis\": 0.25106003880500793, \"name\": \"Emb[yellow]\", \"original\": \"yellow\"}, {\"x_axis\": 0.335124671459198, \"y_axis\": 0.2691221237182617, \"name\": \"Emb[water]\", \"original\": \"water\"}, {\"x_axis\": 0.538722574710846, \"y_axis\": 0.5015737414360046, \"name\": \"Emb[person]\", \"original\": \"person\"}, {\"x_axis\": 0.3436667323112488, \"y_axis\": 0.3416234254837036, \"name\": \"Emb[family]\", \"original\": \"family\"}, {\"x_axis\": 0.5816835165023804, \"y_axis\": 0.39277997612953186, \"name\": \"Emb[brother]\", \"original\": \"brother\"}, {\"x_axis\": 0.3568364381790161, \"y_axis\": 0.4736946225166321, \"name\": \"Emb[sister]\", \"original\": \"sister\"}]}}, {\"mode\": \"vega-lite\"});\n",
       "</script>"
      ],
      "text/plain": [
       "alt.LayerChart(...)"
      ]
     },
     "execution_count": 4,
     "metadata": {},
     "output_type": "execute_result"
    }
   ],
   "source": [
    "orig_chart = emb.plot_interactive('man', 'woman')\n",
    "orig_chart"
   ]
  },
  {
   "cell_type": "code",
   "execution_count": 5,
   "metadata": {},
   "outputs": [],
   "source": [
    "new_ts = emb | (emb['king'] - emb['queen'])\n",
    "new_chart = new_ts.plot_interactive('man', 'woman')"
   ]
  },
  {
   "cell_type": "markdown",
   "metadata": {},
   "source": [
    "Note that altair has a convenient syntax for plotting two charts next to eachother. This is really cool when you want to compare. Feel free to zoom in and play as well!"
   ]
  },
  {
   "cell_type": "code",
   "execution_count": 6,
   "metadata": {},
   "outputs": [
    {
     "data": {
      "text/html": [
       "\n",
       "<div id=\"altair-viz-4918da7ebf284794beffc1142358f784\"></div>\n",
       "<script type=\"text/javascript\">\n",
       "  (function(spec, embedOpt){\n",
       "    const outputDiv = document.getElementById(\"altair-viz-4918da7ebf284794beffc1142358f784\");\n",
       "    const paths = {\n",
       "      \"vega\": \"https://cdn.jsdelivr.net/npm//vega@5?noext\",\n",
       "      \"vega-lib\": \"https://cdn.jsdelivr.net/npm//vega-lib?noext\",\n",
       "      \"vega-lite\": \"https://cdn.jsdelivr.net/npm//vega-lite@4.0.2?noext\",\n",
       "      \"vega-embed\": \"https://cdn.jsdelivr.net/npm//vega-embed@6?noext\",\n",
       "    };\n",
       "\n",
       "    function loadScript(lib) {\n",
       "      return new Promise(function(resolve, reject) {\n",
       "        var s = document.createElement('script');\n",
       "        s.src = paths[lib];\n",
       "        s.async = true;\n",
       "        s.onload = () => resolve(paths[lib]);\n",
       "        s.onerror = () => reject(`Error loading script: ${paths[lib]}`);\n",
       "        document.getElementsByTagName(\"head\")[0].appendChild(s);\n",
       "      });\n",
       "    }\n",
       "\n",
       "    function showError(err) {\n",
       "      outputDiv.innerHTML = `<div class=\"error\" style=\"color:red;\">${err}</div>`;\n",
       "      throw err;\n",
       "    }\n",
       "\n",
       "    function displayChart(vegaEmbed) {\n",
       "      vegaEmbed(outputDiv, spec, embedOpt)\n",
       "        .catch(err => showError(`Javascript Error: ${err.message}<br>This usually means there's a typo in your chart specification. See the javascript console for the full traceback.`));\n",
       "    }\n",
       "\n",
       "    if(typeof define === \"function\" && define.amd) {\n",
       "      requirejs.config({paths});\n",
       "      require([\"vega-embed\"], displayChart, err => showError(`Error loading script: ${err.message}`));\n",
       "    } else if (typeof vegaEmbed === \"function\") {\n",
       "      displayChart(vegaEmbed);\n",
       "    } else {\n",
       "      loadScript(\"vega\")\n",
       "        .then(() => loadScript(\"vega-lite\"))\n",
       "        .then(() => loadScript(\"vega-embed\"))\n",
       "        .catch(showError)\n",
       "        .then(() => displayChart(vegaEmbed));\n",
       "    }\n",
       "  })({\"config\": {\"view\": {\"continuousWidth\": 400, \"continuousHeight\": 300}}, \"hconcat\": [{\"layer\": [{\"mark\": {\"type\": \"circle\", \"size\": 60}, \"encoding\": {\"tooltip\": [{\"type\": \"nominal\", \"field\": \"name\"}, {\"type\": \"nominal\", \"field\": \"original\"}], \"x\": {\"type\": \"quantitative\", \"axis\": {\"title\": \"Emb[man]\"}, \"field\": \"x_axis\"}, \"y\": {\"type\": \"quantitative\", \"axis\": {\"title\": \"Emb[woman]\"}, \"field\": \"y_axis\"}}, \"selection\": {\"selector001\": {\"type\": \"interval\", \"bind\": \"scales\", \"encodings\": [\"x\", \"y\"]}}, \"title\": \"Emb[man] vs. Emb[woman]\"}, {\"mark\": {\"type\": \"text\", \"color\": \"black\", \"dx\": -15, \"dy\": 3}, \"encoding\": {\"text\": {\"type\": \"nominal\", \"field\": \"original\"}, \"x\": {\"type\": \"quantitative\", \"axis\": {\"title\": \"Emb[man]\"}, \"field\": \"x_axis\"}, \"y\": {\"type\": \"quantitative\", \"axis\": {\"title\": \"Emb[woman]\"}, \"field\": \"y_axis\"}}}], \"data\": {\"name\": \"data-f99450cb42a4c37029bbb687ee85b0ca\"}}, {\"layer\": [{\"mark\": {\"type\": \"circle\", \"size\": 60}, \"encoding\": {\"tooltip\": [{\"type\": \"nominal\", \"field\": \"name\"}, {\"type\": \"nominal\", \"field\": \"original\"}], \"x\": {\"type\": \"quantitative\", \"axis\": {\"title\": \"(Emb | (Emb[king] - Emb[queen]))[man]\"}, \"field\": \"x_axis\"}, \"y\": {\"type\": \"quantitative\", \"axis\": {\"title\": \"(Emb | (Emb[king] - Emb[queen]))[woman]\"}, \"field\": \"y_axis\"}}, \"selection\": {\"selector002\": {\"type\": \"interval\", \"bind\": \"scales\", \"encodings\": [\"x\", \"y\"]}}, \"title\": \"(Emb | (Emb[king] - Emb[queen]))[man] vs. (Emb | (Emb[king] - Emb[queen]))[woman]\"}, {\"mark\": {\"type\": \"text\", \"color\": \"black\", \"dx\": -15, \"dy\": 3}, \"encoding\": {\"text\": {\"type\": \"nominal\", \"field\": \"original\"}, \"x\": {\"type\": \"quantitative\", \"axis\": {\"title\": \"(Emb | (Emb[king] - Emb[queen]))[man]\"}, \"field\": \"x_axis\"}, \"y\": {\"type\": \"quantitative\", \"axis\": {\"title\": \"(Emb | (Emb[king] - Emb[queen]))[woman]\"}, \"field\": \"y_axis\"}}}], \"data\": {\"name\": \"data-a096b5e8354fce9577cb1f943fafe3b2\"}}], \"$schema\": \"https://vega.github.io/schema/vega-lite/v4.0.2.json\", \"datasets\": {\"data-f99450cb42a4c37029bbb687ee85b0ca\": [{\"x_axis\": 0.40951526165008545, \"y_axis\": 0.3261851966381073, \"name\": \"Emb[prince]\", \"original\": \"prince\"}, {\"x_axis\": 0.27098548412323, \"y_axis\": 0.4069218039512634, \"name\": \"Emb[princess]\", \"original\": \"princess\"}, {\"x_axis\": 0.3271060585975647, \"y_axis\": 0.5211429595947266, \"name\": \"Emb[nurse]\", \"original\": \"nurse\"}, {\"x_axis\": 0.4489893317222595, \"y_axis\": 0.4943573474884033, \"name\": \"Emb[doctor]\", \"original\": \"doctor\"}, {\"x_axis\": 0.19353565573692322, \"y_axis\": 0.09302382916212082, \"name\": \"Emb[banker]\", \"original\": \"banker\"}, {\"x_axis\": 0.38155144453048706, \"y_axis\": 0.33430397510528564, \"name\": \"Emb[cousin]\", \"original\": \"cousin\"}, {\"x_axis\": 0.29427674412727356, \"y_axis\": 0.41036874055862427, \"name\": \"Emb[neice]\", \"original\": \"neice\"}, {\"x_axis\": 0.45961007475852966, \"y_axis\": 0.27491992712020874, \"name\": \"Emb[king]\", \"original\": \"king\"}, {\"x_axis\": 0.2914373576641083, \"y_axis\": 0.40253907442092896, \"name\": \"Emb[queen]\", \"original\": \"queen\"}, {\"x_axis\": 0.6322574615478516, \"y_axis\": 0.37293168902397156, \"name\": \"Emb[dude]\", \"original\": \"dude\"}, {\"x_axis\": 0.689598560333252, \"y_axis\": 0.4880948066711426, \"name\": \"Emb[guy]\", \"original\": \"guy\"}, {\"x_axis\": 0.30102455615997314, \"y_axis\": 0.3522968888282776, \"name\": \"Emb[gal]\", \"original\": \"gal\"}, {\"x_axis\": 0.4537816643714905, \"y_axis\": 0.31863078474998474, \"name\": \"Emb[fire]\", \"original\": \"fire\"}, {\"x_axis\": 0.4621913731098175, \"y_axis\": 0.4013059139251709, \"name\": \"Emb[dog]\", \"original\": \"dog\"}, {\"x_axis\": 0.3758322596549988, \"y_axis\": 0.34616324305534363, \"name\": \"Emb[cat]\", \"original\": \"cat\"}, {\"x_axis\": 0.2176199108362198, \"y_axis\": 0.18362130224704742, \"name\": \"Emb[mouse]\", \"original\": \"mouse\"}, {\"x_axis\": 0.2972288429737091, \"y_axis\": 0.3045094907283783, \"name\": \"Emb[red]\", \"original\": \"red\"}, {\"x_axis\": 0.0, \"y_axis\": 0.0, \"name\": \"Emb[bluee]\", \"original\": \"bluee\"}, {\"x_axis\": 0.25164204835891724, \"y_axis\": 0.215010866522789, \"name\": \"Emb[green]\", \"original\": \"green\"}, {\"x_axis\": 0.2725669741630554, \"y_axis\": 0.25106003880500793, \"name\": \"Emb[yellow]\", \"original\": \"yellow\"}, {\"x_axis\": 0.335124671459198, \"y_axis\": 0.2691221237182617, \"name\": \"Emb[water]\", \"original\": \"water\"}, {\"x_axis\": 0.538722574710846, \"y_axis\": 0.5015737414360046, \"name\": \"Emb[person]\", \"original\": \"person\"}, {\"x_axis\": 0.3436667323112488, \"y_axis\": 0.3416234254837036, \"name\": \"Emb[family]\", \"original\": \"family\"}, {\"x_axis\": 0.5816835165023804, \"y_axis\": 0.39277997612953186, \"name\": \"Emb[brother]\", \"original\": \"brother\"}, {\"x_axis\": 0.3568364381790161, \"y_axis\": 0.4736946225166321, \"name\": \"Emb[sister]\", \"original\": \"sister\"}], \"data-a096b5e8354fce9577cb1f943fafe3b2\": [{\"x_axis\": 0.3721413016319275, \"y_axis\": 0.37740591168403625, \"name\": \"(Emb | (Emb[king] - Emb[queen]))[prince]\", \"original\": \"prince\"}, {\"x_axis\": 0.32078519463539124, \"y_axis\": 0.3907199800014496, \"name\": \"(Emb | (Emb[king] - Emb[queen]))[princess]\", \"original\": \"princess\"}, {\"x_axis\": 0.38499051332473755, \"y_axis\": 0.5041420459747314, \"name\": \"(Emb | (Emb[king] - Emb[queen]))[nurse]\", \"original\": \"nurse\"}, {\"x_axis\": 0.46731048822402954, \"y_axis\": 0.5102049708366394, \"name\": \"(Emb | (Emb[king] - Emb[queen]))[doctor]\", \"original\": \"doctor\"}, {\"x_axis\": 0.1731649786233902, \"y_axis\": 0.11744287610054016, \"name\": \"(Emb | (Emb[king] - Emb[queen]))[banker]\", \"original\": \"banker\"}, {\"x_axis\": 0.3942609429359436, \"y_axis\": 0.3473650813102722, \"name\": \"(Emb | (Emb[king] - Emb[queen]))[cousin]\", \"original\": \"cousin\"}, {\"x_axis\": 0.3400344252586365, \"y_axis\": 0.39806586503982544, \"name\": \"(Emb | (Emb[king] - Emb[queen]))[neice]\", \"original\": \"neice\"}, {\"x_axis\": 0.3779345750808716, \"y_axis\": 0.3594277501106262, \"name\": \"(Emb | (Emb[king] - Emb[queen]))[king]\", \"original\": \"king\"}, {\"x_axis\": 0.3779345750808716, \"y_axis\": 0.35942772030830383, \"name\": \"(Emb | (Emb[king] - Emb[queen]))[queen]\", \"original\": \"queen\"}, {\"x_axis\": 0.6412995457649231, \"y_axis\": 0.3981958031654358, \"name\": \"(Emb | (Emb[king] - Emb[queen]))[dude]\", \"original\": \"dude\"}, {\"x_axis\": 0.6984968185424805, \"y_axis\": 0.5187848806381226, \"name\": \"(Emb | (Emb[king] - Emb[queen]))[guy]\", \"original\": \"guy\"}, {\"x_axis\": 0.3681216537952423, \"y_axis\": 0.32252824306488037, \"name\": \"(Emb | (Emb[king] - Emb[queen]))[gal]\", \"original\": \"gal\"}, {\"x_axis\": 0.46388524770736694, \"y_axis\": 0.3355717957019806, \"name\": \"(Emb | (Emb[king] - Emb[queen]))[fire]\", \"original\": \"fire\"}, {\"x_axis\": 0.47540125250816345, \"y_axis\": 0.4186546504497528, \"name\": \"(Emb | (Emb[king] - Emb[queen]))[dog]\", \"original\": \"dog\"}, {\"x_axis\": 0.398105651140213, \"y_axis\": 0.3522307574748993, \"name\": \"(Emb | (Emb[king] - Emb[queen]))[cat]\", \"original\": \"cat\"}, {\"x_axis\": 0.22983808815479279, \"y_axis\": 0.187143474817276, \"name\": \"(Emb | (Emb[king] - Emb[queen]))[mouse]\", \"original\": \"mouse\"}, {\"x_axis\": 0.3163382112979889, \"y_axis\": 0.30910223722457886, \"name\": \"(Emb | (Emb[king] - Emb[queen]))[red]\", \"original\": \"red\"}, {\"x_axis\": 0.0, \"y_axis\": 0.0, \"name\": \"(Emb | (Emb[king] - Emb[queen]))[bluee]\", \"original\": \"bluee\"}, {\"x_axis\": 0.26152005791664124, \"y_axis\": 0.2223435342311859, \"name\": \"(Emb | (Emb[king] - Emb[queen]))[green]\", \"original\": \"green\"}, {\"x_axis\": 0.29196789860725403, \"y_axis\": 0.253030925989151, \"name\": \"(Emb | (Emb[king] - Emb[queen]))[yellow]\", \"original\": \"yellow\"}, {\"x_axis\": 0.34176596999168396, \"y_axis\": 0.2832501232624054, \"name\": \"(Emb | (Emb[king] - Emb[queen]))[water]\", \"original\": \"water\"}, {\"x_axis\": 0.5559191107749939, \"y_axis\": 0.5214522480964661, \"name\": \"(Emb | (Emb[king] - Emb[queen]))[person]\", \"original\": \"person\"}, {\"x_axis\": 0.3543766736984253, \"y_axis\": 0.35514166951179504, \"name\": \"(Emb | (Emb[king] - Emb[queen]))[family]\", \"original\": \"family\"}, {\"x_axis\": 0.5562112927436829, \"y_axis\": 0.4427803158760071, \"name\": \"(Emb | (Emb[king] - Emb[queen]))[brother]\", \"original\": \"brother\"}, {\"x_axis\": 0.40646934509277344, \"y_axis\": 0.46244552731513977, \"name\": \"(Emb | (Emb[king] - Emb[queen]))[sister]\", \"original\": \"sister\"}]}}, {\"mode\": \"vega-lite\"});\n",
       "</script>"
      ],
      "text/plain": [
       "alt.HConcatChart(...)"
      ]
     },
     "execution_count": 6,
     "metadata": {},
     "output_type": "execute_result"
    }
   ],
   "source": [
    "orig_chart | new_chart"
   ]
  },
  {
   "cell_type": "markdown",
   "metadata": {},
   "source": [
    "The charts that we output here are from the Altair library. This means that you can, among other things, customise the size if you prefer."
   ]
  },
  {
   "cell_type": "code",
   "execution_count": 7,
   "metadata": {},
   "outputs": [
    {
     "data": {
      "text/html": [
       "\n",
       "<div id=\"altair-viz-328b95990aa9431caa0686677131cf2f\"></div>\n",
       "<script type=\"text/javascript\">\n",
       "  (function(spec, embedOpt){\n",
       "    const outputDiv = document.getElementById(\"altair-viz-328b95990aa9431caa0686677131cf2f\");\n",
       "    const paths = {\n",
       "      \"vega\": \"https://cdn.jsdelivr.net/npm//vega@5?noext\",\n",
       "      \"vega-lib\": \"https://cdn.jsdelivr.net/npm//vega-lib?noext\",\n",
       "      \"vega-lite\": \"https://cdn.jsdelivr.net/npm//vega-lite@4.0.2?noext\",\n",
       "      \"vega-embed\": \"https://cdn.jsdelivr.net/npm//vega-embed@6?noext\",\n",
       "    };\n",
       "\n",
       "    function loadScript(lib) {\n",
       "      return new Promise(function(resolve, reject) {\n",
       "        var s = document.createElement('script');\n",
       "        s.src = paths[lib];\n",
       "        s.async = true;\n",
       "        s.onload = () => resolve(paths[lib]);\n",
       "        s.onerror = () => reject(`Error loading script: ${paths[lib]}`);\n",
       "        document.getElementsByTagName(\"head\")[0].appendChild(s);\n",
       "      });\n",
       "    }\n",
       "\n",
       "    function showError(err) {\n",
       "      outputDiv.innerHTML = `<div class=\"error\" style=\"color:red;\">${err}</div>`;\n",
       "      throw err;\n",
       "    }\n",
       "\n",
       "    function displayChart(vegaEmbed) {\n",
       "      vegaEmbed(outputDiv, spec, embedOpt)\n",
       "        .catch(err => showError(`Javascript Error: ${err.message}<br>This usually means there's a typo in your chart specification. See the javascript console for the full traceback.`));\n",
       "    }\n",
       "\n",
       "    if(typeof define === \"function\" && define.amd) {\n",
       "      requirejs.config({paths});\n",
       "      require([\"vega-embed\"], displayChart, err => showError(`Error loading script: ${err.message}`));\n",
       "    } else if (typeof vegaEmbed === \"function\") {\n",
       "      displayChart(vegaEmbed);\n",
       "    } else {\n",
       "      loadScript(\"vega\")\n",
       "        .then(() => loadScript(\"vega-lite\"))\n",
       "        .then(() => loadScript(\"vega-embed\"))\n",
       "        .catch(showError)\n",
       "        .then(() => displayChart(vegaEmbed));\n",
       "    }\n",
       "  })({\"config\": {\"view\": {\"continuousWidth\": 400, \"continuousHeight\": 300}}, \"hconcat\": [{\"layer\": [{\"mark\": {\"type\": \"circle\", \"size\": 60}, \"encoding\": {\"tooltip\": [{\"type\": \"nominal\", \"field\": \"name\"}, {\"type\": \"nominal\", \"field\": \"original\"}], \"x\": {\"type\": \"quantitative\", \"axis\": {\"title\": \"Emb[man]\"}, \"field\": \"x_axis\"}, \"y\": {\"type\": \"quantitative\", \"axis\": {\"title\": \"Emb[woman]\"}, \"field\": \"y_axis\"}}, \"selection\": {\"selector001\": {\"type\": \"interval\", \"bind\": \"scales\", \"encodings\": [\"x\", \"y\"]}}, \"title\": \"Emb[man] vs. Emb[woman]\"}, {\"mark\": {\"type\": \"text\", \"color\": \"black\", \"dx\": -15, \"dy\": 3}, \"encoding\": {\"text\": {\"type\": \"nominal\", \"field\": \"original\"}, \"x\": {\"type\": \"quantitative\", \"axis\": {\"title\": \"Emb[man]\"}, \"field\": \"x_axis\"}, \"y\": {\"type\": \"quantitative\", \"axis\": {\"title\": \"Emb[woman]\"}, \"field\": \"y_axis\"}}}], \"data\": {\"name\": \"data-f99450cb42a4c37029bbb687ee85b0ca\"}, \"height\": 250, \"width\": 250}, {\"layer\": [{\"mark\": {\"type\": \"circle\", \"size\": 60}, \"encoding\": {\"tooltip\": [{\"type\": \"nominal\", \"field\": \"name\"}, {\"type\": \"nominal\", \"field\": \"original\"}], \"x\": {\"type\": \"quantitative\", \"axis\": {\"title\": \"(Emb | (Emb[king] - Emb[queen]))[man]\"}, \"field\": \"x_axis\"}, \"y\": {\"type\": \"quantitative\", \"axis\": {\"title\": \"(Emb | (Emb[king] - Emb[queen]))[woman]\"}, \"field\": \"y_axis\"}}, \"selection\": {\"selector002\": {\"type\": \"interval\", \"bind\": \"scales\", \"encodings\": [\"x\", \"y\"]}}, \"title\": \"(Emb | (Emb[king] - Emb[queen]))[man] vs. (Emb | (Emb[king] - Emb[queen]))[woman]\"}, {\"mark\": {\"type\": \"text\", \"color\": \"black\", \"dx\": -15, \"dy\": 3}, \"encoding\": {\"text\": {\"type\": \"nominal\", \"field\": \"original\"}, \"x\": {\"type\": \"quantitative\", \"axis\": {\"title\": \"(Emb | (Emb[king] - Emb[queen]))[man]\"}, \"field\": \"x_axis\"}, \"y\": {\"type\": \"quantitative\", \"axis\": {\"title\": \"(Emb | (Emb[king] - Emb[queen]))[woman]\"}, \"field\": \"y_axis\"}}}], \"data\": {\"name\": \"data-a096b5e8354fce9577cb1f943fafe3b2\"}, \"height\": 250, \"width\": 250}], \"$schema\": \"https://vega.github.io/schema/vega-lite/v4.0.2.json\", \"datasets\": {\"data-f99450cb42a4c37029bbb687ee85b0ca\": [{\"x_axis\": 0.40951526165008545, \"y_axis\": 0.3261851966381073, \"name\": \"Emb[prince]\", \"original\": \"prince\"}, {\"x_axis\": 0.27098548412323, \"y_axis\": 0.4069218039512634, \"name\": \"Emb[princess]\", \"original\": \"princess\"}, {\"x_axis\": 0.3271060585975647, \"y_axis\": 0.5211429595947266, \"name\": \"Emb[nurse]\", \"original\": \"nurse\"}, {\"x_axis\": 0.4489893317222595, \"y_axis\": 0.4943573474884033, \"name\": \"Emb[doctor]\", \"original\": \"doctor\"}, {\"x_axis\": 0.19353565573692322, \"y_axis\": 0.09302382916212082, \"name\": \"Emb[banker]\", \"original\": \"banker\"}, {\"x_axis\": 0.38155144453048706, \"y_axis\": 0.33430397510528564, \"name\": \"Emb[cousin]\", \"original\": \"cousin\"}, {\"x_axis\": 0.29427674412727356, \"y_axis\": 0.41036874055862427, \"name\": \"Emb[neice]\", \"original\": \"neice\"}, {\"x_axis\": 0.45961007475852966, \"y_axis\": 0.27491992712020874, \"name\": \"Emb[king]\", \"original\": \"king\"}, {\"x_axis\": 0.2914373576641083, \"y_axis\": 0.40253907442092896, \"name\": \"Emb[queen]\", \"original\": \"queen\"}, {\"x_axis\": 0.6322574615478516, \"y_axis\": 0.37293168902397156, \"name\": \"Emb[dude]\", \"original\": \"dude\"}, {\"x_axis\": 0.689598560333252, \"y_axis\": 0.4880948066711426, \"name\": \"Emb[guy]\", \"original\": \"guy\"}, {\"x_axis\": 0.30102455615997314, \"y_axis\": 0.3522968888282776, \"name\": \"Emb[gal]\", \"original\": \"gal\"}, {\"x_axis\": 0.4537816643714905, \"y_axis\": 0.31863078474998474, \"name\": \"Emb[fire]\", \"original\": \"fire\"}, {\"x_axis\": 0.4621913731098175, \"y_axis\": 0.4013059139251709, \"name\": \"Emb[dog]\", \"original\": \"dog\"}, {\"x_axis\": 0.3758322596549988, \"y_axis\": 0.34616324305534363, \"name\": \"Emb[cat]\", \"original\": \"cat\"}, {\"x_axis\": 0.2176199108362198, \"y_axis\": 0.18362130224704742, \"name\": \"Emb[mouse]\", \"original\": \"mouse\"}, {\"x_axis\": 0.2972288429737091, \"y_axis\": 0.3045094907283783, \"name\": \"Emb[red]\", \"original\": \"red\"}, {\"x_axis\": 0.0, \"y_axis\": 0.0, \"name\": \"Emb[bluee]\", \"original\": \"bluee\"}, {\"x_axis\": 0.25164204835891724, \"y_axis\": 0.215010866522789, \"name\": \"Emb[green]\", \"original\": \"green\"}, {\"x_axis\": 0.2725669741630554, \"y_axis\": 0.25106003880500793, \"name\": \"Emb[yellow]\", \"original\": \"yellow\"}, {\"x_axis\": 0.335124671459198, \"y_axis\": 0.2691221237182617, \"name\": \"Emb[water]\", \"original\": \"water\"}, {\"x_axis\": 0.538722574710846, \"y_axis\": 0.5015737414360046, \"name\": \"Emb[person]\", \"original\": \"person\"}, {\"x_axis\": 0.3436667323112488, \"y_axis\": 0.3416234254837036, \"name\": \"Emb[family]\", \"original\": \"family\"}, {\"x_axis\": 0.5816835165023804, \"y_axis\": 0.39277997612953186, \"name\": \"Emb[brother]\", \"original\": \"brother\"}, {\"x_axis\": 0.3568364381790161, \"y_axis\": 0.4736946225166321, \"name\": \"Emb[sister]\", \"original\": \"sister\"}], \"data-a096b5e8354fce9577cb1f943fafe3b2\": [{\"x_axis\": 0.3721413016319275, \"y_axis\": 0.37740591168403625, \"name\": \"(Emb | (Emb[king] - Emb[queen]))[prince]\", \"original\": \"prince\"}, {\"x_axis\": 0.32078519463539124, \"y_axis\": 0.3907199800014496, \"name\": \"(Emb | (Emb[king] - Emb[queen]))[princess]\", \"original\": \"princess\"}, {\"x_axis\": 0.38499051332473755, \"y_axis\": 0.5041420459747314, \"name\": \"(Emb | (Emb[king] - Emb[queen]))[nurse]\", \"original\": \"nurse\"}, {\"x_axis\": 0.46731048822402954, \"y_axis\": 0.5102049708366394, \"name\": \"(Emb | (Emb[king] - Emb[queen]))[doctor]\", \"original\": \"doctor\"}, {\"x_axis\": 0.1731649786233902, \"y_axis\": 0.11744287610054016, \"name\": \"(Emb | (Emb[king] - Emb[queen]))[banker]\", \"original\": \"banker\"}, {\"x_axis\": 0.3942609429359436, \"y_axis\": 0.3473650813102722, \"name\": \"(Emb | (Emb[king] - Emb[queen]))[cousin]\", \"original\": \"cousin\"}, {\"x_axis\": 0.3400344252586365, \"y_axis\": 0.39806586503982544, \"name\": \"(Emb | (Emb[king] - Emb[queen]))[neice]\", \"original\": \"neice\"}, {\"x_axis\": 0.3779345750808716, \"y_axis\": 0.3594277501106262, \"name\": \"(Emb | (Emb[king] - Emb[queen]))[king]\", \"original\": \"king\"}, {\"x_axis\": 0.3779345750808716, \"y_axis\": 0.35942772030830383, \"name\": \"(Emb | (Emb[king] - Emb[queen]))[queen]\", \"original\": \"queen\"}, {\"x_axis\": 0.6412995457649231, \"y_axis\": 0.3981958031654358, \"name\": \"(Emb | (Emb[king] - Emb[queen]))[dude]\", \"original\": \"dude\"}, {\"x_axis\": 0.6984968185424805, \"y_axis\": 0.5187848806381226, \"name\": \"(Emb | (Emb[king] - Emb[queen]))[guy]\", \"original\": \"guy\"}, {\"x_axis\": 0.3681216537952423, \"y_axis\": 0.32252824306488037, \"name\": \"(Emb | (Emb[king] - Emb[queen]))[gal]\", \"original\": \"gal\"}, {\"x_axis\": 0.46388524770736694, \"y_axis\": 0.3355717957019806, \"name\": \"(Emb | (Emb[king] - Emb[queen]))[fire]\", \"original\": \"fire\"}, {\"x_axis\": 0.47540125250816345, \"y_axis\": 0.4186546504497528, \"name\": \"(Emb | (Emb[king] - Emb[queen]))[dog]\", \"original\": \"dog\"}, {\"x_axis\": 0.398105651140213, \"y_axis\": 0.3522307574748993, \"name\": \"(Emb | (Emb[king] - Emb[queen]))[cat]\", \"original\": \"cat\"}, {\"x_axis\": 0.22983808815479279, \"y_axis\": 0.187143474817276, \"name\": \"(Emb | (Emb[king] - Emb[queen]))[mouse]\", \"original\": \"mouse\"}, {\"x_axis\": 0.3163382112979889, \"y_axis\": 0.30910223722457886, \"name\": \"(Emb | (Emb[king] - Emb[queen]))[red]\", \"original\": \"red\"}, {\"x_axis\": 0.0, \"y_axis\": 0.0, \"name\": \"(Emb | (Emb[king] - Emb[queen]))[bluee]\", \"original\": \"bluee\"}, {\"x_axis\": 0.26152005791664124, \"y_axis\": 0.2223435342311859, \"name\": \"(Emb | (Emb[king] - Emb[queen]))[green]\", \"original\": \"green\"}, {\"x_axis\": 0.29196789860725403, \"y_axis\": 0.253030925989151, \"name\": \"(Emb | (Emb[king] - Emb[queen]))[yellow]\", \"original\": \"yellow\"}, {\"x_axis\": 0.34176596999168396, \"y_axis\": 0.2832501232624054, \"name\": \"(Emb | (Emb[king] - Emb[queen]))[water]\", \"original\": \"water\"}, {\"x_axis\": 0.5559191107749939, \"y_axis\": 0.5214522480964661, \"name\": \"(Emb | (Emb[king] - Emb[queen]))[person]\", \"original\": \"person\"}, {\"x_axis\": 0.3543766736984253, \"y_axis\": 0.35514166951179504, \"name\": \"(Emb | (Emb[king] - Emb[queen]))[family]\", \"original\": \"family\"}, {\"x_axis\": 0.5562112927436829, \"y_axis\": 0.4427803158760071, \"name\": \"(Emb | (Emb[king] - Emb[queen]))[brother]\", \"original\": \"brother\"}, {\"x_axis\": 0.40646934509277344, \"y_axis\": 0.46244552731513977, \"name\": \"(Emb | (Emb[king] - Emb[queen]))[sister]\", \"original\": \"sister\"}]}}, {\"mode\": \"vega-lite\"});\n",
       "</script>"
      ],
      "text/plain": [
       "alt.HConcatChart(...)"
      ]
     },
     "execution_count": 7,
     "metadata": {},
     "output_type": "execute_result"
    }
   ],
   "source": [
    "s = 250\n",
    "(orig_chart.properties(width=s, height=s) | new_chart.properties(width=s, height=s))"
   ]
  },
  {
   "cell_type": "markdown",
   "metadata": {},
   "source": [
    "## Transformations\n",
    "\n",
    "There's something extra too. Sofar we're been mapping vectors unto other ones in order to plot them. But theoretically we could go a step further."
   ]
  },
  {
   "cell_type": "code",
   "execution_count": 20,
   "metadata": {},
   "outputs": [
    {
     "data": {
      "text/html": [
       "\n",
       "<div id=\"altair-viz-ae3f44e1405d470ca2d42172dd3a20a5\"></div>\n",
       "<script type=\"text/javascript\">\n",
       "  (function(spec, embedOpt){\n",
       "    const outputDiv = document.getElementById(\"altair-viz-ae3f44e1405d470ca2d42172dd3a20a5\");\n",
       "    const paths = {\n",
       "      \"vega\": \"https://cdn.jsdelivr.net/npm//vega@5?noext\",\n",
       "      \"vega-lib\": \"https://cdn.jsdelivr.net/npm//vega-lib?noext\",\n",
       "      \"vega-lite\": \"https://cdn.jsdelivr.net/npm//vega-lite@4.0.2?noext\",\n",
       "      \"vega-embed\": \"https://cdn.jsdelivr.net/npm//vega-embed@6?noext\",\n",
       "    };\n",
       "\n",
       "    function loadScript(lib) {\n",
       "      return new Promise(function(resolve, reject) {\n",
       "        var s = document.createElement('script');\n",
       "        s.src = paths[lib];\n",
       "        s.async = true;\n",
       "        s.onload = () => resolve(paths[lib]);\n",
       "        s.onerror = () => reject(`Error loading script: ${paths[lib]}`);\n",
       "        document.getElementsByTagName(\"head\")[0].appendChild(s);\n",
       "      });\n",
       "    }\n",
       "\n",
       "    function showError(err) {\n",
       "      outputDiv.innerHTML = `<div class=\"error\" style=\"color:red;\">${err}</div>`;\n",
       "      throw err;\n",
       "    }\n",
       "\n",
       "    function displayChart(vegaEmbed) {\n",
       "      vegaEmbed(outputDiv, spec, embedOpt)\n",
       "        .catch(err => showError(`Javascript Error: ${err.message}<br>This usually means there's a typo in your chart specification. See the javascript console for the full traceback.`));\n",
       "    }\n",
       "\n",
       "    if(typeof define === \"function\" && define.amd) {\n",
       "      requirejs.config({paths});\n",
       "      require([\"vega-embed\"], displayChart, err => showError(`Error loading script: ${err.message}`));\n",
       "    } else if (typeof vegaEmbed === \"function\") {\n",
       "      displayChart(vegaEmbed);\n",
       "    } else {\n",
       "      loadScript(\"vega\")\n",
       "        .then(() => loadScript(\"vega-lite\"))\n",
       "        .then(() => loadScript(\"vega-embed\"))\n",
       "        .catch(showError)\n",
       "        .then(() => displayChart(vegaEmbed));\n",
       "    }\n",
       "  })({\"config\": {\"view\": {\"continuousWidth\": 400, \"continuousHeight\": 300}}, \"hconcat\": [{\"layer\": [{\"mark\": {\"type\": \"circle\", \"size\": 60}, \"encoding\": {\"tooltip\": [{\"type\": \"nominal\", \"field\": \"name\"}, {\"type\": \"nominal\", \"field\": \"original\"}], \"x\": {\"type\": \"quantitative\", \"axis\": {\"title\": \"Emb.pca_2()[pca_0]\"}, \"field\": \"x_axis\"}, \"y\": {\"type\": \"quantitative\", \"axis\": {\"title\": \"Emb.pca_2()[pca_1]\"}, \"field\": \"y_axis\"}}, \"selection\": {\"selector006\": {\"type\": \"interval\", \"bind\": \"scales\", \"encodings\": [\"x\", \"y\"]}}, \"title\": \"Emb.pca_2()[pca_0] vs. Emb.pca_2()[pca_1]\"}, {\"mark\": {\"type\": \"text\", \"color\": \"black\", \"dx\": -15, \"dy\": 3}, \"encoding\": {\"text\": {\"type\": \"nominal\", \"field\": \"original\"}, \"x\": {\"type\": \"quantitative\", \"axis\": {\"title\": \"Emb.pca_2()[pca_0]\"}, \"field\": \"x_axis\"}, \"y\": {\"type\": \"quantitative\", \"axis\": {\"title\": \"Emb.pca_2()[pca_1]\"}, \"field\": \"y_axis\"}}}], \"data\": {\"name\": \"data-18933e1b9debc95e29ef0e4e451d1dd2\"}}, {\"layer\": [{\"mark\": {\"type\": \"circle\", \"size\": 60}, \"encoding\": {\"tooltip\": [{\"type\": \"nominal\", \"field\": \"name\"}, {\"type\": \"nominal\", \"field\": \"original\"}], \"x\": {\"type\": \"quantitative\", \"axis\": {\"title\": \"Emb.umap_2()[umap_0]\"}, \"field\": \"x_axis\"}, \"y\": {\"type\": \"quantitative\", \"axis\": {\"title\": \"Emb.umap_2()[umap_1]\"}, \"field\": \"y_axis\"}}, \"selection\": {\"selector007\": {\"type\": \"interval\", \"bind\": \"scales\", \"encodings\": [\"x\", \"y\"]}}, \"title\": \"Emb.umap_2()[umap_0] vs. Emb.umap_2()[umap_1]\"}, {\"mark\": {\"type\": \"text\", \"color\": \"black\", \"dx\": -15, \"dy\": 3}, \"encoding\": {\"text\": {\"type\": \"nominal\", \"field\": \"original\"}, \"x\": {\"type\": \"quantitative\", \"axis\": {\"title\": \"Emb.umap_2()[umap_0]\"}, \"field\": \"x_axis\"}, \"y\": {\"type\": \"quantitative\", \"axis\": {\"title\": \"Emb.umap_2()[umap_1]\"}, \"field\": \"y_axis\"}}}], \"data\": {\"name\": \"data-554d6c232510da4d2e6de1f424929082\"}}], \"$schema\": \"https://vega.github.io/schema/vega-lite/v4.0.2.json\", \"datasets\": {\"data-18933e1b9debc95e29ef0e4e451d1dd2\": [{\"x_axis\": -1.2535836696624756, \"y_axis\": 3.5866782665252686, \"name\": \"Emb.pca_2()[prince]\", \"original\": \"prince\"}, {\"x_axis\": -0.9741007089614868, \"y_axis\": 3.7290639877319336, \"name\": \"Emb.pca_2()[princess]\", \"original\": \"princess\"}, {\"x_axis\": -1.0501285791397095, \"y_axis\": -2.0268449783325195, \"name\": \"Emb.pca_2()[nurse]\", \"original\": \"nurse\"}, {\"x_axis\": -0.9151335954666138, \"y_axis\": -2.0640788078308105, \"name\": \"Emb.pca_2()[doctor]\", \"original\": \"doctor\"}, {\"x_axis\": 0.8430221080780029, \"y_axis\": -0.06272626668214798, \"name\": \"Emb.pca_2()[banker]\", \"original\": \"banker\"}, {\"x_axis\": -0.4313211441040039, \"y_axis\": -1.5975850820541382, \"name\": \"Emb.pca_2()[man]\", \"original\": \"man\"}, {\"x_axis\": -1.0732589960098267, \"y_axis\": -1.6417865753173828, \"name\": \"Emb.pca_2()[woman]\", \"original\": \"woman\"}, {\"x_axis\": -3.006711959838867, \"y_axis\": 0.08844538033008575, \"name\": \"Emb.pca_2()[cousin]\", \"original\": \"cousin\"}, {\"x_axis\": -3.256138801574707, \"y_axis\": -0.26408129930496216, \"name\": \"Emb.pca_2()[neice]\", \"original\": \"neice\"}, {\"x_axis\": -0.8844124674797058, \"y_axis\": 4.284396171569824, \"name\": \"Emb.pca_2()[king]\", \"original\": \"king\"}, {\"x_axis\": -0.9637594819068909, \"y_axis\": 3.8633885383605957, \"name\": \"Emb.pca_2()[queen]\", \"original\": \"queen\"}, {\"x_axis\": -0.37136656045913696, \"y_axis\": -1.4314934015274048, \"name\": \"Emb.pca_2()[dude]\", \"original\": \"dude\"}, {\"x_axis\": -0.33022013306617737, \"y_axis\": -2.0039167404174805, \"name\": \"Emb.pca_2()[guy]\", \"original\": \"guy\"}, {\"x_axis\": 0.00523483008146286, \"y_axis\": -1.1506184339523315, \"name\": \"Emb.pca_2()[gal]\", \"original\": \"gal\"}, {\"x_axis\": 2.189060688018799, \"y_axis\": -0.3874746859073639, \"name\": \"Emb.pca_2()[fire]\", \"original\": \"fire\"}, {\"x_axis\": 0.8451138138771057, \"y_axis\": -1.5011234283447266, \"name\": \"Emb.pca_2()[dog]\", \"original\": \"dog\"}, {\"x_axis\": 0.9290972948074341, \"y_axis\": -0.6315336227416992, \"name\": \"Emb.pca_2()[cat]\", \"original\": \"cat\"}, {\"x_axis\": 1.971744179725647, \"y_axis\": 0.16532859206199646, \"name\": \"Emb.pca_2()[mouse]\", \"original\": \"mouse\"}, {\"x_axis\": 3.646470546722412, \"y_axis\": 0.8340239524841309, \"name\": \"Emb.pca_2()[red]\", \"original\": \"red\"}, {\"x_axis\": 0.6217128038406372, \"y_axis\": -0.011614669114351273, \"name\": \"Emb.pca_2()[bluee]\", \"original\": \"bluee\"}, {\"x_axis\": 4.070712089538574, \"y_axis\": 0.8428581953048706, \"name\": \"Emb.pca_2()[green]\", \"original\": \"green\"}, {\"x_axis\": 3.973900318145752, \"y_axis\": 0.842082679271698, \"name\": \"Emb.pca_2()[yellow]\", \"original\": \"yellow\"}, {\"x_axis\": 3.19923996925354, \"y_axis\": -0.7630831599235535, \"name\": \"Emb.pca_2()[water]\", \"original\": \"water\"}, {\"x_axis\": -0.4370381832122803, \"y_axis\": -1.8055592775344849, \"name\": \"Emb.pca_2()[person]\", \"original\": \"person\"}, {\"x_axis\": -1.5232127904891968, \"y_axis\": -0.6766518950462341, \"name\": \"Emb.pca_2()[family]\", \"original\": \"family\"}, {\"x_axis\": -2.889378547668457, \"y_axis\": -0.050423938781023026, \"name\": \"Emb.pca_2()[brother]\", \"original\": \"brother\"}, {\"x_axis\": -2.9355480670928955, \"y_axis\": -0.16567008197307587, \"name\": \"Emb.pca_2()[sister]\", \"original\": \"sister\"}], \"data-554d6c232510da4d2e6de1f424929082\": [{\"x_axis\": -5.848649978637695, \"y_axis\": 2.8325533866882324, \"name\": \"Emb.umap_2()[prince]\", \"original\": \"prince\"}, {\"x_axis\": -6.634817600250244, \"y_axis\": 2.2157135009765625, \"name\": \"Emb.umap_2()[princess]\", \"original\": \"princess\"}, {\"x_axis\": -6.269848823547363, \"y_axis\": 4.845227241516113, \"name\": \"Emb.umap_2()[nurse]\", \"original\": \"nurse\"}, {\"x_axis\": -6.61242151260376, \"y_axis\": 5.2692551612854, \"name\": \"Emb.umap_2()[doctor]\", \"original\": \"doctor\"}, {\"x_axis\": -7.511643409729004, \"y_axis\": 3.3322877883911133, \"name\": \"Emb.umap_2()[banker]\", \"original\": \"banker\"}, {\"x_axis\": -7.506768703460693, \"y_axis\": 5.286031246185303, \"name\": \"Emb.umap_2()[man]\", \"original\": \"man\"}, {\"x_axis\": -6.972604751586914, \"y_axis\": 4.846748352050781, \"name\": \"Emb.umap_2()[woman]\", \"original\": \"woman\"}, {\"x_axis\": -5.367294788360596, \"y_axis\": 4.122657299041748, \"name\": \"Emb.umap_2()[cousin]\", \"original\": \"cousin\"}, {\"x_axis\": -5.748882293701172, \"y_axis\": 4.236143112182617, \"name\": \"Emb.umap_2()[neice]\", \"original\": \"neice\"}, {\"x_axis\": -6.375418663024902, \"y_axis\": 2.739567995071411, \"name\": \"Emb.umap_2()[king]\", \"original\": \"king\"}, {\"x_axis\": -6.13220739364624, \"y_axis\": 2.3514580726623535, \"name\": \"Emb.umap_2()[queen]\", \"original\": \"queen\"}, {\"x_axis\": -7.854490280151367, \"y_axis\": 4.452839374542236, \"name\": \"Emb.umap_2()[dude]\", \"original\": \"dude\"}, {\"x_axis\": -7.321542739868164, \"y_axis\": 4.330422878265381, \"name\": \"Emb.umap_2()[guy]\", \"original\": \"guy\"}, {\"x_axis\": -7.631458282470703, \"y_axis\": 3.915510892868042, \"name\": \"Emb.umap_2()[gal]\", \"original\": \"gal\"}, {\"x_axis\": -8.275400161743164, \"y_axis\": 3.2700254917144775, \"name\": \"Emb.umap_2()[fire]\", \"original\": \"fire\"}, {\"x_axis\": -8.399646759033203, \"y_axis\": 5.123860836029053, \"name\": \"Emb.umap_2()[dog]\", \"original\": \"dog\"}, {\"x_axis\": -8.698492050170898, \"y_axis\": 4.827856063842773, \"name\": \"Emb.umap_2()[cat]\", \"original\": \"cat\"}, {\"x_axis\": -8.79505443572998, \"y_axis\": 4.292847156524658, \"name\": \"Emb.umap_2()[mouse]\", \"original\": \"mouse\"}, {\"x_axis\": -9.528091430664062, \"y_axis\": 3.200415849685669, \"name\": \"Emb.umap_2()[red]\", \"original\": \"red\"}, {\"x_axis\": -8.059918403625488, \"y_axis\": 3.6837759017944336, \"name\": \"Emb.umap_2()[bluee]\", \"original\": \"bluee\"}, {\"x_axis\": -9.071502685546875, \"y_axis\": 2.8570737838745117, \"name\": \"Emb.umap_2()[green]\", \"original\": \"green\"}, {\"x_axis\": -9.301994323730469, \"y_axis\": 3.4233438968658447, \"name\": \"Emb.umap_2()[yellow]\", \"original\": \"yellow\"}, {\"x_axis\": -8.650192260742188, \"y_axis\": 3.2351255416870117, \"name\": \"Emb.umap_2()[water]\", \"original\": \"water\"}, {\"x_axis\": -7.51863431930542, \"y_axis\": 4.886290073394775, \"name\": \"Emb.umap_2()[person]\", \"original\": \"person\"}, {\"x_axis\": -6.307743549346924, \"y_axis\": 4.189812660217285, \"name\": \"Emb.umap_2()[family]\", \"original\": \"family\"}, {\"x_axis\": -5.863735675811768, \"y_axis\": 3.7480478286743164, \"name\": \"Emb.umap_2()[brother]\", \"original\": \"brother\"}, {\"x_axis\": -6.40290641784668, \"y_axis\": 3.886462450027466, \"name\": \"Emb.umap_2()[sister]\", \"original\": \"sister\"}]}}, {\"mode\": \"vega-lite\"});\n",
       "</script>"
      ],
      "text/plain": [
       "alt.HConcatChart(...)"
      ]
     },
     "execution_count": 20,
     "metadata": {},
     "output_type": "execute_result"
    }
   ],
   "source": [
    "from whatlies.transformers import Pca, Umap\n",
    "\n",
    "orig_chart = emb.plot_interactive('man', 'woman')\n",
    "pca_emb = emb.transform(Pca(2))\n",
    "umap_emb = emb.transform(Umap(2))\n",
    "\n",
    "pca_emb.plot_interactive('pca_0', 'pca_1') | umap_emb.plot_interactive('umap_0', 'umap_1')"
   ]
  },
  {
   "cell_type": "markdown",
   "metadata": {},
   "source": [
    "Note that we can increase the number of components and still only plot a few. "
   ]
  },
  {
   "cell_type": "code",
   "execution_count": 21,
   "metadata": {},
   "outputs": [
    {
     "data": {
      "text/html": [
       "\n",
       "<div id=\"altair-viz-8ec197796a4047569dad90ddf0e87574\"></div>\n",
       "<script type=\"text/javascript\">\n",
       "  (function(spec, embedOpt){\n",
       "    const outputDiv = document.getElementById(\"altair-viz-8ec197796a4047569dad90ddf0e87574\");\n",
       "    const paths = {\n",
       "      \"vega\": \"https://cdn.jsdelivr.net/npm//vega@5?noext\",\n",
       "      \"vega-lib\": \"https://cdn.jsdelivr.net/npm//vega-lib?noext\",\n",
       "      \"vega-lite\": \"https://cdn.jsdelivr.net/npm//vega-lite@4.0.2?noext\",\n",
       "      \"vega-embed\": \"https://cdn.jsdelivr.net/npm//vega-embed@6?noext\",\n",
       "    };\n",
       "\n",
       "    function loadScript(lib) {\n",
       "      return new Promise(function(resolve, reject) {\n",
       "        var s = document.createElement('script');\n",
       "        s.src = paths[lib];\n",
       "        s.async = true;\n",
       "        s.onload = () => resolve(paths[lib]);\n",
       "        s.onerror = () => reject(`Error loading script: ${paths[lib]}`);\n",
       "        document.getElementsByTagName(\"head\")[0].appendChild(s);\n",
       "      });\n",
       "    }\n",
       "\n",
       "    function showError(err) {\n",
       "      outputDiv.innerHTML = `<div class=\"error\" style=\"color:red;\">${err}</div>`;\n",
       "      throw err;\n",
       "    }\n",
       "\n",
       "    function displayChart(vegaEmbed) {\n",
       "      vegaEmbed(outputDiv, spec, embedOpt)\n",
       "        .catch(err => showError(`Javascript Error: ${err.message}<br>This usually means there's a typo in your chart specification. See the javascript console for the full traceback.`));\n",
       "    }\n",
       "\n",
       "    if(typeof define === \"function\" && define.amd) {\n",
       "      requirejs.config({paths});\n",
       "      require([\"vega-embed\"], displayChart, err => showError(`Error loading script: ${err.message}`));\n",
       "    } else if (typeof vegaEmbed === \"function\") {\n",
       "      displayChart(vegaEmbed);\n",
       "    } else {\n",
       "      loadScript(\"vega\")\n",
       "        .then(() => loadScript(\"vega-lite\"))\n",
       "        .then(() => loadScript(\"vega-embed\"))\n",
       "        .catch(showError)\n",
       "        .then(() => displayChart(vegaEmbed));\n",
       "    }\n",
       "  })({\"config\": {\"view\": {\"continuousWidth\": 400, \"continuousHeight\": 300}}, \"hconcat\": [{\"layer\": [{\"mark\": {\"type\": \"circle\", \"size\": 60}, \"encoding\": {\"tooltip\": [{\"type\": \"nominal\", \"field\": \"name\"}, {\"type\": \"nominal\", \"field\": \"original\"}], \"x\": {\"type\": \"quantitative\", \"axis\": {\"title\": \"Emb.pca_3()[pca_0]\"}, \"field\": \"x_axis\"}, \"y\": {\"type\": \"quantitative\", \"axis\": {\"title\": \"Emb.pca_3()[pca_1]\"}, \"field\": \"y_axis\"}}, \"selection\": {\"selector008\": {\"type\": \"interval\", \"bind\": \"scales\", \"encodings\": [\"x\", \"y\"]}}, \"title\": \"Emb.pca_3()[pca_0] vs. Emb.pca_3()[pca_1]\"}, {\"mark\": {\"type\": \"text\", \"color\": \"black\", \"dx\": -15, \"dy\": 3}, \"encoding\": {\"text\": {\"type\": \"nominal\", \"field\": \"original\"}, \"x\": {\"type\": \"quantitative\", \"axis\": {\"title\": \"Emb.pca_3()[pca_0]\"}, \"field\": \"x_axis\"}, \"y\": {\"type\": \"quantitative\", \"axis\": {\"title\": \"Emb.pca_3()[pca_1]\"}, \"field\": \"y_axis\"}}}], \"data\": {\"name\": \"data-aef0c8faff27a08594a792476f0e35e1\"}, \"height\": 250, \"width\": 250}, {\"layer\": [{\"mark\": {\"type\": \"circle\", \"size\": 60}, \"encoding\": {\"tooltip\": [{\"type\": \"nominal\", \"field\": \"name\"}, {\"type\": \"nominal\", \"field\": \"original\"}], \"x\": {\"type\": \"quantitative\", \"axis\": {\"title\": \"Emb.pca_3()[pca_2]\"}, \"field\": \"x_axis\"}, \"y\": {\"type\": \"quantitative\", \"axis\": {\"title\": \"Emb.pca_3()[pca_1]\"}, \"field\": \"y_axis\"}}, \"selection\": {\"selector009\": {\"type\": \"interval\", \"bind\": \"scales\", \"encodings\": [\"x\", \"y\"]}}, \"title\": \"Emb.pca_3()[pca_2] vs. Emb.pca_3()[pca_1]\"}, {\"mark\": {\"type\": \"text\", \"color\": \"black\", \"dx\": -15, \"dy\": 3}, \"encoding\": {\"text\": {\"type\": \"nominal\", \"field\": \"original\"}, \"x\": {\"type\": \"quantitative\", \"axis\": {\"title\": \"Emb.pca_3()[pca_2]\"}, \"field\": \"x_axis\"}, \"y\": {\"type\": \"quantitative\", \"axis\": {\"title\": \"Emb.pca_3()[pca_1]\"}, \"field\": \"y_axis\"}}}], \"data\": {\"name\": \"data-8b3c8b5d1e493ece9851d35dfd6085bd\"}, \"height\": 250, \"width\": 250}], \"$schema\": \"https://vega.github.io/schema/vega-lite/v4.0.2.json\", \"datasets\": {\"data-aef0c8faff27a08594a792476f0e35e1\": [{\"x_axis\": -1.2535836696624756, \"y_axis\": 3.5866782665252686, \"name\": \"Emb.pca_3()[prince]\", \"original\": \"prince\"}, {\"x_axis\": -0.9741007089614868, \"y_axis\": 3.7290639877319336, \"name\": \"Emb.pca_3()[princess]\", \"original\": \"princess\"}, {\"x_axis\": -1.0501285791397095, \"y_axis\": -2.0268449783325195, \"name\": \"Emb.pca_3()[nurse]\", \"original\": \"nurse\"}, {\"x_axis\": -0.9151335954666138, \"y_axis\": -2.0640788078308105, \"name\": \"Emb.pca_3()[doctor]\", \"original\": \"doctor\"}, {\"x_axis\": 0.8430221080780029, \"y_axis\": -0.06272626668214798, \"name\": \"Emb.pca_3()[banker]\", \"original\": \"banker\"}, {\"x_axis\": -0.4313211441040039, \"y_axis\": -1.5975850820541382, \"name\": \"Emb.pca_3()[man]\", \"original\": \"man\"}, {\"x_axis\": -1.0732589960098267, \"y_axis\": -1.6417865753173828, \"name\": \"Emb.pca_3()[woman]\", \"original\": \"woman\"}, {\"x_axis\": -3.006711959838867, \"y_axis\": 0.08844538033008575, \"name\": \"Emb.pca_3()[cousin]\", \"original\": \"cousin\"}, {\"x_axis\": -3.256138801574707, \"y_axis\": -0.26408129930496216, \"name\": \"Emb.pca_3()[neice]\", \"original\": \"neice\"}, {\"x_axis\": -0.8844124674797058, \"y_axis\": 4.284396171569824, \"name\": \"Emb.pca_3()[king]\", \"original\": \"king\"}, {\"x_axis\": -0.9637594819068909, \"y_axis\": 3.8633885383605957, \"name\": \"Emb.pca_3()[queen]\", \"original\": \"queen\"}, {\"x_axis\": -0.37136656045913696, \"y_axis\": -1.4314934015274048, \"name\": \"Emb.pca_3()[dude]\", \"original\": \"dude\"}, {\"x_axis\": -0.33022013306617737, \"y_axis\": -2.0039167404174805, \"name\": \"Emb.pca_3()[guy]\", \"original\": \"guy\"}, {\"x_axis\": 0.00523483008146286, \"y_axis\": -1.1506184339523315, \"name\": \"Emb.pca_3()[gal]\", \"original\": \"gal\"}, {\"x_axis\": 2.189060688018799, \"y_axis\": -0.3874746859073639, \"name\": \"Emb.pca_3()[fire]\", \"original\": \"fire\"}, {\"x_axis\": 0.8451138138771057, \"y_axis\": -1.5011234283447266, \"name\": \"Emb.pca_3()[dog]\", \"original\": \"dog\"}, {\"x_axis\": 0.9290972948074341, \"y_axis\": -0.6315336227416992, \"name\": \"Emb.pca_3()[cat]\", \"original\": \"cat\"}, {\"x_axis\": 1.971744179725647, \"y_axis\": 0.16532859206199646, \"name\": \"Emb.pca_3()[mouse]\", \"original\": \"mouse\"}, {\"x_axis\": 3.646470546722412, \"y_axis\": 0.8340239524841309, \"name\": \"Emb.pca_3()[red]\", \"original\": \"red\"}, {\"x_axis\": 0.6217128038406372, \"y_axis\": -0.011614669114351273, \"name\": \"Emb.pca_3()[bluee]\", \"original\": \"bluee\"}, {\"x_axis\": 4.070712089538574, \"y_axis\": 0.8428581953048706, \"name\": \"Emb.pca_3()[green]\", \"original\": \"green\"}, {\"x_axis\": 3.973900318145752, \"y_axis\": 0.842082679271698, \"name\": \"Emb.pca_3()[yellow]\", \"original\": \"yellow\"}, {\"x_axis\": 3.19923996925354, \"y_axis\": -0.7630831599235535, \"name\": \"Emb.pca_3()[water]\", \"original\": \"water\"}, {\"x_axis\": -0.4370381832122803, \"y_axis\": -1.8055592775344849, \"name\": \"Emb.pca_3()[person]\", \"original\": \"person\"}, {\"x_axis\": -1.5232127904891968, \"y_axis\": -0.6766518950462341, \"name\": \"Emb.pca_3()[family]\", \"original\": \"family\"}, {\"x_axis\": -2.889378547668457, \"y_axis\": -0.050423938781023026, \"name\": \"Emb.pca_3()[brother]\", \"original\": \"brother\"}, {\"x_axis\": -2.9355480670928955, \"y_axis\": -0.16567008197307587, \"name\": \"Emb.pca_3()[sister]\", \"original\": \"sister\"}, {\"x_axis\": 0.0, \"y_axis\": 0.0, \"name\": \"Emb.pca_3()[pca_2]\", \"original\": \"pca_2\"}], \"data-8b3c8b5d1e493ece9851d35dfd6085bd\": [{\"x_axis\": 1.4101686477661133, \"y_axis\": 3.5866782665252686, \"name\": \"Emb.pca_3()[prince]\", \"original\": \"prince\"}, {\"x_axis\": -0.9014667272567749, \"y_axis\": 3.7290639877319336, \"name\": \"Emb.pca_3()[princess]\", \"original\": \"princess\"}, {\"x_axis\": -0.36214011907577515, \"y_axis\": -2.0268449783325195, \"name\": \"Emb.pca_3()[nurse]\", \"original\": \"nurse\"}, {\"x_axis\": 0.6259650588035583, \"y_axis\": -2.0640788078308105, \"name\": \"Emb.pca_3()[doctor]\", \"original\": \"doctor\"}, {\"x_axis\": 3.423365592956543, \"y_axis\": -0.06272626668214798, \"name\": \"Emb.pca_3()[banker]\", \"original\": \"banker\"}, {\"x_axis\": 2.3927626609802246, \"y_axis\": -1.5975850820541382, \"name\": \"Emb.pca_3()[man]\", \"original\": \"man\"}, {\"x_axis\": 0.7855578660964966, \"y_axis\": -1.6417865753173828, \"name\": \"Emb.pca_3()[woman]\", \"original\": \"woman\"}, {\"x_axis\": -1.7883641719818115, \"y_axis\": 0.08844538033008575, \"name\": \"Emb.pca_3()[cousin]\", \"original\": \"cousin\"}, {\"x_axis\": -2.4958081245422363, \"y_axis\": -0.26408129930496216, \"name\": \"Emb.pca_3()[neice]\", \"original\": \"neice\"}, {\"x_axis\": 2.366340160369873, \"y_axis\": 4.284396171569824, \"name\": \"Emb.pca_3()[king]\", \"original\": \"king\"}, {\"x_axis\": 0.6199101209640503, \"y_axis\": 3.8633885383605957, \"name\": \"Emb.pca_3()[queen]\", \"original\": \"queen\"}, {\"x_axis\": 1.8008066415786743, \"y_axis\": -1.4314934015274048, \"name\": \"Emb.pca_3()[dude]\", \"original\": \"dude\"}, {\"x_axis\": 1.8941247463226318, \"y_axis\": -2.0039167404174805, \"name\": \"Emb.pca_3()[guy]\", \"original\": \"guy\"}, {\"x_axis\": -0.7789919376373291, \"y_axis\": -1.1506184339523315, \"name\": \"Emb.pca_3()[gal]\", \"original\": \"gal\"}, {\"x_axis\": 1.6079835891723633, \"y_axis\": -0.3874746859073639, \"name\": \"Emb.pca_3()[fire]\", \"original\": \"fire\"}, {\"x_axis\": -1.3364675045013428, \"y_axis\": -1.5011234283447266, \"name\": \"Emb.pca_3()[dog]\", \"original\": \"dog\"}, {\"x_axis\": -1.632767677307129, \"y_axis\": -0.6315336227416992, \"name\": \"Emb.pca_3()[cat]\", \"original\": \"cat\"}, {\"x_axis\": -1.6748225688934326, \"y_axis\": 0.16532859206199646, \"name\": \"Emb.pca_3()[mouse]\", \"original\": \"mouse\"}, {\"x_axis\": -1.379326581954956, \"y_axis\": 0.8340239524841309, \"name\": \"Emb.pca_3()[red]\", \"original\": \"red\"}, {\"x_axis\": 0.228873610496521, \"y_axis\": -0.011614669114351273, \"name\": \"Emb.pca_3()[bluee]\", \"original\": \"bluee\"}, {\"x_axis\": -1.1082807779312134, \"y_axis\": 0.8428581953048706, \"name\": \"Emb.pca_3()[green]\", \"original\": \"green\"}, {\"x_axis\": -1.7831957340240479, \"y_axis\": 0.842082679271698, \"name\": \"Emb.pca_3()[yellow]\", \"original\": \"yellow\"}, {\"x_axis\": 0.22754345834255219, \"y_axis\": -0.7630831599235535, \"name\": \"Emb.pca_3()[water]\", \"original\": \"water\"}, {\"x_axis\": 1.555857539176941, \"y_axis\": -1.8055592775344849, \"name\": \"Emb.pca_3()[person]\", \"original\": \"person\"}, {\"x_axis\": -0.9982205629348755, \"y_axis\": -0.6766518950462341, \"name\": \"Emb.pca_3()[family]\", \"original\": \"family\"}, {\"x_axis\": -0.4907585382461548, \"y_axis\": -0.050423938781023026, \"name\": \"Emb.pca_3()[brother]\", \"original\": \"brother\"}, {\"x_axis\": -2.2086498737335205, \"y_axis\": -0.16567008197307587, \"name\": \"Emb.pca_3()[sister]\", \"original\": \"sister\"}, {\"x_axis\": 0.0, \"y_axis\": 0.0, \"name\": \"Emb.pca_3()[pca_0]\", \"original\": \"pca_0\"}]}}, {\"mode\": \"vega-lite\"});\n",
       "</script>"
      ],
      "text/plain": [
       "alt.HConcatChart(...)"
      ]
     },
     "execution_count": 21,
     "metadata": {},
     "output_type": "execute_result"
    }
   ],
   "source": [
    "pca_emb = emb.transform(Pca(3))\n",
    "\n",
    "pca_emb.plot_interactive('pca_0', 'pca_1').properties(width=s, height=s) | pca_emb.plot_interactive('pca_2', 'pca_1').properties(width=s, height=s)"
   ]
  },
  {
   "cell_type": "markdown",
   "metadata": {},
   "source": [
    "But why go with only two plots when you can have an entire matrix? "
   ]
  },
  {
   "cell_type": "code",
   "execution_count": 22,
   "metadata": {},
   "outputs": [
    {
     "data": {
      "text/html": [
       "\n",
       "<div id=\"altair-viz-d40e8bc9ad3f434492147820d49b4f48\"></div>\n",
       "<script type=\"text/javascript\">\n",
       "  (function(spec, embedOpt){\n",
       "    const outputDiv = document.getElementById(\"altair-viz-d40e8bc9ad3f434492147820d49b4f48\");\n",
       "    const paths = {\n",
       "      \"vega\": \"https://cdn.jsdelivr.net/npm//vega@5?noext\",\n",
       "      \"vega-lib\": \"https://cdn.jsdelivr.net/npm//vega-lib?noext\",\n",
       "      \"vega-lite\": \"https://cdn.jsdelivr.net/npm//vega-lite@4.0.2?noext\",\n",
       "      \"vega-embed\": \"https://cdn.jsdelivr.net/npm//vega-embed@6?noext\",\n",
       "    };\n",
       "\n",
       "    function loadScript(lib) {\n",
       "      return new Promise(function(resolve, reject) {\n",
       "        var s = document.createElement('script');\n",
       "        s.src = paths[lib];\n",
       "        s.async = true;\n",
       "        s.onload = () => resolve(paths[lib]);\n",
       "        s.onerror = () => reject(`Error loading script: ${paths[lib]}`);\n",
       "        document.getElementsByTagName(\"head\")[0].appendChild(s);\n",
       "      });\n",
       "    }\n",
       "\n",
       "    function showError(err) {\n",
       "      outputDiv.innerHTML = `<div class=\"error\" style=\"color:red;\">${err}</div>`;\n",
       "      throw err;\n",
       "    }\n",
       "\n",
       "    function displayChart(vegaEmbed) {\n",
       "      vegaEmbed(outputDiv, spec, embedOpt)\n",
       "        .catch(err => showError(`Javascript Error: ${err.message}<br>This usually means there's a typo in your chart specification. See the javascript console for the full traceback.`));\n",
       "    }\n",
       "\n",
       "    if(typeof define === \"function\" && define.amd) {\n",
       "      requirejs.config({paths});\n",
       "      require([\"vega-embed\"], displayChart, err => showError(`Error loading script: ${err.message}`));\n",
       "    } else if (typeof vegaEmbed === \"function\") {\n",
       "      displayChart(vegaEmbed);\n",
       "    } else {\n",
       "      loadScript(\"vega\")\n",
       "        .then(() => loadScript(\"vega-lite\"))\n",
       "        .then(() => loadScript(\"vega-embed\"))\n",
       "        .catch(showError)\n",
       "        .then(() => displayChart(vegaEmbed));\n",
       "    }\n",
       "  })({\"config\": {\"view\": {\"continuousWidth\": 400, \"continuousHeight\": 300}}, \"repeat\": {\"column\": [\"pca_0\", \"pca_1\", \"pca_2\"], \"row\": [\"pca_2\", \"pca_1\", \"pca_0\"]}, \"spec\": {\"layer\": [{\"mark\": \"circle\", \"encoding\": {\"text\": {\"type\": \"nominal\", \"field\": \"original\"}, \"tooltip\": [{\"type\": \"nominal\", \"field\": \"name\"}, {\"type\": \"nominal\", \"field\": \"original\"}], \"x\": {\"type\": \"quantitative\", \"field\": {\"repeat\": \"column\"}}, \"y\": {\"type\": \"quantitative\", \"field\": {\"repeat\": \"row\"}}}, \"selection\": {\"selector010\": {\"type\": \"interval\", \"bind\": \"scales\", \"encodings\": [\"x\", \"y\"]}}}, {\"mark\": {\"type\": \"text\", \"color\": \"black\", \"dx\": -15, \"dy\": 3}, \"encoding\": {\"text\": {\"type\": \"nominal\", \"field\": \"original\"}, \"tooltip\": [{\"type\": \"nominal\", \"field\": \"name\"}, {\"type\": \"nominal\", \"field\": \"original\"}], \"x\": {\"type\": \"quantitative\", \"field\": {\"repeat\": \"column\"}}, \"y\": {\"type\": \"quantitative\", \"field\": {\"repeat\": \"row\"}}}}], \"data\": {\"name\": \"data-335f918d25926b7a6cd416df85d7d2ed\"}, \"height\": 200, \"width\": 200}, \"$schema\": \"https://vega.github.io/schema/vega-lite/v4.0.2.json\", \"datasets\": {\"data-335f918d25926b7a6cd416df85d7d2ed\": [{\"pca_0\": -1.2535836696624756, \"pca_1\": 3.5866782665252686, \"pca_2\": 1.4101686477661133, \"name\": \"Emb.pca_3()[prince]\", \"original\": \"prince\"}, {\"pca_0\": -0.9741007089614868, \"pca_1\": 3.7290639877319336, \"pca_2\": -0.9014667272567749, \"name\": \"Emb.pca_3()[princess]\", \"original\": \"princess\"}, {\"pca_0\": -1.0501285791397095, \"pca_1\": -2.0268449783325195, \"pca_2\": -0.36214011907577515, \"name\": \"Emb.pca_3()[nurse]\", \"original\": \"nurse\"}, {\"pca_0\": -0.9151335954666138, \"pca_1\": -2.0640788078308105, \"pca_2\": 0.6259650588035583, \"name\": \"Emb.pca_3()[doctor]\", \"original\": \"doctor\"}, {\"pca_0\": 0.8430221080780029, \"pca_1\": -0.06272626668214798, \"pca_2\": 3.423365592956543, \"name\": \"Emb.pca_3()[banker]\", \"original\": \"banker\"}, {\"pca_0\": -0.4313211441040039, \"pca_1\": -1.5975850820541382, \"pca_2\": 2.3927626609802246, \"name\": \"Emb.pca_3()[man]\", \"original\": \"man\"}, {\"pca_0\": -1.0732589960098267, \"pca_1\": -1.6417865753173828, \"pca_2\": 0.7855578660964966, \"name\": \"Emb.pca_3()[woman]\", \"original\": \"woman\"}, {\"pca_0\": -3.006711959838867, \"pca_1\": 0.08844538033008575, \"pca_2\": -1.7883641719818115, \"name\": \"Emb.pca_3()[cousin]\", \"original\": \"cousin\"}, {\"pca_0\": -3.256138801574707, \"pca_1\": -0.26408129930496216, \"pca_2\": -2.4958081245422363, \"name\": \"Emb.pca_3()[neice]\", \"original\": \"neice\"}, {\"pca_0\": -0.8844124674797058, \"pca_1\": 4.284396171569824, \"pca_2\": 2.366340160369873, \"name\": \"Emb.pca_3()[king]\", \"original\": \"king\"}, {\"pca_0\": -0.9637594819068909, \"pca_1\": 3.8633885383605957, \"pca_2\": 0.6199101209640503, \"name\": \"Emb.pca_3()[queen]\", \"original\": \"queen\"}, {\"pca_0\": -0.37136656045913696, \"pca_1\": -1.4314934015274048, \"pca_2\": 1.8008066415786743, \"name\": \"Emb.pca_3()[dude]\", \"original\": \"dude\"}, {\"pca_0\": -0.33022013306617737, \"pca_1\": -2.0039167404174805, \"pca_2\": 1.8941247463226318, \"name\": \"Emb.pca_3()[guy]\", \"original\": \"guy\"}, {\"pca_0\": 0.00523483008146286, \"pca_1\": -1.1506184339523315, \"pca_2\": -0.7789919376373291, \"name\": \"Emb.pca_3()[gal]\", \"original\": \"gal\"}, {\"pca_0\": 2.189060688018799, \"pca_1\": -0.3874746859073639, \"pca_2\": 1.6079835891723633, \"name\": \"Emb.pca_3()[fire]\", \"original\": \"fire\"}, {\"pca_0\": 0.8451138138771057, \"pca_1\": -1.5011234283447266, \"pca_2\": -1.3364675045013428, \"name\": \"Emb.pca_3()[dog]\", \"original\": \"dog\"}, {\"pca_0\": 0.9290972948074341, \"pca_1\": -0.6315336227416992, \"pca_2\": -1.632767677307129, \"name\": \"Emb.pca_3()[cat]\", \"original\": \"cat\"}, {\"pca_0\": 1.971744179725647, \"pca_1\": 0.16532859206199646, \"pca_2\": -1.6748225688934326, \"name\": \"Emb.pca_3()[mouse]\", \"original\": \"mouse\"}, {\"pca_0\": 3.646470546722412, \"pca_1\": 0.8340239524841309, \"pca_2\": -1.379326581954956, \"name\": \"Emb.pca_3()[red]\", \"original\": \"red\"}, {\"pca_0\": 0.6217128038406372, \"pca_1\": -0.011614669114351273, \"pca_2\": 0.228873610496521, \"name\": \"Emb.pca_3()[bluee]\", \"original\": \"bluee\"}, {\"pca_0\": 4.070712089538574, \"pca_1\": 0.8428581953048706, \"pca_2\": -1.1082807779312134, \"name\": \"Emb.pca_3()[green]\", \"original\": \"green\"}, {\"pca_0\": 3.973900318145752, \"pca_1\": 0.842082679271698, \"pca_2\": -1.7831957340240479, \"name\": \"Emb.pca_3()[yellow]\", \"original\": \"yellow\"}, {\"pca_0\": 3.19923996925354, \"pca_1\": -0.7630831599235535, \"pca_2\": 0.22754345834255219, \"name\": \"Emb.pca_3()[water]\", \"original\": \"water\"}, {\"pca_0\": -0.4370381832122803, \"pca_1\": -1.8055592775344849, \"pca_2\": 1.555857539176941, \"name\": \"Emb.pca_3()[person]\", \"original\": \"person\"}, {\"pca_0\": -1.5232127904891968, \"pca_1\": -0.6766518950462341, \"pca_2\": -0.9982205629348755, \"name\": \"Emb.pca_3()[family]\", \"original\": \"family\"}, {\"pca_0\": -2.889378547668457, \"pca_1\": -0.050423938781023026, \"pca_2\": -0.4907585382461548, \"name\": \"Emb.pca_3()[brother]\", \"original\": \"brother\"}, {\"pca_0\": -2.9355480670928955, \"pca_1\": -0.16567008197307587, \"pca_2\": -2.2086498737335205, \"name\": \"Emb.pca_3()[sister]\", \"original\": \"sister\"}, {\"pca_0\": 1.0, \"pca_1\": 0.0, \"pca_2\": 0.0, \"name\": \"Emb.pca_3()[pca_0]\", \"original\": \"pca_0\"}, {\"pca_0\": 0.0, \"pca_1\": 1.0, \"pca_2\": 0.0, \"name\": \"Emb.pca_3()[pca_1]\", \"original\": \"pca_1\"}, {\"pca_0\": 0.0, \"pca_1\": 0.0, \"pca_2\": 1.0, \"name\": \"Emb.pca_3()[pca_2]\", \"original\": \"pca_2\"}]}}, {\"mode\": \"vega-lite\"});\n",
       "</script>"
      ],
      "text/plain": [
       "alt.RepeatChart(...)"
      ]
     },
     "execution_count": 22,
     "metadata": {},
     "output_type": "execute_result"
    }
   ],
   "source": [
    "pca_emb.plot_interactive_matrix('pca_0', 'pca_1', 'pca_2')"
   ]
  },
  {
   "cell_type": "markdown",
   "metadata": {},
   "source": [
    "What is particularily interesting here is the pca axes. They seem to encode information and can we attempt an understanding by glancing at it.\n",
    "\n",
    "But the overlap makes it hard to read. So let's apply one more transformation here."
   ]
  },
  {
   "cell_type": "code",
   "execution_count": 25,
   "metadata": {},
   "outputs": [
    {
     "data": {
      "text/html": [
       "\n",
       "<div id=\"altair-viz-71a28ee639454cc09a9676f666865d9b\"></div>\n",
       "<script type=\"text/javascript\">\n",
       "  (function(spec, embedOpt){\n",
       "    const outputDiv = document.getElementById(\"altair-viz-71a28ee639454cc09a9676f666865d9b\");\n",
       "    const paths = {\n",
       "      \"vega\": \"https://cdn.jsdelivr.net/npm//vega@5?noext\",\n",
       "      \"vega-lib\": \"https://cdn.jsdelivr.net/npm//vega-lib?noext\",\n",
       "      \"vega-lite\": \"https://cdn.jsdelivr.net/npm//vega-lite@4.0.2?noext\",\n",
       "      \"vega-embed\": \"https://cdn.jsdelivr.net/npm//vega-embed@6?noext\",\n",
       "    };\n",
       "\n",
       "    function loadScript(lib) {\n",
       "      return new Promise(function(resolve, reject) {\n",
       "        var s = document.createElement('script');\n",
       "        s.src = paths[lib];\n",
       "        s.async = true;\n",
       "        s.onload = () => resolve(paths[lib]);\n",
       "        s.onerror = () => reject(`Error loading script: ${paths[lib]}`);\n",
       "        document.getElementsByTagName(\"head\")[0].appendChild(s);\n",
       "      });\n",
       "    }\n",
       "\n",
       "    function showError(err) {\n",
       "      outputDiv.innerHTML = `<div class=\"error\" style=\"color:red;\">${err}</div>`;\n",
       "      throw err;\n",
       "    }\n",
       "\n",
       "    function displayChart(vegaEmbed) {\n",
       "      vegaEmbed(outputDiv, spec, embedOpt)\n",
       "        .catch(err => showError(`Javascript Error: ${err.message}<br>This usually means there's a typo in your chart specification. See the javascript console for the full traceback.`));\n",
       "    }\n",
       "\n",
       "    if(typeof define === \"function\" && define.amd) {\n",
       "      requirejs.config({paths});\n",
       "      require([\"vega-embed\"], displayChart, err => showError(`Error loading script: ${err.message}`));\n",
       "    } else if (typeof vegaEmbed === \"function\") {\n",
       "      displayChart(vegaEmbed);\n",
       "    } else {\n",
       "      loadScript(\"vega\")\n",
       "        .then(() => loadScript(\"vega-lite\"))\n",
       "        .then(() => loadScript(\"vega-embed\"))\n",
       "        .catch(showError)\n",
       "        .then(() => displayChart(vegaEmbed));\n",
       "    }\n",
       "  })({\"config\": {\"view\": {\"continuousWidth\": 400, \"continuousHeight\": 300}}, \"repeat\": {\"column\": [\"king\", \"queen\", \"man\", \"woman\"], \"row\": [\"woman\", \"man\", \"queen\", \"king\"]}, \"spec\": {\"layer\": [{\"mark\": \"circle\", \"encoding\": {\"text\": {\"type\": \"nominal\", \"field\": \"original\"}, \"tooltip\": [{\"type\": \"nominal\", \"field\": \"name\"}, {\"type\": \"nominal\", \"field\": \"original\"}], \"x\": {\"type\": \"quantitative\", \"field\": {\"repeat\": \"column\"}}, \"y\": {\"type\": \"quantitative\", \"field\": {\"repeat\": \"row\"}}}, \"selection\": {\"selector011\": {\"type\": \"interval\", \"bind\": \"scales\", \"encodings\": [\"x\", \"y\"]}}}, {\"mark\": {\"type\": \"text\", \"color\": \"black\", \"dx\": -15, \"dy\": 3}, \"encoding\": {\"text\": {\"type\": \"nominal\", \"field\": \"original\"}, \"tooltip\": [{\"type\": \"nominal\", \"field\": \"name\"}, {\"type\": \"nominal\", \"field\": \"original\"}], \"x\": {\"type\": \"quantitative\", \"field\": {\"repeat\": \"column\"}}, \"y\": {\"type\": \"quantitative\", \"field\": {\"repeat\": \"row\"}}}}], \"data\": {\"name\": \"data-daa4b72cd28419efe0fee0b589a7ff2d\"}, \"height\": 200, \"width\": 200}, \"$schema\": \"https://vega.github.io/schema/vega-lite/v4.0.2.json\", \"datasets\": {\"data-daa4b72cd28419efe0fee0b589a7ff2d\": [{\"king\": 1.185936920912242, \"queen\": 0.4367478988682707, \"man\": -0.13837191266160026, \"woman\": -0.09443060951564639, \"name\": \"Emb.pca_3()[prince]\", \"original\": \"prince\"}, {\"king\": 0.5774979425479444, \"queen\": 0.31088226789435214, \"man\": -0.7771135818145745, \"woman\": -0.6088908443176547, \"name\": \"Emb.pca_3()[princess]\", \"original\": \"princess\"}, {\"king\": -0.3241191022733598, \"queen\": -0.1454338250993191, \"man\": -0.2199913334566869, \"woman\": -0.20730825124116736, \"name\": \"Emb.pca_3()[nurse]\", \"original\": \"nurse\"}, {\"king\": -0.7706231899545256, \"queen\": -0.3720131744022811, \"man\": 0.39103086885559457, \"woman\": 0.27859135516873806, \"name\": \"Emb.pca_3()[doctor]\", \"original\": \"doctor\"}, {\"king\": -0.9616286923541495, \"queen\": -0.5186826015452318, \"man\": 0.48415181744253116, \"woman\": 0.31912076526932787, \"name\": \"Emb.pca_3()[banker]\", \"original\": \"banker\"}, {\"king\": -0.43907102487872696, \"queen\": -0.35713388308166627, \"man\": 1.0, \"woman\": 0.7576949925644091, \"name\": \"Emb.pca_3()[man]\", \"original\": \"man\"}, {\"king\": -0.5321205775448288, \"queen\": -0.4065341876709115, \"man\": 1.2930355310054993, \"woman\": 1.0, \"name\": \"Emb.pca_3()[woman]\", \"original\": \"woman\"}, {\"king\": -0.5605310558437826, \"queen\": 0.1032740927902889, \"man\": -0.3825981690630915, \"woman\": -0.1957769197623782, \"name\": \"Emb.pca_3()[cousin]\", \"original\": \"cousin\"}, {\"king\": -0.6381961245153891, \"queen\": 0.1003150028491519, \"man\": -0.30725797985553227, \"woman\": -0.1208760267225418, \"name\": \"Emb.pca_3()[neice]\", \"original\": \"neice\"}, {\"king\": 1.0, \"queen\": 0.39598043316585674, \"man\": -0.22600982232418274, \"woman\": -0.16050425410298322, \"name\": \"Emb.pca_3()[king]\", \"original\": \"king\"}, {\"king\": 1.9428299998352658, \"queen\": 1.0, \"man\": -0.9019545756885687, \"woman\": -0.6016371455800664, \"name\": \"Emb.pca_3()[queen]\", \"original\": \"queen\"}, {\"king\": -0.012071341018317297, \"queen\": 0.10631559067764351, \"man\": 0.04696759281110606, \"woman\": 0.09140028216583716, \"name\": \"Emb.pca_3()[dude]\", \"original\": \"dude\"}, {\"king\": -1.5456174191571257, \"queen\": -0.7295736801961115, \"man\": 0.7708609585864886, \"woman\": 0.554942075278576, \"name\": \"Emb.pca_3()[guy]\", \"original\": \"guy\"}, {\"king\": 0.013790998577895501, \"queen\": 0.021601687191878428, \"man\": -0.12647927252741378, \"woman\": -0.10048632359756626, \"name\": \"Emb.pca_3()[gal]\", \"original\": \"gal\"}, {\"king\": -0.45008087159225607, \"queen\": -0.2010936130308138, \"man\": -0.1432958670883724, \"woman\": -0.1484271968866918, \"name\": \"Emb.pca_3()[fire]\", \"original\": \"fire\"}, {\"king\": -0.4725721308689235, \"queen\": -0.26608422877803806, \"man\": 0.48839204002804276, \"woman\": 0.36636276968644843, \"name\": \"Emb.pca_3()[dog]\", \"original\": \"dog\"}, {\"king\": -1.1642763089069699, \"queen\": -0.5704448795518342, \"man\": 0.38799657203140486, \"woman\": 0.2431585825711881, \"name\": \"Emb.pca_3()[cat]\", \"original\": \"cat\"}, {\"king\": -0.36443300160414216, \"queen\": -0.1904036739234834, \"man\": 0.04347193035814421, \"woman\": 0.003766090801702313, \"name\": \"Emb.pca_3()[mouse]\", \"original\": \"mouse\"}, {\"king\": 0.16553975757981387, \"queen\": 0.0998582946844434, \"man\": -1.1302333148433794, \"woman\": -0.9475444264672671, \"name\": \"Emb.pca_3()[red]\", \"original\": \"red\"}, {\"king\": 0.46394784879804, \"queen\": 0.09966751564607547, \"man\": 0.1711207306887625, \"woman\": 0.12314557481231647, \"name\": \"Emb.pca_3()[bluee]\", \"original\": \"bluee\"}, {\"king\": -0.384285035967389, \"queen\": -0.08256289208466785, \"man\": -0.6720691261490965, \"woman\": -0.5566648992613525, \"name\": \"Emb.pca_3()[green]\", \"original\": \"green\"}, {\"king\": 0.7127072011366159, \"queen\": 0.25343817889837766, \"man\": -0.34818472693555075, \"woman\": -0.28815164945975413, \"name\": \"Emb.pca_3()[yellow]\", \"original\": \"yellow\"}, {\"king\": 0.4034101746932688, \"queen\": 0.05386473355751202, \"man\": -0.2588755968787333, \"woman\": -0.2576366917305939, \"name\": \"Emb.pca_3()[water]\", \"original\": \"water\"}, {\"king\": 0.4054378492176636, \"queen\": -0.027352722271158383, \"man\": 0.8349913375835571, \"woman\": 0.6421699073179289, \"name\": \"Emb.pca_3()[person]\", \"original\": \"person\"}, {\"king\": -0.2635468033804312, \"queen\": 0.2939464028192744, \"man\": -1.0232632076533819, \"woman\": -0.7012538305739361, \"name\": \"Emb.pca_3()[family]\", \"original\": \"family\"}, {\"king\": -0.10976489427861234, \"queen\": 0.04797266814174494, \"man\": -0.07292573610433442, \"woman\": -0.023754110507871518, \"name\": \"Emb.pca_3()[brother]\", \"original\": \"brother\"}, {\"king\": -1.3479348477916697, \"queen\": -0.4323246433247675, \"man\": 0.45730405018128584, \"woman\": 0.39427727580390803, \"name\": \"Emb.pca_3()[sister]\", \"original\": \"sister\"}, {\"king\": 0.5539909424188452, \"queen\": 0.2894587010262691, \"man\": -0.6689850344622812, \"woman\": -0.5225926181259984, \"name\": \"Emb.pca_3()[pca_0]\", \"original\": \"pca_0\"}, {\"king\": 0.2730612989801677, \"queen\": 0.07321989590882497, \"man\": 0.3266205600857023, \"woman\": 0.27290466529265267, \"name\": \"Emb.pca_3()[pca_1]\", \"original\": \"pca_1\"}, {\"king\": 0.02040033536159673, \"queen\": -0.13224466068079338, \"man\": 0.36222719096962036, \"woman\": 0.24612698708171724, \"name\": \"Emb.pca_3()[pca_2]\", \"original\": \"pca_2\"}]}}, {\"mode\": \"vega-lite\"});\n",
       "</script>"
      ],
      "text/plain": [
       "alt.RepeatChart(...)"
      ]
     },
     "execution_count": 25,
     "metadata": {},
     "output_type": "execute_result"
    }
   ],
   "source": [
    "from whatlies.transformers import Noise \n",
    "\n",
    "(emb\n",
    " .transform(Pca(3))\n",
    " .transform(Noise(2))\n",
    " .plot_interactive_matrix('king', 'queen', 'man', 'woman', annot=True, width=200, height=200))"
   ]
  },
  {
   "cell_type": "markdown",
   "metadata": {},
   "source": [
    "Note that we also offer the ability to add a few random embeddings. This can be a useful sanity check."
   ]
  },
  {
   "cell_type": "code",
   "execution_count": 45,
   "metadata": {},
   "outputs": [
    {
     "data": {
      "text/html": [
       "\n",
       "<div id=\"altair-viz-6a4e0a64c9354c22838adadbb20661ba\"></div>\n",
       "<script type=\"text/javascript\">\n",
       "  (function(spec, embedOpt){\n",
       "    const outputDiv = document.getElementById(\"altair-viz-6a4e0a64c9354c22838adadbb20661ba\");\n",
       "    const paths = {\n",
       "      \"vega\": \"https://cdn.jsdelivr.net/npm//vega@5?noext\",\n",
       "      \"vega-lib\": \"https://cdn.jsdelivr.net/npm//vega-lib?noext\",\n",
       "      \"vega-lite\": \"https://cdn.jsdelivr.net/npm//vega-lite@4.0.2?noext\",\n",
       "      \"vega-embed\": \"https://cdn.jsdelivr.net/npm//vega-embed@6?noext\",\n",
       "    };\n",
       "\n",
       "    function loadScript(lib) {\n",
       "      return new Promise(function(resolve, reject) {\n",
       "        var s = document.createElement('script');\n",
       "        s.src = paths[lib];\n",
       "        s.async = true;\n",
       "        s.onload = () => resolve(paths[lib]);\n",
       "        s.onerror = () => reject(`Error loading script: ${paths[lib]}`);\n",
       "        document.getElementsByTagName(\"head\")[0].appendChild(s);\n",
       "      });\n",
       "    }\n",
       "\n",
       "    function showError(err) {\n",
       "      outputDiv.innerHTML = `<div class=\"error\" style=\"color:red;\">${err}</div>`;\n",
       "      throw err;\n",
       "    }\n",
       "\n",
       "    function displayChart(vegaEmbed) {\n",
       "      vegaEmbed(outputDiv, spec, embedOpt)\n",
       "        .catch(err => showError(`Javascript Error: ${err.message}<br>This usually means there's a typo in your chart specification. See the javascript console for the full traceback.`));\n",
       "    }\n",
       "\n",
       "    if(typeof define === \"function\" && define.amd) {\n",
       "      requirejs.config({paths});\n",
       "      require([\"vega-embed\"], displayChart, err => showError(`Error loading script: ${err.message}`));\n",
       "    } else if (typeof vegaEmbed === \"function\") {\n",
       "      displayChart(vegaEmbed);\n",
       "    } else {\n",
       "      loadScript(\"vega\")\n",
       "        .then(() => loadScript(\"vega-lite\"))\n",
       "        .then(() => loadScript(\"vega-embed\"))\n",
       "        .catch(showError)\n",
       "        .then(() => displayChart(vegaEmbed));\n",
       "    }\n",
       "  })({\"config\": {\"view\": {\"continuousWidth\": 400, \"continuousHeight\": 300}}, \"repeat\": {\"column\": [\"pca_0\", \"pca_1\"], \"row\": [\"pca_1\", \"pca_0\"]}, \"spec\": {\"layer\": [{\"mark\": \"circle\", \"encoding\": {\"text\": {\"type\": \"nominal\", \"field\": \"original\"}, \"tooltip\": [{\"type\": \"nominal\", \"field\": \"name\"}, {\"type\": \"nominal\", \"field\": \"original\"}], \"x\": {\"type\": \"quantitative\", \"field\": {\"repeat\": \"column\"}}, \"y\": {\"type\": \"quantitative\", \"field\": {\"repeat\": \"row\"}}}, \"selection\": {\"selector024\": {\"type\": \"interval\", \"bind\": \"scales\", \"encodings\": [\"x\", \"y\"]}}}, {\"mark\": {\"type\": \"text\", \"color\": \"black\", \"dx\": -15, \"dy\": 3}, \"encoding\": {\"text\": {\"type\": \"nominal\", \"field\": \"original\"}, \"tooltip\": [{\"type\": \"nominal\", \"field\": \"name\"}, {\"type\": \"nominal\", \"field\": \"original\"}], \"x\": {\"type\": \"quantitative\", \"field\": {\"repeat\": \"column\"}}, \"y\": {\"type\": \"quantitative\", \"field\": {\"repeat\": \"row\"}}}}], \"data\": {\"name\": \"data-7169074577b96eef4cd05ee0e5fabea3\"}, \"height\": 200, \"width\": 200}, \"$schema\": \"https://vega.github.io/schema/vega-lite/v4.0.2.json\", \"datasets\": {\"data-7169074577b96eef4cd05ee0e5fabea3\": [{\"pca_0\": 1.881389489253733, \"pca_1\": -0.04418282028666067, \"name\": \"Emb.pca_2()[prince]\", \"original\": \"prince\"}, {\"pca_0\": 2.103488369492834, \"pca_1\": 0.6051281821840959, \"name\": \"Emb.pca_2()[princess]\", \"original\": \"princess\"}, {\"pca_0\": 1.4872899735869038, \"pca_1\": -0.414984712538628, \"name\": \"Emb.pca_2()[nurse]\", \"original\": \"nurse\"}, {\"pca_0\": 1.5060978699882783, \"pca_1\": -0.2294470606311465, \"name\": \"Emb.pca_2()[doctor]\", \"original\": \"doctor\"}, {\"pca_0\": -1.869365416642955, \"pca_1\": -1.2523769336405235, \"name\": \"Emb.pca_2()[banker]\", \"original\": \"banker\"}, {\"pca_0\": 1.8347480980570525, \"pca_1\": 0.8338635161340477, \"name\": \"Emb.pca_2()[man]\", \"original\": \"man\"}, {\"pca_0\": 2.521470026859302, \"pca_1\": 0.6318458666172376, \"name\": \"Emb.pca_2()[woman]\", \"original\": \"woman\"}, {\"pca_0\": 2.6775822942271534, \"pca_1\": -1.8863164103942758, \"name\": \"Emb.pca_2()[cousin]\", \"original\": \"cousin\"}, {\"pca_0\": 2.607389698368775, \"pca_1\": -2.305325550958764, \"name\": \"Emb.pca_2()[neice]\", \"original\": \"neice\"}, {\"pca_0\": 1.8275501105098226, \"pca_1\": 0.45219094972404267, \"name\": \"Emb.pca_2()[king]\", \"original\": \"king\"}, {\"pca_0\": 1.8327756766971945, \"pca_1\": 0.3683623870807392, \"name\": \"Emb.pca_2()[queen]\", \"original\": \"queen\"}, {\"pca_0\": 1.28464769560049, \"pca_1\": 0.41294058152013857, \"name\": \"Emb.pca_2()[dude]\", \"original\": \"dude\"}, {\"pca_0\": 1.5068432970786034, \"pca_1\": 0.6207132019690406, \"name\": \"Emb.pca_2()[guy]\", \"original\": \"guy\"}, {\"pca_0\": 0.2309670837274118, \"pca_1\": -0.03146540130516434, \"name\": \"Emb.pca_2()[gal]\", \"original\": \"gal\"}, {\"pca_0\": -0.8070815927465151, \"pca_1\": 1.916249632477797, \"name\": \"Emb.pca_2()[fire]\", \"original\": \"fire\"}, {\"pca_0\": 0.9535314141145126, \"pca_1\": 1.7753603125164186, \"name\": \"Emb.pca_2()[dog]\", \"original\": \"dog\"}, {\"pca_0\": 0.8127400879420965, \"pca_1\": 1.8162732947385725, \"name\": \"Emb.pca_2()[cat]\", \"original\": \"cat\"}, {\"pca_0\": -0.8992164062452709, \"pca_1\": 1.5767805134657507, \"name\": \"Emb.pca_2()[mouse]\", \"original\": \"mouse\"}, {\"pca_0\": -1.1481660784348051, \"pca_1\": 3.7236614521448077, \"name\": \"Emb.pca_2()[red]\", \"original\": \"red\"}, {\"pca_0\": -2.169860145917572, \"pca_1\": -1.3563180735276557, \"name\": \"Emb.pca_2()[bluee]\", \"original\": \"bluee\"}, {\"pca_0\": -1.6378575806234794, \"pca_1\": 3.791779362781085, \"name\": \"Emb.pca_2()[green]\", \"original\": \"green\"}, {\"pca_0\": -1.4332182281701438, \"pca_1\": 3.9041153350870212, \"name\": \"Emb.pca_2()[yellow]\", \"original\": \"yellow\"}, {\"pca_0\": -1.4607618644252276, \"pca_1\": 2.652413972509145, \"name\": \"Emb.pca_2()[water]\", \"original\": \"water\"}, {\"pca_0\": 1.0936389083946596, \"pca_1\": 0.07490834345629628, \"name\": \"Emb.pca_2()[person]\", \"original\": \"person\"}, {\"pca_0\": 1.4790501109279686, \"pca_1\": -1.0981311062266155, \"name\": \"Emb.pca_2()[family]\", \"original\": \"family\"}, {\"pca_0\": 3.0043862327990887, \"pca_1\": -1.4329752059835488, \"name\": \"Emb.pca_2()[brother]\", \"original\": \"brother\"}, {\"pca_0\": 2.832624002824541, \"pca_1\": -1.6369693957799805, \"name\": \"Emb.pca_2()[sister]\", \"original\": \"sister\"}, {\"pca_0\": -2.103217388028118, \"pca_1\": -1.4372153393738212, \"name\": \"Emb.pca_2()[rand_0]\", \"original\": \"rand_0\"}, {\"pca_0\": -2.300264204829417, \"pca_1\": -1.4137838071164828, \"name\": \"Emb.pca_2()[rand_1]\", \"original\": \"rand_1\"}, {\"pca_0\": -2.0297301123553346, \"pca_1\": -1.2599233856509444, \"name\": \"Emb.pca_2()[rand_2]\", \"original\": \"rand_2\"}, {\"pca_0\": -2.216645911603024, \"pca_1\": -1.3480141223441025, \"name\": \"Emb.pca_2()[rand_3]\", \"original\": \"rand_3\"}, {\"pca_0\": -2.1080356270418643, \"pca_1\": -1.3629113322538948, \"name\": \"Emb.pca_2()[rand_4]\", \"original\": \"rand_4\"}, {\"pca_0\": -2.259051794273974, \"pca_1\": -1.2183648855531795, \"name\": \"Emb.pca_2()[rand_5]\", \"original\": \"rand_5\"}, {\"pca_0\": -2.177157060956524, \"pca_1\": -1.4693388214652552, \"name\": \"Emb.pca_2()[rand_6]\", \"original\": \"rand_6\"}, {\"pca_0\": -2.3277157291558974, \"pca_1\": -1.3567863947803431, \"name\": \"Emb.pca_2()[rand_7]\", \"original\": \"rand_7\"}, {\"pca_0\": -2.4470378093312726, \"pca_1\": -1.3173192993246832, \"name\": \"Emb.pca_2()[rand_8]\", \"original\": \"rand_8\"}, {\"pca_0\": -2.0838274896690243, \"pca_1\": -1.2844368452705712, \"name\": \"Emb.pca_2()[rand_9]\", \"original\": \"rand_9\"}, {\"pca_0\": 1.0, \"pca_1\": 0.0, \"name\": \"Emb.pca_2()[pca_0]\", \"original\": \"pca_0\"}, {\"pca_0\": 0.0, \"pca_1\": 1.0, \"name\": \"Emb.pca_2()[pca_1]\", \"original\": \"pca_1\"}]}}, {\"mode\": \"vega-lite\"});\n",
       "</script>"
      ],
      "text/plain": [
       "alt.RepeatChart(...)"
      ]
     },
     "execution_count": 45,
     "metadata": {},
     "output_type": "execute_result"
    }
   ],
   "source": [
    "from whatlies.transformers import AddRandom\n",
    "\n",
    "(emb\n",
    " .transform(AddRandom(n=10, sigma=0.1))\n",
    " .transform(Pca(2))\n",
    " .plot_interactive_matrix('pca_0', 'pca_1', annot=True, width=200, height=200))"
   ]
  },
  {
   "cell_type": "code",
   "execution_count": null,
   "metadata": {},
   "outputs": [],
   "source": []
  }
 ],
 "metadata": {
  "kernelspec": {
   "display_name": "Python 3",
   "language": "python",
   "name": "python3"
  },
  "language_info": {
   "codemirror_mode": {
    "name": "ipython",
    "version": 3
   },
   "file_extension": ".py",
   "mimetype": "text/x-python",
   "name": "python",
   "nbconvert_exporter": "python",
   "pygments_lexer": "ipython3",
   "version": "3.7.3"
  }
 },
 "nbformat": 4,
 "nbformat_minor": 4
}
