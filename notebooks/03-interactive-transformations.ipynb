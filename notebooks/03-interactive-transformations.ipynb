{
 "cells": [
  {
   "cell_type": "code",
   "execution_count": 1,
   "metadata": {},
   "outputs": [],
   "source": [
    "%load_ext autoreload\n",
    "%autoreload 2"
   ]
  },
  {
   "cell_type": "code",
   "execution_count": 2,
   "metadata": {},
   "outputs": [],
   "source": [
    "from whatlies import Embedding, EmbeddingSet\n",
    "import spacy "
   ]
  },
  {
   "cell_type": "markdown",
   "metadata": {},
   "source": [
    "## Making Plots ... More Cool \n",
    "\n",
    "The `Embedding` object merely has support for matplotlib, but the `EmbeddingSet` has support for Altair too! You can plot this interactively by just passing the names of the tokens you'd like to see."
   ]
  },
  {
   "cell_type": "code",
   "execution_count": 3,
   "metadata": {},
   "outputs": [],
   "source": [
    "nlp = spacy.load(\"en_core_web_md\")\n",
    "words = [\"prince\", \"princess\", \"nurse\", \"doctor\", \"banker\", \"man\", \"woman\", \n",
    "         \"cousin\", \"neice\", \"king\", \"queen\", \"dude\", \"guy\", \"gal\", \"fire\", \n",
    "         \"dog\", \"cat\", \"mouse\", \"red\", \"bluee\", \"green\", \"yellow\", \"water\", \n",
    "         \"person\", \"family\", \"brother\", \"sister\"]\n",
    "emb = EmbeddingSet({t.text: Embedding(t.text, t.vector) for t in nlp.pipe(words)})"
   ]
  },
  {
   "cell_type": "code",
   "execution_count": 4,
   "metadata": {},
   "outputs": [],
   "source": [
    "orig_chart = emb.plot_interactive('man', 'woman')\n",
    "\n",
    "new_ts = emb | (emb['king'] - emb['queen'])\n",
    "new_chart = new_ts.plot_interactive('man', 'woman')"
   ]
  },
  {
   "cell_type": "markdown",
   "metadata": {},
   "source": [
    "Note that altair has a convenient syntax for plotting two charts next to eachother. This is really cool when you want to compare. Feel free to zoom in and play as well!"
   ]
  },
  {
   "cell_type": "code",
   "execution_count": 5,
   "metadata": {},
   "outputs": [
    {
     "data": {
      "text/html": [
       "\n",
       "<div id=\"altair-viz-066c1e0885d24ed7b1e6dc32b42e731f\"></div>\n",
       "<script type=\"text/javascript\">\n",
       "  (function(spec, embedOpt){\n",
       "    const outputDiv = document.getElementById(\"altair-viz-066c1e0885d24ed7b1e6dc32b42e731f\");\n",
       "    const paths = {\n",
       "      \"vega\": \"https://cdn.jsdelivr.net/npm//vega@5?noext\",\n",
       "      \"vega-lib\": \"https://cdn.jsdelivr.net/npm//vega-lib?noext\",\n",
       "      \"vega-lite\": \"https://cdn.jsdelivr.net/npm//vega-lite@4.0.2?noext\",\n",
       "      \"vega-embed\": \"https://cdn.jsdelivr.net/npm//vega-embed@6?noext\",\n",
       "    };\n",
       "\n",
       "    function loadScript(lib) {\n",
       "      return new Promise(function(resolve, reject) {\n",
       "        var s = document.createElement('script');\n",
       "        s.src = paths[lib];\n",
       "        s.async = true;\n",
       "        s.onload = () => resolve(paths[lib]);\n",
       "        s.onerror = () => reject(`Error loading script: ${paths[lib]}`);\n",
       "        document.getElementsByTagName(\"head\")[0].appendChild(s);\n",
       "      });\n",
       "    }\n",
       "\n",
       "    function showError(err) {\n",
       "      outputDiv.innerHTML = `<div class=\"error\" style=\"color:red;\">${err}</div>`;\n",
       "      throw err;\n",
       "    }\n",
       "\n",
       "    function displayChart(vegaEmbed) {\n",
       "      vegaEmbed(outputDiv, spec, embedOpt)\n",
       "        .catch(err => showError(`Javascript Error: ${err.message}<br>This usually means there's a typo in your chart specification. See the javascript console for the full traceback.`));\n",
       "    }\n",
       "\n",
       "    if(typeof define === \"function\" && define.amd) {\n",
       "      requirejs.config({paths});\n",
       "      require([\"vega-embed\"], displayChart, err => showError(`Error loading script: ${err.message}`));\n",
       "    } else if (typeof vegaEmbed === \"function\") {\n",
       "      displayChart(vegaEmbed);\n",
       "    } else {\n",
       "      loadScript(\"vega\")\n",
       "        .then(() => loadScript(\"vega-lite\"))\n",
       "        .then(() => loadScript(\"vega-embed\"))\n",
       "        .catch(showError)\n",
       "        .then(() => displayChart(vegaEmbed));\n",
       "    }\n",
       "  })({\"config\": {\"view\": {\"continuousWidth\": 400, \"continuousHeight\": 300}}, \"hconcat\": [{\"layer\": [{\"mark\": {\"type\": \"circle\", \"size\": 60}, \"encoding\": {\"tooltip\": [{\"type\": \"nominal\", \"field\": \"name\"}, {\"type\": \"nominal\", \"field\": \"original\"}], \"x\": {\"type\": \"quantitative\", \"axis\": {\"title\": \"man\"}, \"field\": \"x_axis\"}, \"y\": {\"type\": \"quantitative\", \"axis\": {\"title\": \"woman\"}, \"field\": \"y_axis\"}}, \"selection\": {\"selector001\": {\"type\": \"interval\", \"bind\": \"scales\", \"encodings\": [\"x\", \"y\"]}}, \"title\": \"man vs. woman\"}, {\"mark\": {\"type\": \"text\", \"color\": \"black\", \"dx\": -15, \"dy\": 3}, \"encoding\": {\"text\": {\"type\": \"nominal\", \"field\": \"original\"}, \"x\": {\"type\": \"quantitative\", \"axis\": {\"title\": \"man\"}, \"field\": \"x_axis\"}, \"y\": {\"type\": \"quantitative\", \"axis\": {\"title\": \"woman\"}, \"field\": \"y_axis\"}}}], \"data\": {\"name\": \"data-15774a1af3e17e7d98478860e09ed029\"}}, {\"layer\": [{\"mark\": {\"type\": \"circle\", \"size\": 60}, \"encoding\": {\"tooltip\": [{\"type\": \"nominal\", \"field\": \"name\"}, {\"type\": \"nominal\", \"field\": \"original\"}], \"x\": {\"type\": \"quantitative\", \"axis\": {\"title\": \"(man | (king - queen))\"}, \"field\": \"x_axis\"}, \"y\": {\"type\": \"quantitative\", \"axis\": {\"title\": \"(woman | (king - queen))\"}, \"field\": \"y_axis\"}}, \"selection\": {\"selector002\": {\"type\": \"interval\", \"bind\": \"scales\", \"encodings\": [\"x\", \"y\"]}}, \"title\": \"(man | (king - queen)) vs. (woman | (king - queen))\"}, {\"mark\": {\"type\": \"text\", \"color\": \"black\", \"dx\": -15, \"dy\": 3}, \"encoding\": {\"text\": {\"type\": \"nominal\", \"field\": \"original\"}, \"x\": {\"type\": \"quantitative\", \"axis\": {\"title\": \"(man | (king - queen))\"}, \"field\": \"x_axis\"}, \"y\": {\"type\": \"quantitative\", \"axis\": {\"title\": \"(woman | (king - queen))\"}, \"field\": \"y_axis\"}}}], \"data\": {\"name\": \"data-5ef8856a00a327788b3c3840144bb429\"}}], \"$schema\": \"https://vega.github.io/schema/vega-lite/v4.0.2.json\", \"datasets\": {\"data-15774a1af3e17e7d98478860e09ed029\": [{\"x_axis\": 0.40951526165008545, \"y_axis\": 0.3261851966381073, \"name\": \"prince\", \"original\": \"prince\"}, {\"x_axis\": 0.27098548412323, \"y_axis\": 0.4069218039512634, \"name\": \"princess\", \"original\": \"princess\"}, {\"x_axis\": 0.3271060585975647, \"y_axis\": 0.5211429595947266, \"name\": \"nurse\", \"original\": \"nurse\"}, {\"x_axis\": 0.4489893317222595, \"y_axis\": 0.4943573474884033, \"name\": \"doctor\", \"original\": \"doctor\"}, {\"x_axis\": 0.19353565573692322, \"y_axis\": 0.09302382916212082, \"name\": \"banker\", \"original\": \"banker\"}, {\"x_axis\": 0.38155144453048706, \"y_axis\": 0.33430397510528564, \"name\": \"cousin\", \"original\": \"cousin\"}, {\"x_axis\": 0.29427674412727356, \"y_axis\": 0.41036874055862427, \"name\": \"neice\", \"original\": \"neice\"}, {\"x_axis\": 0.45961007475852966, \"y_axis\": 0.27491992712020874, \"name\": \"king\", \"original\": \"king\"}, {\"x_axis\": 0.2914373576641083, \"y_axis\": 0.40253907442092896, \"name\": \"queen\", \"original\": \"queen\"}, {\"x_axis\": 0.6322574615478516, \"y_axis\": 0.37293168902397156, \"name\": \"dude\", \"original\": \"dude\"}, {\"x_axis\": 0.689598560333252, \"y_axis\": 0.4880948066711426, \"name\": \"guy\", \"original\": \"guy\"}, {\"x_axis\": 0.30102455615997314, \"y_axis\": 0.3522968888282776, \"name\": \"gal\", \"original\": \"gal\"}, {\"x_axis\": 0.4537816643714905, \"y_axis\": 0.31863078474998474, \"name\": \"fire\", \"original\": \"fire\"}, {\"x_axis\": 0.4621913731098175, \"y_axis\": 0.4013059139251709, \"name\": \"dog\", \"original\": \"dog\"}, {\"x_axis\": 0.3758322596549988, \"y_axis\": 0.34616324305534363, \"name\": \"cat\", \"original\": \"cat\"}, {\"x_axis\": 0.2176199108362198, \"y_axis\": 0.18362130224704742, \"name\": \"mouse\", \"original\": \"mouse\"}, {\"x_axis\": 0.2972288429737091, \"y_axis\": 0.3045094907283783, \"name\": \"red\", \"original\": \"red\"}, {\"x_axis\": 0.0, \"y_axis\": 0.0, \"name\": \"bluee\", \"original\": \"bluee\"}, {\"x_axis\": 0.25164204835891724, \"y_axis\": 0.215010866522789, \"name\": \"green\", \"original\": \"green\"}, {\"x_axis\": 0.2725669741630554, \"y_axis\": 0.25106003880500793, \"name\": \"yellow\", \"original\": \"yellow\"}, {\"x_axis\": 0.335124671459198, \"y_axis\": 0.2691221237182617, \"name\": \"water\", \"original\": \"water\"}, {\"x_axis\": 0.538722574710846, \"y_axis\": 0.5015737414360046, \"name\": \"person\", \"original\": \"person\"}, {\"x_axis\": 0.3436667323112488, \"y_axis\": 0.3416234254837036, \"name\": \"family\", \"original\": \"family\"}, {\"x_axis\": 0.5816835165023804, \"y_axis\": 0.39277997612953186, \"name\": \"brother\", \"original\": \"brother\"}, {\"x_axis\": 0.3568364381790161, \"y_axis\": 0.4736946225166321, \"name\": \"sister\", \"original\": \"sister\"}], \"data-5ef8856a00a327788b3c3840144bb429\": [{\"x_axis\": 0.3721413016319275, \"y_axis\": 0.37740591168403625, \"name\": \"(prince | (king - queen))\", \"original\": \"prince\"}, {\"x_axis\": 0.32078519463539124, \"y_axis\": 0.3907199800014496, \"name\": \"(princess | (king - queen))\", \"original\": \"princess\"}, {\"x_axis\": 0.38499051332473755, \"y_axis\": 0.5041420459747314, \"name\": \"(nurse | (king - queen))\", \"original\": \"nurse\"}, {\"x_axis\": 0.46731048822402954, \"y_axis\": 0.5102049708366394, \"name\": \"(doctor | (king - queen))\", \"original\": \"doctor\"}, {\"x_axis\": 0.1731649786233902, \"y_axis\": 0.11744287610054016, \"name\": \"(banker | (king - queen))\", \"original\": \"banker\"}, {\"x_axis\": 0.3942609429359436, \"y_axis\": 0.3473650813102722, \"name\": \"(cousin | (king - queen))\", \"original\": \"cousin\"}, {\"x_axis\": 0.3400344252586365, \"y_axis\": 0.39806586503982544, \"name\": \"(neice | (king - queen))\", \"original\": \"neice\"}, {\"x_axis\": 0.3779345750808716, \"y_axis\": 0.3594277501106262, \"name\": \"(king | (king - queen))\", \"original\": \"king\"}, {\"x_axis\": 0.3779345750808716, \"y_axis\": 0.35942772030830383, \"name\": \"(queen | (king - queen))\", \"original\": \"queen\"}, {\"x_axis\": 0.6412995457649231, \"y_axis\": 0.3981958031654358, \"name\": \"(dude | (king - queen))\", \"original\": \"dude\"}, {\"x_axis\": 0.6984968185424805, \"y_axis\": 0.5187848806381226, \"name\": \"(guy | (king - queen))\", \"original\": \"guy\"}, {\"x_axis\": 0.3681216537952423, \"y_axis\": 0.32252824306488037, \"name\": \"(gal | (king - queen))\", \"original\": \"gal\"}, {\"x_axis\": 0.46388524770736694, \"y_axis\": 0.3355717957019806, \"name\": \"(fire | (king - queen))\", \"original\": \"fire\"}, {\"x_axis\": 0.47540125250816345, \"y_axis\": 0.4186546504497528, \"name\": \"(dog | (king - queen))\", \"original\": \"dog\"}, {\"x_axis\": 0.398105651140213, \"y_axis\": 0.3522307574748993, \"name\": \"(cat | (king - queen))\", \"original\": \"cat\"}, {\"x_axis\": 0.22983808815479279, \"y_axis\": 0.187143474817276, \"name\": \"(mouse | (king - queen))\", \"original\": \"mouse\"}, {\"x_axis\": 0.3163382112979889, \"y_axis\": 0.30910223722457886, \"name\": \"(red | (king - queen))\", \"original\": \"red\"}, {\"x_axis\": 0.0, \"y_axis\": 0.0, \"name\": \"(bluee | (king - queen))\", \"original\": \"bluee\"}, {\"x_axis\": 0.26152005791664124, \"y_axis\": 0.2223435342311859, \"name\": \"(green | (king - queen))\", \"original\": \"green\"}, {\"x_axis\": 0.29196789860725403, \"y_axis\": 0.253030925989151, \"name\": \"(yellow | (king - queen))\", \"original\": \"yellow\"}, {\"x_axis\": 0.34176596999168396, \"y_axis\": 0.2832501232624054, \"name\": \"(water | (king - queen))\", \"original\": \"water\"}, {\"x_axis\": 0.5559191107749939, \"y_axis\": 0.5214522480964661, \"name\": \"(person | (king - queen))\", \"original\": \"person\"}, {\"x_axis\": 0.3543766736984253, \"y_axis\": 0.35514166951179504, \"name\": \"(family | (king - queen))\", \"original\": \"family\"}, {\"x_axis\": 0.5562112927436829, \"y_axis\": 0.4427803158760071, \"name\": \"(brother | (king - queen))\", \"original\": \"brother\"}, {\"x_axis\": 0.40646934509277344, \"y_axis\": 0.46244552731513977, \"name\": \"(sister | (king - queen))\", \"original\": \"sister\"}]}}, {\"mode\": \"vega-lite\"});\n",
       "</script>"
      ],
      "text/plain": [
       "alt.HConcatChart(...)"
      ]
     },
     "execution_count": 5,
     "metadata": {},
     "output_type": "execute_result"
    }
   ],
   "source": [
    "orig_chart | new_chart"
   ]
  },
  {
   "cell_type": "markdown",
   "metadata": {},
   "source": [
    "The charts that we output here are from the Altair library. This means that you can, among other things, customise the size if you prefer."
   ]
  },
  {
   "cell_type": "code",
   "execution_count": 20,
   "metadata": {},
   "outputs": [
    {
     "data": {
      "text/html": [
       "\n",
       "<div id=\"altair-viz-bd603c5c0e504044af288fe6931741d6\"></div>\n",
       "<script type=\"text/javascript\">\n",
       "  (function(spec, embedOpt){\n",
       "    const outputDiv = document.getElementById(\"altair-viz-bd603c5c0e504044af288fe6931741d6\");\n",
       "    const paths = {\n",
       "      \"vega\": \"https://cdn.jsdelivr.net/npm//vega@5?noext\",\n",
       "      \"vega-lib\": \"https://cdn.jsdelivr.net/npm//vega-lib?noext\",\n",
       "      \"vega-lite\": \"https://cdn.jsdelivr.net/npm//vega-lite@4.0.2?noext\",\n",
       "      \"vega-embed\": \"https://cdn.jsdelivr.net/npm//vega-embed@6?noext\",\n",
       "    };\n",
       "\n",
       "    function loadScript(lib) {\n",
       "      return new Promise(function(resolve, reject) {\n",
       "        var s = document.createElement('script');\n",
       "        s.src = paths[lib];\n",
       "        s.async = true;\n",
       "        s.onload = () => resolve(paths[lib]);\n",
       "        s.onerror = () => reject(`Error loading script: ${paths[lib]}`);\n",
       "        document.getElementsByTagName(\"head\")[0].appendChild(s);\n",
       "      });\n",
       "    }\n",
       "\n",
       "    function showError(err) {\n",
       "      outputDiv.innerHTML = `<div class=\"error\" style=\"color:red;\">${err}</div>`;\n",
       "      throw err;\n",
       "    }\n",
       "\n",
       "    function displayChart(vegaEmbed) {\n",
       "      vegaEmbed(outputDiv, spec, embedOpt)\n",
       "        .catch(err => showError(`Javascript Error: ${err.message}<br>This usually means there's a typo in your chart specification. See the javascript console for the full traceback.`));\n",
       "    }\n",
       "\n",
       "    if(typeof define === \"function\" && define.amd) {\n",
       "      requirejs.config({paths});\n",
       "      require([\"vega-embed\"], displayChart, err => showError(`Error loading script: ${err.message}`));\n",
       "    } else if (typeof vegaEmbed === \"function\") {\n",
       "      displayChart(vegaEmbed);\n",
       "    } else {\n",
       "      loadScript(\"vega\")\n",
       "        .then(() => loadScript(\"vega-lite\"))\n",
       "        .then(() => loadScript(\"vega-embed\"))\n",
       "        .catch(showError)\n",
       "        .then(() => displayChart(vegaEmbed));\n",
       "    }\n",
       "  })({\"config\": {\"view\": {\"continuousWidth\": 400, \"continuousHeight\": 300}}, \"hconcat\": [{\"layer\": [{\"mark\": {\"type\": \"circle\", \"size\": 60}, \"encoding\": {\"tooltip\": [{\"type\": \"nominal\", \"field\": \"name\"}, {\"type\": \"nominal\", \"field\": \"original\"}], \"x\": {\"type\": \"quantitative\", \"axis\": {\"title\": \"man\"}, \"field\": \"x_axis\"}, \"y\": {\"type\": \"quantitative\", \"axis\": {\"title\": \"woman\"}, \"field\": \"y_axis\"}}, \"selection\": {\"selector003\": {\"type\": \"interval\", \"bind\": \"scales\", \"encodings\": [\"x\", \"y\"]}}, \"title\": \"man vs. woman\"}, {\"mark\": {\"type\": \"text\", \"color\": \"black\", \"dx\": -15, \"dy\": 3}, \"encoding\": {\"text\": {\"type\": \"nominal\", \"field\": \"original\"}, \"x\": {\"type\": \"quantitative\", \"axis\": {\"title\": \"man\"}, \"field\": \"x_axis\"}, \"y\": {\"type\": \"quantitative\", \"axis\": {\"title\": \"woman\"}, \"field\": \"y_axis\"}}}], \"data\": {\"name\": \"data-15774a1af3e17e7d98478860e09ed029\"}, \"height\": 300, \"width\": 300}, {\"layer\": [{\"mark\": {\"type\": \"circle\", \"size\": 60}, \"encoding\": {\"tooltip\": [{\"type\": \"nominal\", \"field\": \"name\"}, {\"type\": \"nominal\", \"field\": \"original\"}], \"x\": {\"type\": \"quantitative\", \"axis\": {\"title\": \"(man | (king - queen))\"}, \"field\": \"x_axis\"}, \"y\": {\"type\": \"quantitative\", \"axis\": {\"title\": \"(woman | (king - queen))\"}, \"field\": \"y_axis\"}}, \"selection\": {\"selector002\": {\"type\": \"interval\", \"bind\": \"scales\", \"encodings\": [\"x\", \"y\"]}}, \"title\": \"(man | (king - queen)) vs. (woman | (king - queen))\"}, {\"mark\": {\"type\": \"text\", \"color\": \"black\", \"dx\": -15, \"dy\": 3}, \"encoding\": {\"text\": {\"type\": \"nominal\", \"field\": \"original\"}, \"x\": {\"type\": \"quantitative\", \"axis\": {\"title\": \"(man | (king - queen))\"}, \"field\": \"x_axis\"}, \"y\": {\"type\": \"quantitative\", \"axis\": {\"title\": \"(woman | (king - queen))\"}, \"field\": \"y_axis\"}}}], \"data\": {\"name\": \"data-5ef8856a00a327788b3c3840144bb429\"}, \"height\": 300, \"width\": 300}], \"$schema\": \"https://vega.github.io/schema/vega-lite/v4.0.2.json\", \"datasets\": {\"data-15774a1af3e17e7d98478860e09ed029\": [{\"x_axis\": 0.40951526165008545, \"y_axis\": 0.3261851966381073, \"name\": \"prince\", \"original\": \"prince\"}, {\"x_axis\": 0.27098548412323, \"y_axis\": 0.4069218039512634, \"name\": \"princess\", \"original\": \"princess\"}, {\"x_axis\": 0.3271060585975647, \"y_axis\": 0.5211429595947266, \"name\": \"nurse\", \"original\": \"nurse\"}, {\"x_axis\": 0.4489893317222595, \"y_axis\": 0.4943573474884033, \"name\": \"doctor\", \"original\": \"doctor\"}, {\"x_axis\": 0.19353565573692322, \"y_axis\": 0.09302382916212082, \"name\": \"banker\", \"original\": \"banker\"}, {\"x_axis\": 0.38155144453048706, \"y_axis\": 0.33430397510528564, \"name\": \"cousin\", \"original\": \"cousin\"}, {\"x_axis\": 0.29427674412727356, \"y_axis\": 0.41036874055862427, \"name\": \"neice\", \"original\": \"neice\"}, {\"x_axis\": 0.45961007475852966, \"y_axis\": 0.27491992712020874, \"name\": \"king\", \"original\": \"king\"}, {\"x_axis\": 0.2914373576641083, \"y_axis\": 0.40253907442092896, \"name\": \"queen\", \"original\": \"queen\"}, {\"x_axis\": 0.6322574615478516, \"y_axis\": 0.37293168902397156, \"name\": \"dude\", \"original\": \"dude\"}, {\"x_axis\": 0.689598560333252, \"y_axis\": 0.4880948066711426, \"name\": \"guy\", \"original\": \"guy\"}, {\"x_axis\": 0.30102455615997314, \"y_axis\": 0.3522968888282776, \"name\": \"gal\", \"original\": \"gal\"}, {\"x_axis\": 0.4537816643714905, \"y_axis\": 0.31863078474998474, \"name\": \"fire\", \"original\": \"fire\"}, {\"x_axis\": 0.4621913731098175, \"y_axis\": 0.4013059139251709, \"name\": \"dog\", \"original\": \"dog\"}, {\"x_axis\": 0.3758322596549988, \"y_axis\": 0.34616324305534363, \"name\": \"cat\", \"original\": \"cat\"}, {\"x_axis\": 0.2176199108362198, \"y_axis\": 0.18362130224704742, \"name\": \"mouse\", \"original\": \"mouse\"}, {\"x_axis\": 0.2972288429737091, \"y_axis\": 0.3045094907283783, \"name\": \"red\", \"original\": \"red\"}, {\"x_axis\": 0.0, \"y_axis\": 0.0, \"name\": \"bluee\", \"original\": \"bluee\"}, {\"x_axis\": 0.25164204835891724, \"y_axis\": 0.215010866522789, \"name\": \"green\", \"original\": \"green\"}, {\"x_axis\": 0.2725669741630554, \"y_axis\": 0.25106003880500793, \"name\": \"yellow\", \"original\": \"yellow\"}, {\"x_axis\": 0.335124671459198, \"y_axis\": 0.2691221237182617, \"name\": \"water\", \"original\": \"water\"}, {\"x_axis\": 0.538722574710846, \"y_axis\": 0.5015737414360046, \"name\": \"person\", \"original\": \"person\"}, {\"x_axis\": 0.3436667323112488, \"y_axis\": 0.3416234254837036, \"name\": \"family\", \"original\": \"family\"}, {\"x_axis\": 0.5816835165023804, \"y_axis\": 0.39277997612953186, \"name\": \"brother\", \"original\": \"brother\"}, {\"x_axis\": 0.3568364381790161, \"y_axis\": 0.4736946225166321, \"name\": \"sister\", \"original\": \"sister\"}], \"data-5ef8856a00a327788b3c3840144bb429\": [{\"x_axis\": 0.3721413016319275, \"y_axis\": 0.37740591168403625, \"name\": \"(prince | (king - queen))\", \"original\": \"prince\"}, {\"x_axis\": 0.32078519463539124, \"y_axis\": 0.3907199800014496, \"name\": \"(princess | (king - queen))\", \"original\": \"princess\"}, {\"x_axis\": 0.38499051332473755, \"y_axis\": 0.5041420459747314, \"name\": \"(nurse | (king - queen))\", \"original\": \"nurse\"}, {\"x_axis\": 0.46731048822402954, \"y_axis\": 0.5102049708366394, \"name\": \"(doctor | (king - queen))\", \"original\": \"doctor\"}, {\"x_axis\": 0.1731649786233902, \"y_axis\": 0.11744287610054016, \"name\": \"(banker | (king - queen))\", \"original\": \"banker\"}, {\"x_axis\": 0.3942609429359436, \"y_axis\": 0.3473650813102722, \"name\": \"(cousin | (king - queen))\", \"original\": \"cousin\"}, {\"x_axis\": 0.3400344252586365, \"y_axis\": 0.39806586503982544, \"name\": \"(neice | (king - queen))\", \"original\": \"neice\"}, {\"x_axis\": 0.3779345750808716, \"y_axis\": 0.3594277501106262, \"name\": \"(king | (king - queen))\", \"original\": \"king\"}, {\"x_axis\": 0.3779345750808716, \"y_axis\": 0.35942772030830383, \"name\": \"(queen | (king - queen))\", \"original\": \"queen\"}, {\"x_axis\": 0.6412995457649231, \"y_axis\": 0.3981958031654358, \"name\": \"(dude | (king - queen))\", \"original\": \"dude\"}, {\"x_axis\": 0.6984968185424805, \"y_axis\": 0.5187848806381226, \"name\": \"(guy | (king - queen))\", \"original\": \"guy\"}, {\"x_axis\": 0.3681216537952423, \"y_axis\": 0.32252824306488037, \"name\": \"(gal | (king - queen))\", \"original\": \"gal\"}, {\"x_axis\": 0.46388524770736694, \"y_axis\": 0.3355717957019806, \"name\": \"(fire | (king - queen))\", \"original\": \"fire\"}, {\"x_axis\": 0.47540125250816345, \"y_axis\": 0.4186546504497528, \"name\": \"(dog | (king - queen))\", \"original\": \"dog\"}, {\"x_axis\": 0.398105651140213, \"y_axis\": 0.3522307574748993, \"name\": \"(cat | (king - queen))\", \"original\": \"cat\"}, {\"x_axis\": 0.22983808815479279, \"y_axis\": 0.187143474817276, \"name\": \"(mouse | (king - queen))\", \"original\": \"mouse\"}, {\"x_axis\": 0.3163382112979889, \"y_axis\": 0.30910223722457886, \"name\": \"(red | (king - queen))\", \"original\": \"red\"}, {\"x_axis\": 0.0, \"y_axis\": 0.0, \"name\": \"(bluee | (king - queen))\", \"original\": \"bluee\"}, {\"x_axis\": 0.26152005791664124, \"y_axis\": 0.2223435342311859, \"name\": \"(green | (king - queen))\", \"original\": \"green\"}, {\"x_axis\": 0.29196789860725403, \"y_axis\": 0.253030925989151, \"name\": \"(yellow | (king - queen))\", \"original\": \"yellow\"}, {\"x_axis\": 0.34176596999168396, \"y_axis\": 0.2832501232624054, \"name\": \"(water | (king - queen))\", \"original\": \"water\"}, {\"x_axis\": 0.5559191107749939, \"y_axis\": 0.5214522480964661, \"name\": \"(person | (king - queen))\", \"original\": \"person\"}, {\"x_axis\": 0.3543766736984253, \"y_axis\": 0.35514166951179504, \"name\": \"(family | (king - queen))\", \"original\": \"family\"}, {\"x_axis\": 0.5562112927436829, \"y_axis\": 0.4427803158760071, \"name\": \"(brother | (king - queen))\", \"original\": \"brother\"}, {\"x_axis\": 0.40646934509277344, \"y_axis\": 0.46244552731513977, \"name\": \"(sister | (king - queen))\", \"original\": \"sister\"}]}}, {\"mode\": \"vega-lite\"});\n",
       "</script>"
      ],
      "text/plain": [
       "alt.HConcatChart(...)"
      ]
     },
     "execution_count": 20,
     "metadata": {},
     "output_type": "execute_result"
    }
   ],
   "source": [
    "(orig_chart.properties(width=s, height=s) | new_chart.properties(width=s, height=s))"
   ]
  },
  {
   "cell_type": "markdown",
   "metadata": {},
   "source": [
    "## Transformations\n",
    "\n",
    "There's something extra too. Sofar we're been mapping vectors unto other ones in order to plot them. But theoretically we could go a step further."
   ]
  },
  {
   "cell_type": "code",
   "execution_count": 6,
   "metadata": {},
   "outputs": [
    {
     "data": {
      "text/html": [
       "\n",
       "<div id=\"altair-viz-66b2bf01f46540289b35eefee7f0c0b2\"></div>\n",
       "<script type=\"text/javascript\">\n",
       "  (function(spec, embedOpt){\n",
       "    const outputDiv = document.getElementById(\"altair-viz-66b2bf01f46540289b35eefee7f0c0b2\");\n",
       "    const paths = {\n",
       "      \"vega\": \"https://cdn.jsdelivr.net/npm//vega@5?noext\",\n",
       "      \"vega-lib\": \"https://cdn.jsdelivr.net/npm//vega-lib?noext\",\n",
       "      \"vega-lite\": \"https://cdn.jsdelivr.net/npm//vega-lite@4.0.2?noext\",\n",
       "      \"vega-embed\": \"https://cdn.jsdelivr.net/npm//vega-embed@6?noext\",\n",
       "    };\n",
       "\n",
       "    function loadScript(lib) {\n",
       "      return new Promise(function(resolve, reject) {\n",
       "        var s = document.createElement('script');\n",
       "        s.src = paths[lib];\n",
       "        s.async = true;\n",
       "        s.onload = () => resolve(paths[lib]);\n",
       "        s.onerror = () => reject(`Error loading script: ${paths[lib]}`);\n",
       "        document.getElementsByTagName(\"head\")[0].appendChild(s);\n",
       "      });\n",
       "    }\n",
       "\n",
       "    function showError(err) {\n",
       "      outputDiv.innerHTML = `<div class=\"error\" style=\"color:red;\">${err}</div>`;\n",
       "      throw err;\n",
       "    }\n",
       "\n",
       "    function displayChart(vegaEmbed) {\n",
       "      vegaEmbed(outputDiv, spec, embedOpt)\n",
       "        .catch(err => showError(`Javascript Error: ${err.message}<br>This usually means there's a typo in your chart specification. See the javascript console for the full traceback.`));\n",
       "    }\n",
       "\n",
       "    if(typeof define === \"function\" && define.amd) {\n",
       "      requirejs.config({paths});\n",
       "      require([\"vega-embed\"], displayChart, err => showError(`Error loading script: ${err.message}`));\n",
       "    } else if (typeof vegaEmbed === \"function\") {\n",
       "      displayChart(vegaEmbed);\n",
       "    } else {\n",
       "      loadScript(\"vega\")\n",
       "        .then(() => loadScript(\"vega-lite\"))\n",
       "        .then(() => loadScript(\"vega-embed\"))\n",
       "        .catch(showError)\n",
       "        .then(() => displayChart(vegaEmbed));\n",
       "    }\n",
       "  })({\"config\": {\"view\": {\"continuousWidth\": 400, \"continuousHeight\": 300}}, \"hconcat\": [{\"layer\": [{\"mark\": {\"type\": \"circle\", \"size\": 60}, \"encoding\": {\"tooltip\": [{\"type\": \"nominal\", \"field\": \"name\"}, {\"type\": \"nominal\", \"field\": \"original\"}], \"x\": {\"type\": \"quantitative\", \"axis\": {\"title\": \"pca_0\"}, \"field\": \"x_axis\"}, \"y\": {\"type\": \"quantitative\", \"axis\": {\"title\": \"pca_1\"}, \"field\": \"y_axis\"}}, \"selection\": {\"selector004\": {\"type\": \"interval\", \"bind\": \"scales\", \"encodings\": [\"x\", \"y\"]}}, \"title\": \"pca_0 vs. pca_1\"}, {\"mark\": {\"type\": \"text\", \"color\": \"black\", \"dx\": -15, \"dy\": 3}, \"encoding\": {\"text\": {\"type\": \"nominal\", \"field\": \"original\"}, \"x\": {\"type\": \"quantitative\", \"axis\": {\"title\": \"pca_0\"}, \"field\": \"x_axis\"}, \"y\": {\"type\": \"quantitative\", \"axis\": {\"title\": \"pca_1\"}, \"field\": \"y_axis\"}}}], \"data\": {\"name\": \"data-023be08e4818ac6f62d973b255b15b9a\"}}, {\"layer\": [{\"mark\": {\"type\": \"circle\", \"size\": 60}, \"encoding\": {\"tooltip\": [{\"type\": \"nominal\", \"field\": \"name\"}, {\"type\": \"nominal\", \"field\": \"original\"}], \"x\": {\"type\": \"quantitative\", \"axis\": {\"title\": \"umap_0\"}, \"field\": \"x_axis\"}, \"y\": {\"type\": \"quantitative\", \"axis\": {\"title\": \"umap_1\"}, \"field\": \"y_axis\"}}, \"selection\": {\"selector005\": {\"type\": \"interval\", \"bind\": \"scales\", \"encodings\": [\"x\", \"y\"]}}, \"title\": \"umap_0 vs. umap_1\"}, {\"mark\": {\"type\": \"text\", \"color\": \"black\", \"dx\": -15, \"dy\": 3}, \"encoding\": {\"text\": {\"type\": \"nominal\", \"field\": \"original\"}, \"x\": {\"type\": \"quantitative\", \"axis\": {\"title\": \"umap_0\"}, \"field\": \"x_axis\"}, \"y\": {\"type\": \"quantitative\", \"axis\": {\"title\": \"umap_1\"}, \"field\": \"y_axis\"}}}], \"data\": {\"name\": \"data-52c1f752db2a63c001d356078f606383\"}}], \"$schema\": \"https://vega.github.io/schema/vega-lite/v4.0.2.json\", \"datasets\": {\"data-023be08e4818ac6f62d973b255b15b9a\": [{\"x_axis\": -1.2535821199417114, \"y_axis\": 3.586676597595215, \"name\": \"prince\", \"original\": \"prince\"}, {\"x_axis\": -0.9741005897521973, \"y_axis\": 3.7290642261505127, \"name\": \"princess\", \"original\": \"princess\"}, {\"x_axis\": -1.0501278638839722, \"y_axis\": -2.0268447399139404, \"name\": \"nurse\", \"original\": \"nurse\"}, {\"x_axis\": -0.9151343703269958, \"y_axis\": -2.0640790462493896, \"name\": \"doctor\", \"original\": \"doctor\"}, {\"x_axis\": 0.8430215716362, \"y_axis\": -0.06272825598716736, \"name\": \"banker\", \"original\": \"banker\"}, {\"x_axis\": -0.43132147192955017, \"y_axis\": -1.5975831747055054, \"name\": \"man\", \"original\": \"man\"}, {\"x_axis\": -1.073258876800537, \"y_axis\": -1.6417843103408813, \"name\": \"woman\", \"original\": \"woman\"}, {\"x_axis\": -3.006711006164551, \"y_axis\": 0.08844566345214844, \"name\": \"cousin\", \"original\": \"cousin\"}, {\"x_axis\": -3.256138563156128, \"y_axis\": -0.2640823423862457, \"name\": \"neice\", \"original\": \"neice\"}, {\"x_axis\": -0.8844128251075745, \"y_axis\": 4.284396648406982, \"name\": \"king\", \"original\": \"king\"}, {\"x_axis\": -0.9637596607208252, \"y_axis\": 3.8633878231048584, \"name\": \"queen\", \"original\": \"queen\"}, {\"x_axis\": -0.37136709690093994, \"y_axis\": -1.4314926862716675, \"name\": \"dude\", \"original\": \"dude\"}, {\"x_axis\": -0.33022043108940125, \"y_axis\": -2.0039174556732178, \"name\": \"guy\", \"original\": \"guy\"}, {\"x_axis\": 0.005235184449702501, \"y_axis\": -1.1506175994873047, \"name\": \"gal\", \"original\": \"gal\"}, {\"x_axis\": 2.1890616416931152, \"y_axis\": -0.3874746263027191, \"name\": \"fire\", \"original\": \"fire\"}, {\"x_axis\": 0.8451134562492371, \"y_axis\": -1.5011231899261475, \"name\": \"dog\", \"original\": \"dog\"}, {\"x_axis\": 0.9290971755981445, \"y_axis\": -0.6315348148345947, \"name\": \"cat\", \"original\": \"cat\"}, {\"x_axis\": 1.9717415571212769, \"y_axis\": 0.1653272807598114, \"name\": \"mouse\", \"original\": \"mouse\"}, {\"x_axis\": 3.6464710235595703, \"y_axis\": 0.8340242505073547, \"name\": \"red\", \"original\": \"red\"}, {\"x_axis\": 0.6217125654220581, \"y_axis\": -0.011615407653152943, \"name\": \"bluee\", \"original\": \"bluee\"}, {\"x_axis\": 4.070711135864258, \"y_axis\": 0.8428587913513184, \"name\": \"green\", \"original\": \"green\"}, {\"x_axis\": 3.9739019870758057, \"y_axis\": 0.8420842289924622, \"name\": \"yellow\", \"original\": \"yellow\"}, {\"x_axis\": 3.1992409229278564, \"y_axis\": -0.76308274269104, \"name\": \"water\", \"original\": \"water\"}, {\"x_axis\": -0.4370383024215698, \"y_axis\": -1.8055583238601685, \"name\": \"person\", \"original\": \"person\"}, {\"x_axis\": -1.5232115983963013, \"y_axis\": -0.6766523718833923, \"name\": \"family\", \"original\": \"family\"}, {\"x_axis\": -2.889375925064087, \"y_axis\": -0.0504235103726387, \"name\": \"brother\", \"original\": \"brother\"}, {\"x_axis\": -2.935547351837158, \"y_axis\": -0.16567137837409973, \"name\": \"sister\", \"original\": \"sister\"}], \"data-52c1f752db2a63c001d356078f606383\": [{\"x_axis\": -3.5124354362487793, \"y_axis\": 4.162352561950684, \"name\": \"prince\", \"original\": \"prince\"}, {\"x_axis\": -4.112173080444336, \"y_axis\": 3.8549747467041016, \"name\": \"princess\", \"original\": \"princess\"}, {\"x_axis\": -2.517472982406616, \"y_axis\": 3.284545421600342, \"name\": \"nurse\", \"original\": \"nurse\"}, {\"x_axis\": -2.7008538246154785, \"y_axis\": 2.768869161605835, \"name\": \"doctor\", \"original\": \"doctor\"}, {\"x_axis\": -5.004579067230225, \"y_axis\": 1.7548115253448486, \"name\": \"banker\", \"original\": \"banker\"}, {\"x_axis\": -4.107402801513672, \"y_axis\": 1.0861294269561768, \"name\": \"man\", \"original\": \"man\"}, {\"x_axis\": -3.2791190147399902, \"y_axis\": 2.9917562007904053, \"name\": \"woman\", \"original\": \"woman\"}, {\"x_axis\": -4.7013444900512695, \"y_axis\": 2.9227752685546875, \"name\": \"cousin\", \"original\": \"cousin\"}, {\"x_axis\": -4.299141883850098, \"y_axis\": 3.142744541168213, \"name\": \"neice\", \"original\": \"neice\"}, {\"x_axis\": -3.8987667560577393, \"y_axis\": 4.549572944641113, \"name\": \"king\", \"original\": \"king\"}, {\"x_axis\": -4.172970771789551, \"y_axis\": 4.277510166168213, \"name\": \"queen\", \"original\": \"queen\"}, {\"x_axis\": -3.4013280868530273, \"y_axis\": 1.4507380723953247, \"name\": \"dude\", \"original\": \"dude\"}, {\"x_axis\": -3.7617805004119873, \"y_axis\": 1.7864001989364624, \"name\": \"guy\", \"original\": \"guy\"}, {\"x_axis\": -4.434903144836426, \"y_axis\": 2.3134303092956543, \"name\": \"gal\", \"original\": \"gal\"}, {\"x_axis\": -4.485660552978516, \"y_axis\": 0.5962796211242676, \"name\": \"fire\", \"original\": \"fire\"}, {\"x_axis\": -2.884521007537842, \"y_axis\": 2.0245754718780518, \"name\": \"dog\", \"original\": \"dog\"}, {\"x_axis\": -2.6612389087677, \"y_axis\": 1.595794677734375, \"name\": \"cat\", \"original\": \"cat\"}, {\"x_axis\": -2.7900476455688477, \"y_axis\": 1.0407456159591675, \"name\": \"mouse\", \"original\": \"mouse\"}, {\"x_axis\": -3.018948793411255, \"y_axis\": 0.13132251799106598, \"name\": \"red\", \"original\": \"red\"}, {\"x_axis\": -4.6628098487854, \"y_axis\": 1.299612283706665, \"name\": \"bluee\", \"original\": \"bluee\"}, {\"x_axis\": -3.5633227825164795, \"y_axis\": 0.1778898686170578, \"name\": \"green\", \"original\": \"green\"}, {\"x_axis\": -3.127549409866333, \"y_axis\": 0.4946957230567932, \"name\": \"yellow\", \"original\": \"yellow\"}, {\"x_axis\": -4.0959014892578125, \"y_axis\": 0.3415285348892212, \"name\": \"water\", \"original\": \"water\"}, {\"x_axis\": -4.049440383911133, \"y_axis\": 1.783280611038208, \"name\": \"person\", \"original\": \"person\"}, {\"x_axis\": -3.8789079189300537, \"y_axis\": 2.7418227195739746, \"name\": \"family\", \"original\": \"family\"}, {\"x_axis\": -3.6723387241363525, \"y_axis\": 2.3849875926971436, \"name\": \"brother\", \"original\": \"brother\"}, {\"x_axis\": -3.6647908687591553, \"y_axis\": 3.161151647567749, \"name\": \"sister\", \"original\": \"sister\"}]}}, {\"mode\": \"vega-lite\"});\n",
       "</script>"
      ],
      "text/plain": [
       "alt.HConcatChart(...)"
      ]
     },
     "execution_count": 6,
     "metadata": {},
     "output_type": "execute_result"
    }
   ],
   "source": [
    "from whatlies.transformers import pca, umap\n",
    "\n",
    "orig_chart = emb.plot_interactive('man', 'woman')\n",
    "pca_emb = emb.transform(pca(2))\n",
    "umap_emb = emb.transform(umap(2))\n",
    "\n",
    "pca_emb.plot_interactive('pca_0', 'pca_1') | umap_emb.plot_interactive('umap_0', 'umap_1')"
   ]
  },
  {
   "cell_type": "code",
   "execution_count": 19,
   "metadata": {},
   "outputs": [
    {
     "data": {
      "text/html": [
       "\n",
       "<div id=\"altair-viz-0eaa136b3e384540987fd8cef61e9030\"></div>\n",
       "<script type=\"text/javascript\">\n",
       "  (function(spec, embedOpt){\n",
       "    const outputDiv = document.getElementById(\"altair-viz-0eaa136b3e384540987fd8cef61e9030\");\n",
       "    const paths = {\n",
       "      \"vega\": \"https://cdn.jsdelivr.net/npm//vega@5?noext\",\n",
       "      \"vega-lib\": \"https://cdn.jsdelivr.net/npm//vega-lib?noext\",\n",
       "      \"vega-lite\": \"https://cdn.jsdelivr.net/npm//vega-lite@4.0.2?noext\",\n",
       "      \"vega-embed\": \"https://cdn.jsdelivr.net/npm//vega-embed@6?noext\",\n",
       "    };\n",
       "\n",
       "    function loadScript(lib) {\n",
       "      return new Promise(function(resolve, reject) {\n",
       "        var s = document.createElement('script');\n",
       "        s.src = paths[lib];\n",
       "        s.async = true;\n",
       "        s.onload = () => resolve(paths[lib]);\n",
       "        s.onerror = () => reject(`Error loading script: ${paths[lib]}`);\n",
       "        document.getElementsByTagName(\"head\")[0].appendChild(s);\n",
       "      });\n",
       "    }\n",
       "\n",
       "    function showError(err) {\n",
       "      outputDiv.innerHTML = `<div class=\"error\" style=\"color:red;\">${err}</div>`;\n",
       "      throw err;\n",
       "    }\n",
       "\n",
       "    function displayChart(vegaEmbed) {\n",
       "      vegaEmbed(outputDiv, spec, embedOpt)\n",
       "        .catch(err => showError(`Javascript Error: ${err.message}<br>This usually means there's a typo in your chart specification. See the javascript console for the full traceback.`));\n",
       "    }\n",
       "\n",
       "    if(typeof define === \"function\" && define.amd) {\n",
       "      requirejs.config({paths});\n",
       "      require([\"vega-embed\"], displayChart, err => showError(`Error loading script: ${err.message}`));\n",
       "    } else if (typeof vegaEmbed === \"function\") {\n",
       "      displayChart(vegaEmbed);\n",
       "    } else {\n",
       "      loadScript(\"vega\")\n",
       "        .then(() => loadScript(\"vega-lite\"))\n",
       "        .then(() => loadScript(\"vega-embed\"))\n",
       "        .catch(showError)\n",
       "        .then(() => displayChart(vegaEmbed));\n",
       "    }\n",
       "  })({\"config\": {\"view\": {\"continuousWidth\": 400, \"continuousHeight\": 300}}, \"hconcat\": [{\"layer\": [{\"mark\": {\"type\": \"circle\", \"size\": 60}, \"encoding\": {\"tooltip\": [{\"type\": \"nominal\", \"field\": \"name\"}, {\"type\": \"nominal\", \"field\": \"original\"}], \"x\": {\"type\": \"quantitative\", \"axis\": {\"title\": \"pca_0\"}, \"field\": \"x_axis\"}, \"y\": {\"type\": \"quantitative\", \"axis\": {\"title\": \"pca_1\"}, \"field\": \"y_axis\"}}, \"selection\": {\"selector014\": {\"type\": \"interval\", \"bind\": \"scales\", \"encodings\": [\"x\", \"y\"]}}, \"title\": \"pca_0 vs. pca_1\"}, {\"mark\": {\"type\": \"text\", \"color\": \"black\", \"dx\": -15, \"dy\": 3}, \"encoding\": {\"text\": {\"type\": \"nominal\", \"field\": \"original\"}, \"x\": {\"type\": \"quantitative\", \"axis\": {\"title\": \"pca_0\"}, \"field\": \"x_axis\"}, \"y\": {\"type\": \"quantitative\", \"axis\": {\"title\": \"pca_1\"}, \"field\": \"y_axis\"}}}], \"data\": {\"name\": \"data-34161eebc7e6103e8e00b60ac821ba4b\"}, \"height\": 300, \"width\": 300}, {\"layer\": [{\"mark\": {\"type\": \"circle\", \"size\": 60}, \"encoding\": {\"tooltip\": [{\"type\": \"nominal\", \"field\": \"name\"}, {\"type\": \"nominal\", \"field\": \"original\"}], \"x\": {\"type\": \"quantitative\", \"axis\": {\"title\": \"umap_0\"}, \"field\": \"x_axis\"}, \"y\": {\"type\": \"quantitative\", \"axis\": {\"title\": \"umap_1\"}, \"field\": \"y_axis\"}}, \"selection\": {\"selector015\": {\"type\": \"interval\", \"bind\": \"scales\", \"encodings\": [\"x\", \"y\"]}}, \"title\": \"umap_0 vs. umap_1\"}, {\"mark\": {\"type\": \"text\", \"color\": \"black\", \"dx\": -15, \"dy\": 3}, \"encoding\": {\"text\": {\"type\": \"nominal\", \"field\": \"original\"}, \"x\": {\"type\": \"quantitative\", \"axis\": {\"title\": \"umap_0\"}, \"field\": \"x_axis\"}, \"y\": {\"type\": \"quantitative\", \"axis\": {\"title\": \"umap_1\"}, \"field\": \"y_axis\"}}}], \"data\": {\"name\": \"data-52c1f752db2a63c001d356078f606383\"}, \"height\": 300, \"width\": 300}], \"$schema\": \"https://vega.github.io/schema/vega-lite/v4.0.2.json\", \"datasets\": {\"data-34161eebc7e6103e8e00b60ac821ba4b\": [{\"x_axis\": -1.2535821199417114, \"y_axis\": 3.586676597595215, \"name\": \"prince\", \"original\": \"prince\"}, {\"x_axis\": -0.9741005897521973, \"y_axis\": 3.7290642261505127, \"name\": \"princess\", \"original\": \"princess\"}, {\"x_axis\": -1.0501278638839722, \"y_axis\": -2.0268447399139404, \"name\": \"nurse\", \"original\": \"nurse\"}, {\"x_axis\": -0.9151343703269958, \"y_axis\": -2.0640790462493896, \"name\": \"doctor\", \"original\": \"doctor\"}, {\"x_axis\": 0.8430215716362, \"y_axis\": -0.06272825598716736, \"name\": \"banker\", \"original\": \"banker\"}, {\"x_axis\": -0.43132147192955017, \"y_axis\": -1.5975831747055054, \"name\": \"man\", \"original\": \"man\"}, {\"x_axis\": -1.073258876800537, \"y_axis\": -1.6417843103408813, \"name\": \"woman\", \"original\": \"woman\"}, {\"x_axis\": -3.006711006164551, \"y_axis\": 0.08844566345214844, \"name\": \"cousin\", \"original\": \"cousin\"}, {\"x_axis\": -3.256138563156128, \"y_axis\": -0.2640823423862457, \"name\": \"neice\", \"original\": \"neice\"}, {\"x_axis\": -0.8844128251075745, \"y_axis\": 4.284396648406982, \"name\": \"king\", \"original\": \"king\"}, {\"x_axis\": -0.9637596607208252, \"y_axis\": 3.8633878231048584, \"name\": \"queen\", \"original\": \"queen\"}, {\"x_axis\": -0.37136709690093994, \"y_axis\": -1.4314926862716675, \"name\": \"dude\", \"original\": \"dude\"}, {\"x_axis\": -0.33022043108940125, \"y_axis\": -2.0039174556732178, \"name\": \"guy\", \"original\": \"guy\"}, {\"x_axis\": 0.005235184449702501, \"y_axis\": -1.1506175994873047, \"name\": \"gal\", \"original\": \"gal\"}, {\"x_axis\": 2.1890616416931152, \"y_axis\": -0.3874746263027191, \"name\": \"fire\", \"original\": \"fire\"}, {\"x_axis\": 0.8451134562492371, \"y_axis\": -1.5011231899261475, \"name\": \"dog\", \"original\": \"dog\"}, {\"x_axis\": 0.9290971755981445, \"y_axis\": -0.6315348148345947, \"name\": \"cat\", \"original\": \"cat\"}, {\"x_axis\": 1.9717415571212769, \"y_axis\": 0.1653272807598114, \"name\": \"mouse\", \"original\": \"mouse\"}, {\"x_axis\": 3.6464710235595703, \"y_axis\": 0.8340242505073547, \"name\": \"red\", \"original\": \"red\"}, {\"x_axis\": 0.6217125654220581, \"y_axis\": -0.011615407653152943, \"name\": \"bluee\", \"original\": \"bluee\"}, {\"x_axis\": 4.070711135864258, \"y_axis\": 0.8428587913513184, \"name\": \"green\", \"original\": \"green\"}, {\"x_axis\": 3.9739019870758057, \"y_axis\": 0.8420842289924622, \"name\": \"yellow\", \"original\": \"yellow\"}, {\"x_axis\": 3.1992409229278564, \"y_axis\": -0.76308274269104, \"name\": \"water\", \"original\": \"water\"}, {\"x_axis\": -0.4370383024215698, \"y_axis\": -1.8055583238601685, \"name\": \"person\", \"original\": \"person\"}, {\"x_axis\": -1.5232115983963013, \"y_axis\": -0.6766523718833923, \"name\": \"family\", \"original\": \"family\"}, {\"x_axis\": -2.889375925064087, \"y_axis\": -0.0504235103726387, \"name\": \"brother\", \"original\": \"brother\"}, {\"x_axis\": -2.935547351837158, \"y_axis\": -0.16567137837409973, \"name\": \"sister\", \"original\": \"sister\"}, {\"x_axis\": 0.0, \"y_axis\": 0.0, \"name\": \"pca_2\", \"original\": \"pca_2\"}], \"data-52c1f752db2a63c001d356078f606383\": [{\"x_axis\": -3.5124354362487793, \"y_axis\": 4.162352561950684, \"name\": \"prince\", \"original\": \"prince\"}, {\"x_axis\": -4.112173080444336, \"y_axis\": 3.8549747467041016, \"name\": \"princess\", \"original\": \"princess\"}, {\"x_axis\": -2.517472982406616, \"y_axis\": 3.284545421600342, \"name\": \"nurse\", \"original\": \"nurse\"}, {\"x_axis\": -2.7008538246154785, \"y_axis\": 2.768869161605835, \"name\": \"doctor\", \"original\": \"doctor\"}, {\"x_axis\": -5.004579067230225, \"y_axis\": 1.7548115253448486, \"name\": \"banker\", \"original\": \"banker\"}, {\"x_axis\": -4.107402801513672, \"y_axis\": 1.0861294269561768, \"name\": \"man\", \"original\": \"man\"}, {\"x_axis\": -3.2791190147399902, \"y_axis\": 2.9917562007904053, \"name\": \"woman\", \"original\": \"woman\"}, {\"x_axis\": -4.7013444900512695, \"y_axis\": 2.9227752685546875, \"name\": \"cousin\", \"original\": \"cousin\"}, {\"x_axis\": -4.299141883850098, \"y_axis\": 3.142744541168213, \"name\": \"neice\", \"original\": \"neice\"}, {\"x_axis\": -3.8987667560577393, \"y_axis\": 4.549572944641113, \"name\": \"king\", \"original\": \"king\"}, {\"x_axis\": -4.172970771789551, \"y_axis\": 4.277510166168213, \"name\": \"queen\", \"original\": \"queen\"}, {\"x_axis\": -3.4013280868530273, \"y_axis\": 1.4507380723953247, \"name\": \"dude\", \"original\": \"dude\"}, {\"x_axis\": -3.7617805004119873, \"y_axis\": 1.7864001989364624, \"name\": \"guy\", \"original\": \"guy\"}, {\"x_axis\": -4.434903144836426, \"y_axis\": 2.3134303092956543, \"name\": \"gal\", \"original\": \"gal\"}, {\"x_axis\": -4.485660552978516, \"y_axis\": 0.5962796211242676, \"name\": \"fire\", \"original\": \"fire\"}, {\"x_axis\": -2.884521007537842, \"y_axis\": 2.0245754718780518, \"name\": \"dog\", \"original\": \"dog\"}, {\"x_axis\": -2.6612389087677, \"y_axis\": 1.595794677734375, \"name\": \"cat\", \"original\": \"cat\"}, {\"x_axis\": -2.7900476455688477, \"y_axis\": 1.0407456159591675, \"name\": \"mouse\", \"original\": \"mouse\"}, {\"x_axis\": -3.018948793411255, \"y_axis\": 0.13132251799106598, \"name\": \"red\", \"original\": \"red\"}, {\"x_axis\": -4.6628098487854, \"y_axis\": 1.299612283706665, \"name\": \"bluee\", \"original\": \"bluee\"}, {\"x_axis\": -3.5633227825164795, \"y_axis\": 0.1778898686170578, \"name\": \"green\", \"original\": \"green\"}, {\"x_axis\": -3.127549409866333, \"y_axis\": 0.4946957230567932, \"name\": \"yellow\", \"original\": \"yellow\"}, {\"x_axis\": -4.0959014892578125, \"y_axis\": 0.3415285348892212, \"name\": \"water\", \"original\": \"water\"}, {\"x_axis\": -4.049440383911133, \"y_axis\": 1.783280611038208, \"name\": \"person\", \"original\": \"person\"}, {\"x_axis\": -3.8789079189300537, \"y_axis\": 2.7418227195739746, \"name\": \"family\", \"original\": \"family\"}, {\"x_axis\": -3.6723387241363525, \"y_axis\": 2.3849875926971436, \"name\": \"brother\", \"original\": \"brother\"}, {\"x_axis\": -3.6647908687591553, \"y_axis\": 3.161151647567749, \"name\": \"sister\", \"original\": \"sister\"}]}}, {\"mode\": \"vega-lite\"});\n",
       "</script>"
      ],
      "text/plain": [
       "alt.HConcatChart(...)"
      ]
     },
     "execution_count": 19,
     "metadata": {},
     "output_type": "execute_result"
    }
   ],
   "source": [
    "s = 300\n",
    "pca_emb.plot_interactive('pca_0', 'pca_1').properties(width=s, height=s) | umap_emb.plot_interactive('umap_0', 'umap_1').properties(width=s, height=s)"
   ]
  },
  {
   "cell_type": "markdown",
   "metadata": {},
   "source": [
    "Note that we can increase the number of components and still only plot a few. "
   ]
  },
  {
   "cell_type": "code",
   "execution_count": 7,
   "metadata": {},
   "outputs": [
    {
     "data": {
      "text/html": [
       "\n",
       "<div id=\"altair-viz-8b21db0452f74108b3926755cd6058ab\"></div>\n",
       "<script type=\"text/javascript\">\n",
       "  (function(spec, embedOpt){\n",
       "    const outputDiv = document.getElementById(\"altair-viz-8b21db0452f74108b3926755cd6058ab\");\n",
       "    const paths = {\n",
       "      \"vega\": \"https://cdn.jsdelivr.net/npm//vega@5?noext\",\n",
       "      \"vega-lib\": \"https://cdn.jsdelivr.net/npm//vega-lib?noext\",\n",
       "      \"vega-lite\": \"https://cdn.jsdelivr.net/npm//vega-lite@4.0.2?noext\",\n",
       "      \"vega-embed\": \"https://cdn.jsdelivr.net/npm//vega-embed@6?noext\",\n",
       "    };\n",
       "\n",
       "    function loadScript(lib) {\n",
       "      return new Promise(function(resolve, reject) {\n",
       "        var s = document.createElement('script');\n",
       "        s.src = paths[lib];\n",
       "        s.async = true;\n",
       "        s.onload = () => resolve(paths[lib]);\n",
       "        s.onerror = () => reject(`Error loading script: ${paths[lib]}`);\n",
       "        document.getElementsByTagName(\"head\")[0].appendChild(s);\n",
       "      });\n",
       "    }\n",
       "\n",
       "    function showError(err) {\n",
       "      outputDiv.innerHTML = `<div class=\"error\" style=\"color:red;\">${err}</div>`;\n",
       "      throw err;\n",
       "    }\n",
       "\n",
       "    function displayChart(vegaEmbed) {\n",
       "      vegaEmbed(outputDiv, spec, embedOpt)\n",
       "        .catch(err => showError(`Javascript Error: ${err.message}<br>This usually means there's a typo in your chart specification. See the javascript console for the full traceback.`));\n",
       "    }\n",
       "\n",
       "    if(typeof define === \"function\" && define.amd) {\n",
       "      requirejs.config({paths});\n",
       "      require([\"vega-embed\"], displayChart, err => showError(`Error loading script: ${err.message}`));\n",
       "    } else if (typeof vegaEmbed === \"function\") {\n",
       "      displayChart(vegaEmbed);\n",
       "    } else {\n",
       "      loadScript(\"vega\")\n",
       "        .then(() => loadScript(\"vega-lite\"))\n",
       "        .then(() => loadScript(\"vega-embed\"))\n",
       "        .catch(showError)\n",
       "        .then(() => displayChart(vegaEmbed));\n",
       "    }\n",
       "  })({\"config\": {\"view\": {\"continuousWidth\": 400, \"continuousHeight\": 300}}, \"hconcat\": [{\"layer\": [{\"mark\": {\"type\": \"circle\", \"size\": 60}, \"encoding\": {\"tooltip\": [{\"type\": \"nominal\", \"field\": \"name\"}, {\"type\": \"nominal\", \"field\": \"original\"}], \"x\": {\"type\": \"quantitative\", \"axis\": {\"title\": \"pca_0\"}, \"field\": \"x_axis\"}, \"y\": {\"type\": \"quantitative\", \"axis\": {\"title\": \"pca_1\"}, \"field\": \"y_axis\"}}, \"selection\": {\"selector006\": {\"type\": \"interval\", \"bind\": \"scales\", \"encodings\": [\"x\", \"y\"]}}, \"title\": \"pca_0 vs. pca_1\"}, {\"mark\": {\"type\": \"text\", \"color\": \"black\", \"dx\": -15, \"dy\": 3}, \"encoding\": {\"text\": {\"type\": \"nominal\", \"field\": \"original\"}, \"x\": {\"type\": \"quantitative\", \"axis\": {\"title\": \"pca_0\"}, \"field\": \"x_axis\"}, \"y\": {\"type\": \"quantitative\", \"axis\": {\"title\": \"pca_1\"}, \"field\": \"y_axis\"}}}], \"data\": {\"name\": \"data-34161eebc7e6103e8e00b60ac821ba4b\"}}, {\"layer\": [{\"mark\": {\"type\": \"circle\", \"size\": 60}, \"encoding\": {\"tooltip\": [{\"type\": \"nominal\", \"field\": \"name\"}, {\"type\": \"nominal\", \"field\": \"original\"}], \"x\": {\"type\": \"quantitative\", \"axis\": {\"title\": \"pca_2\"}, \"field\": \"x_axis\"}, \"y\": {\"type\": \"quantitative\", \"axis\": {\"title\": \"pca_1\"}, \"field\": \"y_axis\"}}, \"selection\": {\"selector007\": {\"type\": \"interval\", \"bind\": \"scales\", \"encodings\": [\"x\", \"y\"]}}, \"title\": \"pca_2 vs. pca_1\"}, {\"mark\": {\"type\": \"text\", \"color\": \"black\", \"dx\": -15, \"dy\": 3}, \"encoding\": {\"text\": {\"type\": \"nominal\", \"field\": \"original\"}, \"x\": {\"type\": \"quantitative\", \"axis\": {\"title\": \"pca_2\"}, \"field\": \"x_axis\"}, \"y\": {\"type\": \"quantitative\", \"axis\": {\"title\": \"pca_1\"}, \"field\": \"y_axis\"}}}], \"data\": {\"name\": \"data-9f0900497201e19fb0785dd92e78e04e\"}}], \"$schema\": \"https://vega.github.io/schema/vega-lite/v4.0.2.json\", \"datasets\": {\"data-34161eebc7e6103e8e00b60ac821ba4b\": [{\"x_axis\": -1.2535821199417114, \"y_axis\": 3.586676597595215, \"name\": \"prince\", \"original\": \"prince\"}, {\"x_axis\": -0.9741005897521973, \"y_axis\": 3.7290642261505127, \"name\": \"princess\", \"original\": \"princess\"}, {\"x_axis\": -1.0501278638839722, \"y_axis\": -2.0268447399139404, \"name\": \"nurse\", \"original\": \"nurse\"}, {\"x_axis\": -0.9151343703269958, \"y_axis\": -2.0640790462493896, \"name\": \"doctor\", \"original\": \"doctor\"}, {\"x_axis\": 0.8430215716362, \"y_axis\": -0.06272825598716736, \"name\": \"banker\", \"original\": \"banker\"}, {\"x_axis\": -0.43132147192955017, \"y_axis\": -1.5975831747055054, \"name\": \"man\", \"original\": \"man\"}, {\"x_axis\": -1.073258876800537, \"y_axis\": -1.6417843103408813, \"name\": \"woman\", \"original\": \"woman\"}, {\"x_axis\": -3.006711006164551, \"y_axis\": 0.08844566345214844, \"name\": \"cousin\", \"original\": \"cousin\"}, {\"x_axis\": -3.256138563156128, \"y_axis\": -0.2640823423862457, \"name\": \"neice\", \"original\": \"neice\"}, {\"x_axis\": -0.8844128251075745, \"y_axis\": 4.284396648406982, \"name\": \"king\", \"original\": \"king\"}, {\"x_axis\": -0.9637596607208252, \"y_axis\": 3.8633878231048584, \"name\": \"queen\", \"original\": \"queen\"}, {\"x_axis\": -0.37136709690093994, \"y_axis\": -1.4314926862716675, \"name\": \"dude\", \"original\": \"dude\"}, {\"x_axis\": -0.33022043108940125, \"y_axis\": -2.0039174556732178, \"name\": \"guy\", \"original\": \"guy\"}, {\"x_axis\": 0.005235184449702501, \"y_axis\": -1.1506175994873047, \"name\": \"gal\", \"original\": \"gal\"}, {\"x_axis\": 2.1890616416931152, \"y_axis\": -0.3874746263027191, \"name\": \"fire\", \"original\": \"fire\"}, {\"x_axis\": 0.8451134562492371, \"y_axis\": -1.5011231899261475, \"name\": \"dog\", \"original\": \"dog\"}, {\"x_axis\": 0.9290971755981445, \"y_axis\": -0.6315348148345947, \"name\": \"cat\", \"original\": \"cat\"}, {\"x_axis\": 1.9717415571212769, \"y_axis\": 0.1653272807598114, \"name\": \"mouse\", \"original\": \"mouse\"}, {\"x_axis\": 3.6464710235595703, \"y_axis\": 0.8340242505073547, \"name\": \"red\", \"original\": \"red\"}, {\"x_axis\": 0.6217125654220581, \"y_axis\": -0.011615407653152943, \"name\": \"bluee\", \"original\": \"bluee\"}, {\"x_axis\": 4.070711135864258, \"y_axis\": 0.8428587913513184, \"name\": \"green\", \"original\": \"green\"}, {\"x_axis\": 3.9739019870758057, \"y_axis\": 0.8420842289924622, \"name\": \"yellow\", \"original\": \"yellow\"}, {\"x_axis\": 3.1992409229278564, \"y_axis\": -0.76308274269104, \"name\": \"water\", \"original\": \"water\"}, {\"x_axis\": -0.4370383024215698, \"y_axis\": -1.8055583238601685, \"name\": \"person\", \"original\": \"person\"}, {\"x_axis\": -1.5232115983963013, \"y_axis\": -0.6766523718833923, \"name\": \"family\", \"original\": \"family\"}, {\"x_axis\": -2.889375925064087, \"y_axis\": -0.0504235103726387, \"name\": \"brother\", \"original\": \"brother\"}, {\"x_axis\": -2.935547351837158, \"y_axis\": -0.16567137837409973, \"name\": \"sister\", \"original\": \"sister\"}, {\"x_axis\": 0.0, \"y_axis\": 0.0, \"name\": \"pca_2\", \"original\": \"pca_2\"}], \"data-9f0900497201e19fb0785dd92e78e04e\": [{\"x_axis\": 1.4101698398590088, \"y_axis\": 3.586676597595215, \"name\": \"prince\", \"original\": \"prince\"}, {\"x_axis\": -0.901466965675354, \"y_axis\": 3.7290642261505127, \"name\": \"princess\", \"original\": \"princess\"}, {\"x_axis\": -0.3621392846107483, \"y_axis\": -2.0268447399139404, \"name\": \"nurse\", \"original\": \"nurse\"}, {\"x_axis\": 0.6259651184082031, \"y_axis\": -2.0640790462493896, \"name\": \"doctor\", \"original\": \"doctor\"}, {\"x_axis\": 3.4233667850494385, \"y_axis\": -0.06272825598716736, \"name\": \"banker\", \"original\": \"banker\"}, {\"x_axis\": 2.392763376235962, \"y_axis\": -1.5975831747055054, \"name\": \"man\", \"original\": \"man\"}, {\"x_axis\": 0.78555828332901, \"y_axis\": -1.6417843103408813, \"name\": \"woman\", \"original\": \"woman\"}, {\"x_axis\": -1.788364291191101, \"y_axis\": 0.08844566345214844, \"name\": \"cousin\", \"original\": \"cousin\"}, {\"x_axis\": -2.4958081245422363, \"y_axis\": -0.2640823423862457, \"name\": \"neice\", \"original\": \"neice\"}, {\"x_axis\": 2.366339683532715, \"y_axis\": 4.284396648406982, \"name\": \"king\", \"original\": \"king\"}, {\"x_axis\": 0.6199108362197876, \"y_axis\": 3.8633878231048584, \"name\": \"queen\", \"original\": \"queen\"}, {\"x_axis\": 1.8008068799972534, \"y_axis\": -1.4314926862716675, \"name\": \"dude\", \"original\": \"dude\"}, {\"x_axis\": 1.8941237926483154, \"y_axis\": -2.0039174556732178, \"name\": \"guy\", \"original\": \"guy\"}, {\"x_axis\": -0.7789923548698425, \"y_axis\": -1.1506175994873047, \"name\": \"gal\", \"original\": \"gal\"}, {\"x_axis\": 1.607983112335205, \"y_axis\": -0.3874746263027191, \"name\": \"fire\", \"original\": \"fire\"}, {\"x_axis\": -1.3364670276641846, \"y_axis\": -1.5011231899261475, \"name\": \"dog\", \"original\": \"dog\"}, {\"x_axis\": -1.6327675580978394, \"y_axis\": -0.6315348148345947, \"name\": \"cat\", \"original\": \"cat\"}, {\"x_axis\": -1.6748226881027222, \"y_axis\": 0.1653272807598114, \"name\": \"mouse\", \"original\": \"mouse\"}, {\"x_axis\": -1.3793258666992188, \"y_axis\": 0.8340242505073547, \"name\": \"red\", \"original\": \"red\"}, {\"x_axis\": 0.22887346148490906, \"y_axis\": -0.011615407653152943, \"name\": \"bluee\", \"original\": \"bluee\"}, {\"x_axis\": -1.1082818508148193, \"y_axis\": 0.8428587913513184, \"name\": \"green\", \"original\": \"green\"}, {\"x_axis\": -1.7831952571868896, \"y_axis\": 0.8420842289924622, \"name\": \"yellow\", \"original\": \"yellow\"}, {\"x_axis\": 0.22754229605197906, \"y_axis\": -0.76308274269104, \"name\": \"water\", \"original\": \"water\"}, {\"x_axis\": 1.5558571815490723, \"y_axis\": -1.8055583238601685, \"name\": \"person\", \"original\": \"person\"}, {\"x_axis\": -0.9982203841209412, \"y_axis\": -0.6766523718833923, \"name\": \"family\", \"original\": \"family\"}, {\"x_axis\": -0.49075862765312195, \"y_axis\": -0.0504235103726387, \"name\": \"brother\", \"original\": \"brother\"}, {\"x_axis\": -2.2086501121520996, \"y_axis\": -0.16567137837409973, \"name\": \"sister\", \"original\": \"sister\"}, {\"x_axis\": 0.0, \"y_axis\": 0.0, \"name\": \"pca_0\", \"original\": \"pca_0\"}]}}, {\"mode\": \"vega-lite\"});\n",
       "</script>"
      ],
      "text/plain": [
       "alt.HConcatChart(...)"
      ]
     },
     "execution_count": 7,
     "metadata": {},
     "output_type": "execute_result"
    }
   ],
   "source": [
    "pca_emb = emb.transform(pca(3))\n",
    "\n",
    "pca_emb.plot_interactive('pca_0', 'pca_1') | pca_emb.plot_interactive('pca_2', 'pca_1')"
   ]
  },
  {
   "cell_type": "markdown",
   "metadata": {},
   "source": [
    "But why go with only two plots when you can have an entire matrix? "
   ]
  },
  {
   "cell_type": "code",
   "execution_count": 8,
   "metadata": {},
   "outputs": [
    {
     "data": {
      "text/html": [
       "\n",
       "<div id=\"altair-viz-5ddbd5afeb1143578c88c152e56b6f95\"></div>\n",
       "<script type=\"text/javascript\">\n",
       "  (function(spec, embedOpt){\n",
       "    const outputDiv = document.getElementById(\"altair-viz-5ddbd5afeb1143578c88c152e56b6f95\");\n",
       "    const paths = {\n",
       "      \"vega\": \"https://cdn.jsdelivr.net/npm//vega@5?noext\",\n",
       "      \"vega-lib\": \"https://cdn.jsdelivr.net/npm//vega-lib?noext\",\n",
       "      \"vega-lite\": \"https://cdn.jsdelivr.net/npm//vega-lite@4.0.2?noext\",\n",
       "      \"vega-embed\": \"https://cdn.jsdelivr.net/npm//vega-embed@6?noext\",\n",
       "    };\n",
       "\n",
       "    function loadScript(lib) {\n",
       "      return new Promise(function(resolve, reject) {\n",
       "        var s = document.createElement('script');\n",
       "        s.src = paths[lib];\n",
       "        s.async = true;\n",
       "        s.onload = () => resolve(paths[lib]);\n",
       "        s.onerror = () => reject(`Error loading script: ${paths[lib]}`);\n",
       "        document.getElementsByTagName(\"head\")[0].appendChild(s);\n",
       "      });\n",
       "    }\n",
       "\n",
       "    function showError(err) {\n",
       "      outputDiv.innerHTML = `<div class=\"error\" style=\"color:red;\">${err}</div>`;\n",
       "      throw err;\n",
       "    }\n",
       "\n",
       "    function displayChart(vegaEmbed) {\n",
       "      vegaEmbed(outputDiv, spec, embedOpt)\n",
       "        .catch(err => showError(`Javascript Error: ${err.message}<br>This usually means there's a typo in your chart specification. See the javascript console for the full traceback.`));\n",
       "    }\n",
       "\n",
       "    if(typeof define === \"function\" && define.amd) {\n",
       "      requirejs.config({paths});\n",
       "      require([\"vega-embed\"], displayChart, err => showError(`Error loading script: ${err.message}`));\n",
       "    } else if (typeof vegaEmbed === \"function\") {\n",
       "      displayChart(vegaEmbed);\n",
       "    } else {\n",
       "      loadScript(\"vega\")\n",
       "        .then(() => loadScript(\"vega-lite\"))\n",
       "        .then(() => loadScript(\"vega-embed\"))\n",
       "        .catch(showError)\n",
       "        .then(() => displayChart(vegaEmbed));\n",
       "    }\n",
       "  })({\"config\": {\"view\": {\"continuousWidth\": 400, \"continuousHeight\": 300}}, \"repeat\": {\"column\": [\"pca_0\", \"pca_1\", \"pca_2\"], \"row\": [\"pca_2\", \"pca_1\", \"pca_0\"]}, \"spec\": {\"layer\": [{\"mark\": \"circle\", \"encoding\": {\"text\": {\"type\": \"nominal\", \"field\": \"original\"}, \"tooltip\": [{\"type\": \"nominal\", \"field\": \"name\"}, {\"type\": \"nominal\", \"field\": \"original\"}], \"x\": {\"type\": \"quantitative\", \"field\": {\"repeat\": \"column\"}}, \"y\": {\"type\": \"quantitative\", \"field\": {\"repeat\": \"row\"}}}, \"selection\": {\"selector008\": {\"type\": \"interval\", \"bind\": \"scales\", \"encodings\": [\"x\", \"y\"]}}}, {\"mark\": {\"type\": \"text\", \"color\": \"black\", \"dx\": -15, \"dy\": 3}, \"encoding\": {\"text\": {\"type\": \"nominal\", \"field\": \"original\"}, \"tooltip\": [{\"type\": \"nominal\", \"field\": \"name\"}, {\"type\": \"nominal\", \"field\": \"original\"}], \"x\": {\"type\": \"quantitative\", \"field\": {\"repeat\": \"column\"}}, \"y\": {\"type\": \"quantitative\", \"field\": {\"repeat\": \"row\"}}}}], \"data\": {\"name\": \"data-ac1cd0032046acd832aa21b6b882d4c0\"}, \"height\": 200, \"width\": 200}, \"$schema\": \"https://vega.github.io/schema/vega-lite/v4.0.2.json\", \"datasets\": {\"data-ac1cd0032046acd832aa21b6b882d4c0\": [{\"pca_0\": -1.2535821199417114, \"pca_1\": 3.586676597595215, \"pca_2\": 1.4101698398590088, \"name\": \"prince\", \"original\": \"prince\"}, {\"pca_0\": -0.9741005897521973, \"pca_1\": 3.7290642261505127, \"pca_2\": -0.901466965675354, \"name\": \"princess\", \"original\": \"princess\"}, {\"pca_0\": -1.0501278638839722, \"pca_1\": -2.0268447399139404, \"pca_2\": -0.3621392846107483, \"name\": \"nurse\", \"original\": \"nurse\"}, {\"pca_0\": -0.9151343703269958, \"pca_1\": -2.0640790462493896, \"pca_2\": 0.6259651184082031, \"name\": \"doctor\", \"original\": \"doctor\"}, {\"pca_0\": 0.8430215716362, \"pca_1\": -0.06272825598716736, \"pca_2\": 3.4233667850494385, \"name\": \"banker\", \"original\": \"banker\"}, {\"pca_0\": -0.43132147192955017, \"pca_1\": -1.5975831747055054, \"pca_2\": 2.392763376235962, \"name\": \"man\", \"original\": \"man\"}, {\"pca_0\": -1.073258876800537, \"pca_1\": -1.6417843103408813, \"pca_2\": 0.78555828332901, \"name\": \"woman\", \"original\": \"woman\"}, {\"pca_0\": -3.006711006164551, \"pca_1\": 0.08844566345214844, \"pca_2\": -1.788364291191101, \"name\": \"cousin\", \"original\": \"cousin\"}, {\"pca_0\": -3.256138563156128, \"pca_1\": -0.2640823423862457, \"pca_2\": -2.4958081245422363, \"name\": \"neice\", \"original\": \"neice\"}, {\"pca_0\": -0.8844128251075745, \"pca_1\": 4.284396648406982, \"pca_2\": 2.366339683532715, \"name\": \"king\", \"original\": \"king\"}, {\"pca_0\": -0.9637596607208252, \"pca_1\": 3.8633878231048584, \"pca_2\": 0.6199108362197876, \"name\": \"queen\", \"original\": \"queen\"}, {\"pca_0\": -0.37136709690093994, \"pca_1\": -1.4314926862716675, \"pca_2\": 1.8008068799972534, \"name\": \"dude\", \"original\": \"dude\"}, {\"pca_0\": -0.33022043108940125, \"pca_1\": -2.0039174556732178, \"pca_2\": 1.8941237926483154, \"name\": \"guy\", \"original\": \"guy\"}, {\"pca_0\": 0.005235184449702501, \"pca_1\": -1.1506175994873047, \"pca_2\": -0.7789923548698425, \"name\": \"gal\", \"original\": \"gal\"}, {\"pca_0\": 2.1890616416931152, \"pca_1\": -0.3874746263027191, \"pca_2\": 1.607983112335205, \"name\": \"fire\", \"original\": \"fire\"}, {\"pca_0\": 0.8451134562492371, \"pca_1\": -1.5011231899261475, \"pca_2\": -1.3364670276641846, \"name\": \"dog\", \"original\": \"dog\"}, {\"pca_0\": 0.9290971755981445, \"pca_1\": -0.6315348148345947, \"pca_2\": -1.6327675580978394, \"name\": \"cat\", \"original\": \"cat\"}, {\"pca_0\": 1.9717415571212769, \"pca_1\": 0.1653272807598114, \"pca_2\": -1.6748226881027222, \"name\": \"mouse\", \"original\": \"mouse\"}, {\"pca_0\": 3.6464710235595703, \"pca_1\": 0.8340242505073547, \"pca_2\": -1.3793258666992188, \"name\": \"red\", \"original\": \"red\"}, {\"pca_0\": 0.6217125654220581, \"pca_1\": -0.011615407653152943, \"pca_2\": 0.22887346148490906, \"name\": \"bluee\", \"original\": \"bluee\"}, {\"pca_0\": 4.070711135864258, \"pca_1\": 0.8428587913513184, \"pca_2\": -1.1082818508148193, \"name\": \"green\", \"original\": \"green\"}, {\"pca_0\": 3.9739019870758057, \"pca_1\": 0.8420842289924622, \"pca_2\": -1.7831952571868896, \"name\": \"yellow\", \"original\": \"yellow\"}, {\"pca_0\": 3.1992409229278564, \"pca_1\": -0.76308274269104, \"pca_2\": 0.22754229605197906, \"name\": \"water\", \"original\": \"water\"}, {\"pca_0\": -0.4370383024215698, \"pca_1\": -1.8055583238601685, \"pca_2\": 1.5558571815490723, \"name\": \"person\", \"original\": \"person\"}, {\"pca_0\": -1.5232115983963013, \"pca_1\": -0.6766523718833923, \"pca_2\": -0.9982203841209412, \"name\": \"family\", \"original\": \"family\"}, {\"pca_0\": -2.889375925064087, \"pca_1\": -0.0504235103726387, \"pca_2\": -0.49075862765312195, \"name\": \"brother\", \"original\": \"brother\"}, {\"pca_0\": -2.935547351837158, \"pca_1\": -0.16567137837409973, \"pca_2\": -2.2086501121520996, \"name\": \"sister\", \"original\": \"sister\"}]}}, {\"mode\": \"vega-lite\"});\n",
       "</script>"
      ],
      "text/plain": [
       "alt.RepeatChart(...)"
      ]
     },
     "execution_count": 8,
     "metadata": {},
     "output_type": "execute_result"
    }
   ],
   "source": [
    "pca_emb.plot_interactive_matrix('pca_0', 'pca_1', 'pca_2', annot=True)"
   ]
  },
  {
   "cell_type": "markdown",
   "metadata": {},
   "source": [
    "What is particularily interesting here is the pca axes. They seem to encode information and can we attempt an understanding by glancing at it.\n",
    "\n",
    "But the overlap makes it hard to read. So let's apply one more transformation here."
   ]
  },
  {
   "cell_type": "code",
   "execution_count": 9,
   "metadata": {},
   "outputs": [
    {
     "data": {
      "text/html": [
       "\n",
       "<div id=\"altair-viz-65736fe2662542928641a10a762f4934\"></div>\n",
       "<script type=\"text/javascript\">\n",
       "  (function(spec, embedOpt){\n",
       "    const outputDiv = document.getElementById(\"altair-viz-65736fe2662542928641a10a762f4934\");\n",
       "    const paths = {\n",
       "      \"vega\": \"https://cdn.jsdelivr.net/npm//vega@5?noext\",\n",
       "      \"vega-lib\": \"https://cdn.jsdelivr.net/npm//vega-lib?noext\",\n",
       "      \"vega-lite\": \"https://cdn.jsdelivr.net/npm//vega-lite@4.0.2?noext\",\n",
       "      \"vega-embed\": \"https://cdn.jsdelivr.net/npm//vega-embed@6?noext\",\n",
       "    };\n",
       "\n",
       "    function loadScript(lib) {\n",
       "      return new Promise(function(resolve, reject) {\n",
       "        var s = document.createElement('script');\n",
       "        s.src = paths[lib];\n",
       "        s.async = true;\n",
       "        s.onload = () => resolve(paths[lib]);\n",
       "        s.onerror = () => reject(`Error loading script: ${paths[lib]}`);\n",
       "        document.getElementsByTagName(\"head\")[0].appendChild(s);\n",
       "      });\n",
       "    }\n",
       "\n",
       "    function showError(err) {\n",
       "      outputDiv.innerHTML = `<div class=\"error\" style=\"color:red;\">${err}</div>`;\n",
       "      throw err;\n",
       "    }\n",
       "\n",
       "    function displayChart(vegaEmbed) {\n",
       "      vegaEmbed(outputDiv, spec, embedOpt)\n",
       "        .catch(err => showError(`Javascript Error: ${err.message}<br>This usually means there's a typo in your chart specification. See the javascript console for the full traceback.`));\n",
       "    }\n",
       "\n",
       "    if(typeof define === \"function\" && define.amd) {\n",
       "      requirejs.config({paths});\n",
       "      require([\"vega-embed\"], displayChart, err => showError(`Error loading script: ${err.message}`));\n",
       "    } else if (typeof vegaEmbed === \"function\") {\n",
       "      displayChart(vegaEmbed);\n",
       "    } else {\n",
       "      loadScript(\"vega\")\n",
       "        .then(() => loadScript(\"vega-lite\"))\n",
       "        .then(() => loadScript(\"vega-embed\"))\n",
       "        .catch(showError)\n",
       "        .then(() => displayChart(vegaEmbed));\n",
       "    }\n",
       "  })({\"config\": {\"view\": {\"continuousWidth\": 400, \"continuousHeight\": 300}}, \"repeat\": {\"column\": [\"king\", \"queen\", \"man\", \"woman\"], \"row\": [\"woman\", \"man\", \"queen\", \"king\"]}, \"spec\": {\"layer\": [{\"mark\": \"circle\", \"encoding\": {\"text\": {\"type\": \"nominal\", \"field\": \"original\"}, \"tooltip\": [{\"type\": \"nominal\", \"field\": \"name\"}, {\"type\": \"nominal\", \"field\": \"original\"}], \"x\": {\"type\": \"quantitative\", \"field\": {\"repeat\": \"column\"}}, \"y\": {\"type\": \"quantitative\", \"field\": {\"repeat\": \"row\"}}}, \"selection\": {\"selector009\": {\"type\": \"interval\", \"bind\": \"scales\", \"encodings\": [\"x\", \"y\"]}}}, {\"mark\": {\"type\": \"text\", \"color\": \"black\", \"dx\": -15, \"dy\": 3}, \"encoding\": {\"text\": {\"type\": \"nominal\", \"field\": \"original\"}, \"tooltip\": [{\"type\": \"nominal\", \"field\": \"name\"}, {\"type\": \"nominal\", \"field\": \"original\"}], \"x\": {\"type\": \"quantitative\", \"field\": {\"repeat\": \"column\"}}, \"y\": {\"type\": \"quantitative\", \"field\": {\"repeat\": \"row\"}}}}], \"data\": {\"name\": \"data-55f102e15795747443dbb6c654a08f6a\"}, \"height\": 200, \"width\": 200}, \"$schema\": \"https://vega.github.io/schema/vega-lite/v4.0.2.json\", \"datasets\": {\"data-55f102e15795747443dbb6c654a08f6a\": [{\"king\": 0.9572302056039282, \"queen\": 0.6239630089802192, \"man\": -0.17707934189846525, \"woman\": -0.24013706892643388, \"name\": \"prince\", \"original\": \"prince\"}, {\"king\": 0.5646705075982588, \"queen\": 0.5192783891507605, \"man\": -0.8422445162466442, \"woman\": -0.7815038227154221, \"name\": \"princess\", \"original\": \"princess\"}, {\"king\": -0.36584193979538293, \"queen\": -0.24039425634501255, \"man\": 0.03375482486822386, \"woman\": 0.05054058654200992, \"name\": \"nurse\", \"original\": \"nurse\"}, {\"king\": -0.48468048288400584, \"queen\": -0.387911203485704, \"man\": 0.48922968996706445, \"woman\": 0.4813142694216796, \"name\": \"doctor\", \"original\": \"doctor\"}, {\"king\": -0.23754478641770135, \"queen\": -0.3370997833477575, \"man\": 0.5735755689956499, \"woman\": 0.42076629538893706, \"name\": \"banker\", \"original\": \"banker\"}, {\"king\": -0.2452479949853683, \"queen\": 0.11281144972990681, \"man\": -0.38952282768316665, \"woman\": -0.0712448411486783, \"name\": \"cousin\", \"original\": \"cousin\"}, {\"king\": -0.34173262922092845, \"queen\": 0.08066860361939658, \"man\": -0.37647744909082137, \"woman\": -0.011573376180873198, \"name\": \"neice\", \"original\": \"neice\"}, {\"king\": -0.01726158767334547, \"queen\": -0.025126511450017902, \"man\": 0.30268938470340706, \"woman\": 0.32732101131069224, \"name\": \"dude\", \"original\": \"dude\"}, {\"king\": -0.7370554612787887, \"queen\": -0.6233609017060843, \"man\": 0.7931024203800147, \"woman\": 0.7433943578475067, \"name\": \"guy\", \"original\": \"guy\"}, {\"king\": -0.15891886625201337, \"queen\": -0.08568044442806375, \"man\": -0.050878642097724476, \"woman\": -0.027812671271017875, \"name\": \"gal\", \"original\": \"gal\"}, {\"king\": -0.18324284127733603, \"queen\": -0.20015733531596788, \"man\": 0.005800956766884933, \"woman\": -0.09353246078832415, \"name\": \"fire\", \"original\": \"fire\"}, {\"king\": -0.4340106865915252, \"queen\": -0.3262658040477861, \"man\": 0.28027188285747057, \"woman\": 0.27915361977265835, \"name\": \"dog\", \"original\": \"dog\"}, {\"king\": -0.6718979755054332, \"queen\": -0.4641831300236342, \"man\": 0.095418719246724, \"woman\": 0.10073296960025672, \"name\": \"cat\", \"original\": \"cat\"}, {\"king\": -0.2700819144738418, \"queen\": -0.17055902808031673, \"man\": -0.2061540813492796, \"woman\": -0.2169399479298008, \"name\": \"mouse\", \"original\": \"mouse\"}, {\"king\": -0.02642894278172356, \"queen\": 0.040073899349975864, \"man\": -1.0087210627722838, \"woman\": -1.0727213968004359, \"name\": \"red\", \"original\": \"red\"}, {\"king\": 0.19397070979192454, \"queen\": 0.05827918698038592, \"man\": 0.1398240012275275, \"woman\": 0.06091474866114479, \"name\": \"bluee\", \"original\": \"bluee\"}, {\"king\": -0.22062783352740156, \"queen\": -0.0904287630240568, \"man\": -0.7455098885344659, \"woman\": -0.7700812655544205, \"name\": \"green\", \"original\": \"green\"}, {\"king\": 0.209361012305237, \"queen\": 0.13666590638357595, \"man\": -0.5442990234946997, \"woman\": -0.6286759579012117, \"name\": \"yellow\", \"original\": \"yellow\"}, {\"king\": 0.028524095320071975, \"queen\": -0.08915751208761617, \"man\": -0.1414466616637607, \"woman\": -0.30587646505275823, \"name\": \"water\", \"original\": \"water\"}, {\"king\": 0.0909555096798396, \"queen\": -0.1319935811658983, \"man\": 0.8738141296218588, \"woman\": 0.7379375314715992, \"name\": \"person\", \"original\": \"person\"}, {\"king\": -0.189805506765932, \"queen\": 0.14997210023808075, \"man\": -0.6981640153134576, \"woman\": -0.4239918041299105, \"name\": \"family\", \"original\": \"family\"}, {\"king\": -0.02491687157210467, \"queen\": 0.0836064292794219, \"man\": -0.011847600017833505, \"woman\": 0.12043487373644267, \"name\": \"brother\", \"original\": \"brother\"}, {\"king\": -0.6354842490680974, \"queen\": -0.2628525809969163, \"man\": 0.12379631571398952, \"woman\": 0.3680980223962014, \"name\": \"sister\", \"original\": \"sister\"}, {\"king\": 0.20286712586056277, \"queen\": 0.16931001928946418, \"man\": -0.43685179434010474, \"woman\": -0.4568110877977042, \"name\": \"pca_0\", \"original\": \"pca_0\"}, {\"king\": 0.2286345344934496, \"queen\": 0.13155628518178078, \"man\": 0.1309176553247885, \"woman\": 0.11685780110343662, \"name\": \"pca_1\", \"original\": \"pca_1\"}, {\"king\": 0.056292070916209115, \"queen\": -0.0739678180765396, \"man\": 0.340572986889654, \"woman\": 0.23870394229422737, \"name\": \"pca_2\", \"original\": \"pca_2\"}]}}, {\"mode\": \"vega-lite\"});\n",
       "</script>"
      ],
      "text/plain": [
       "alt.RepeatChart(...)"
      ]
     },
     "execution_count": 9,
     "metadata": {},
     "output_type": "execute_result"
    }
   ],
   "source": [
    "from whatlies.transformers import noise \n",
    "\n",
    "(emb\n",
    " .transform(pca(3))\n",
    " .transform(noise(1))\n",
    " .plot_interactive_matrix('king', 'queen', 'man', 'woman', annot=True, width=200, height=200))"
   ]
  },
  {
   "cell_type": "code",
   "execution_count": null,
   "metadata": {},
   "outputs": [],
   "source": []
  },
  {
   "cell_type": "code",
   "execution_count": null,
   "metadata": {},
   "outputs": [],
   "source": []
  }
 ],
 "metadata": {
  "kernelspec": {
   "display_name": "Python 3",
   "language": "python",
   "name": "python3"
  },
  "language_info": {
   "codemirror_mode": {
    "name": "ipython",
    "version": 3
   },
   "file_extension": ".py",
   "mimetype": "text/x-python",
   "name": "python",
   "nbconvert_exporter": "python",
   "pygments_lexer": "ipython3",
   "version": "3.7.3"
  }
 },
 "nbformat": 4,
 "nbformat_minor": 4
}
