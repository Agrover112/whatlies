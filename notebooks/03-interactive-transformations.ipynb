{
 "cells": [
  {
   "cell_type": "code",
   "execution_count": 1,
   "metadata": {},
   "outputs": [
    {
     "name": "stdout",
     "output_type": "stream",
     "text": [
      "The history saving thread hit an unexpected error (OperationalError('attempt to write a readonly database')).History will not be written to the database.\n"
     ]
    }
   ],
   "source": [
    "%load_ext autoreload\n",
    "%autoreload 2"
   ]
  },
  {
   "cell_type": "code",
   "execution_count": 2,
   "metadata": {},
   "outputs": [],
   "source": [
    "from whatlies import Embedding, EmbeddingSet\n",
    "import spacy "
   ]
  },
  {
   "cell_type": "markdown",
   "metadata": {},
   "source": [
    "## Making Plots ... More Cool \n",
    "\n",
    "The `Embedding` object merely has support for matplotlib, but the `EmbeddingSet` has support for Altair too! You can plot this interactively by just passing the names of the tokens you'd like to see."
   ]
  },
  {
   "cell_type": "code",
   "execution_count": 3,
   "metadata": {},
   "outputs": [],
   "source": [
    "nlp = spacy.load(\"en_core_web_md\")\n",
    "words = [\"prince\", \"princess\", \"nurse\", \"doctor\", \"banker\", \"man\", \"woman\", \n",
    "         \"cousin\", \"neice\", \"king\", \"queen\", \"dude\", \"guy\", \"gal\", \"fire\", \n",
    "         \"dog\", \"cat\", \"mouse\", \"red\", \"bluee\", \"green\", \"yellow\", \"water\", \n",
    "         \"person\", \"family\", \"brother\", \"sister\"]\n",
    "emb = EmbeddingSet({t.text: Embedding(t.text, t.vector) for t in nlp.pipe(words)})"
   ]
  },
  {
   "cell_type": "code",
   "execution_count": 8,
   "metadata": {},
   "outputs": [
    {
     "data": {
      "text/html": [
       "\n",
       "<div id=\"altair-viz-6024233dc35a4612bf986e5b2e4f3551\"></div>\n",
       "<script type=\"text/javascript\">\n",
       "  (function(spec, embedOpt){\n",
       "    const outputDiv = document.getElementById(\"altair-viz-6024233dc35a4612bf986e5b2e4f3551\");\n",
       "    const paths = {\n",
       "      \"vega\": \"https://cdn.jsdelivr.net/npm//vega@5?noext\",\n",
       "      \"vega-lib\": \"https://cdn.jsdelivr.net/npm//vega-lib?noext\",\n",
       "      \"vega-lite\": \"https://cdn.jsdelivr.net/npm//vega-lite@4.0.2?noext\",\n",
       "      \"vega-embed\": \"https://cdn.jsdelivr.net/npm//vega-embed@6?noext\",\n",
       "    };\n",
       "\n",
       "    function loadScript(lib) {\n",
       "      return new Promise(function(resolve, reject) {\n",
       "        var s = document.createElement('script');\n",
       "        s.src = paths[lib];\n",
       "        s.async = true;\n",
       "        s.onload = () => resolve(paths[lib]);\n",
       "        s.onerror = () => reject(`Error loading script: ${paths[lib]}`);\n",
       "        document.getElementsByTagName(\"head\")[0].appendChild(s);\n",
       "      });\n",
       "    }\n",
       "\n",
       "    function showError(err) {\n",
       "      outputDiv.innerHTML = `<div class=\"error\" style=\"color:red;\">${err}</div>`;\n",
       "      throw err;\n",
       "    }\n",
       "\n",
       "    function displayChart(vegaEmbed) {\n",
       "      vegaEmbed(outputDiv, spec, embedOpt)\n",
       "        .catch(err => showError(`Javascript Error: ${err.message}<br>This usually means there's a typo in your chart specification. See the javascript console for the full traceback.`));\n",
       "    }\n",
       "\n",
       "    if(typeof define === \"function\" && define.amd) {\n",
       "      requirejs.config({paths});\n",
       "      require([\"vega-embed\"], displayChart, err => showError(`Error loading script: ${err.message}`));\n",
       "    } else if (typeof vegaEmbed === \"function\") {\n",
       "      displayChart(vegaEmbed);\n",
       "    } else {\n",
       "      loadScript(\"vega\")\n",
       "        .then(() => loadScript(\"vega-lite\"))\n",
       "        .then(() => loadScript(\"vega-embed\"))\n",
       "        .catch(showError)\n",
       "        .then(() => displayChart(vegaEmbed));\n",
       "    }\n",
       "  })({\"config\": {\"view\": {\"continuousWidth\": 400, \"continuousHeight\": 300}}, \"layer\": [{\"mark\": {\"type\": \"circle\", \"size\": 60}, \"encoding\": {\"tooltip\": [{\"type\": \"nominal\", \"field\": \"name\"}, {\"type\": \"nominal\", \"field\": \"original\"}], \"x\": {\"type\": \"quantitative\", \"axis\": {\"title\": \"(man | (king - queen))\"}, \"field\": \"x_axis\"}, \"y\": {\"type\": \"quantitative\", \"axis\": {\"title\": \"(woman | (king - queen))\"}, \"field\": \"y_axis\"}}, \"selection\": {\"selector002\": {\"type\": \"interval\", \"bind\": \"scales\", \"encodings\": [\"x\", \"y\"]}}, \"title\": \"(man | (king - queen)) vs. (woman | (king - queen))\"}, {\"mark\": {\"type\": \"text\", \"color\": \"black\", \"dx\": -15, \"dy\": 3}, \"encoding\": {\"text\": {\"type\": \"nominal\", \"field\": \"original\"}, \"x\": {\"type\": \"quantitative\", \"axis\": {\"title\": \"(man | (king - queen))\"}, \"field\": \"x_axis\"}, \"y\": {\"type\": \"quantitative\", \"axis\": {\"title\": \"(woman | (king - queen))\"}, \"field\": \"y_axis\"}}}], \"data\": {\"name\": \"data-5ef8856a00a327788b3c3840144bb429\"}, \"$schema\": \"https://vega.github.io/schema/vega-lite/v4.0.2.json\", \"datasets\": {\"data-5ef8856a00a327788b3c3840144bb429\": [{\"x_axis\": 0.3721413016319275, \"y_axis\": 0.37740591168403625, \"name\": \"(prince | (king - queen))\", \"original\": \"prince\"}, {\"x_axis\": 0.32078519463539124, \"y_axis\": 0.3907199800014496, \"name\": \"(princess | (king - queen))\", \"original\": \"princess\"}, {\"x_axis\": 0.38499051332473755, \"y_axis\": 0.5041420459747314, \"name\": \"(nurse | (king - queen))\", \"original\": \"nurse\"}, {\"x_axis\": 0.46731048822402954, \"y_axis\": 0.5102049708366394, \"name\": \"(doctor | (king - queen))\", \"original\": \"doctor\"}, {\"x_axis\": 0.1731649786233902, \"y_axis\": 0.11744287610054016, \"name\": \"(banker | (king - queen))\", \"original\": \"banker\"}, {\"x_axis\": 0.3942609429359436, \"y_axis\": 0.3473650813102722, \"name\": \"(cousin | (king - queen))\", \"original\": \"cousin\"}, {\"x_axis\": 0.3400344252586365, \"y_axis\": 0.39806586503982544, \"name\": \"(neice | (king - queen))\", \"original\": \"neice\"}, {\"x_axis\": 0.3779345750808716, \"y_axis\": 0.3594277501106262, \"name\": \"(king | (king - queen))\", \"original\": \"king\"}, {\"x_axis\": 0.3779345750808716, \"y_axis\": 0.35942772030830383, \"name\": \"(queen | (king - queen))\", \"original\": \"queen\"}, {\"x_axis\": 0.6412995457649231, \"y_axis\": 0.3981958031654358, \"name\": \"(dude | (king - queen))\", \"original\": \"dude\"}, {\"x_axis\": 0.6984968185424805, \"y_axis\": 0.5187848806381226, \"name\": \"(guy | (king - queen))\", \"original\": \"guy\"}, {\"x_axis\": 0.3681216537952423, \"y_axis\": 0.32252824306488037, \"name\": \"(gal | (king - queen))\", \"original\": \"gal\"}, {\"x_axis\": 0.46388524770736694, \"y_axis\": 0.3355717957019806, \"name\": \"(fire | (king - queen))\", \"original\": \"fire\"}, {\"x_axis\": 0.47540125250816345, \"y_axis\": 0.4186546504497528, \"name\": \"(dog | (king - queen))\", \"original\": \"dog\"}, {\"x_axis\": 0.398105651140213, \"y_axis\": 0.3522307574748993, \"name\": \"(cat | (king - queen))\", \"original\": \"cat\"}, {\"x_axis\": 0.22983808815479279, \"y_axis\": 0.187143474817276, \"name\": \"(mouse | (king - queen))\", \"original\": \"mouse\"}, {\"x_axis\": 0.3163382112979889, \"y_axis\": 0.30910223722457886, \"name\": \"(red | (king - queen))\", \"original\": \"red\"}, {\"x_axis\": 0.0, \"y_axis\": 0.0, \"name\": \"(bluee | (king - queen))\", \"original\": \"bluee\"}, {\"x_axis\": 0.26152005791664124, \"y_axis\": 0.2223435342311859, \"name\": \"(green | (king - queen))\", \"original\": \"green\"}, {\"x_axis\": 0.29196789860725403, \"y_axis\": 0.253030925989151, \"name\": \"(yellow | (king - queen))\", \"original\": \"yellow\"}, {\"x_axis\": 0.34176596999168396, \"y_axis\": 0.2832501232624054, \"name\": \"(water | (king - queen))\", \"original\": \"water\"}, {\"x_axis\": 0.5559191107749939, \"y_axis\": 0.5214522480964661, \"name\": \"(person | (king - queen))\", \"original\": \"person\"}, {\"x_axis\": 0.3543766736984253, \"y_axis\": 0.35514166951179504, \"name\": \"(family | (king - queen))\", \"original\": \"family\"}, {\"x_axis\": 0.5562112927436829, \"y_axis\": 0.4427803158760071, \"name\": \"(brother | (king - queen))\", \"original\": \"brother\"}, {\"x_axis\": 0.40646934509277344, \"y_axis\": 0.46244552731513977, \"name\": \"(sister | (king - queen))\", \"original\": \"sister\"}]}}, {\"mode\": \"vega-lite\"});\n",
       "</script>"
      ],
      "text/plain": [
       "alt.LayerChart(...)"
      ]
     },
     "execution_count": 8,
     "metadata": {},
     "output_type": "execute_result"
    }
   ],
   "source": [
    "new_chart"
   ]
  },
  {
   "cell_type": "code",
   "execution_count": 4,
   "metadata": {},
   "outputs": [],
   "source": [
    "orig_chart = emb.plot_interactive('man', 'woman')\n",
    "\n",
    "new_ts = emb | (emb['king'] - emb['queen'])\n",
    "new_chart = new_ts.plot_interactive('man', 'woman')"
   ]
  },
  {
   "cell_type": "markdown",
   "metadata": {},
   "source": [
    "Note that altair has a convenient syntax for plotting two charts next to eachother. This is really cool when you want to compare. Feel free to zoom in and play as well!"
   ]
  },
  {
   "cell_type": "code",
   "execution_count": 5,
   "metadata": {},
   "outputs": [
    {
     "data": {
      "text/html": [
       "\n",
       "<div id=\"altair-viz-7b40483589ac4058a8dc2ca0cff5c591\"></div>\n",
       "<script type=\"text/javascript\">\n",
       "  (function(spec, embedOpt){\n",
       "    const outputDiv = document.getElementById(\"altair-viz-7b40483589ac4058a8dc2ca0cff5c591\");\n",
       "    const paths = {\n",
       "      \"vega\": \"https://cdn.jsdelivr.net/npm//vega@5?noext\",\n",
       "      \"vega-lib\": \"https://cdn.jsdelivr.net/npm//vega-lib?noext\",\n",
       "      \"vega-lite\": \"https://cdn.jsdelivr.net/npm//vega-lite@4.0.2?noext\",\n",
       "      \"vega-embed\": \"https://cdn.jsdelivr.net/npm//vega-embed@6?noext\",\n",
       "    };\n",
       "\n",
       "    function loadScript(lib) {\n",
       "      return new Promise(function(resolve, reject) {\n",
       "        var s = document.createElement('script');\n",
       "        s.src = paths[lib];\n",
       "        s.async = true;\n",
       "        s.onload = () => resolve(paths[lib]);\n",
       "        s.onerror = () => reject(`Error loading script: ${paths[lib]}`);\n",
       "        document.getElementsByTagName(\"head\")[0].appendChild(s);\n",
       "      });\n",
       "    }\n",
       "\n",
       "    function showError(err) {\n",
       "      outputDiv.innerHTML = `<div class=\"error\" style=\"color:red;\">${err}</div>`;\n",
       "      throw err;\n",
       "    }\n",
       "\n",
       "    function displayChart(vegaEmbed) {\n",
       "      vegaEmbed(outputDiv, spec, embedOpt)\n",
       "        .catch(err => showError(`Javascript Error: ${err.message}<br>This usually means there's a typo in your chart specification. See the javascript console for the full traceback.`));\n",
       "    }\n",
       "\n",
       "    if(typeof define === \"function\" && define.amd) {\n",
       "      requirejs.config({paths});\n",
       "      require([\"vega-embed\"], displayChart, err => showError(`Error loading script: ${err.message}`));\n",
       "    } else if (typeof vegaEmbed === \"function\") {\n",
       "      displayChart(vegaEmbed);\n",
       "    } else {\n",
       "      loadScript(\"vega\")\n",
       "        .then(() => loadScript(\"vega-lite\"))\n",
       "        .then(() => loadScript(\"vega-embed\"))\n",
       "        .catch(showError)\n",
       "        .then(() => displayChart(vegaEmbed));\n",
       "    }\n",
       "  })({\"config\": {\"view\": {\"continuousWidth\": 400, \"continuousHeight\": 300}}, \"hconcat\": [{\"layer\": [{\"mark\": {\"type\": \"circle\", \"size\": 60}, \"encoding\": {\"tooltip\": [{\"type\": \"nominal\", \"field\": \"name\"}, {\"type\": \"nominal\", \"field\": \"original\"}], \"x\": {\"type\": \"quantitative\", \"axis\": {\"title\": \"man\"}, \"field\": \"x_axis\"}, \"y\": {\"type\": \"quantitative\", \"axis\": {\"title\": \"woman\"}, \"field\": \"y_axis\"}}, \"selection\": {\"selector001\": {\"type\": \"interval\", \"bind\": \"scales\", \"encodings\": [\"x\", \"y\"]}}, \"title\": \"man vs. woman\"}, {\"mark\": {\"type\": \"text\", \"color\": \"black\", \"dx\": -15, \"dy\": 3}, \"encoding\": {\"text\": {\"type\": \"nominal\", \"field\": \"original\"}, \"x\": {\"type\": \"quantitative\", \"axis\": {\"title\": \"man\"}, \"field\": \"x_axis\"}, \"y\": {\"type\": \"quantitative\", \"axis\": {\"title\": \"woman\"}, \"field\": \"y_axis\"}}}], \"data\": {\"name\": \"data-15774a1af3e17e7d98478860e09ed029\"}}, {\"layer\": [{\"mark\": {\"type\": \"circle\", \"size\": 60}, \"encoding\": {\"tooltip\": [{\"type\": \"nominal\", \"field\": \"name\"}, {\"type\": \"nominal\", \"field\": \"original\"}], \"x\": {\"type\": \"quantitative\", \"axis\": {\"title\": \"(man | (king - queen))\"}, \"field\": \"x_axis\"}, \"y\": {\"type\": \"quantitative\", \"axis\": {\"title\": \"(woman | (king - queen))\"}, \"field\": \"y_axis\"}}, \"selection\": {\"selector002\": {\"type\": \"interval\", \"bind\": \"scales\", \"encodings\": [\"x\", \"y\"]}}, \"title\": \"(man | (king - queen)) vs. (woman | (king - queen))\"}, {\"mark\": {\"type\": \"text\", \"color\": \"black\", \"dx\": -15, \"dy\": 3}, \"encoding\": {\"text\": {\"type\": \"nominal\", \"field\": \"original\"}, \"x\": {\"type\": \"quantitative\", \"axis\": {\"title\": \"(man | (king - queen))\"}, \"field\": \"x_axis\"}, \"y\": {\"type\": \"quantitative\", \"axis\": {\"title\": \"(woman | (king - queen))\"}, \"field\": \"y_axis\"}}}], \"data\": {\"name\": \"data-5ef8856a00a327788b3c3840144bb429\"}}], \"$schema\": \"https://vega.github.io/schema/vega-lite/v4.0.2.json\", \"datasets\": {\"data-15774a1af3e17e7d98478860e09ed029\": [{\"x_axis\": 0.40951526165008545, \"y_axis\": 0.3261851966381073, \"name\": \"prince\", \"original\": \"prince\"}, {\"x_axis\": 0.27098548412323, \"y_axis\": 0.4069218039512634, \"name\": \"princess\", \"original\": \"princess\"}, {\"x_axis\": 0.3271060585975647, \"y_axis\": 0.5211429595947266, \"name\": \"nurse\", \"original\": \"nurse\"}, {\"x_axis\": 0.4489893317222595, \"y_axis\": 0.4943573474884033, \"name\": \"doctor\", \"original\": \"doctor\"}, {\"x_axis\": 0.19353565573692322, \"y_axis\": 0.09302382916212082, \"name\": \"banker\", \"original\": \"banker\"}, {\"x_axis\": 0.38155144453048706, \"y_axis\": 0.33430397510528564, \"name\": \"cousin\", \"original\": \"cousin\"}, {\"x_axis\": 0.29427674412727356, \"y_axis\": 0.41036874055862427, \"name\": \"neice\", \"original\": \"neice\"}, {\"x_axis\": 0.45961007475852966, \"y_axis\": 0.27491992712020874, \"name\": \"king\", \"original\": \"king\"}, {\"x_axis\": 0.2914373576641083, \"y_axis\": 0.40253907442092896, \"name\": \"queen\", \"original\": \"queen\"}, {\"x_axis\": 0.6322574615478516, \"y_axis\": 0.37293168902397156, \"name\": \"dude\", \"original\": \"dude\"}, {\"x_axis\": 0.689598560333252, \"y_axis\": 0.4880948066711426, \"name\": \"guy\", \"original\": \"guy\"}, {\"x_axis\": 0.30102455615997314, \"y_axis\": 0.3522968888282776, \"name\": \"gal\", \"original\": \"gal\"}, {\"x_axis\": 0.4537816643714905, \"y_axis\": 0.31863078474998474, \"name\": \"fire\", \"original\": \"fire\"}, {\"x_axis\": 0.4621913731098175, \"y_axis\": 0.4013059139251709, \"name\": \"dog\", \"original\": \"dog\"}, {\"x_axis\": 0.3758322596549988, \"y_axis\": 0.34616324305534363, \"name\": \"cat\", \"original\": \"cat\"}, {\"x_axis\": 0.2176199108362198, \"y_axis\": 0.18362130224704742, \"name\": \"mouse\", \"original\": \"mouse\"}, {\"x_axis\": 0.2972288429737091, \"y_axis\": 0.3045094907283783, \"name\": \"red\", \"original\": \"red\"}, {\"x_axis\": 0.0, \"y_axis\": 0.0, \"name\": \"bluee\", \"original\": \"bluee\"}, {\"x_axis\": 0.25164204835891724, \"y_axis\": 0.215010866522789, \"name\": \"green\", \"original\": \"green\"}, {\"x_axis\": 0.2725669741630554, \"y_axis\": 0.25106003880500793, \"name\": \"yellow\", \"original\": \"yellow\"}, {\"x_axis\": 0.335124671459198, \"y_axis\": 0.2691221237182617, \"name\": \"water\", \"original\": \"water\"}, {\"x_axis\": 0.538722574710846, \"y_axis\": 0.5015737414360046, \"name\": \"person\", \"original\": \"person\"}, {\"x_axis\": 0.3436667323112488, \"y_axis\": 0.3416234254837036, \"name\": \"family\", \"original\": \"family\"}, {\"x_axis\": 0.5816835165023804, \"y_axis\": 0.39277997612953186, \"name\": \"brother\", \"original\": \"brother\"}, {\"x_axis\": 0.3568364381790161, \"y_axis\": 0.4736946225166321, \"name\": \"sister\", \"original\": \"sister\"}], \"data-5ef8856a00a327788b3c3840144bb429\": [{\"x_axis\": 0.3721413016319275, \"y_axis\": 0.37740591168403625, \"name\": \"(prince | (king - queen))\", \"original\": \"prince\"}, {\"x_axis\": 0.32078519463539124, \"y_axis\": 0.3907199800014496, \"name\": \"(princess | (king - queen))\", \"original\": \"princess\"}, {\"x_axis\": 0.38499051332473755, \"y_axis\": 0.5041420459747314, \"name\": \"(nurse | (king - queen))\", \"original\": \"nurse\"}, {\"x_axis\": 0.46731048822402954, \"y_axis\": 0.5102049708366394, \"name\": \"(doctor | (king - queen))\", \"original\": \"doctor\"}, {\"x_axis\": 0.1731649786233902, \"y_axis\": 0.11744287610054016, \"name\": \"(banker | (king - queen))\", \"original\": \"banker\"}, {\"x_axis\": 0.3942609429359436, \"y_axis\": 0.3473650813102722, \"name\": \"(cousin | (king - queen))\", \"original\": \"cousin\"}, {\"x_axis\": 0.3400344252586365, \"y_axis\": 0.39806586503982544, \"name\": \"(neice | (king - queen))\", \"original\": \"neice\"}, {\"x_axis\": 0.3779345750808716, \"y_axis\": 0.3594277501106262, \"name\": \"(king | (king - queen))\", \"original\": \"king\"}, {\"x_axis\": 0.3779345750808716, \"y_axis\": 0.35942772030830383, \"name\": \"(queen | (king - queen))\", \"original\": \"queen\"}, {\"x_axis\": 0.6412995457649231, \"y_axis\": 0.3981958031654358, \"name\": \"(dude | (king - queen))\", \"original\": \"dude\"}, {\"x_axis\": 0.6984968185424805, \"y_axis\": 0.5187848806381226, \"name\": \"(guy | (king - queen))\", \"original\": \"guy\"}, {\"x_axis\": 0.3681216537952423, \"y_axis\": 0.32252824306488037, \"name\": \"(gal | (king - queen))\", \"original\": \"gal\"}, {\"x_axis\": 0.46388524770736694, \"y_axis\": 0.3355717957019806, \"name\": \"(fire | (king - queen))\", \"original\": \"fire\"}, {\"x_axis\": 0.47540125250816345, \"y_axis\": 0.4186546504497528, \"name\": \"(dog | (king - queen))\", \"original\": \"dog\"}, {\"x_axis\": 0.398105651140213, \"y_axis\": 0.3522307574748993, \"name\": \"(cat | (king - queen))\", \"original\": \"cat\"}, {\"x_axis\": 0.22983808815479279, \"y_axis\": 0.187143474817276, \"name\": \"(mouse | (king - queen))\", \"original\": \"mouse\"}, {\"x_axis\": 0.3163382112979889, \"y_axis\": 0.30910223722457886, \"name\": \"(red | (king - queen))\", \"original\": \"red\"}, {\"x_axis\": 0.0, \"y_axis\": 0.0, \"name\": \"(bluee | (king - queen))\", \"original\": \"bluee\"}, {\"x_axis\": 0.26152005791664124, \"y_axis\": 0.2223435342311859, \"name\": \"(green | (king - queen))\", \"original\": \"green\"}, {\"x_axis\": 0.29196789860725403, \"y_axis\": 0.253030925989151, \"name\": \"(yellow | (king - queen))\", \"original\": \"yellow\"}, {\"x_axis\": 0.34176596999168396, \"y_axis\": 0.2832501232624054, \"name\": \"(water | (king - queen))\", \"original\": \"water\"}, {\"x_axis\": 0.5559191107749939, \"y_axis\": 0.5214522480964661, \"name\": \"(person | (king - queen))\", \"original\": \"person\"}, {\"x_axis\": 0.3543766736984253, \"y_axis\": 0.35514166951179504, \"name\": \"(family | (king - queen))\", \"original\": \"family\"}, {\"x_axis\": 0.5562112927436829, \"y_axis\": 0.4427803158760071, \"name\": \"(brother | (king - queen))\", \"original\": \"brother\"}, {\"x_axis\": 0.40646934509277344, \"y_axis\": 0.46244552731513977, \"name\": \"(sister | (king - queen))\", \"original\": \"sister\"}]}}, {\"mode\": \"vega-lite\"});\n",
       "</script>"
      ],
      "text/plain": [
       "alt.HConcatChart(...)"
      ]
     },
     "execution_count": 5,
     "metadata": {},
     "output_type": "execute_result"
    }
   ],
   "source": [
    "orig_chart | new_chart"
   ]
  },
  {
   "cell_type": "markdown",
   "metadata": {},
   "source": [
    "The charts that we output here are from the Altair library. This means that you can, among other things, customise the size if you prefer."
   ]
  },
  {
   "cell_type": "code",
   "execution_count": 9,
   "metadata": {},
   "outputs": [
    {
     "data": {
      "text/html": [
       "\n",
       "<div id=\"altair-viz-5a85879b04d54bf09f49eb5c9ee25302\"></div>\n",
       "<script type=\"text/javascript\">\n",
       "  (function(spec, embedOpt){\n",
       "    const outputDiv = document.getElementById(\"altair-viz-5a85879b04d54bf09f49eb5c9ee25302\");\n",
       "    const paths = {\n",
       "      \"vega\": \"https://cdn.jsdelivr.net/npm//vega@5?noext\",\n",
       "      \"vega-lib\": \"https://cdn.jsdelivr.net/npm//vega-lib?noext\",\n",
       "      \"vega-lite\": \"https://cdn.jsdelivr.net/npm//vega-lite@4.0.2?noext\",\n",
       "      \"vega-embed\": \"https://cdn.jsdelivr.net/npm//vega-embed@6?noext\",\n",
       "    };\n",
       "\n",
       "    function loadScript(lib) {\n",
       "      return new Promise(function(resolve, reject) {\n",
       "        var s = document.createElement('script');\n",
       "        s.src = paths[lib];\n",
       "        s.async = true;\n",
       "        s.onload = () => resolve(paths[lib]);\n",
       "        s.onerror = () => reject(`Error loading script: ${paths[lib]}`);\n",
       "        document.getElementsByTagName(\"head\")[0].appendChild(s);\n",
       "      });\n",
       "    }\n",
       "\n",
       "    function showError(err) {\n",
       "      outputDiv.innerHTML = `<div class=\"error\" style=\"color:red;\">${err}</div>`;\n",
       "      throw err;\n",
       "    }\n",
       "\n",
       "    function displayChart(vegaEmbed) {\n",
       "      vegaEmbed(outputDiv, spec, embedOpt)\n",
       "        .catch(err => showError(`Javascript Error: ${err.message}<br>This usually means there's a typo in your chart specification. See the javascript console for the full traceback.`));\n",
       "    }\n",
       "\n",
       "    if(typeof define === \"function\" && define.amd) {\n",
       "      requirejs.config({paths});\n",
       "      require([\"vega-embed\"], displayChart, err => showError(`Error loading script: ${err.message}`));\n",
       "    } else if (typeof vegaEmbed === \"function\") {\n",
       "      displayChart(vegaEmbed);\n",
       "    } else {\n",
       "      loadScript(\"vega\")\n",
       "        .then(() => loadScript(\"vega-lite\"))\n",
       "        .then(() => loadScript(\"vega-embed\"))\n",
       "        .catch(showError)\n",
       "        .then(() => displayChart(vegaEmbed));\n",
       "    }\n",
       "  })({\"config\": {\"view\": {\"continuousWidth\": 400, \"continuousHeight\": 300}}, \"hconcat\": [{\"layer\": [{\"mark\": {\"type\": \"circle\", \"size\": 60}, \"encoding\": {\"tooltip\": [{\"type\": \"nominal\", \"field\": \"name\"}, {\"type\": \"nominal\", \"field\": \"original\"}], \"x\": {\"type\": \"quantitative\", \"axis\": {\"title\": \"man\"}, \"field\": \"x_axis\"}, \"y\": {\"type\": \"quantitative\", \"axis\": {\"title\": \"woman\"}, \"field\": \"y_axis\"}}, \"selection\": {\"selector001\": {\"type\": \"interval\", \"bind\": \"scales\", \"encodings\": [\"x\", \"y\"]}}, \"title\": \"man vs. woman\"}, {\"mark\": {\"type\": \"text\", \"color\": \"black\", \"dx\": -15, \"dy\": 3}, \"encoding\": {\"text\": {\"type\": \"nominal\", \"field\": \"original\"}, \"x\": {\"type\": \"quantitative\", \"axis\": {\"title\": \"man\"}, \"field\": \"x_axis\"}, \"y\": {\"type\": \"quantitative\", \"axis\": {\"title\": \"woman\"}, \"field\": \"y_axis\"}}}], \"data\": {\"name\": \"data-15774a1af3e17e7d98478860e09ed029\"}, \"height\": 250, \"width\": 250}, {\"layer\": [{\"mark\": {\"type\": \"circle\", \"size\": 60}, \"encoding\": {\"tooltip\": [{\"type\": \"nominal\", \"field\": \"name\"}, {\"type\": \"nominal\", \"field\": \"original\"}], \"x\": {\"type\": \"quantitative\", \"axis\": {\"title\": \"(man | (king - queen))\"}, \"field\": \"x_axis\"}, \"y\": {\"type\": \"quantitative\", \"axis\": {\"title\": \"(woman | (king - queen))\"}, \"field\": \"y_axis\"}}, \"selection\": {\"selector002\": {\"type\": \"interval\", \"bind\": \"scales\", \"encodings\": [\"x\", \"y\"]}}, \"title\": \"(man | (king - queen)) vs. (woman | (king - queen))\"}, {\"mark\": {\"type\": \"text\", \"color\": \"black\", \"dx\": -15, \"dy\": 3}, \"encoding\": {\"text\": {\"type\": \"nominal\", \"field\": \"original\"}, \"x\": {\"type\": \"quantitative\", \"axis\": {\"title\": \"(man | (king - queen))\"}, \"field\": \"x_axis\"}, \"y\": {\"type\": \"quantitative\", \"axis\": {\"title\": \"(woman | (king - queen))\"}, \"field\": \"y_axis\"}}}], \"data\": {\"name\": \"data-5ef8856a00a327788b3c3840144bb429\"}, \"height\": 250, \"width\": 250}], \"$schema\": \"https://vega.github.io/schema/vega-lite/v4.0.2.json\", \"datasets\": {\"data-15774a1af3e17e7d98478860e09ed029\": [{\"x_axis\": 0.40951526165008545, \"y_axis\": 0.3261851966381073, \"name\": \"prince\", \"original\": \"prince\"}, {\"x_axis\": 0.27098548412323, \"y_axis\": 0.4069218039512634, \"name\": \"princess\", \"original\": \"princess\"}, {\"x_axis\": 0.3271060585975647, \"y_axis\": 0.5211429595947266, \"name\": \"nurse\", \"original\": \"nurse\"}, {\"x_axis\": 0.4489893317222595, \"y_axis\": 0.4943573474884033, \"name\": \"doctor\", \"original\": \"doctor\"}, {\"x_axis\": 0.19353565573692322, \"y_axis\": 0.09302382916212082, \"name\": \"banker\", \"original\": \"banker\"}, {\"x_axis\": 0.38155144453048706, \"y_axis\": 0.33430397510528564, \"name\": \"cousin\", \"original\": \"cousin\"}, {\"x_axis\": 0.29427674412727356, \"y_axis\": 0.41036874055862427, \"name\": \"neice\", \"original\": \"neice\"}, {\"x_axis\": 0.45961007475852966, \"y_axis\": 0.27491992712020874, \"name\": \"king\", \"original\": \"king\"}, {\"x_axis\": 0.2914373576641083, \"y_axis\": 0.40253907442092896, \"name\": \"queen\", \"original\": \"queen\"}, {\"x_axis\": 0.6322574615478516, \"y_axis\": 0.37293168902397156, \"name\": \"dude\", \"original\": \"dude\"}, {\"x_axis\": 0.689598560333252, \"y_axis\": 0.4880948066711426, \"name\": \"guy\", \"original\": \"guy\"}, {\"x_axis\": 0.30102455615997314, \"y_axis\": 0.3522968888282776, \"name\": \"gal\", \"original\": \"gal\"}, {\"x_axis\": 0.4537816643714905, \"y_axis\": 0.31863078474998474, \"name\": \"fire\", \"original\": \"fire\"}, {\"x_axis\": 0.4621913731098175, \"y_axis\": 0.4013059139251709, \"name\": \"dog\", \"original\": \"dog\"}, {\"x_axis\": 0.3758322596549988, \"y_axis\": 0.34616324305534363, \"name\": \"cat\", \"original\": \"cat\"}, {\"x_axis\": 0.2176199108362198, \"y_axis\": 0.18362130224704742, \"name\": \"mouse\", \"original\": \"mouse\"}, {\"x_axis\": 0.2972288429737091, \"y_axis\": 0.3045094907283783, \"name\": \"red\", \"original\": \"red\"}, {\"x_axis\": 0.0, \"y_axis\": 0.0, \"name\": \"bluee\", \"original\": \"bluee\"}, {\"x_axis\": 0.25164204835891724, \"y_axis\": 0.215010866522789, \"name\": \"green\", \"original\": \"green\"}, {\"x_axis\": 0.2725669741630554, \"y_axis\": 0.25106003880500793, \"name\": \"yellow\", \"original\": \"yellow\"}, {\"x_axis\": 0.335124671459198, \"y_axis\": 0.2691221237182617, \"name\": \"water\", \"original\": \"water\"}, {\"x_axis\": 0.538722574710846, \"y_axis\": 0.5015737414360046, \"name\": \"person\", \"original\": \"person\"}, {\"x_axis\": 0.3436667323112488, \"y_axis\": 0.3416234254837036, \"name\": \"family\", \"original\": \"family\"}, {\"x_axis\": 0.5816835165023804, \"y_axis\": 0.39277997612953186, \"name\": \"brother\", \"original\": \"brother\"}, {\"x_axis\": 0.3568364381790161, \"y_axis\": 0.4736946225166321, \"name\": \"sister\", \"original\": \"sister\"}], \"data-5ef8856a00a327788b3c3840144bb429\": [{\"x_axis\": 0.3721413016319275, \"y_axis\": 0.37740591168403625, \"name\": \"(prince | (king - queen))\", \"original\": \"prince\"}, {\"x_axis\": 0.32078519463539124, \"y_axis\": 0.3907199800014496, \"name\": \"(princess | (king - queen))\", \"original\": \"princess\"}, {\"x_axis\": 0.38499051332473755, \"y_axis\": 0.5041420459747314, \"name\": \"(nurse | (king - queen))\", \"original\": \"nurse\"}, {\"x_axis\": 0.46731048822402954, \"y_axis\": 0.5102049708366394, \"name\": \"(doctor | (king - queen))\", \"original\": \"doctor\"}, {\"x_axis\": 0.1731649786233902, \"y_axis\": 0.11744287610054016, \"name\": \"(banker | (king - queen))\", \"original\": \"banker\"}, {\"x_axis\": 0.3942609429359436, \"y_axis\": 0.3473650813102722, \"name\": \"(cousin | (king - queen))\", \"original\": \"cousin\"}, {\"x_axis\": 0.3400344252586365, \"y_axis\": 0.39806586503982544, \"name\": \"(neice | (king - queen))\", \"original\": \"neice\"}, {\"x_axis\": 0.3779345750808716, \"y_axis\": 0.3594277501106262, \"name\": \"(king | (king - queen))\", \"original\": \"king\"}, {\"x_axis\": 0.3779345750808716, \"y_axis\": 0.35942772030830383, \"name\": \"(queen | (king - queen))\", \"original\": \"queen\"}, {\"x_axis\": 0.6412995457649231, \"y_axis\": 0.3981958031654358, \"name\": \"(dude | (king - queen))\", \"original\": \"dude\"}, {\"x_axis\": 0.6984968185424805, \"y_axis\": 0.5187848806381226, \"name\": \"(guy | (king - queen))\", \"original\": \"guy\"}, {\"x_axis\": 0.3681216537952423, \"y_axis\": 0.32252824306488037, \"name\": \"(gal | (king - queen))\", \"original\": \"gal\"}, {\"x_axis\": 0.46388524770736694, \"y_axis\": 0.3355717957019806, \"name\": \"(fire | (king - queen))\", \"original\": \"fire\"}, {\"x_axis\": 0.47540125250816345, \"y_axis\": 0.4186546504497528, \"name\": \"(dog | (king - queen))\", \"original\": \"dog\"}, {\"x_axis\": 0.398105651140213, \"y_axis\": 0.3522307574748993, \"name\": \"(cat | (king - queen))\", \"original\": \"cat\"}, {\"x_axis\": 0.22983808815479279, \"y_axis\": 0.187143474817276, \"name\": \"(mouse | (king - queen))\", \"original\": \"mouse\"}, {\"x_axis\": 0.3163382112979889, \"y_axis\": 0.30910223722457886, \"name\": \"(red | (king - queen))\", \"original\": \"red\"}, {\"x_axis\": 0.0, \"y_axis\": 0.0, \"name\": \"(bluee | (king - queen))\", \"original\": \"bluee\"}, {\"x_axis\": 0.26152005791664124, \"y_axis\": 0.2223435342311859, \"name\": \"(green | (king - queen))\", \"original\": \"green\"}, {\"x_axis\": 0.29196789860725403, \"y_axis\": 0.253030925989151, \"name\": \"(yellow | (king - queen))\", \"original\": \"yellow\"}, {\"x_axis\": 0.34176596999168396, \"y_axis\": 0.2832501232624054, \"name\": \"(water | (king - queen))\", \"original\": \"water\"}, {\"x_axis\": 0.5559191107749939, \"y_axis\": 0.5214522480964661, \"name\": \"(person | (king - queen))\", \"original\": \"person\"}, {\"x_axis\": 0.3543766736984253, \"y_axis\": 0.35514166951179504, \"name\": \"(family | (king - queen))\", \"original\": \"family\"}, {\"x_axis\": 0.5562112927436829, \"y_axis\": 0.4427803158760071, \"name\": \"(brother | (king - queen))\", \"original\": \"brother\"}, {\"x_axis\": 0.40646934509277344, \"y_axis\": 0.46244552731513977, \"name\": \"(sister | (king - queen))\", \"original\": \"sister\"}]}}, {\"mode\": \"vega-lite\"});\n",
       "</script>"
      ],
      "text/plain": [
       "alt.HConcatChart(...)"
      ]
     },
     "execution_count": 9,
     "metadata": {},
     "output_type": "execute_result"
    }
   ],
   "source": [
    "s = 250\n",
    "(orig_chart.properties(width=s, height=s) | new_chart.properties(width=s, height=s))"
   ]
  },
  {
   "cell_type": "markdown",
   "metadata": {},
   "source": [
    "## Transformations\n",
    "\n",
    "There's something extra too. Sofar we're been mapping vectors unto other ones in order to plot them. But theoretically we could go a step further."
   ]
  },
  {
   "cell_type": "code",
   "execution_count": 20,
   "metadata": {},
   "outputs": [
    {
     "data": {
      "text/html": [
       "\n",
       "<div id=\"altair-viz-19e777403f6d425e924a9cce0e10a847\"></div>\n",
       "<script type=\"text/javascript\">\n",
       "  (function(spec, embedOpt){\n",
       "    const outputDiv = document.getElementById(\"altair-viz-19e777403f6d425e924a9cce0e10a847\");\n",
       "    const paths = {\n",
       "      \"vega\": \"https://cdn.jsdelivr.net/npm//vega@5?noext\",\n",
       "      \"vega-lib\": \"https://cdn.jsdelivr.net/npm//vega-lib?noext\",\n",
       "      \"vega-lite\": \"https://cdn.jsdelivr.net/npm//vega-lite@4.0.2?noext\",\n",
       "      \"vega-embed\": \"https://cdn.jsdelivr.net/npm//vega-embed@6?noext\",\n",
       "    };\n",
       "\n",
       "    function loadScript(lib) {\n",
       "      return new Promise(function(resolve, reject) {\n",
       "        var s = document.createElement('script');\n",
       "        s.src = paths[lib];\n",
       "        s.async = true;\n",
       "        s.onload = () => resolve(paths[lib]);\n",
       "        s.onerror = () => reject(`Error loading script: ${paths[lib]}`);\n",
       "        document.getElementsByTagName(\"head\")[0].appendChild(s);\n",
       "      });\n",
       "    }\n",
       "\n",
       "    function showError(err) {\n",
       "      outputDiv.innerHTML = `<div class=\"error\" style=\"color:red;\">${err}</div>`;\n",
       "      throw err;\n",
       "    }\n",
       "\n",
       "    function displayChart(vegaEmbed) {\n",
       "      vegaEmbed(outputDiv, spec, embedOpt)\n",
       "        .catch(err => showError(`Javascript Error: ${err.message}<br>This usually means there's a typo in your chart specification. See the javascript console for the full traceback.`));\n",
       "    }\n",
       "\n",
       "    if(typeof define === \"function\" && define.amd) {\n",
       "      requirejs.config({paths});\n",
       "      require([\"vega-embed\"], displayChart, err => showError(`Error loading script: ${err.message}`));\n",
       "    } else if (typeof vegaEmbed === \"function\") {\n",
       "      displayChart(vegaEmbed);\n",
       "    } else {\n",
       "      loadScript(\"vega\")\n",
       "        .then(() => loadScript(\"vega-lite\"))\n",
       "        .then(() => loadScript(\"vega-embed\"))\n",
       "        .catch(showError)\n",
       "        .then(() => displayChart(vegaEmbed));\n",
       "    }\n",
       "  })({\"config\": {\"view\": {\"continuousWidth\": 400, \"continuousHeight\": 300}}, \"hconcat\": [{\"layer\": [{\"mark\": {\"type\": \"circle\", \"size\": 60}, \"encoding\": {\"tooltip\": [{\"type\": \"nominal\", \"field\": \"name\"}, {\"type\": \"nominal\", \"field\": \"original\"}], \"x\": {\"type\": \"quantitative\", \"axis\": {\"title\": \"pca_0\"}, \"field\": \"x_axis\"}, \"y\": {\"type\": \"quantitative\", \"axis\": {\"title\": \"pca_1\"}, \"field\": \"y_axis\"}}, \"selection\": {\"selector030\": {\"type\": \"interval\", \"bind\": \"scales\", \"encodings\": [\"x\", \"y\"]}}, \"title\": \"pca_0 vs. pca_1\"}, {\"mark\": {\"type\": \"text\", \"color\": \"black\", \"dx\": -15, \"dy\": 3}, \"encoding\": {\"text\": {\"type\": \"nominal\", \"field\": \"original\"}, \"x\": {\"type\": \"quantitative\", \"axis\": {\"title\": \"pca_0\"}, \"field\": \"x_axis\"}, \"y\": {\"type\": \"quantitative\", \"axis\": {\"title\": \"pca_1\"}, \"field\": \"y_axis\"}}}], \"data\": {\"name\": \"data-023be08e4818ac6f62d973b255b15b9a\"}, \"height\": 250, \"width\": 250}, {\"layer\": [{\"mark\": {\"type\": \"circle\", \"size\": 60}, \"encoding\": {\"tooltip\": [{\"type\": \"nominal\", \"field\": \"name\"}, {\"type\": \"nominal\", \"field\": \"original\"}], \"x\": {\"type\": \"quantitative\", \"axis\": {\"title\": \"umap_0\"}, \"field\": \"x_axis\"}, \"y\": {\"type\": \"quantitative\", \"axis\": {\"title\": \"umap_1\"}, \"field\": \"y_axis\"}}, \"selection\": {\"selector031\": {\"type\": \"interval\", \"bind\": \"scales\", \"encodings\": [\"x\", \"y\"]}}, \"title\": \"umap_0 vs. umap_1\"}, {\"mark\": {\"type\": \"text\", \"color\": \"black\", \"dx\": -15, \"dy\": 3}, \"encoding\": {\"text\": {\"type\": \"nominal\", \"field\": \"original\"}, \"x\": {\"type\": \"quantitative\", \"axis\": {\"title\": \"umap_0\"}, \"field\": \"x_axis\"}, \"y\": {\"type\": \"quantitative\", \"axis\": {\"title\": \"umap_1\"}, \"field\": \"y_axis\"}}}], \"data\": {\"name\": \"data-26be6f5dfb2f6c1839c1e9f5146865b7\"}, \"height\": 250, \"width\": 250}], \"$schema\": \"https://vega.github.io/schema/vega-lite/v4.0.2.json\", \"datasets\": {\"data-023be08e4818ac6f62d973b255b15b9a\": [{\"x_axis\": -1.2535821199417114, \"y_axis\": 3.586676597595215, \"name\": \"prince\", \"original\": \"prince\"}, {\"x_axis\": -0.9741005897521973, \"y_axis\": 3.7290642261505127, \"name\": \"princess\", \"original\": \"princess\"}, {\"x_axis\": -1.0501278638839722, \"y_axis\": -2.0268447399139404, \"name\": \"nurse\", \"original\": \"nurse\"}, {\"x_axis\": -0.9151343703269958, \"y_axis\": -2.0640790462493896, \"name\": \"doctor\", \"original\": \"doctor\"}, {\"x_axis\": 0.8430215716362, \"y_axis\": -0.06272825598716736, \"name\": \"banker\", \"original\": \"banker\"}, {\"x_axis\": -0.43132147192955017, \"y_axis\": -1.5975831747055054, \"name\": \"man\", \"original\": \"man\"}, {\"x_axis\": -1.073258876800537, \"y_axis\": -1.6417843103408813, \"name\": \"woman\", \"original\": \"woman\"}, {\"x_axis\": -3.006711006164551, \"y_axis\": 0.08844566345214844, \"name\": \"cousin\", \"original\": \"cousin\"}, {\"x_axis\": -3.256138563156128, \"y_axis\": -0.2640823423862457, \"name\": \"neice\", \"original\": \"neice\"}, {\"x_axis\": -0.8844128251075745, \"y_axis\": 4.284396648406982, \"name\": \"king\", \"original\": \"king\"}, {\"x_axis\": -0.9637596607208252, \"y_axis\": 3.8633878231048584, \"name\": \"queen\", \"original\": \"queen\"}, {\"x_axis\": -0.37136709690093994, \"y_axis\": -1.4314926862716675, \"name\": \"dude\", \"original\": \"dude\"}, {\"x_axis\": -0.33022043108940125, \"y_axis\": -2.0039174556732178, \"name\": \"guy\", \"original\": \"guy\"}, {\"x_axis\": 0.005235184449702501, \"y_axis\": -1.1506175994873047, \"name\": \"gal\", \"original\": \"gal\"}, {\"x_axis\": 2.1890616416931152, \"y_axis\": -0.3874746263027191, \"name\": \"fire\", \"original\": \"fire\"}, {\"x_axis\": 0.8451134562492371, \"y_axis\": -1.5011231899261475, \"name\": \"dog\", \"original\": \"dog\"}, {\"x_axis\": 0.9290971755981445, \"y_axis\": -0.6315348148345947, \"name\": \"cat\", \"original\": \"cat\"}, {\"x_axis\": 1.9717415571212769, \"y_axis\": 0.1653272807598114, \"name\": \"mouse\", \"original\": \"mouse\"}, {\"x_axis\": 3.6464710235595703, \"y_axis\": 0.8340242505073547, \"name\": \"red\", \"original\": \"red\"}, {\"x_axis\": 0.6217125654220581, \"y_axis\": -0.011615407653152943, \"name\": \"bluee\", \"original\": \"bluee\"}, {\"x_axis\": 4.070711135864258, \"y_axis\": 0.8428587913513184, \"name\": \"green\", \"original\": \"green\"}, {\"x_axis\": 3.9739019870758057, \"y_axis\": 0.8420842289924622, \"name\": \"yellow\", \"original\": \"yellow\"}, {\"x_axis\": 3.1992409229278564, \"y_axis\": -0.76308274269104, \"name\": \"water\", \"original\": \"water\"}, {\"x_axis\": -0.4370383024215698, \"y_axis\": -1.8055583238601685, \"name\": \"person\", \"original\": \"person\"}, {\"x_axis\": -1.5232115983963013, \"y_axis\": -0.6766523718833923, \"name\": \"family\", \"original\": \"family\"}, {\"x_axis\": -2.889375925064087, \"y_axis\": -0.0504235103726387, \"name\": \"brother\", \"original\": \"brother\"}, {\"x_axis\": -2.935547351837158, \"y_axis\": -0.16567137837409973, \"name\": \"sister\", \"original\": \"sister\"}], \"data-26be6f5dfb2f6c1839c1e9f5146865b7\": [{\"x_axis\": 1.5139521360397339, \"y_axis\": -3.1423676013946533, \"name\": \"prince\", \"original\": \"prince\"}, {\"x_axis\": 2.223616123199463, \"y_axis\": -2.748218059539795, \"name\": \"princess\", \"original\": \"princess\"}, {\"x_axis\": 0.877769947052002, \"y_axis\": -3.797304630279541, \"name\": \"nurse\", \"original\": \"nurse\"}, {\"x_axis\": 0.6835118532180786, \"y_axis\": -4.208276748657227, \"name\": \"doctor\", \"original\": \"doctor\"}, {\"x_axis\": 3.5774285793304443, \"y_axis\": -4.6527252197265625, \"name\": \"banker\", \"original\": \"banker\"}, {\"x_axis\": 0.8727635741233826, \"y_axis\": -5.450989723205566, \"name\": \"man\", \"original\": \"man\"}, {\"x_axis\": 0.7745336294174194, \"y_axis\": -4.790823936462402, \"name\": \"woman\", \"original\": \"woman\"}, {\"x_axis\": 2.9561643600463867, \"y_axis\": -3.714556932449341, \"name\": \"cousin\", \"original\": \"cousin\"}, {\"x_axis\": 2.520866870880127, \"y_axis\": -3.406247854232788, \"name\": \"neice\", \"original\": \"neice\"}, {\"x_axis\": 1.5260602235794067, \"y_axis\": -2.640533924102783, \"name\": \"king\", \"original\": \"king\"}, {\"x_axis\": 1.8877586126327515, \"y_axis\": -2.4364912509918213, \"name\": \"queen\", \"original\": \"queen\"}, {\"x_axis\": 1.309995412826538, \"y_axis\": -4.791082382202148, \"name\": \"dude\", \"original\": \"dude\"}, {\"x_axis\": 1.1984225511550903, \"y_axis\": -5.7784223556518555, \"name\": \"guy\", \"original\": \"guy\"}, {\"x_axis\": 1.6953636407852173, \"y_axis\": -4.539570331573486, \"name\": \"gal\", \"original\": \"gal\"}, {\"x_axis\": 3.0965826511383057, \"y_axis\": -6.461611270904541, \"name\": \"fire\", \"original\": \"fire\"}, {\"x_axis\": 2.0511929988861084, \"y_axis\": -5.139111518859863, \"name\": \"dog\", \"original\": \"dog\"}, {\"x_axis\": 2.3094489574432373, \"y_axis\": -5.140312194824219, \"name\": \"cat\", \"original\": \"cat\"}, {\"x_axis\": 2.8623502254486084, \"y_axis\": -5.06402063369751, \"name\": \"mouse\", \"original\": \"mouse\"}, {\"x_axis\": 2.2088425159454346, \"y_axis\": -6.32712984085083, \"name\": \"red\", \"original\": \"red\"}, {\"x_axis\": 3.010230541229248, \"y_axis\": -4.666180610656738, \"name\": \"bluee\", \"original\": \"bluee\"}, {\"x_axis\": 2.912074327468872, \"y_axis\": -5.898794651031494, \"name\": \"green\", \"original\": \"green\"}, {\"x_axis\": 2.3972718715667725, \"y_axis\": -6.03387451171875, \"name\": \"yellow\", \"original\": \"yellow\"}, {\"x_axis\": 3.18843412399292, \"y_axis\": -5.955672740936279, \"name\": \"water\", \"original\": \"water\"}, {\"x_axis\": 1.4292447566986084, \"y_axis\": -5.3172383308410645, \"name\": \"person\", \"original\": \"person\"}, {\"x_axis\": 2.4666643142700195, \"y_axis\": -4.176919460296631, \"name\": \"family\", \"original\": \"family\"}, {\"x_axis\": 1.7996416091918945, \"y_axis\": -3.860722064971924, \"name\": \"brother\", \"original\": \"brother\"}, {\"x_axis\": 2.1544644832611084, \"y_axis\": -3.591736078262329, \"name\": \"sister\", \"original\": \"sister\"}]}}, {\"mode\": \"vega-lite\"});\n",
       "</script>"
      ],
      "text/plain": [
       "alt.HConcatChart(...)"
      ]
     },
     "execution_count": 20,
     "metadata": {},
     "output_type": "execute_result"
    }
   ],
   "source": [
    "from whatlies.transformers import pca, umap\n",
    "\n",
    "orig_chart = emb.plot_interactive('man', 'woman')\n",
    "pca_emb = emb.transform(pca(2))\n",
    "umap_emb = emb.transform(umap(2))\n",
    "\n",
    "pca_emb.plot_interactive('pca_0', 'pca_1') | umap_emb.plot_interactive('umap_0', 'umap_1')"
   ]
  },
  {
   "cell_type": "markdown",
   "metadata": {},
   "source": [
    "Note that we can increase the number of components and still only plot a few. "
   ]
  },
  {
   "cell_type": "code",
   "execution_count": 23,
   "metadata": {},
   "outputs": [
    {
     "data": {
      "text/html": [
       "\n",
       "<div id=\"altair-viz-1a9771897a9f46d3acaa133dc0d8ac03\"></div>\n",
       "<script type=\"text/javascript\">\n",
       "  (function(spec, embedOpt){\n",
       "    const outputDiv = document.getElementById(\"altair-viz-1a9771897a9f46d3acaa133dc0d8ac03\");\n",
       "    const paths = {\n",
       "      \"vega\": \"https://cdn.jsdelivr.net/npm//vega@5?noext\",\n",
       "      \"vega-lib\": \"https://cdn.jsdelivr.net/npm//vega-lib?noext\",\n",
       "      \"vega-lite\": \"https://cdn.jsdelivr.net/npm//vega-lite@4.0.2?noext\",\n",
       "      \"vega-embed\": \"https://cdn.jsdelivr.net/npm//vega-embed@6?noext\",\n",
       "    };\n",
       "\n",
       "    function loadScript(lib) {\n",
       "      return new Promise(function(resolve, reject) {\n",
       "        var s = document.createElement('script');\n",
       "        s.src = paths[lib];\n",
       "        s.async = true;\n",
       "        s.onload = () => resolve(paths[lib]);\n",
       "        s.onerror = () => reject(`Error loading script: ${paths[lib]}`);\n",
       "        document.getElementsByTagName(\"head\")[0].appendChild(s);\n",
       "      });\n",
       "    }\n",
       "\n",
       "    function showError(err) {\n",
       "      outputDiv.innerHTML = `<div class=\"error\" style=\"color:red;\">${err}</div>`;\n",
       "      throw err;\n",
       "    }\n",
       "\n",
       "    function displayChart(vegaEmbed) {\n",
       "      vegaEmbed(outputDiv, spec, embedOpt)\n",
       "        .catch(err => showError(`Javascript Error: ${err.message}<br>This usually means there's a typo in your chart specification. See the javascript console for the full traceback.`));\n",
       "    }\n",
       "\n",
       "    if(typeof define === \"function\" && define.amd) {\n",
       "      requirejs.config({paths});\n",
       "      require([\"vega-embed\"], displayChart, err => showError(`Error loading script: ${err.message}`));\n",
       "    } else if (typeof vegaEmbed === \"function\") {\n",
       "      displayChart(vegaEmbed);\n",
       "    } else {\n",
       "      loadScript(\"vega\")\n",
       "        .then(() => loadScript(\"vega-lite\"))\n",
       "        .then(() => loadScript(\"vega-embed\"))\n",
       "        .catch(showError)\n",
       "        .then(() => displayChart(vegaEmbed));\n",
       "    }\n",
       "  })({\"config\": {\"view\": {\"continuousWidth\": 400, \"continuousHeight\": 300}}, \"hconcat\": [{\"layer\": [{\"mark\": {\"type\": \"circle\", \"size\": 60}, \"encoding\": {\"tooltip\": [{\"type\": \"nominal\", \"field\": \"name\"}, {\"type\": \"nominal\", \"field\": \"original\"}], \"x\": {\"type\": \"quantitative\", \"axis\": {\"title\": \"pca_0\"}, \"field\": \"x_axis\"}, \"y\": {\"type\": \"quantitative\", \"axis\": {\"title\": \"pca_1\"}, \"field\": \"y_axis\"}}, \"selection\": {\"selector035\": {\"type\": \"interval\", \"bind\": \"scales\", \"encodings\": [\"x\", \"y\"]}}, \"title\": \"pca_0 vs. pca_1\"}, {\"mark\": {\"type\": \"text\", \"color\": \"black\", \"dx\": -15, \"dy\": 3}, \"encoding\": {\"text\": {\"type\": \"nominal\", \"field\": \"original\"}, \"x\": {\"type\": \"quantitative\", \"axis\": {\"title\": \"pca_0\"}, \"field\": \"x_axis\"}, \"y\": {\"type\": \"quantitative\", \"axis\": {\"title\": \"pca_1\"}, \"field\": \"y_axis\"}}}], \"data\": {\"name\": \"data-34161eebc7e6103e8e00b60ac821ba4b\"}, \"height\": 250, \"width\": 250}, {\"layer\": [{\"mark\": {\"type\": \"circle\", \"size\": 60}, \"encoding\": {\"tooltip\": [{\"type\": \"nominal\", \"field\": \"name\"}, {\"type\": \"nominal\", \"field\": \"original\"}], \"x\": {\"type\": \"quantitative\", \"axis\": {\"title\": \"pca_2\"}, \"field\": \"x_axis\"}, \"y\": {\"type\": \"quantitative\", \"axis\": {\"title\": \"pca_1\"}, \"field\": \"y_axis\"}}, \"selection\": {\"selector036\": {\"type\": \"interval\", \"bind\": \"scales\", \"encodings\": [\"x\", \"y\"]}}, \"title\": \"pca_2 vs. pca_1\"}, {\"mark\": {\"type\": \"text\", \"color\": \"black\", \"dx\": -15, \"dy\": 3}, \"encoding\": {\"text\": {\"type\": \"nominal\", \"field\": \"original\"}, \"x\": {\"type\": \"quantitative\", \"axis\": {\"title\": \"pca_2\"}, \"field\": \"x_axis\"}, \"y\": {\"type\": \"quantitative\", \"axis\": {\"title\": \"pca_1\"}, \"field\": \"y_axis\"}}}], \"data\": {\"name\": \"data-9f0900497201e19fb0785dd92e78e04e\"}, \"height\": 250, \"width\": 250}], \"$schema\": \"https://vega.github.io/schema/vega-lite/v4.0.2.json\", \"datasets\": {\"data-34161eebc7e6103e8e00b60ac821ba4b\": [{\"x_axis\": -1.2535821199417114, \"y_axis\": 3.586676597595215, \"name\": \"prince\", \"original\": \"prince\"}, {\"x_axis\": -0.9741005897521973, \"y_axis\": 3.7290642261505127, \"name\": \"princess\", \"original\": \"princess\"}, {\"x_axis\": -1.0501278638839722, \"y_axis\": -2.0268447399139404, \"name\": \"nurse\", \"original\": \"nurse\"}, {\"x_axis\": -0.9151343703269958, \"y_axis\": -2.0640790462493896, \"name\": \"doctor\", \"original\": \"doctor\"}, {\"x_axis\": 0.8430215716362, \"y_axis\": -0.06272825598716736, \"name\": \"banker\", \"original\": \"banker\"}, {\"x_axis\": -0.43132147192955017, \"y_axis\": -1.5975831747055054, \"name\": \"man\", \"original\": \"man\"}, {\"x_axis\": -1.073258876800537, \"y_axis\": -1.6417843103408813, \"name\": \"woman\", \"original\": \"woman\"}, {\"x_axis\": -3.006711006164551, \"y_axis\": 0.08844566345214844, \"name\": \"cousin\", \"original\": \"cousin\"}, {\"x_axis\": -3.256138563156128, \"y_axis\": -0.2640823423862457, \"name\": \"neice\", \"original\": \"neice\"}, {\"x_axis\": -0.8844128251075745, \"y_axis\": 4.284396648406982, \"name\": \"king\", \"original\": \"king\"}, {\"x_axis\": -0.9637596607208252, \"y_axis\": 3.8633878231048584, \"name\": \"queen\", \"original\": \"queen\"}, {\"x_axis\": -0.37136709690093994, \"y_axis\": -1.4314926862716675, \"name\": \"dude\", \"original\": \"dude\"}, {\"x_axis\": -0.33022043108940125, \"y_axis\": -2.0039174556732178, \"name\": \"guy\", \"original\": \"guy\"}, {\"x_axis\": 0.005235184449702501, \"y_axis\": -1.1506175994873047, \"name\": \"gal\", \"original\": \"gal\"}, {\"x_axis\": 2.1890616416931152, \"y_axis\": -0.3874746263027191, \"name\": \"fire\", \"original\": \"fire\"}, {\"x_axis\": 0.8451134562492371, \"y_axis\": -1.5011231899261475, \"name\": \"dog\", \"original\": \"dog\"}, {\"x_axis\": 0.9290971755981445, \"y_axis\": -0.6315348148345947, \"name\": \"cat\", \"original\": \"cat\"}, {\"x_axis\": 1.9717415571212769, \"y_axis\": 0.1653272807598114, \"name\": \"mouse\", \"original\": \"mouse\"}, {\"x_axis\": 3.6464710235595703, \"y_axis\": 0.8340242505073547, \"name\": \"red\", \"original\": \"red\"}, {\"x_axis\": 0.6217125654220581, \"y_axis\": -0.011615407653152943, \"name\": \"bluee\", \"original\": \"bluee\"}, {\"x_axis\": 4.070711135864258, \"y_axis\": 0.8428587913513184, \"name\": \"green\", \"original\": \"green\"}, {\"x_axis\": 3.9739019870758057, \"y_axis\": 0.8420842289924622, \"name\": \"yellow\", \"original\": \"yellow\"}, {\"x_axis\": 3.1992409229278564, \"y_axis\": -0.76308274269104, \"name\": \"water\", \"original\": \"water\"}, {\"x_axis\": -0.4370383024215698, \"y_axis\": -1.8055583238601685, \"name\": \"person\", \"original\": \"person\"}, {\"x_axis\": -1.5232115983963013, \"y_axis\": -0.6766523718833923, \"name\": \"family\", \"original\": \"family\"}, {\"x_axis\": -2.889375925064087, \"y_axis\": -0.0504235103726387, \"name\": \"brother\", \"original\": \"brother\"}, {\"x_axis\": -2.935547351837158, \"y_axis\": -0.16567137837409973, \"name\": \"sister\", \"original\": \"sister\"}, {\"x_axis\": 0.0, \"y_axis\": 0.0, \"name\": \"pca_2\", \"original\": \"pca_2\"}], \"data-9f0900497201e19fb0785dd92e78e04e\": [{\"x_axis\": 1.4101698398590088, \"y_axis\": 3.586676597595215, \"name\": \"prince\", \"original\": \"prince\"}, {\"x_axis\": -0.901466965675354, \"y_axis\": 3.7290642261505127, \"name\": \"princess\", \"original\": \"princess\"}, {\"x_axis\": -0.3621392846107483, \"y_axis\": -2.0268447399139404, \"name\": \"nurse\", \"original\": \"nurse\"}, {\"x_axis\": 0.6259651184082031, \"y_axis\": -2.0640790462493896, \"name\": \"doctor\", \"original\": \"doctor\"}, {\"x_axis\": 3.4233667850494385, \"y_axis\": -0.06272825598716736, \"name\": \"banker\", \"original\": \"banker\"}, {\"x_axis\": 2.392763376235962, \"y_axis\": -1.5975831747055054, \"name\": \"man\", \"original\": \"man\"}, {\"x_axis\": 0.78555828332901, \"y_axis\": -1.6417843103408813, \"name\": \"woman\", \"original\": \"woman\"}, {\"x_axis\": -1.788364291191101, \"y_axis\": 0.08844566345214844, \"name\": \"cousin\", \"original\": \"cousin\"}, {\"x_axis\": -2.4958081245422363, \"y_axis\": -0.2640823423862457, \"name\": \"neice\", \"original\": \"neice\"}, {\"x_axis\": 2.366339683532715, \"y_axis\": 4.284396648406982, \"name\": \"king\", \"original\": \"king\"}, {\"x_axis\": 0.6199108362197876, \"y_axis\": 3.8633878231048584, \"name\": \"queen\", \"original\": \"queen\"}, {\"x_axis\": 1.8008068799972534, \"y_axis\": -1.4314926862716675, \"name\": \"dude\", \"original\": \"dude\"}, {\"x_axis\": 1.8941237926483154, \"y_axis\": -2.0039174556732178, \"name\": \"guy\", \"original\": \"guy\"}, {\"x_axis\": -0.7789923548698425, \"y_axis\": -1.1506175994873047, \"name\": \"gal\", \"original\": \"gal\"}, {\"x_axis\": 1.607983112335205, \"y_axis\": -0.3874746263027191, \"name\": \"fire\", \"original\": \"fire\"}, {\"x_axis\": -1.3364670276641846, \"y_axis\": -1.5011231899261475, \"name\": \"dog\", \"original\": \"dog\"}, {\"x_axis\": -1.6327675580978394, \"y_axis\": -0.6315348148345947, \"name\": \"cat\", \"original\": \"cat\"}, {\"x_axis\": -1.6748226881027222, \"y_axis\": 0.1653272807598114, \"name\": \"mouse\", \"original\": \"mouse\"}, {\"x_axis\": -1.3793258666992188, \"y_axis\": 0.8340242505073547, \"name\": \"red\", \"original\": \"red\"}, {\"x_axis\": 0.22887346148490906, \"y_axis\": -0.011615407653152943, \"name\": \"bluee\", \"original\": \"bluee\"}, {\"x_axis\": -1.1082818508148193, \"y_axis\": 0.8428587913513184, \"name\": \"green\", \"original\": \"green\"}, {\"x_axis\": -1.7831952571868896, \"y_axis\": 0.8420842289924622, \"name\": \"yellow\", \"original\": \"yellow\"}, {\"x_axis\": 0.22754229605197906, \"y_axis\": -0.76308274269104, \"name\": \"water\", \"original\": \"water\"}, {\"x_axis\": 1.5558571815490723, \"y_axis\": -1.8055583238601685, \"name\": \"person\", \"original\": \"person\"}, {\"x_axis\": -0.9982203841209412, \"y_axis\": -0.6766523718833923, \"name\": \"family\", \"original\": \"family\"}, {\"x_axis\": -0.49075862765312195, \"y_axis\": -0.0504235103726387, \"name\": \"brother\", \"original\": \"brother\"}, {\"x_axis\": -2.2086501121520996, \"y_axis\": -0.16567137837409973, \"name\": \"sister\", \"original\": \"sister\"}, {\"x_axis\": 0.0, \"y_axis\": 0.0, \"name\": \"pca_0\", \"original\": \"pca_0\"}]}}, {\"mode\": \"vega-lite\"});\n",
       "</script>"
      ],
      "text/plain": [
       "alt.HConcatChart(...)"
      ]
     },
     "execution_count": 23,
     "metadata": {},
     "output_type": "execute_result"
    }
   ],
   "source": [
    "pca_emb = emb.transform(pca(3))\n",
    "\n",
    "pca_emb.plot_interactive('pca_0', 'pca_1').properties(width=s, height=s) | pca_emb.plot_interactive('pca_2', 'pca_1').properties(width=s, height=s)"
   ]
  },
  {
   "cell_type": "markdown",
   "metadata": {},
   "source": [
    "But why go with only two plots when you can have an entire matrix? "
   ]
  },
  {
   "cell_type": "code",
   "execution_count": 26,
   "metadata": {},
   "outputs": [
    {
     "data": {
      "text/html": [
       "\n",
       "<div id=\"altair-viz-81b57d589f0b409a8468977a6f39b48a\"></div>\n",
       "<script type=\"text/javascript\">\n",
       "  (function(spec, embedOpt){\n",
       "    const outputDiv = document.getElementById(\"altair-viz-81b57d589f0b409a8468977a6f39b48a\");\n",
       "    const paths = {\n",
       "      \"vega\": \"https://cdn.jsdelivr.net/npm//vega@5?noext\",\n",
       "      \"vega-lib\": \"https://cdn.jsdelivr.net/npm//vega-lib?noext\",\n",
       "      \"vega-lite\": \"https://cdn.jsdelivr.net/npm//vega-lite@4.0.2?noext\",\n",
       "      \"vega-embed\": \"https://cdn.jsdelivr.net/npm//vega-embed@6?noext\",\n",
       "    };\n",
       "\n",
       "    function loadScript(lib) {\n",
       "      return new Promise(function(resolve, reject) {\n",
       "        var s = document.createElement('script');\n",
       "        s.src = paths[lib];\n",
       "        s.async = true;\n",
       "        s.onload = () => resolve(paths[lib]);\n",
       "        s.onerror = () => reject(`Error loading script: ${paths[lib]}`);\n",
       "        document.getElementsByTagName(\"head\")[0].appendChild(s);\n",
       "      });\n",
       "    }\n",
       "\n",
       "    function showError(err) {\n",
       "      outputDiv.innerHTML = `<div class=\"error\" style=\"color:red;\">${err}</div>`;\n",
       "      throw err;\n",
       "    }\n",
       "\n",
       "    function displayChart(vegaEmbed) {\n",
       "      vegaEmbed(outputDiv, spec, embedOpt)\n",
       "        .catch(err => showError(`Javascript Error: ${err.message}<br>This usually means there's a typo in your chart specification. See the javascript console for the full traceback.`));\n",
       "    }\n",
       "\n",
       "    if(typeof define === \"function\" && define.amd) {\n",
       "      requirejs.config({paths});\n",
       "      require([\"vega-embed\"], displayChart, err => showError(`Error loading script: ${err.message}`));\n",
       "    } else if (typeof vegaEmbed === \"function\") {\n",
       "      displayChart(vegaEmbed);\n",
       "    } else {\n",
       "      loadScript(\"vega\")\n",
       "        .then(() => loadScript(\"vega-lite\"))\n",
       "        .then(() => loadScript(\"vega-embed\"))\n",
       "        .catch(showError)\n",
       "        .then(() => displayChart(vegaEmbed));\n",
       "    }\n",
       "  })({\"config\": {\"view\": {\"continuousWidth\": 400, \"continuousHeight\": 300}}, \"repeat\": {\"column\": [\"pca_0\", \"pca_1\", \"pca_2\"], \"row\": [\"pca_2\", \"pca_1\", \"pca_0\"]}, \"spec\": {\"layer\": [{\"mark\": \"circle\", \"encoding\": {\"text\": {\"type\": \"nominal\", \"field\": \"original\"}, \"tooltip\": [{\"type\": \"nominal\", \"field\": \"name\"}, {\"type\": \"nominal\", \"field\": \"original\"}], \"x\": {\"type\": \"quantitative\", \"field\": {\"repeat\": \"column\"}}, \"y\": {\"type\": \"quantitative\", \"field\": {\"repeat\": \"row\"}}}, \"selection\": {\"selector039\": {\"type\": \"interval\", \"bind\": \"scales\", \"encodings\": [\"x\", \"y\"]}}}, {\"mark\": {\"type\": \"text\", \"color\": \"black\", \"dx\": -15, \"dy\": 3}, \"encoding\": {\"text\": {\"type\": \"nominal\", \"field\": \"original\"}, \"tooltip\": [{\"type\": \"nominal\", \"field\": \"name\"}, {\"type\": \"nominal\", \"field\": \"original\"}], \"x\": {\"type\": \"quantitative\", \"field\": {\"repeat\": \"column\"}}, \"y\": {\"type\": \"quantitative\", \"field\": {\"repeat\": \"row\"}}}}], \"data\": {\"name\": \"data-ac1cd0032046acd832aa21b6b882d4c0\"}, \"height\": 200, \"width\": 200}, \"$schema\": \"https://vega.github.io/schema/vega-lite/v4.0.2.json\", \"datasets\": {\"data-ac1cd0032046acd832aa21b6b882d4c0\": [{\"pca_0\": -1.2535821199417114, \"pca_1\": 3.586676597595215, \"pca_2\": 1.4101698398590088, \"name\": \"prince\", \"original\": \"prince\"}, {\"pca_0\": -0.9741005897521973, \"pca_1\": 3.7290642261505127, \"pca_2\": -0.901466965675354, \"name\": \"princess\", \"original\": \"princess\"}, {\"pca_0\": -1.0501278638839722, \"pca_1\": -2.0268447399139404, \"pca_2\": -0.3621392846107483, \"name\": \"nurse\", \"original\": \"nurse\"}, {\"pca_0\": -0.9151343703269958, \"pca_1\": -2.0640790462493896, \"pca_2\": 0.6259651184082031, \"name\": \"doctor\", \"original\": \"doctor\"}, {\"pca_0\": 0.8430215716362, \"pca_1\": -0.06272825598716736, \"pca_2\": 3.4233667850494385, \"name\": \"banker\", \"original\": \"banker\"}, {\"pca_0\": -0.43132147192955017, \"pca_1\": -1.5975831747055054, \"pca_2\": 2.392763376235962, \"name\": \"man\", \"original\": \"man\"}, {\"pca_0\": -1.073258876800537, \"pca_1\": -1.6417843103408813, \"pca_2\": 0.78555828332901, \"name\": \"woman\", \"original\": \"woman\"}, {\"pca_0\": -3.006711006164551, \"pca_1\": 0.08844566345214844, \"pca_2\": -1.788364291191101, \"name\": \"cousin\", \"original\": \"cousin\"}, {\"pca_0\": -3.256138563156128, \"pca_1\": -0.2640823423862457, \"pca_2\": -2.4958081245422363, \"name\": \"neice\", \"original\": \"neice\"}, {\"pca_0\": -0.8844128251075745, \"pca_1\": 4.284396648406982, \"pca_2\": 2.366339683532715, \"name\": \"king\", \"original\": \"king\"}, {\"pca_0\": -0.9637596607208252, \"pca_1\": 3.8633878231048584, \"pca_2\": 0.6199108362197876, \"name\": \"queen\", \"original\": \"queen\"}, {\"pca_0\": -0.37136709690093994, \"pca_1\": -1.4314926862716675, \"pca_2\": 1.8008068799972534, \"name\": \"dude\", \"original\": \"dude\"}, {\"pca_0\": -0.33022043108940125, \"pca_1\": -2.0039174556732178, \"pca_2\": 1.8941237926483154, \"name\": \"guy\", \"original\": \"guy\"}, {\"pca_0\": 0.005235184449702501, \"pca_1\": -1.1506175994873047, \"pca_2\": -0.7789923548698425, \"name\": \"gal\", \"original\": \"gal\"}, {\"pca_0\": 2.1890616416931152, \"pca_1\": -0.3874746263027191, \"pca_2\": 1.607983112335205, \"name\": \"fire\", \"original\": \"fire\"}, {\"pca_0\": 0.8451134562492371, \"pca_1\": -1.5011231899261475, \"pca_2\": -1.3364670276641846, \"name\": \"dog\", \"original\": \"dog\"}, {\"pca_0\": 0.9290971755981445, \"pca_1\": -0.6315348148345947, \"pca_2\": -1.6327675580978394, \"name\": \"cat\", \"original\": \"cat\"}, {\"pca_0\": 1.9717415571212769, \"pca_1\": 0.1653272807598114, \"pca_2\": -1.6748226881027222, \"name\": \"mouse\", \"original\": \"mouse\"}, {\"pca_0\": 3.6464710235595703, \"pca_1\": 0.8340242505073547, \"pca_2\": -1.3793258666992188, \"name\": \"red\", \"original\": \"red\"}, {\"pca_0\": 0.6217125654220581, \"pca_1\": -0.011615407653152943, \"pca_2\": 0.22887346148490906, \"name\": \"bluee\", \"original\": \"bluee\"}, {\"pca_0\": 4.070711135864258, \"pca_1\": 0.8428587913513184, \"pca_2\": -1.1082818508148193, \"name\": \"green\", \"original\": \"green\"}, {\"pca_0\": 3.9739019870758057, \"pca_1\": 0.8420842289924622, \"pca_2\": -1.7831952571868896, \"name\": \"yellow\", \"original\": \"yellow\"}, {\"pca_0\": 3.1992409229278564, \"pca_1\": -0.76308274269104, \"pca_2\": 0.22754229605197906, \"name\": \"water\", \"original\": \"water\"}, {\"pca_0\": -0.4370383024215698, \"pca_1\": -1.8055583238601685, \"pca_2\": 1.5558571815490723, \"name\": \"person\", \"original\": \"person\"}, {\"pca_0\": -1.5232115983963013, \"pca_1\": -0.6766523718833923, \"pca_2\": -0.9982203841209412, \"name\": \"family\", \"original\": \"family\"}, {\"pca_0\": -2.889375925064087, \"pca_1\": -0.0504235103726387, \"pca_2\": -0.49075862765312195, \"name\": \"brother\", \"original\": \"brother\"}, {\"pca_0\": -2.935547351837158, \"pca_1\": -0.16567137837409973, \"pca_2\": -2.2086501121520996, \"name\": \"sister\", \"original\": \"sister\"}]}}, {\"mode\": \"vega-lite\"});\n",
       "</script>"
      ],
      "text/plain": [
       "alt.RepeatChart(...)"
      ]
     },
     "execution_count": 26,
     "metadata": {},
     "output_type": "execute_result"
    }
   ],
   "source": [
    "pca_emb.plot_interactive_matrix('pca_0', 'pca_1', 'pca_2')"
   ]
  },
  {
   "cell_type": "markdown",
   "metadata": {},
   "source": [
    "What is particularily interesting here is the pca axes. They seem to encode information and can we attempt an understanding by glancing at it.\n",
    "\n",
    "But the overlap makes it hard to read. So let's apply one more transformation here."
   ]
  },
  {
   "cell_type": "code",
   "execution_count": 13,
   "metadata": {},
   "outputs": [
    {
     "data": {
      "text/html": [
       "\n",
       "<div id=\"altair-viz-9eb2442ea1cd41bfba6fb5cde2c4b924\"></div>\n",
       "<script type=\"text/javascript\">\n",
       "  (function(spec, embedOpt){\n",
       "    const outputDiv = document.getElementById(\"altair-viz-9eb2442ea1cd41bfba6fb5cde2c4b924\");\n",
       "    const paths = {\n",
       "      \"vega\": \"https://cdn.jsdelivr.net/npm//vega@5?noext\",\n",
       "      \"vega-lib\": \"https://cdn.jsdelivr.net/npm//vega-lib?noext\",\n",
       "      \"vega-lite\": \"https://cdn.jsdelivr.net/npm//vega-lite@4.0.2?noext\",\n",
       "      \"vega-embed\": \"https://cdn.jsdelivr.net/npm//vega-embed@6?noext\",\n",
       "    };\n",
       "\n",
       "    function loadScript(lib) {\n",
       "      return new Promise(function(resolve, reject) {\n",
       "        var s = document.createElement('script');\n",
       "        s.src = paths[lib];\n",
       "        s.async = true;\n",
       "        s.onload = () => resolve(paths[lib]);\n",
       "        s.onerror = () => reject(`Error loading script: ${paths[lib]}`);\n",
       "        document.getElementsByTagName(\"head\")[0].appendChild(s);\n",
       "      });\n",
       "    }\n",
       "\n",
       "    function showError(err) {\n",
       "      outputDiv.innerHTML = `<div class=\"error\" style=\"color:red;\">${err}</div>`;\n",
       "      throw err;\n",
       "    }\n",
       "\n",
       "    function displayChart(vegaEmbed) {\n",
       "      vegaEmbed(outputDiv, spec, embedOpt)\n",
       "        .catch(err => showError(`Javascript Error: ${err.message}<br>This usually means there's a typo in your chart specification. See the javascript console for the full traceback.`));\n",
       "    }\n",
       "\n",
       "    if(typeof define === \"function\" && define.amd) {\n",
       "      requirejs.config({paths});\n",
       "      require([\"vega-embed\"], displayChart, err => showError(`Error loading script: ${err.message}`));\n",
       "    } else if (typeof vegaEmbed === \"function\") {\n",
       "      displayChart(vegaEmbed);\n",
       "    } else {\n",
       "      loadScript(\"vega\")\n",
       "        .then(() => loadScript(\"vega-lite\"))\n",
       "        .then(() => loadScript(\"vega-embed\"))\n",
       "        .catch(showError)\n",
       "        .then(() => displayChart(vegaEmbed));\n",
       "    }\n",
       "  })({\"config\": {\"view\": {\"continuousWidth\": 400, \"continuousHeight\": 300}}, \"repeat\": {\"column\": [\"king\", \"queen\", \"man\", \"woman\"], \"row\": [\"woman\", \"man\", \"queen\", \"king\"]}, \"spec\": {\"layer\": [{\"mark\": \"circle\", \"encoding\": {\"text\": {\"type\": \"nominal\", \"field\": \"original\"}, \"tooltip\": [{\"type\": \"nominal\", \"field\": \"name\"}, {\"type\": \"nominal\", \"field\": \"original\"}], \"x\": {\"type\": \"quantitative\", \"field\": {\"repeat\": \"column\"}}, \"y\": {\"type\": \"quantitative\", \"field\": {\"repeat\": \"row\"}}}, \"selection\": {\"selector010\": {\"type\": \"interval\", \"bind\": \"scales\", \"encodings\": [\"x\", \"y\"]}}}, {\"mark\": {\"type\": \"text\", \"color\": \"black\", \"dx\": -15, \"dy\": 3}, \"encoding\": {\"text\": {\"type\": \"nominal\", \"field\": \"original\"}, \"tooltip\": [{\"type\": \"nominal\", \"field\": \"name\"}, {\"type\": \"nominal\", \"field\": \"original\"}], \"x\": {\"type\": \"quantitative\", \"field\": {\"repeat\": \"column\"}}, \"y\": {\"type\": \"quantitative\", \"field\": {\"repeat\": \"row\"}}}}], \"data\": {\"name\": \"data-b66bd67f7c9b2266548183e8e66ac514\"}, \"height\": 200, \"width\": 200}, \"$schema\": \"https://vega.github.io/schema/vega-lite/v4.0.2.json\", \"datasets\": {\"data-b66bd67f7c9b2266548183e8e66ac514\": [{\"king\": 1.185936572297677, \"queen\": 0.4367477119568579, \"man\": -0.13837132919336737, \"woman\": -0.09443026947253483, \"name\": \"prince\", \"original\": \"prince\"}, {\"king\": 0.5774980204969306, \"queen\": 0.31088227725118717, \"man\": -0.7771137357554017, \"woman\": -0.6088909888085215, \"name\": \"princess\", \"original\": \"princess\"}, {\"king\": -0.3241189296819853, \"queen\": -0.14543384989142938, \"man\": -0.21999149073581495, \"woman\": -0.20730837305786462, \"name\": \"nurse\", \"original\": \"nurse\"}, {\"king\": -0.7706232559421371, \"queen\": -0.3720132004435761, \"man\": 0.3910308520923328, \"woman\": 0.2785913933557759, \"name\": \"doctor\", \"original\": \"doctor\"}, {\"king\": -0.961629083553302, \"queen\": -0.5186828491833, \"man\": 0.48415213665906043, \"woman\": 0.3191210476244273, \"name\": \"banker\", \"original\": \"banker\"}, {\"king\": -0.5605306750681813, \"queen\": 0.10327406225330162, \"man\": -0.3825984880399391, \"woman\": -0.19577715230744974, \"name\": \"cousin\", \"original\": \"cousin\"}, {\"king\": -0.6381960122620015, \"queen\": 0.10031484059486857, \"man\": -0.3072580319229861, \"woman\": -0.12087604570673324, \"name\": \"neice\", \"original\": \"neice\"}, {\"king\": -0.012071024966029752, \"queen\": 0.10631571148329087, \"man\": 0.046967597914278555, \"woman\": 0.09140030092980696, \"name\": \"dude\", \"original\": \"dude\"}, {\"king\": -1.545617757260672, \"queen\": -0.7295738145136865, \"man\": 0.7708607494367204, \"woman\": 0.5549419963541932, \"name\": \"guy\", \"original\": \"guy\"}, {\"king\": 0.013791154790082987, \"queen\": 0.021601765524580784, \"man\": -0.1264795046615324, \"woman\": -0.10048650140377713, \"name\": \"gal\", \"original\": \"gal\"}, {\"king\": -0.4500809283663568, \"queen\": -0.20109368292860197, \"man\": -0.14329618519813367, \"woman\": -0.14842743458872143, \"name\": \"fire\", \"original\": \"fire\"}, {\"king\": -0.47257205604636077, \"queen\": -0.26608418371136267, \"man\": 0.4883920969814612, \"woman\": 0.36636284178592216, \"name\": \"dog\", \"original\": \"dog\"}, {\"king\": -1.1642766225228132, \"queen\": -0.5704450714884969, \"man\": 0.3879965311334841, \"woman\": 0.2431586018031308, \"name\": \"cat\", \"original\": \"cat\"}, {\"king\": -0.36443333235048186, \"queen\": -0.19040376619976132, \"man\": 0.04347216768267987, \"woman\": 0.0037663358932408506, \"name\": \"mouse\", \"original\": \"mouse\"}, {\"king\": 0.16553996321686623, \"queen\": 0.0998582534231698, \"man\": -1.130233645508087, \"woman\": -0.9475446977213536, \"name\": \"red\", \"original\": \"red\"}, {\"king\": 0.46394754486254614, \"queen\": 0.09966746509278299, \"man\": 0.17112100817097065, \"woman\": 0.12314576507483649, \"name\": \"bluee\", \"original\": \"bluee\"}, {\"king\": -0.3842849367707353, \"queen\": -0.08256286139649979, \"man\": -0.672069616989621, \"woman\": -0.5566652260275946, \"name\": \"green\", \"original\": \"green\"}, {\"king\": 0.7127075650377087, \"queen\": 0.2534383288240371, \"man\": -0.3481849243516745, \"woman\": -0.28815186179784763, \"name\": \"yellow\", \"original\": \"yellow\"}, {\"king\": 0.403409985418902, \"queen\": 0.05386473582599116, \"man\": -0.2588758664067945, \"woman\": -0.2576369280440355, \"name\": \"water\", \"original\": \"water\"}, {\"king\": 0.4054378232353523, \"queen\": -0.02735253921743799, \"man\": 0.8349915217232808, \"woman\": 0.6421700372886237, \"name\": \"person\", \"original\": \"person\"}, {\"king\": -0.2635465076682744, \"queen\": 0.2939462534076297, \"man\": -1.023263512568367, \"woman\": -0.7012540771490751, \"name\": \"family\", \"original\": \"family\"}, {\"king\": -0.10976473818721719, \"queen\": 0.0479726248588571, \"man\": -0.07292600582268981, \"woman\": -0.023754361487633328, \"name\": \"brother\", \"original\": \"brother\"}, {\"king\": -1.3479350402948473, \"queen\": -0.43232486670179154, \"man\": 0.45730396313314026, \"woman\": 0.3942772532852233, \"name\": \"sister\", \"original\": \"sister\"}, {\"king\": 0.5539909857982673, \"queen\": 0.2894586930318523, \"man\": -0.6689850886960365, \"woman\": -0.5225926857044233, \"name\": \"pca_0\", \"original\": \"pca_0\"}, {\"king\": 0.27306124694609096, \"queen\": 0.07321993241241977, \"man\": 0.3266207465961197, \"woman\": 0.2729047941465676, \"name\": \"pca_1\", \"original\": \"pca_1\"}, {\"king\": 0.020400198856268186, \"queen\": -0.1322446466773077, \"man\": 0.36222728355008094, \"woman\": 0.24612705618516714, \"name\": \"pca_2\", \"original\": \"pca_2\"}]}}, {\"mode\": \"vega-lite\"});\n",
       "</script>"
      ],
      "text/plain": [
       "alt.RepeatChart(...)"
      ]
     },
     "execution_count": 13,
     "metadata": {},
     "output_type": "execute_result"
    }
   ],
   "source": [
    "from whatlies.transformers import noise \n",
    "\n",
    "(emb\n",
    " .transform(pca(3))\n",
    " .transform(noise(2))\n",
    " .plot_interactive_matrix('king', 'queen', 'man', 'woman', annot=True, width=200, height=200))"
   ]
  },
  {
   "cell_type": "code",
   "execution_count": null,
   "metadata": {},
   "outputs": [],
   "source": []
  },
  {
   "cell_type": "code",
   "execution_count": null,
   "metadata": {},
   "outputs": [],
   "source": []
  }
 ],
 "metadata": {
  "kernelspec": {
   "display_name": "Python 3",
   "language": "python",
   "name": "python3"
  },
  "language_info": {
   "codemirror_mode": {
    "name": "ipython",
    "version": 3
   },
   "file_extension": ".py",
   "mimetype": "text/x-python",
   "name": "python",
   "nbconvert_exporter": "python",
   "pygments_lexer": "ipython3",
   "version": "3.7.3"
  }
 },
 "nbformat": 4,
 "nbformat_minor": 4
}
