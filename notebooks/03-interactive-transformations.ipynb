{
 "cells": [
  {
   "cell_type": "code",
   "execution_count": 1,
   "metadata": {},
   "outputs": [],
   "source": [
    "%load_ext autoreload\n",
    "%autoreload 2"
   ]
  },
  {
   "cell_type": "code",
   "execution_count": 2,
   "metadata": {},
   "outputs": [],
   "source": [
    "from whatlies import Embedding, EmbeddingSet\n",
    "import spacy "
   ]
  },
  {
   "cell_type": "markdown",
   "metadata": {},
   "source": [
    "## Making Plots ... More Cool \n",
    "\n",
    "The `Embedding` object merely has support for matplotlib, but the `EmbeddingSet` has support for Altair too! You can plot this interactively by just passing the names of the tokens you'd like to see."
   ]
  },
  {
   "cell_type": "code",
   "execution_count": 3,
   "metadata": {},
   "outputs": [],
   "source": [
    "nlp = spacy.load(\"en_core_web_md\")\n",
    "words = [\"prince\", \"princess\", \"nurse\", \"doctor\", \"banker\", \"man\", \"woman\", \n",
    "         \"cousin\", \"neice\", \"king\", \"queen\", \"dude\", \"guy\", \"gal\", \"fire\", \n",
    "         \"dog\", \"cat\", \"mouse\", \"red\", \"bluee\", \"green\", \"yellow\", \"water\", \n",
    "         \"person\", \"family\", \"brother\", \"sister\"]\n",
    "emb = EmbeddingSet({t.text: Embedding(t.text, t.vector) for t in nlp.pipe(words)})"
   ]
  },
  {
   "cell_type": "code",
   "execution_count": 4,
   "metadata": {},
   "outputs": [],
   "source": [
    "orig_chart = emb.plot_interactive('man', 'woman')\n",
    "\n",
    "new_ts = emb | (emb['king'] - emb['queen'])\n",
    "new_chart = new_ts.plot_interactive('man', 'woman')"
   ]
  },
  {
   "cell_type": "markdown",
   "metadata": {},
   "source": [
    "Note that altair has a convenient syntax for plotting two charts next to eachother. This is really cool when you want to compare. Feel free to zoom in and play as well!"
   ]
  },
  {
   "cell_type": "code",
   "execution_count": 5,
   "metadata": {},
   "outputs": [
    {
     "data": {
      "text/html": [
       "\n",
       "<div id=\"altair-viz-11e3553375d2434b821e938bbf414c15\"></div>\n",
       "<script type=\"text/javascript\">\n",
       "  (function(spec, embedOpt){\n",
       "    const outputDiv = document.getElementById(\"altair-viz-11e3553375d2434b821e938bbf414c15\");\n",
       "    const paths = {\n",
       "      \"vega\": \"https://cdn.jsdelivr.net/npm//vega@5?noext\",\n",
       "      \"vega-lib\": \"https://cdn.jsdelivr.net/npm//vega-lib?noext\",\n",
       "      \"vega-lite\": \"https://cdn.jsdelivr.net/npm//vega-lite@4.0.2?noext\",\n",
       "      \"vega-embed\": \"https://cdn.jsdelivr.net/npm//vega-embed@6?noext\",\n",
       "    };\n",
       "\n",
       "    function loadScript(lib) {\n",
       "      return new Promise(function(resolve, reject) {\n",
       "        var s = document.createElement('script');\n",
       "        s.src = paths[lib];\n",
       "        s.async = true;\n",
       "        s.onload = () => resolve(paths[lib]);\n",
       "        s.onerror = () => reject(`Error loading script: ${paths[lib]}`);\n",
       "        document.getElementsByTagName(\"head\")[0].appendChild(s);\n",
       "      });\n",
       "    }\n",
       "\n",
       "    function showError(err) {\n",
       "      outputDiv.innerHTML = `<div class=\"error\" style=\"color:red;\">${err}</div>`;\n",
       "      throw err;\n",
       "    }\n",
       "\n",
       "    function displayChart(vegaEmbed) {\n",
       "      vegaEmbed(outputDiv, spec, embedOpt)\n",
       "        .catch(err => showError(`Javascript Error: ${err.message}<br>This usually means there's a typo in your chart specification. See the javascript console for the full traceback.`));\n",
       "    }\n",
       "\n",
       "    if(typeof define === \"function\" && define.amd) {\n",
       "      requirejs.config({paths});\n",
       "      require([\"vega-embed\"], displayChart, err => showError(`Error loading script: ${err.message}`));\n",
       "    } else if (typeof vegaEmbed === \"function\") {\n",
       "      displayChart(vegaEmbed);\n",
       "    } else {\n",
       "      loadScript(\"vega\")\n",
       "        .then(() => loadScript(\"vega-lite\"))\n",
       "        .then(() => loadScript(\"vega-embed\"))\n",
       "        .catch(showError)\n",
       "        .then(() => displayChart(vegaEmbed));\n",
       "    }\n",
       "  })({\"config\": {\"view\": {\"continuousWidth\": 400, \"continuousHeight\": 300}}, \"hconcat\": [{\"layer\": [{\"mark\": {\"type\": \"circle\", \"size\": 60}, \"encoding\": {\"tooltip\": [{\"type\": \"nominal\", \"field\": \"name\"}, {\"type\": \"nominal\", \"field\": \"original\"}], \"x\": {\"type\": \"quantitative\", \"field\": \"man\"}, \"y\": {\"type\": \"quantitative\", \"field\": \"woman\"}}, \"selection\": {\"selector001\": {\"type\": \"interval\", \"bind\": \"scales\", \"encodings\": [\"x\", \"y\"]}}, \"title\": \"man vs. woman\"}, {\"mark\": {\"type\": \"text\", \"color\": \"black\", \"dx\": -15, \"dy\": 3}, \"encoding\": {\"text\": {\"type\": \"nominal\", \"field\": \"original\"}, \"x\": {\"type\": \"quantitative\", \"field\": \"man\"}, \"y\": {\"type\": \"quantitative\", \"field\": \"woman\"}}}], \"data\": {\"name\": \"data-718168a5966f8f84c0af442c4db09935\"}}, {\"layer\": [{\"mark\": {\"type\": \"circle\", \"size\": 60}, \"encoding\": {\"tooltip\": [{\"type\": \"nominal\", \"field\": \"name\"}, {\"type\": \"nominal\", \"field\": \"original\"}], \"x\": {\"type\": \"quantitative\", \"field\": \"(man | (king - queen))\"}, \"y\": {\"type\": \"quantitative\", \"field\": \"(woman | (king - queen))\"}}, \"selection\": {\"selector002\": {\"type\": \"interval\", \"bind\": \"scales\", \"encodings\": [\"x\", \"y\"]}}, \"title\": \"(man | (king - queen)) vs. (woman | (king - queen))\"}, {\"mark\": {\"type\": \"text\", \"color\": \"black\", \"dx\": -15, \"dy\": 3}, \"encoding\": {\"text\": {\"type\": \"nominal\", \"field\": \"original\"}, \"x\": {\"type\": \"quantitative\", \"field\": \"(man | (king - queen))\"}, \"y\": {\"type\": \"quantitative\", \"field\": \"(woman | (king - queen))\"}}}], \"data\": {\"name\": \"data-6c18403dfae8fa051eeb7cf14e2b5cde\"}}], \"$schema\": \"https://vega.github.io/schema/vega-lite/v4.0.2.json\", \"datasets\": {\"data-718168a5966f8f84c0af442c4db09935\": [{\"man\": 0.40951526165008545, \"woman\": 0.3261851966381073, \"name\": \"prince\", \"original\": \"prince\"}, {\"man\": 0.27098548412323, \"woman\": 0.4069218039512634, \"name\": \"princess\", \"original\": \"princess\"}, {\"man\": 0.3271060585975647, \"woman\": 0.5211429595947266, \"name\": \"nurse\", \"original\": \"nurse\"}, {\"man\": 0.4489893317222595, \"woman\": 0.4943573474884033, \"name\": \"doctor\", \"original\": \"doctor\"}, {\"man\": 0.19353565573692322, \"woman\": 0.09302382916212082, \"name\": \"banker\", \"original\": \"banker\"}, {\"man\": 0.38155144453048706, \"woman\": 0.33430397510528564, \"name\": \"cousin\", \"original\": \"cousin\"}, {\"man\": 0.29427674412727356, \"woman\": 0.41036874055862427, \"name\": \"neice\", \"original\": \"neice\"}, {\"man\": 0.45961007475852966, \"woman\": 0.27491992712020874, \"name\": \"king\", \"original\": \"king\"}, {\"man\": 0.2914373576641083, \"woman\": 0.40253907442092896, \"name\": \"queen\", \"original\": \"queen\"}, {\"man\": 0.6322574615478516, \"woman\": 0.37293168902397156, \"name\": \"dude\", \"original\": \"dude\"}, {\"man\": 0.689598560333252, \"woman\": 0.4880948066711426, \"name\": \"guy\", \"original\": \"guy\"}, {\"man\": 0.30102455615997314, \"woman\": 0.3522968888282776, \"name\": \"gal\", \"original\": \"gal\"}, {\"man\": 0.4537816643714905, \"woman\": 0.31863078474998474, \"name\": \"fire\", \"original\": \"fire\"}, {\"man\": 0.4621913731098175, \"woman\": 0.4013059139251709, \"name\": \"dog\", \"original\": \"dog\"}, {\"man\": 0.3758322596549988, \"woman\": 0.34616324305534363, \"name\": \"cat\", \"original\": \"cat\"}, {\"man\": 0.2176199108362198, \"woman\": 0.18362130224704742, \"name\": \"mouse\", \"original\": \"mouse\"}, {\"man\": 0.2972288429737091, \"woman\": 0.3045094907283783, \"name\": \"red\", \"original\": \"red\"}, {\"man\": 0.0, \"woman\": 0.0, \"name\": \"bluee\", \"original\": \"bluee\"}, {\"man\": 0.25164204835891724, \"woman\": 0.215010866522789, \"name\": \"green\", \"original\": \"green\"}, {\"man\": 0.2725669741630554, \"woman\": 0.25106003880500793, \"name\": \"yellow\", \"original\": \"yellow\"}, {\"man\": 0.335124671459198, \"woman\": 0.2691221237182617, \"name\": \"water\", \"original\": \"water\"}, {\"man\": 0.538722574710846, \"woman\": 0.5015737414360046, \"name\": \"person\", \"original\": \"person\"}, {\"man\": 0.3436667323112488, \"woman\": 0.3416234254837036, \"name\": \"family\", \"original\": \"family\"}, {\"man\": 0.5816835165023804, \"woman\": 0.39277997612953186, \"name\": \"brother\", \"original\": \"brother\"}, {\"man\": 0.3568364381790161, \"woman\": 0.4736946225166321, \"name\": \"sister\", \"original\": \"sister\"}], \"data-6c18403dfae8fa051eeb7cf14e2b5cde\": [{\"(man | (king - queen))\": 0.3721413016319275, \"(woman | (king - queen))\": 0.37740591168403625, \"name\": \"(prince | (king - queen))\", \"original\": \"prince\"}, {\"(man | (king - queen))\": 0.32078519463539124, \"(woman | (king - queen))\": 0.3907199800014496, \"name\": \"(princess | (king - queen))\", \"original\": \"princess\"}, {\"(man | (king - queen))\": 0.38499051332473755, \"(woman | (king - queen))\": 0.5041420459747314, \"name\": \"(nurse | (king - queen))\", \"original\": \"nurse\"}, {\"(man | (king - queen))\": 0.46731048822402954, \"(woman | (king - queen))\": 0.5102049708366394, \"name\": \"(doctor | (king - queen))\", \"original\": \"doctor\"}, {\"(man | (king - queen))\": 0.1731649786233902, \"(woman | (king - queen))\": 0.11744287610054016, \"name\": \"(banker | (king - queen))\", \"original\": \"banker\"}, {\"(man | (king - queen))\": 0.3942609429359436, \"(woman | (king - queen))\": 0.3473650813102722, \"name\": \"(cousin | (king - queen))\", \"original\": \"cousin\"}, {\"(man | (king - queen))\": 0.3400344252586365, \"(woman | (king - queen))\": 0.39806586503982544, \"name\": \"(neice | (king - queen))\", \"original\": \"neice\"}, {\"(man | (king - queen))\": 0.3779345750808716, \"(woman | (king - queen))\": 0.3594277501106262, \"name\": \"(king | (king - queen))\", \"original\": \"king\"}, {\"(man | (king - queen))\": 0.3779345750808716, \"(woman | (king - queen))\": 0.35942772030830383, \"name\": \"(queen | (king - queen))\", \"original\": \"queen\"}, {\"(man | (king - queen))\": 0.6412995457649231, \"(woman | (king - queen))\": 0.3981958031654358, \"name\": \"(dude | (king - queen))\", \"original\": \"dude\"}, {\"(man | (king - queen))\": 0.6984968185424805, \"(woman | (king - queen))\": 0.5187848806381226, \"name\": \"(guy | (king - queen))\", \"original\": \"guy\"}, {\"(man | (king - queen))\": 0.3681216537952423, \"(woman | (king - queen))\": 0.32252824306488037, \"name\": \"(gal | (king - queen))\", \"original\": \"gal\"}, {\"(man | (king - queen))\": 0.46388524770736694, \"(woman | (king - queen))\": 0.3355717957019806, \"name\": \"(fire | (king - queen))\", \"original\": \"fire\"}, {\"(man | (king - queen))\": 0.47540125250816345, \"(woman | (king - queen))\": 0.4186546504497528, \"name\": \"(dog | (king - queen))\", \"original\": \"dog\"}, {\"(man | (king - queen))\": 0.398105651140213, \"(woman | (king - queen))\": 0.3522307574748993, \"name\": \"(cat | (king - queen))\", \"original\": \"cat\"}, {\"(man | (king - queen))\": 0.22983808815479279, \"(woman | (king - queen))\": 0.187143474817276, \"name\": \"(mouse | (king - queen))\", \"original\": \"mouse\"}, {\"(man | (king - queen))\": 0.3163382112979889, \"(woman | (king - queen))\": 0.30910223722457886, \"name\": \"(red | (king - queen))\", \"original\": \"red\"}, {\"(man | (king - queen))\": 0.0, \"(woman | (king - queen))\": 0.0, \"name\": \"(bluee | (king - queen))\", \"original\": \"bluee\"}, {\"(man | (king - queen))\": 0.26152005791664124, \"(woman | (king - queen))\": 0.2223435342311859, \"name\": \"(green | (king - queen))\", \"original\": \"green\"}, {\"(man | (king - queen))\": 0.29196789860725403, \"(woman | (king - queen))\": 0.253030925989151, \"name\": \"(yellow | (king - queen))\", \"original\": \"yellow\"}, {\"(man | (king - queen))\": 0.34176596999168396, \"(woman | (king - queen))\": 0.2832501232624054, \"name\": \"(water | (king - queen))\", \"original\": \"water\"}, {\"(man | (king - queen))\": 0.5559191107749939, \"(woman | (king - queen))\": 0.5214522480964661, \"name\": \"(person | (king - queen))\", \"original\": \"person\"}, {\"(man | (king - queen))\": 0.3543766736984253, \"(woman | (king - queen))\": 0.35514166951179504, \"name\": \"(family | (king - queen))\", \"original\": \"family\"}, {\"(man | (king - queen))\": 0.5562112927436829, \"(woman | (king - queen))\": 0.4427803158760071, \"name\": \"(brother | (king - queen))\", \"original\": \"brother\"}, {\"(man | (king - queen))\": 0.40646934509277344, \"(woman | (king - queen))\": 0.46244552731513977, \"name\": \"(sister | (king - queen))\", \"original\": \"sister\"}]}}, {\"mode\": \"vega-lite\"});\n",
       "</script>"
      ],
      "text/plain": [
       "alt.HConcatChart(...)"
      ]
     },
     "execution_count": 5,
     "metadata": {},
     "output_type": "execute_result"
    }
   ],
   "source": [
    "orig_chart | new_chart"
   ]
  },
  {
   "cell_type": "markdown",
   "metadata": {},
   "source": [
    "## Transformations\n",
    "\n",
    "There's something extra too. Sofar we're been mapping vectors unto other ones in order to plot them. But theoretically we could go a step further."
   ]
  },
  {
   "cell_type": "code",
   "execution_count": 8,
   "metadata": {},
   "outputs": [
    {
     "data": {
      "text/html": [
       "\n",
       "<div id=\"altair-viz-0e5f91bd187d4a10b263357c6a3a4d35\"></div>\n",
       "<script type=\"text/javascript\">\n",
       "  (function(spec, embedOpt){\n",
       "    const outputDiv = document.getElementById(\"altair-viz-0e5f91bd187d4a10b263357c6a3a4d35\");\n",
       "    const paths = {\n",
       "      \"vega\": \"https://cdn.jsdelivr.net/npm//vega@5?noext\",\n",
       "      \"vega-lib\": \"https://cdn.jsdelivr.net/npm//vega-lib?noext\",\n",
       "      \"vega-lite\": \"https://cdn.jsdelivr.net/npm//vega-lite@4.0.2?noext\",\n",
       "      \"vega-embed\": \"https://cdn.jsdelivr.net/npm//vega-embed@6?noext\",\n",
       "    };\n",
       "\n",
       "    function loadScript(lib) {\n",
       "      return new Promise(function(resolve, reject) {\n",
       "        var s = document.createElement('script');\n",
       "        s.src = paths[lib];\n",
       "        s.async = true;\n",
       "        s.onload = () => resolve(paths[lib]);\n",
       "        s.onerror = () => reject(`Error loading script: ${paths[lib]}`);\n",
       "        document.getElementsByTagName(\"head\")[0].appendChild(s);\n",
       "      });\n",
       "    }\n",
       "\n",
       "    function showError(err) {\n",
       "      outputDiv.innerHTML = `<div class=\"error\" style=\"color:red;\">${err}</div>`;\n",
       "      throw err;\n",
       "    }\n",
       "\n",
       "    function displayChart(vegaEmbed) {\n",
       "      vegaEmbed(outputDiv, spec, embedOpt)\n",
       "        .catch(err => showError(`Javascript Error: ${err.message}<br>This usually means there's a typo in your chart specification. See the javascript console for the full traceback.`));\n",
       "    }\n",
       "\n",
       "    if(typeof define === \"function\" && define.amd) {\n",
       "      requirejs.config({paths});\n",
       "      require([\"vega-embed\"], displayChart, err => showError(`Error loading script: ${err.message}`));\n",
       "    } else if (typeof vegaEmbed === \"function\") {\n",
       "      displayChart(vegaEmbed);\n",
       "    } else {\n",
       "      loadScript(\"vega\")\n",
       "        .then(() => loadScript(\"vega-lite\"))\n",
       "        .then(() => loadScript(\"vega-embed\"))\n",
       "        .catch(showError)\n",
       "        .then(() => displayChart(vegaEmbed));\n",
       "    }\n",
       "  })({\"config\": {\"view\": {\"continuousWidth\": 400, \"continuousHeight\": 300}}, \"hconcat\": [{\"layer\": [{\"mark\": {\"type\": \"circle\", \"size\": 60}, \"encoding\": {\"tooltip\": [{\"type\": \"nominal\", \"field\": \"name\"}, {\"type\": \"nominal\", \"field\": \"original\"}], \"x\": {\"type\": \"quantitative\", \"field\": \"pca_0\"}, \"y\": {\"type\": \"quantitative\", \"field\": \"pca_1\"}}, \"selection\": {\"selector009\": {\"type\": \"interval\", \"bind\": \"scales\", \"encodings\": [\"x\", \"y\"]}}, \"title\": \"pca_0 vs. pca_1\"}, {\"mark\": {\"type\": \"text\", \"color\": \"black\", \"dx\": -15, \"dy\": 3}, \"encoding\": {\"text\": {\"type\": \"nominal\", \"field\": \"original\"}, \"x\": {\"type\": \"quantitative\", \"field\": \"pca_0\"}, \"y\": {\"type\": \"quantitative\", \"field\": \"pca_1\"}}}], \"data\": {\"name\": \"data-c65a008618c7155525ca27ca465c1972\"}}, {\"layer\": [{\"mark\": {\"type\": \"circle\", \"size\": 60}, \"encoding\": {\"tooltip\": [{\"type\": \"nominal\", \"field\": \"name\"}, {\"type\": \"nominal\", \"field\": \"original\"}], \"x\": {\"type\": \"quantitative\", \"field\": \"umap_0\"}, \"y\": {\"type\": \"quantitative\", \"field\": \"umap_1\"}}, \"selection\": {\"selector010\": {\"type\": \"interval\", \"bind\": \"scales\", \"encodings\": [\"x\", \"y\"]}}, \"title\": \"umap_0 vs. umap_1\"}, {\"mark\": {\"type\": \"text\", \"color\": \"black\", \"dx\": -15, \"dy\": 3}, \"encoding\": {\"text\": {\"type\": \"nominal\", \"field\": \"original\"}, \"x\": {\"type\": \"quantitative\", \"field\": \"umap_0\"}, \"y\": {\"type\": \"quantitative\", \"field\": \"umap_1\"}}}], \"data\": {\"name\": \"data-c9d79ce4e8383197845923751e4169ab\"}}], \"$schema\": \"https://vega.github.io/schema/vega-lite/v4.0.2.json\", \"datasets\": {\"data-c65a008618c7155525ca27ca465c1972\": [{\"pca_0\": -1.2535821199417114, \"pca_1\": 3.586676597595215, \"name\": \"prince\", \"original\": \"prince\"}, {\"pca_0\": -0.9741005897521973, \"pca_1\": 3.7290642261505127, \"name\": \"princess\", \"original\": \"princess\"}, {\"pca_0\": -1.0501278638839722, \"pca_1\": -2.0268447399139404, \"name\": \"nurse\", \"original\": \"nurse\"}, {\"pca_0\": -0.9151343703269958, \"pca_1\": -2.0640790462493896, \"name\": \"doctor\", \"original\": \"doctor\"}, {\"pca_0\": 0.8430215716362, \"pca_1\": -0.06272825598716736, \"name\": \"banker\", \"original\": \"banker\"}, {\"pca_0\": -0.43132147192955017, \"pca_1\": -1.5975831747055054, \"name\": \"man\", \"original\": \"man\"}, {\"pca_0\": -1.073258876800537, \"pca_1\": -1.6417843103408813, \"name\": \"woman\", \"original\": \"woman\"}, {\"pca_0\": -3.006711006164551, \"pca_1\": 0.08844566345214844, \"name\": \"cousin\", \"original\": \"cousin\"}, {\"pca_0\": -3.256138563156128, \"pca_1\": -0.2640823423862457, \"name\": \"neice\", \"original\": \"neice\"}, {\"pca_0\": -0.8844128251075745, \"pca_1\": 4.284396648406982, \"name\": \"king\", \"original\": \"king\"}, {\"pca_0\": -0.9637596607208252, \"pca_1\": 3.8633878231048584, \"name\": \"queen\", \"original\": \"queen\"}, {\"pca_0\": -0.37136709690093994, \"pca_1\": -1.4314926862716675, \"name\": \"dude\", \"original\": \"dude\"}, {\"pca_0\": -0.33022043108940125, \"pca_1\": -2.0039174556732178, \"name\": \"guy\", \"original\": \"guy\"}, {\"pca_0\": 0.005235184449702501, \"pca_1\": -1.1506175994873047, \"name\": \"gal\", \"original\": \"gal\"}, {\"pca_0\": 2.1890616416931152, \"pca_1\": -0.3874746263027191, \"name\": \"fire\", \"original\": \"fire\"}, {\"pca_0\": 0.8451134562492371, \"pca_1\": -1.5011231899261475, \"name\": \"dog\", \"original\": \"dog\"}, {\"pca_0\": 0.9290971755981445, \"pca_1\": -0.6315348148345947, \"name\": \"cat\", \"original\": \"cat\"}, {\"pca_0\": 1.9717415571212769, \"pca_1\": 0.1653272807598114, \"name\": \"mouse\", \"original\": \"mouse\"}, {\"pca_0\": 3.6464710235595703, \"pca_1\": 0.8340242505073547, \"name\": \"red\", \"original\": \"red\"}, {\"pca_0\": 0.6217125654220581, \"pca_1\": -0.011615407653152943, \"name\": \"bluee\", \"original\": \"bluee\"}, {\"pca_0\": 4.070711135864258, \"pca_1\": 0.8428587913513184, \"name\": \"green\", \"original\": \"green\"}, {\"pca_0\": 3.9739019870758057, \"pca_1\": 0.8420842289924622, \"name\": \"yellow\", \"original\": \"yellow\"}, {\"pca_0\": 3.1992409229278564, \"pca_1\": -0.76308274269104, \"name\": \"water\", \"original\": \"water\"}, {\"pca_0\": -0.4370383024215698, \"pca_1\": -1.8055583238601685, \"name\": \"person\", \"original\": \"person\"}, {\"pca_0\": -1.5232115983963013, \"pca_1\": -0.6766523718833923, \"name\": \"family\", \"original\": \"family\"}, {\"pca_0\": -2.889375925064087, \"pca_1\": -0.0504235103726387, \"name\": \"brother\", \"original\": \"brother\"}, {\"pca_0\": -2.935547351837158, \"pca_1\": -0.16567137837409973, \"name\": \"sister\", \"original\": \"sister\"}], \"data-c9d79ce4e8383197845923751e4169ab\": [{\"umap_0\": 7.683071136474609, \"umap_1\": 6.8826069831848145, \"name\": \"prince\", \"original\": \"prince\"}, {\"umap_0\": 8.119927406311035, \"umap_1\": 6.849494457244873, \"name\": \"princess\", \"original\": \"princess\"}, {\"umap_0\": 7.300721645355225, \"umap_1\": 4.110742092132568, \"name\": \"nurse\", \"original\": \"nurse\"}, {\"umap_0\": 7.764898777008057, \"umap_1\": 3.85836124420166, \"name\": \"doctor\", \"original\": \"doctor\"}, {\"umap_0\": 8.261445045471191, \"umap_1\": 5.063197612762451, \"name\": \"banker\", \"original\": \"banker\"}, {\"umap_0\": 8.816865921020508, \"umap_1\": 4.588306427001953, \"name\": \"man\", \"original\": \"man\"}, {\"umap_0\": 7.818793296813965, \"umap_1\": 4.510528564453125, \"name\": \"woman\", \"original\": \"woman\"}, {\"umap_0\": 7.104825496673584, \"umap_1\": 5.862237930297852, \"name\": \"cousin\", \"original\": \"cousin\"}, {\"umap_0\": 6.475111484527588, \"umap_1\": 5.630688190460205, \"name\": \"neice\", \"original\": \"neice\"}, {\"umap_0\": 7.501045227050781, \"umap_1\": 6.528558254241943, \"name\": \"king\", \"original\": \"king\"}, {\"umap_0\": 7.875270843505859, \"umap_1\": 6.347613334655762, \"name\": \"queen\", \"original\": \"queen\"}, {\"umap_0\": 8.438183784484863, \"umap_1\": 3.872556686401367, \"name\": \"dude\", \"original\": \"dude\"}, {\"umap_0\": 8.448274612426758, \"umap_1\": 4.3103251457214355, \"name\": \"guy\", \"original\": \"guy\"}, {\"umap_0\": 7.9519147872924805, \"umap_1\": 5.135070323944092, \"name\": \"gal\", \"original\": \"gal\"}, {\"umap_0\": 8.944172859191895, \"umap_1\": 5.7392354011535645, \"name\": \"fire\", \"original\": \"fire\"}, {\"umap_0\": 9.735146522521973, \"umap_1\": 4.4750895500183105, \"name\": \"dog\", \"original\": \"dog\"}, {\"umap_0\": 9.864075660705566, \"umap_1\": 4.957643985748291, \"name\": \"cat\", \"original\": \"cat\"}, {\"umap_0\": 9.328947067260742, \"umap_1\": 5.098883628845215, \"name\": \"mouse\", \"original\": \"mouse\"}, {\"umap_0\": 10.150426864624023, \"umap_1\": 6.103381633758545, \"name\": \"red\", \"original\": \"red\"}, {\"umap_0\": 8.376856803894043, \"umap_1\": 5.627901554107666, \"name\": \"bluee\", \"original\": \"bluee\"}, {\"umap_0\": 9.726550102233887, \"umap_1\": 6.283388614654541, \"name\": \"green\", \"original\": \"green\"}, {\"umap_0\": 9.834991455078125, \"umap_1\": 5.793656349182129, \"name\": \"yellow\", \"original\": \"yellow\"}, {\"umap_0\": 9.267016410827637, \"umap_1\": 6.091810703277588, \"name\": \"water\", \"original\": \"water\"}, {\"umap_0\": 8.906523704528809, \"umap_1\": 4.007486820220947, \"name\": \"person\", \"original\": \"person\"}, {\"umap_0\": 6.7370147705078125, \"umap_1\": 4.977278709411621, \"name\": \"family\", \"original\": \"family\"}, {\"umap_0\": 7.2880024909973145, \"umap_1\": 5.024892807006836, \"name\": \"brother\", \"original\": \"brother\"}, {\"umap_0\": 7.031651496887207, \"umap_1\": 5.402203559875488, \"name\": \"sister\", \"original\": \"sister\"}]}}, {\"mode\": \"vega-lite\"});\n",
       "</script>"
      ],
      "text/plain": [
       "alt.HConcatChart(...)"
      ]
     },
     "execution_count": 8,
     "metadata": {},
     "output_type": "execute_result"
    }
   ],
   "source": [
    "from whatlies.transformers import pca, umap\n",
    "\n",
    "orig_chart = emb.plot_interactive('man', 'woman')\n",
    "pca_emb = emb.transform(pca(2))\n",
    "umap_emb = emb.transform(umap(2))\n",
    "\n",
    "pca_emb.plot_interactive('pca_0', 'pca_1') | umap_emb.plot_interactive('umap_0', 'umap_1')"
   ]
  },
  {
   "cell_type": "markdown",
   "metadata": {},
   "source": [
    "Note that we can increase the number of components and still only plot a few. "
   ]
  },
  {
   "cell_type": "code",
   "execution_count": 7,
   "metadata": {},
   "outputs": [
    {
     "data": {
      "text/html": [
       "\n",
       "<div id=\"altair-viz-844a497e632e4246a555237cb8b70e15\"></div>\n",
       "<script type=\"text/javascript\">\n",
       "  (function(spec, embedOpt){\n",
       "    const outputDiv = document.getElementById(\"altair-viz-844a497e632e4246a555237cb8b70e15\");\n",
       "    const paths = {\n",
       "      \"vega\": \"https://cdn.jsdelivr.net/npm//vega@5?noext\",\n",
       "      \"vega-lib\": \"https://cdn.jsdelivr.net/npm//vega-lib?noext\",\n",
       "      \"vega-lite\": \"https://cdn.jsdelivr.net/npm//vega-lite@4.0.2?noext\",\n",
       "      \"vega-embed\": \"https://cdn.jsdelivr.net/npm//vega-embed@6?noext\",\n",
       "    };\n",
       "\n",
       "    function loadScript(lib) {\n",
       "      return new Promise(function(resolve, reject) {\n",
       "        var s = document.createElement('script');\n",
       "        s.src = paths[lib];\n",
       "        s.async = true;\n",
       "        s.onload = () => resolve(paths[lib]);\n",
       "        s.onerror = () => reject(`Error loading script: ${paths[lib]}`);\n",
       "        document.getElementsByTagName(\"head\")[0].appendChild(s);\n",
       "      });\n",
       "    }\n",
       "\n",
       "    function showError(err) {\n",
       "      outputDiv.innerHTML = `<div class=\"error\" style=\"color:red;\">${err}</div>`;\n",
       "      throw err;\n",
       "    }\n",
       "\n",
       "    function displayChart(vegaEmbed) {\n",
       "      vegaEmbed(outputDiv, spec, embedOpt)\n",
       "        .catch(err => showError(`Javascript Error: ${err.message}<br>This usually means there's a typo in your chart specification. See the javascript console for the full traceback.`));\n",
       "    }\n",
       "\n",
       "    if(typeof define === \"function\" && define.amd) {\n",
       "      requirejs.config({paths});\n",
       "      require([\"vega-embed\"], displayChart, err => showError(`Error loading script: ${err.message}`));\n",
       "    } else if (typeof vegaEmbed === \"function\") {\n",
       "      displayChart(vegaEmbed);\n",
       "    } else {\n",
       "      loadScript(\"vega\")\n",
       "        .then(() => loadScript(\"vega-lite\"))\n",
       "        .then(() => loadScript(\"vega-embed\"))\n",
       "        .catch(showError)\n",
       "        .then(() => displayChart(vegaEmbed));\n",
       "    }\n",
       "  })({\"config\": {\"view\": {\"continuousWidth\": 400, \"continuousHeight\": 300}}, \"hconcat\": [{\"layer\": [{\"mark\": {\"type\": \"circle\", \"size\": 60}, \"encoding\": {\"tooltip\": [{\"type\": \"nominal\", \"field\": \"name\"}, {\"type\": \"nominal\", \"field\": \"original\"}], \"x\": {\"type\": \"quantitative\", \"field\": \"pca_0\"}, \"y\": {\"type\": \"quantitative\", \"field\": \"pca_1\"}}, \"selection\": {\"selector006\": {\"type\": \"interval\", \"bind\": \"scales\", \"encodings\": [\"x\", \"y\"]}}, \"title\": \"pca_0 vs. pca_1\"}, {\"mark\": {\"type\": \"text\", \"color\": \"black\", \"dx\": -15, \"dy\": 3}, \"encoding\": {\"text\": {\"type\": \"nominal\", \"field\": \"original\"}, \"x\": {\"type\": \"quantitative\", \"field\": \"pca_0\"}, \"y\": {\"type\": \"quantitative\", \"field\": \"pca_1\"}}}], \"data\": {\"name\": \"data-30476ca7dc622f03290f2813bc0788b6\"}}, {\"layer\": [{\"mark\": {\"type\": \"circle\", \"size\": 60}, \"encoding\": {\"tooltip\": [{\"type\": \"nominal\", \"field\": \"name\"}, {\"type\": \"nominal\", \"field\": \"original\"}], \"x\": {\"type\": \"quantitative\", \"field\": \"pca_2\"}, \"y\": {\"type\": \"quantitative\", \"field\": \"pca_1\"}}, \"selection\": {\"selector007\": {\"type\": \"interval\", \"bind\": \"scales\", \"encodings\": [\"x\", \"y\"]}}, \"title\": \"pca_2 vs. pca_1\"}, {\"mark\": {\"type\": \"text\", \"color\": \"black\", \"dx\": -15, \"dy\": 3}, \"encoding\": {\"text\": {\"type\": \"nominal\", \"field\": \"original\"}, \"x\": {\"type\": \"quantitative\", \"field\": \"pca_2\"}, \"y\": {\"type\": \"quantitative\", \"field\": \"pca_1\"}}}], \"data\": {\"name\": \"data-2fe631c85ca5f778e654475327bcc98c\"}}], \"$schema\": \"https://vega.github.io/schema/vega-lite/v4.0.2.json\", \"datasets\": {\"data-30476ca7dc622f03290f2813bc0788b6\": [{\"pca_0\": -1.2535821199417114, \"pca_1\": 3.586676597595215, \"name\": \"prince\", \"original\": \"prince\"}, {\"pca_0\": -0.9741005897521973, \"pca_1\": 3.7290642261505127, \"name\": \"princess\", \"original\": \"princess\"}, {\"pca_0\": -1.0501278638839722, \"pca_1\": -2.0268447399139404, \"name\": \"nurse\", \"original\": \"nurse\"}, {\"pca_0\": -0.9151343703269958, \"pca_1\": -2.0640790462493896, \"name\": \"doctor\", \"original\": \"doctor\"}, {\"pca_0\": 0.8430215716362, \"pca_1\": -0.06272825598716736, \"name\": \"banker\", \"original\": \"banker\"}, {\"pca_0\": -0.43132147192955017, \"pca_1\": -1.5975831747055054, \"name\": \"man\", \"original\": \"man\"}, {\"pca_0\": -1.073258876800537, \"pca_1\": -1.6417843103408813, \"name\": \"woman\", \"original\": \"woman\"}, {\"pca_0\": -3.006711006164551, \"pca_1\": 0.08844566345214844, \"name\": \"cousin\", \"original\": \"cousin\"}, {\"pca_0\": -3.256138563156128, \"pca_1\": -0.2640823423862457, \"name\": \"neice\", \"original\": \"neice\"}, {\"pca_0\": -0.8844128251075745, \"pca_1\": 4.284396648406982, \"name\": \"king\", \"original\": \"king\"}, {\"pca_0\": -0.9637596607208252, \"pca_1\": 3.8633878231048584, \"name\": \"queen\", \"original\": \"queen\"}, {\"pca_0\": -0.37136709690093994, \"pca_1\": -1.4314926862716675, \"name\": \"dude\", \"original\": \"dude\"}, {\"pca_0\": -0.33022043108940125, \"pca_1\": -2.0039174556732178, \"name\": \"guy\", \"original\": \"guy\"}, {\"pca_0\": 0.005235184449702501, \"pca_1\": -1.1506175994873047, \"name\": \"gal\", \"original\": \"gal\"}, {\"pca_0\": 2.1890616416931152, \"pca_1\": -0.3874746263027191, \"name\": \"fire\", \"original\": \"fire\"}, {\"pca_0\": 0.8451134562492371, \"pca_1\": -1.5011231899261475, \"name\": \"dog\", \"original\": \"dog\"}, {\"pca_0\": 0.9290971755981445, \"pca_1\": -0.6315348148345947, \"name\": \"cat\", \"original\": \"cat\"}, {\"pca_0\": 1.9717415571212769, \"pca_1\": 0.1653272807598114, \"name\": \"mouse\", \"original\": \"mouse\"}, {\"pca_0\": 3.6464710235595703, \"pca_1\": 0.8340242505073547, \"name\": \"red\", \"original\": \"red\"}, {\"pca_0\": 0.6217125654220581, \"pca_1\": -0.011615407653152943, \"name\": \"bluee\", \"original\": \"bluee\"}, {\"pca_0\": 4.070711135864258, \"pca_1\": 0.8428587913513184, \"name\": \"green\", \"original\": \"green\"}, {\"pca_0\": 3.9739019870758057, \"pca_1\": 0.8420842289924622, \"name\": \"yellow\", \"original\": \"yellow\"}, {\"pca_0\": 3.1992409229278564, \"pca_1\": -0.76308274269104, \"name\": \"water\", \"original\": \"water\"}, {\"pca_0\": -0.4370383024215698, \"pca_1\": -1.8055583238601685, \"name\": \"person\", \"original\": \"person\"}, {\"pca_0\": -1.5232115983963013, \"pca_1\": -0.6766523718833923, \"name\": \"family\", \"original\": \"family\"}, {\"pca_0\": -2.889375925064087, \"pca_1\": -0.0504235103726387, \"name\": \"brother\", \"original\": \"brother\"}, {\"pca_0\": -2.935547351837158, \"pca_1\": -0.16567137837409973, \"name\": \"sister\", \"original\": \"sister\"}, {\"pca_0\": 0.0, \"pca_1\": 0.0, \"name\": \"pca_2\", \"original\": \"pca_2\"}], \"data-2fe631c85ca5f778e654475327bcc98c\": [{\"pca_2\": 1.4101698398590088, \"pca_1\": 3.586676597595215, \"name\": \"prince\", \"original\": \"prince\"}, {\"pca_2\": -0.901466965675354, \"pca_1\": 3.7290642261505127, \"name\": \"princess\", \"original\": \"princess\"}, {\"pca_2\": -0.3621392846107483, \"pca_1\": -2.0268447399139404, \"name\": \"nurse\", \"original\": \"nurse\"}, {\"pca_2\": 0.6259651184082031, \"pca_1\": -2.0640790462493896, \"name\": \"doctor\", \"original\": \"doctor\"}, {\"pca_2\": 3.4233667850494385, \"pca_1\": -0.06272825598716736, \"name\": \"banker\", \"original\": \"banker\"}, {\"pca_2\": 2.392763376235962, \"pca_1\": -1.5975831747055054, \"name\": \"man\", \"original\": \"man\"}, {\"pca_2\": 0.78555828332901, \"pca_1\": -1.6417843103408813, \"name\": \"woman\", \"original\": \"woman\"}, {\"pca_2\": -1.788364291191101, \"pca_1\": 0.08844566345214844, \"name\": \"cousin\", \"original\": \"cousin\"}, {\"pca_2\": -2.4958081245422363, \"pca_1\": -0.2640823423862457, \"name\": \"neice\", \"original\": \"neice\"}, {\"pca_2\": 2.366339683532715, \"pca_1\": 4.284396648406982, \"name\": \"king\", \"original\": \"king\"}, {\"pca_2\": 0.6199108362197876, \"pca_1\": 3.8633878231048584, \"name\": \"queen\", \"original\": \"queen\"}, {\"pca_2\": 1.8008068799972534, \"pca_1\": -1.4314926862716675, \"name\": \"dude\", \"original\": \"dude\"}, {\"pca_2\": 1.8941237926483154, \"pca_1\": -2.0039174556732178, \"name\": \"guy\", \"original\": \"guy\"}, {\"pca_2\": -0.7789923548698425, \"pca_1\": -1.1506175994873047, \"name\": \"gal\", \"original\": \"gal\"}, {\"pca_2\": 1.607983112335205, \"pca_1\": -0.3874746263027191, \"name\": \"fire\", \"original\": \"fire\"}, {\"pca_2\": -1.3364670276641846, \"pca_1\": -1.5011231899261475, \"name\": \"dog\", \"original\": \"dog\"}, {\"pca_2\": -1.6327675580978394, \"pca_1\": -0.6315348148345947, \"name\": \"cat\", \"original\": \"cat\"}, {\"pca_2\": -1.6748226881027222, \"pca_1\": 0.1653272807598114, \"name\": \"mouse\", \"original\": \"mouse\"}, {\"pca_2\": -1.3793258666992188, \"pca_1\": 0.8340242505073547, \"name\": \"red\", \"original\": \"red\"}, {\"pca_2\": 0.22887346148490906, \"pca_1\": -0.011615407653152943, \"name\": \"bluee\", \"original\": \"bluee\"}, {\"pca_2\": -1.1082818508148193, \"pca_1\": 0.8428587913513184, \"name\": \"green\", \"original\": \"green\"}, {\"pca_2\": -1.7831952571868896, \"pca_1\": 0.8420842289924622, \"name\": \"yellow\", \"original\": \"yellow\"}, {\"pca_2\": 0.22754229605197906, \"pca_1\": -0.76308274269104, \"name\": \"water\", \"original\": \"water\"}, {\"pca_2\": 1.5558571815490723, \"pca_1\": -1.8055583238601685, \"name\": \"person\", \"original\": \"person\"}, {\"pca_2\": -0.9982203841209412, \"pca_1\": -0.6766523718833923, \"name\": \"family\", \"original\": \"family\"}, {\"pca_2\": -0.49075862765312195, \"pca_1\": -0.0504235103726387, \"name\": \"brother\", \"original\": \"brother\"}, {\"pca_2\": -2.2086501121520996, \"pca_1\": -0.16567137837409973, \"name\": \"sister\", \"original\": \"sister\"}, {\"pca_2\": 0.0, \"pca_1\": 0.0, \"name\": \"pca_0\", \"original\": \"pca_0\"}]}}, {\"mode\": \"vega-lite\"});\n",
       "</script>"
      ],
      "text/plain": [
       "alt.HConcatChart(...)"
      ]
     },
     "execution_count": 7,
     "metadata": {},
     "output_type": "execute_result"
    }
   ],
   "source": [
    "pca_emb = emb.transform(pca(3))\n",
    "\n",
    "pca_emb.plot_interactive('pca_0', 'pca_1') | pca_emb.plot_interactive('pca_2', 'pca_1')"
   ]
  },
  {
   "cell_type": "markdown",
   "metadata": {},
   "source": [
    "But why go with only two plots when you can have an entire matrix? "
   ]
  },
  {
   "cell_type": "code",
   "execution_count": 8,
   "metadata": {},
   "outputs": [
    {
     "data": {
      "text/html": [
       "\n",
       "<div id=\"altair-viz-563a9180001248e99240506c956e1de9\"></div>\n",
       "<script type=\"text/javascript\">\n",
       "  (function(spec, embedOpt){\n",
       "    const outputDiv = document.getElementById(\"altair-viz-563a9180001248e99240506c956e1de9\");\n",
       "    const paths = {\n",
       "      \"vega\": \"https://cdn.jsdelivr.net/npm//vega@5?noext\",\n",
       "      \"vega-lib\": \"https://cdn.jsdelivr.net/npm//vega-lib?noext\",\n",
       "      \"vega-lite\": \"https://cdn.jsdelivr.net/npm//vega-lite@4.0.2?noext\",\n",
       "      \"vega-embed\": \"https://cdn.jsdelivr.net/npm//vega-embed@6?noext\",\n",
       "    };\n",
       "\n",
       "    function loadScript(lib) {\n",
       "      return new Promise(function(resolve, reject) {\n",
       "        var s = document.createElement('script');\n",
       "        s.src = paths[lib];\n",
       "        s.async = true;\n",
       "        s.onload = () => resolve(paths[lib]);\n",
       "        s.onerror = () => reject(`Error loading script: ${paths[lib]}`);\n",
       "        document.getElementsByTagName(\"head\")[0].appendChild(s);\n",
       "      });\n",
       "    }\n",
       "\n",
       "    function showError(err) {\n",
       "      outputDiv.innerHTML = `<div class=\"error\" style=\"color:red;\">${err}</div>`;\n",
       "      throw err;\n",
       "    }\n",
       "\n",
       "    function displayChart(vegaEmbed) {\n",
       "      vegaEmbed(outputDiv, spec, embedOpt)\n",
       "        .catch(err => showError(`Javascript Error: ${err.message}<br>This usually means there's a typo in your chart specification. See the javascript console for the full traceback.`));\n",
       "    }\n",
       "\n",
       "    if(typeof define === \"function\" && define.amd) {\n",
       "      requirejs.config({paths});\n",
       "      require([\"vega-embed\"], displayChart, err => showError(`Error loading script: ${err.message}`));\n",
       "    } else if (typeof vegaEmbed === \"function\") {\n",
       "      displayChart(vegaEmbed);\n",
       "    } else {\n",
       "      loadScript(\"vega\")\n",
       "        .then(() => loadScript(\"vega-lite\"))\n",
       "        .then(() => loadScript(\"vega-embed\"))\n",
       "        .catch(showError)\n",
       "        .then(() => displayChart(vegaEmbed));\n",
       "    }\n",
       "  })({\"config\": {\"view\": {\"continuousWidth\": 400, \"continuousHeight\": 300}}, \"repeat\": {\"column\": [\"pca_0\", \"pca_1\", \"pca_2\"], \"row\": [\"pca_2\", \"pca_1\", \"pca_0\"]}, \"spec\": {\"layer\": [{\"mark\": \"circle\", \"encoding\": {\"text\": {\"type\": \"nominal\", \"field\": \"original\"}, \"tooltip\": [{\"type\": \"nominal\", \"field\": \"name\"}, {\"type\": \"nominal\", \"field\": \"original\"}], \"x\": {\"type\": \"quantitative\", \"field\": {\"repeat\": \"column\"}}, \"y\": {\"type\": \"quantitative\", \"field\": {\"repeat\": \"row\"}}}, \"selection\": {\"selector008\": {\"type\": \"interval\", \"bind\": \"scales\", \"encodings\": [\"x\", \"y\"]}}}, {\"mark\": {\"type\": \"text\", \"color\": \"black\", \"dx\": -15, \"dy\": 3}, \"encoding\": {\"text\": {\"type\": \"nominal\", \"field\": \"original\"}, \"tooltip\": [{\"type\": \"nominal\", \"field\": \"name\"}, {\"type\": \"nominal\", \"field\": \"original\"}], \"x\": {\"type\": \"quantitative\", \"field\": {\"repeat\": \"column\"}}, \"y\": {\"type\": \"quantitative\", \"field\": {\"repeat\": \"row\"}}}}], \"data\": {\"name\": \"data-6c5d178a37fe6fb176adb9491a015c81\"}, \"height\": 200, \"width\": 200}, \"$schema\": \"https://vega.github.io/schema/vega-lite/v4.0.2.json\", \"datasets\": {\"data-6c5d178a37fe6fb176adb9491a015c81\": [{\"pca_0\": -1.2535821199417114, \"pca_1\": 3.586676597595215, \"pca_2\": 1.4101698398590088, \"name\": \"PCA[prince]\", \"original\": \"prince\"}, {\"pca_0\": -0.9741005897521973, \"pca_1\": 3.7290642261505127, \"pca_2\": -0.901466965675354, \"name\": \"PCA[princess]\", \"original\": \"princess\"}, {\"pca_0\": -1.0501278638839722, \"pca_1\": -2.0268447399139404, \"pca_2\": -0.3621392846107483, \"name\": \"PCA[nurse]\", \"original\": \"nurse\"}, {\"pca_0\": -0.9151343703269958, \"pca_1\": -2.0640790462493896, \"pca_2\": 0.6259651184082031, \"name\": \"PCA[doctor]\", \"original\": \"doctor\"}, {\"pca_0\": 0.8430215716362, \"pca_1\": -0.06272825598716736, \"pca_2\": 3.4233667850494385, \"name\": \"PCA[banker]\", \"original\": \"banker\"}, {\"pca_0\": -0.43132147192955017, \"pca_1\": -1.5975831747055054, \"pca_2\": 2.392763376235962, \"name\": \"PCA[man]\", \"original\": \"man\"}, {\"pca_0\": -1.073258876800537, \"pca_1\": -1.6417843103408813, \"pca_2\": 0.78555828332901, \"name\": \"PCA[woman]\", \"original\": \"woman\"}, {\"pca_0\": -3.006711006164551, \"pca_1\": 0.08844566345214844, \"pca_2\": -1.788364291191101, \"name\": \"PCA[cousin]\", \"original\": \"cousin\"}, {\"pca_0\": -3.256138563156128, \"pca_1\": -0.2640823423862457, \"pca_2\": -2.4958081245422363, \"name\": \"PCA[neice]\", \"original\": \"neice\"}, {\"pca_0\": -0.8844128251075745, \"pca_1\": 4.284396648406982, \"pca_2\": 2.366339683532715, \"name\": \"PCA[king]\", \"original\": \"king\"}, {\"pca_0\": -0.9637596607208252, \"pca_1\": 3.8633878231048584, \"pca_2\": 0.6199108362197876, \"name\": \"PCA[queen]\", \"original\": \"queen\"}, {\"pca_0\": -0.37136709690093994, \"pca_1\": -1.4314926862716675, \"pca_2\": 1.8008068799972534, \"name\": \"PCA[dude]\", \"original\": \"dude\"}, {\"pca_0\": -0.33022043108940125, \"pca_1\": -2.0039174556732178, \"pca_2\": 1.8941237926483154, \"name\": \"PCA[guy]\", \"original\": \"guy\"}, {\"pca_0\": 0.005235184449702501, \"pca_1\": -1.1506175994873047, \"pca_2\": -0.7789923548698425, \"name\": \"PCA[gal]\", \"original\": \"gal\"}, {\"pca_0\": 2.1890616416931152, \"pca_1\": -0.3874746263027191, \"pca_2\": 1.607983112335205, \"name\": \"PCA[fire]\", \"original\": \"fire\"}, {\"pca_0\": 0.8451134562492371, \"pca_1\": -1.5011231899261475, \"pca_2\": -1.3364670276641846, \"name\": \"PCA[dog]\", \"original\": \"dog\"}, {\"pca_0\": 0.9290971755981445, \"pca_1\": -0.6315348148345947, \"pca_2\": -1.6327675580978394, \"name\": \"PCA[cat]\", \"original\": \"cat\"}, {\"pca_0\": 1.9717415571212769, \"pca_1\": 0.1653272807598114, \"pca_2\": -1.6748226881027222, \"name\": \"PCA[mouse]\", \"original\": \"mouse\"}, {\"pca_0\": 3.6464710235595703, \"pca_1\": 0.8340242505073547, \"pca_2\": -1.3793258666992188, \"name\": \"PCA[red]\", \"original\": \"red\"}, {\"pca_0\": 0.6217125654220581, \"pca_1\": -0.011615407653152943, \"pca_2\": 0.22887346148490906, \"name\": \"PCA[bluee]\", \"original\": \"bluee\"}, {\"pca_0\": 4.070711135864258, \"pca_1\": 0.8428587913513184, \"pca_2\": -1.1082818508148193, \"name\": \"PCA[green]\", \"original\": \"green\"}, {\"pca_0\": 3.9739019870758057, \"pca_1\": 0.8420842289924622, \"pca_2\": -1.7831952571868896, \"name\": \"PCA[yellow]\", \"original\": \"yellow\"}, {\"pca_0\": 3.1992409229278564, \"pca_1\": -0.76308274269104, \"pca_2\": 0.22754229605197906, \"name\": \"PCA[water]\", \"original\": \"water\"}, {\"pca_0\": -0.4370383024215698, \"pca_1\": -1.8055583238601685, \"pca_2\": 1.5558571815490723, \"name\": \"PCA[person]\", \"original\": \"person\"}, {\"pca_0\": -1.5232115983963013, \"pca_1\": -0.6766523718833923, \"pca_2\": -0.9982203841209412, \"name\": \"PCA[family]\", \"original\": \"family\"}, {\"pca_0\": -2.889375925064087, \"pca_1\": -0.0504235103726387, \"pca_2\": -0.49075862765312195, \"name\": \"PCA[brother]\", \"original\": \"brother\"}, {\"pca_0\": -2.935547351837158, \"pca_1\": -0.16567137837409973, \"pca_2\": -2.2086501121520996, \"name\": \"PCA[sister]\", \"original\": \"sister\"}, {\"pca_0\": 1.0, \"pca_1\": 0.0, \"pca_2\": 0.0, \"name\": \"PCA[pca_0]\", \"original\": \"pca_0\"}, {\"pca_0\": 0.0, \"pca_1\": 1.0, \"pca_2\": 0.0, \"name\": \"PCA[pca_1]\", \"original\": \"pca_1\"}, {\"pca_0\": 0.0, \"pca_1\": 0.0, \"pca_2\": 1.0, \"name\": \"PCA[pca_2]\", \"original\": \"pca_2\"}]}}, {\"mode\": \"vega-lite\"});\n",
       "</script>"
      ],
      "text/plain": [
       "alt.RepeatChart(...)"
      ]
     },
     "execution_count": 8,
     "metadata": {},
     "output_type": "execute_result"
    }
   ],
   "source": [
    "pca_emb.plot_interactive_matrix('pca_0', 'pca_1', 'pca_2', annot=True)"
   ]
  },
  {
   "cell_type": "markdown",
   "metadata": {},
   "source": [
    "What is particularily interesting here is the pca axes. They seem to encode information and can we attempt an understanding by glancing at it.\n",
    "\n",
    "But the overlap makes it hard to read. So let's apply one more transformation here."
   ]
  },
  {
   "cell_type": "code",
   "execution_count": 12,
   "metadata": {},
   "outputs": [
    {
     "data": {
      "text/html": [
       "\n",
       "<div id=\"altair-viz-785428abf23f4b06886e7068a2789cfa\"></div>\n",
       "<script type=\"text/javascript\">\n",
       "  (function(spec, embedOpt){\n",
       "    const outputDiv = document.getElementById(\"altair-viz-785428abf23f4b06886e7068a2789cfa\");\n",
       "    const paths = {\n",
       "      \"vega\": \"https://cdn.jsdelivr.net/npm//vega@5?noext\",\n",
       "      \"vega-lib\": \"https://cdn.jsdelivr.net/npm//vega-lib?noext\",\n",
       "      \"vega-lite\": \"https://cdn.jsdelivr.net/npm//vega-lite@4.0.2?noext\",\n",
       "      \"vega-embed\": \"https://cdn.jsdelivr.net/npm//vega-embed@6?noext\",\n",
       "    };\n",
       "\n",
       "    function loadScript(lib) {\n",
       "      return new Promise(function(resolve, reject) {\n",
       "        var s = document.createElement('script');\n",
       "        s.src = paths[lib];\n",
       "        s.async = true;\n",
       "        s.onload = () => resolve(paths[lib]);\n",
       "        s.onerror = () => reject(`Error loading script: ${paths[lib]}`);\n",
       "        document.getElementsByTagName(\"head\")[0].appendChild(s);\n",
       "      });\n",
       "    }\n",
       "\n",
       "    function showError(err) {\n",
       "      outputDiv.innerHTML = `<div class=\"error\" style=\"color:red;\">${err}</div>`;\n",
       "      throw err;\n",
       "    }\n",
       "\n",
       "    function displayChart(vegaEmbed) {\n",
       "      vegaEmbed(outputDiv, spec, embedOpt)\n",
       "        .catch(err => showError(`Javascript Error: ${err.message}<br>This usually means there's a typo in your chart specification. See the javascript console for the full traceback.`));\n",
       "    }\n",
       "\n",
       "    if(typeof define === \"function\" && define.amd) {\n",
       "      requirejs.config({paths});\n",
       "      require([\"vega-embed\"], displayChart, err => showError(`Error loading script: ${err.message}`));\n",
       "    } else if (typeof vegaEmbed === \"function\") {\n",
       "      displayChart(vegaEmbed);\n",
       "    } else {\n",
       "      loadScript(\"vega\")\n",
       "        .then(() => loadScript(\"vega-lite\"))\n",
       "        .then(() => loadScript(\"vega-embed\"))\n",
       "        .catch(showError)\n",
       "        .then(() => displayChart(vegaEmbed));\n",
       "    }\n",
       "  })({\"config\": {\"view\": {\"continuousWidth\": 400, \"continuousHeight\": 300}}, \"repeat\": {\"column\": [\"king\", \"queen\", \"man\", \"woman\"], \"row\": [\"woman\", \"man\", \"queen\", \"king\"]}, \"spec\": {\"layer\": [{\"mark\": \"circle\", \"encoding\": {\"text\": {\"type\": \"nominal\", \"field\": \"original\"}, \"tooltip\": [{\"type\": \"nominal\", \"field\": \"name\"}, {\"type\": \"nominal\", \"field\": \"original\"}], \"x\": {\"type\": \"quantitative\", \"field\": {\"repeat\": \"column\"}}, \"y\": {\"type\": \"quantitative\", \"field\": {\"repeat\": \"row\"}}}, \"selection\": {\"selector013\": {\"type\": \"interval\", \"bind\": \"scales\", \"encodings\": [\"x\", \"y\"]}}}, {\"mark\": {\"type\": \"text\", \"color\": \"black\", \"dx\": -15, \"dy\": 3}, \"encoding\": {\"text\": {\"type\": \"nominal\", \"field\": \"original\"}, \"tooltip\": [{\"type\": \"nominal\", \"field\": \"name\"}, {\"type\": \"nominal\", \"field\": \"original\"}], \"x\": {\"type\": \"quantitative\", \"field\": {\"repeat\": \"column\"}}, \"y\": {\"type\": \"quantitative\", \"field\": {\"repeat\": \"row\"}}}}], \"data\": {\"name\": \"data-55f102e15795747443dbb6c654a08f6a\"}, \"height\": 200, \"width\": 200}, \"$schema\": \"https://vega.github.io/schema/vega-lite/v4.0.2.json\", \"datasets\": {\"data-55f102e15795747443dbb6c654a08f6a\": [{\"king\": 0.9572302056039282, \"queen\": 0.6239630089802192, \"man\": -0.17707934189846525, \"woman\": -0.24013706892643388, \"name\": \"prince\", \"original\": \"prince\"}, {\"king\": 0.5646705075982588, \"queen\": 0.5192783891507605, \"man\": -0.8422445162466442, \"woman\": -0.7815038227154221, \"name\": \"princess\", \"original\": \"princess\"}, {\"king\": -0.36584193979538293, \"queen\": -0.24039425634501255, \"man\": 0.03375482486822386, \"woman\": 0.05054058654200992, \"name\": \"nurse\", \"original\": \"nurse\"}, {\"king\": -0.48468048288400584, \"queen\": -0.387911203485704, \"man\": 0.48922968996706445, \"woman\": 0.4813142694216796, \"name\": \"doctor\", \"original\": \"doctor\"}, {\"king\": -0.23754478641770135, \"queen\": -0.3370997833477575, \"man\": 0.5735755689956499, \"woman\": 0.42076629538893706, \"name\": \"banker\", \"original\": \"banker\"}, {\"king\": -0.2452479949853683, \"queen\": 0.11281144972990681, \"man\": -0.38952282768316665, \"woman\": -0.0712448411486783, \"name\": \"cousin\", \"original\": \"cousin\"}, {\"king\": -0.34173262922092845, \"queen\": 0.08066860361939658, \"man\": -0.37647744909082137, \"woman\": -0.011573376180873198, \"name\": \"neice\", \"original\": \"neice\"}, {\"king\": -0.01726158767334547, \"queen\": -0.025126511450017902, \"man\": 0.30268938470340706, \"woman\": 0.32732101131069224, \"name\": \"dude\", \"original\": \"dude\"}, {\"king\": -0.7370554612787887, \"queen\": -0.6233609017060843, \"man\": 0.7931024203800147, \"woman\": 0.7433943578475067, \"name\": \"guy\", \"original\": \"guy\"}, {\"king\": -0.15891886625201337, \"queen\": -0.08568044442806375, \"man\": -0.050878642097724476, \"woman\": -0.027812671271017875, \"name\": \"gal\", \"original\": \"gal\"}, {\"king\": -0.18324284127733603, \"queen\": -0.20015733531596788, \"man\": 0.005800956766884933, \"woman\": -0.09353246078832415, \"name\": \"fire\", \"original\": \"fire\"}, {\"king\": -0.4340106865915252, \"queen\": -0.3262658040477861, \"man\": 0.28027188285747057, \"woman\": 0.27915361977265835, \"name\": \"dog\", \"original\": \"dog\"}, {\"king\": -0.6718979755054332, \"queen\": -0.4641831300236342, \"man\": 0.095418719246724, \"woman\": 0.10073296960025672, \"name\": \"cat\", \"original\": \"cat\"}, {\"king\": -0.2700819144738418, \"queen\": -0.17055902808031673, \"man\": -0.2061540813492796, \"woman\": -0.2169399479298008, \"name\": \"mouse\", \"original\": \"mouse\"}, {\"king\": -0.02642894278172356, \"queen\": 0.040073899349975864, \"man\": -1.0087210627722838, \"woman\": -1.0727213968004359, \"name\": \"red\", \"original\": \"red\"}, {\"king\": 0.19397070979192454, \"queen\": 0.05827918698038592, \"man\": 0.1398240012275275, \"woman\": 0.06091474866114479, \"name\": \"bluee\", \"original\": \"bluee\"}, {\"king\": -0.22062783352740156, \"queen\": -0.0904287630240568, \"man\": -0.7455098885344659, \"woman\": -0.7700812655544205, \"name\": \"green\", \"original\": \"green\"}, {\"king\": 0.209361012305237, \"queen\": 0.13666590638357595, \"man\": -0.5442990234946997, \"woman\": -0.6286759579012117, \"name\": \"yellow\", \"original\": \"yellow\"}, {\"king\": 0.028524095320071975, \"queen\": -0.08915751208761617, \"man\": -0.1414466616637607, \"woman\": -0.30587646505275823, \"name\": \"water\", \"original\": \"water\"}, {\"king\": 0.0909555096798396, \"queen\": -0.1319935811658983, \"man\": 0.8738141296218588, \"woman\": 0.7379375314715992, \"name\": \"person\", \"original\": \"person\"}, {\"king\": -0.189805506765932, \"queen\": 0.14997210023808075, \"man\": -0.6981640153134576, \"woman\": -0.4239918041299105, \"name\": \"family\", \"original\": \"family\"}, {\"king\": -0.02491687157210467, \"queen\": 0.0836064292794219, \"man\": -0.011847600017833505, \"woman\": 0.12043487373644267, \"name\": \"brother\", \"original\": \"brother\"}, {\"king\": -0.6354842490680974, \"queen\": -0.2628525809969163, \"man\": 0.12379631571398952, \"woman\": 0.3680980223962014, \"name\": \"sister\", \"original\": \"sister\"}, {\"king\": 0.20286712586056277, \"queen\": 0.16931001928946418, \"man\": -0.43685179434010474, \"woman\": -0.4568110877977042, \"name\": \"pca_0\", \"original\": \"pca_0\"}, {\"king\": 0.2286345344934496, \"queen\": 0.13155628518178078, \"man\": 0.1309176553247885, \"woman\": 0.11685780110343662, \"name\": \"pca_1\", \"original\": \"pca_1\"}, {\"king\": 0.056292070916209115, \"queen\": -0.0739678180765396, \"man\": 0.340572986889654, \"woman\": 0.23870394229422737, \"name\": \"pca_2\", \"original\": \"pca_2\"}]}}, {\"mode\": \"vega-lite\"});\n",
       "</script>"
      ],
      "text/plain": [
       "alt.RepeatChart(...)"
      ]
     },
     "execution_count": 12,
     "metadata": {},
     "output_type": "execute_result"
    }
   ],
   "source": [
    "from whatlies.transformers import noise \n",
    "\n",
    "(emb\n",
    " .transform(pca(3))\n",
    " .transform(noise(1))\n",
    " .plot_interactive_matrix('king', 'queen', 'man', 'woman', annot=True, width=200, height=200))"
   ]
  },
  {
   "cell_type": "code",
   "execution_count": null,
   "metadata": {},
   "outputs": [],
   "source": []
  },
  {
   "cell_type": "code",
   "execution_count": null,
   "metadata": {},
   "outputs": [],
   "source": []
  }
 ],
 "metadata": {
  "kernelspec": {
   "display_name": "Python 3",
   "language": "python",
   "name": "python3"
  },
  "language_info": {
   "codemirror_mode": {
    "name": "ipython",
    "version": 3
   },
   "file_extension": ".py",
   "mimetype": "text/x-python",
   "name": "python",
   "nbconvert_exporter": "python",
   "pygments_lexer": "ipython3",
   "version": "3.7.3"
  }
 },
 "nbformat": 4,
 "nbformat_minor": 4
}
