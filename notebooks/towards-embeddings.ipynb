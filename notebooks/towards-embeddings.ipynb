{
 "cells": [
  {
   "cell_type": "markdown",
   "metadata": {},
   "source": [
    "## Towards Embeddings \n",
    "\n",
    "The previous example was cute but usually we won't have embeddings that are mere 2d vectors. I want to understand \"what lies\" in general word embeddings. \n",
    "\n",
    "So, what can we do? We'll briefly talk about 2d embeddings in order to understand something about plotting higher dimensional vectors."
   ]
  },
  {
   "cell_type": "code",
   "execution_count": null,
   "metadata": {},
   "outputs": [],
   "source": [
    "%load_ext autoreload\n",
    "%autoreload 2"
   ]
  },
  {
   "cell_type": "code",
   "execution_count": null,
   "metadata": {},
   "outputs": [],
   "source": [
    "import matplotlib.pylab as plt\n",
    "plt.rcParams[\"figure.figsize\"] = (6, 6)\n",
    "\n",
    "from whatlies import Embedding, Token"
   ]
  },
  {
   "cell_type": "markdown",
   "metadata": {},
   "source": [
    "## Imaginary Embeddings\n",
    "\n",
    "Let's take three embeddings as an example."
   ]
  },
  {
   "cell_type": "code",
   "execution_count": null,
   "metadata": {},
   "outputs": [],
   "source": [
    "man   = Token(\"man\", [0.5, 0.15])\n",
    "woman = Token(\"woman\", [0.35, 0.2])\n",
    "king  = Token(\"king\", [0.2, -0.2])\n",
    "\n",
    "man.plot(kind=\"arrow\", color=\"blue\")\n",
    "woman.plot(kind=\"arrow\", color=\"red\")\n",
    "king.plot(kind=\"arrow\", color=\"green\")\n",
    "\n",
    "plt.axis('off');"
   ]
  },
  {
   "cell_type": "markdown",
   "metadata": {},
   "source": [
    "## Mapping Unto Tokens\n",
    "\n",
    "In the previous notebook we demonstrated how to map \"away\" from vectors. But we can also map \"unto\" vectors. For this we introduce the `>>` operator."
   ]
  },
  {
   "cell_type": "code",
   "execution_count": null,
   "metadata": {},
   "outputs": [],
   "source": [
    "man.plot(kind=\"arrow\", color=\"blue\")\n",
    "woman.plot(kind=\"arrow\", color=\"red\")\n",
    "king.plot(kind=\"arrow\", color=\"green\")\n",
    "(woman >> man).plot(kind=\"arrow\", color=\"red\")\n",
    "(woman >> king).plot(kind=\"arrow\", color=\"red\")\n",
    "\n",
    "plt.axis('off');"
   ]
  },
  {
   "cell_type": "markdown",
   "metadata": {},
   "source": [
    "### `>>` vs. `>`\n",
    "\n",
    "Note that the `woman` vector in our embedding maps better unto `man` than `king`. We can quantify the overlap with another operator `>`. "
   ]
  },
  {
   "cell_type": "code",
   "execution_count": null,
   "metadata": {},
   "outputs": [],
   "source": [
    "woman > man, woman > king"
   ]
  },
  {
   "cell_type": "markdown",
   "metadata": {},
   "source": [
    "Let's check this when we map `man` on the other vectors."
   ]
  },
  {
   "cell_type": "code",
   "execution_count": null,
   "metadata": {},
   "outputs": [],
   "source": [
    "man.plot(kind=\"arrow\", color=\"blue\")\n",
    "(man >> woman).plot(kind=\"arrow\", color=\"blue\")\n",
    "woman.plot(kind=\"arrow\", color=\"red\")\n",
    "king.plot(kind=\"arrow\", color=\"green\")\n",
    "(man >> king).plot(kind=\"arrow\", color=\"blue\")\n",
    "\n",
    "plt.axis('off');"
   ]
  },
  {
   "cell_type": "code",
   "execution_count": null,
   "metadata": {},
   "outputs": [],
   "source": [
    "man > woman, man > king"
   ]
  },
  {
   "cell_type": "markdown",
   "metadata": {},
   "source": [
    "## Interesting \n",
    "\n",
    "The interesting thing here is that we can plot one token on the axis of another one. No matter how large the embedding, we can say `man` spans 0.875 of `king` and 1.262 of `woman`. Given `king` as the x-axis and `woman` as the y-axis, we can map the token of `man` to a 2d representation (0.875, 1.262).\n",
    "\n",
    "This is an interesting way of thinking about it. We can plot high dimensional vectors in 2d as long as we can plot it along two axes. An axis could be a vector of a token, or a token that has had operations on it. "
   ]
  }
 ],
 "metadata": {
  "kernelspec": {
   "display_name": "Python 3",
   "language": "python",
   "name": "python3"
  },
  "language_info": {
   "codemirror_mode": {
    "name": "ipython",
    "version": 3
   },
   "file_extension": ".py",
   "mimetype": "text/x-python",
   "name": "python",
   "nbconvert_exporter": "python",
   "pygments_lexer": "ipython3",
   "version": "3.7.3"
  }
 },
 "nbformat": 4,
 "nbformat_minor": 4
}
