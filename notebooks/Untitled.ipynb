{
 "cells": [
  {
   "cell_type": "code",
   "execution_count": null,
   "metadata": {},
   "outputs": [],
   "source": [
    "# import numpy as np\n",
    "# import matplotlib.pyplot as plt"
   ]
  },
  {
   "cell_type": "code",
   "execution_count": null,
   "metadata": {},
   "outputs": [],
   "source": [
    "# import numpy as np\n",
    "# from whatlies.language import SpacyLanguage\n",
    "# from whatlies import Embedding, EmbeddingSet\n",
    "\n",
    "# lang = SpacyLanguage(\"en_core_web_md\")"
   ]
  },
  {
   "cell_type": "code",
   "execution_count": null,
   "metadata": {},
   "outputs": [],
   "source": [
    "# ! python -m spacy download en_core_core_sm en_web_core_md en_web_core_lg"
   ]
  },
  {
   "cell_type": "code",
   "execution_count": null,
   "metadata": {},
   "outputs": [],
   "source": [
    "# nrows = max(len(cmap_list) for cmap_category, cmap_list in cmaps)\n",
    "# gradient = np.linspace(0, 1, 256)\n",
    "# gradient = np.vstack((gradient, gradient))\n",
    "\n",
    "\n",
    "# def plot_color_gradients(cmap_category, cmap_list, nrows):\n",
    "#     fig, axes = plt.subplots(nrows=nrows)\n",
    "#     fig.subplots_adjust(top=0.95, bottom=0.01, left=0.2, right=0.99)\n",
    "#     axes[0].set_title('embeddings', fontsize=14)\n",
    "\n",
    "#     for ax, name in zip(axes, cmap_list):\n",
    "#         ax.imshow(np.array([lang[name].vector, lang[name].vector]), \n",
    "#                   aspect='auto', cmap=plt.get_cmap('viridis'))\n",
    "#         pos = list(ax.get_position().bounds)\n",
    "#         x_text = pos[0] - 0.01\n",
    "#         y_text = pos[1] + pos[3]/2.\n",
    "#         fig.text(x_text, y_text, name, va='center', ha='right', fontsize=10)\n",
    "\n",
    "#     # Turn off *all* ticks & spines, not just the ones with colormaps.\n",
    "#     for ax in axes:\n",
    "#         ax.set_axis_off()\n",
    "\n",
    "# plot_color_gradients('yo', ['red', 'blue', 'dog', 'cat', 'fork', 'spoon'], 10)"
   ]
  },
  {
   "cell_type": "code",
   "execution_count": null,
   "metadata": {},
   "outputs": [],
   "source": [
    "# tokens = ['red', 'blue', 'dog', 'cat', 'mouse', 'dj', 'yellow']\n",
    "# emb = EmbeddingSet(*[lang[c] for c in tokens])\n",
    "# emb.plot('scatter', emb['red'], emb['cat']).plot('text', emb['red'], emb['cat'])"
   ]
  },
  {
   "cell_type": "code",
   "execution_count": null,
   "metadata": {},
   "outputs": [],
   "source": [
    "# from sklearn.decomposition import PCA"
   ]
  },
  {
   "cell_type": "code",
   "execution_count": null,
   "metadata": {},
   "outputs": [],
   "source": [
    "# colors = ['red', 'blue', 'yellow', 'orange', 'pink', 'white', 'black']\n",
    "# v = PCA(n_components=1).fit_transform(np.array([lang[t].vector for t in colors]).T).reshape(-1)"
   ]
  },
  {
   "cell_type": "code",
   "execution_count": null,
   "metadata": {},
   "outputs": [],
   "source": [
    "# x_axis = Embedding('colors', v)\n",
    "# y_axis = emb['red']\n",
    "# (emb\n",
    "#  .plot('scatter', x_axis, y_axis)\n",
    "#  .plot('text', x_axis, y_axis))"
   ]
  },
  {
   "cell_type": "code",
   "execution_count": null,
   "metadata": {},
   "outputs": [],
   "source": []
  },
  {
   "cell_type": "code",
   "execution_count": null,
   "metadata": {},
   "outputs": [],
   "source": []
  }
 ],
 "metadata": {
  "kernelspec": {
   "display_name": "Python 3",
   "language": "python",
   "name": "python3"
  },
  "language_info": {
   "codemirror_mode": {
    "name": "ipython",
    "version": 3
   },
   "file_extension": ".py",
   "mimetype": "text/x-python",
   "name": "python",
   "nbconvert_exporter": "python",
   "pygments_lexer": "ipython3",
   "version": "3.7.3"
  }
 },
 "nbformat": 4,
 "nbformat_minor": 4
}
