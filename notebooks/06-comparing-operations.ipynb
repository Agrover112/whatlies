{
 "cells": [
  {
   "cell_type": "code",
   "execution_count": 1,
   "metadata": {},
   "outputs": [],
   "source": [
    "%load_ext autoreload\n",
    "%autoreload 2"
   ]
  },
  {
   "cell_type": "code",
   "execution_count": 2,
   "metadata": {},
   "outputs": [],
   "source": [
    "from whatlies import Embedding, EmbeddingSet\n",
    "from whatlies.language import SpacyLanguage"
   ]
  },
  {
   "cell_type": "code",
   "execution_count": 59,
   "metadata": {},
   "outputs": [],
   "source": [
    "lang = SpacyLanguage('en_core_web_sm')\n",
    "\n",
    "words1 = [\"dog\", \"cat\", \"mouse\", \"deer\", \"elephant\", \"zebra\", \"fish\", \"rabbit\", \"rat\", \n",
    "          \"tomato\", \"banana\", \"coffee\", \"tea\", \"apple\", \"union\"]\n",
    "\n",
    "words2 = [\"run\", \"swim\", \"dance\", \"sit\", \"eat\", \"hear\", \"look\", \"run\", \"stand\"]"
   ]
  },
  {
   "cell_type": "markdown",
   "metadata": {},
   "source": [
    "## Stateful Transformations\n",
    "\n",
    "Many transformations that we offer carry state. The first time they are applied they learn from the data that they see, but they can be re-used afterwards.\n",
    "\n",
    "Let's show a quick example below."
   ]
  },
  {
   "cell_type": "code",
   "execution_count": 60,
   "metadata": {},
   "outputs": [],
   "source": [
    "from whatlies.transformers import Pca"
   ]
  },
  {
   "cell_type": "code",
   "execution_count": 61,
   "metadata": {},
   "outputs": [
    {
     "data": {
      "text/html": [
       "\n",
       "<div id=\"altair-viz-4aa81db922e149d39eb255c15c2bc354\"></div>\n",
       "<script type=\"text/javascript\">\n",
       "  (function(spec, embedOpt){\n",
       "    const outputDiv = document.getElementById(\"altair-viz-4aa81db922e149d39eb255c15c2bc354\");\n",
       "    const paths = {\n",
       "      \"vega\": \"https://cdn.jsdelivr.net/npm//vega@5?noext\",\n",
       "      \"vega-lib\": \"https://cdn.jsdelivr.net/npm//vega-lib?noext\",\n",
       "      \"vega-lite\": \"https://cdn.jsdelivr.net/npm//vega-lite@4.0.2?noext\",\n",
       "      \"vega-embed\": \"https://cdn.jsdelivr.net/npm//vega-embed@6?noext\",\n",
       "    };\n",
       "\n",
       "    function loadScript(lib) {\n",
       "      return new Promise(function(resolve, reject) {\n",
       "        var s = document.createElement('script');\n",
       "        s.src = paths[lib];\n",
       "        s.async = true;\n",
       "        s.onload = () => resolve(paths[lib]);\n",
       "        s.onerror = () => reject(`Error loading script: ${paths[lib]}`);\n",
       "        document.getElementsByTagName(\"head\")[0].appendChild(s);\n",
       "      });\n",
       "    }\n",
       "\n",
       "    function showError(err) {\n",
       "      outputDiv.innerHTML = `<div class=\"error\" style=\"color:red;\">${err}</div>`;\n",
       "      throw err;\n",
       "    }\n",
       "\n",
       "    function displayChart(vegaEmbed) {\n",
       "      vegaEmbed(outputDiv, spec, embedOpt)\n",
       "        .catch(err => showError(`Javascript Error: ${err.message}<br>This usually means there's a typo in your chart specification. See the javascript console for the full traceback.`));\n",
       "    }\n",
       "\n",
       "    if(typeof define === \"function\" && define.amd) {\n",
       "      requirejs.config({paths});\n",
       "      require([\"vega-embed\"], displayChart, err => showError(`Error loading script: ${err.message}`));\n",
       "    } else if (typeof vegaEmbed === \"function\") {\n",
       "      displayChart(vegaEmbed);\n",
       "    } else {\n",
       "      loadScript(\"vega\")\n",
       "        .then(() => loadScript(\"vega-lite\"))\n",
       "        .then(() => loadScript(\"vega-embed\"))\n",
       "        .catch(showError)\n",
       "        .then(() => displayChart(vegaEmbed));\n",
       "    }\n",
       "  })({\"config\": {\"view\": {\"continuousWidth\": 400, \"continuousHeight\": 300}}, \"hconcat\": [{\"layer\": [{\"mark\": {\"type\": \"circle\", \"size\": 60}, \"encoding\": {\"color\": {\"type\": \"nominal\", \"field\": \"\", \"legend\": null}, \"tooltip\": [{\"type\": \"nominal\", \"field\": \"name\"}, {\"type\": \"nominal\", \"field\": \"original\"}], \"x\": {\"type\": \"quantitative\", \"axis\": {\"title\": \"pca_0\"}, \"field\": \"x_axis\"}, \"y\": {\"type\": \"quantitative\", \"axis\": {\"title\": \"pca_1\"}, \"field\": \"y_axis\"}}, \"selection\": {\"selector075\": {\"type\": \"interval\", \"bind\": \"scales\", \"encodings\": [\"x\", \"y\"]}}, \"title\": \"pca_0 vs. pca_1\"}, {\"mark\": {\"type\": \"text\", \"color\": \"black\", \"dx\": -15, \"dy\": 3}, \"encoding\": {\"text\": {\"type\": \"nominal\", \"field\": \"original\"}, \"x\": {\"type\": \"quantitative\", \"axis\": {\"title\": \"pca_0\"}, \"field\": \"x_axis\"}, \"y\": {\"type\": \"quantitative\", \"axis\": {\"title\": \"pca_1\"}, \"field\": \"y_axis\"}}}], \"data\": {\"name\": \"data-eb725dd56fbb1c875e295c18fbb74234\"}}, {\"layer\": [{\"mark\": {\"type\": \"circle\", \"size\": 60}, \"encoding\": {\"color\": {\"type\": \"nominal\", \"field\": \"\", \"legend\": null}, \"tooltip\": [{\"type\": \"nominal\", \"field\": \"name\"}, {\"type\": \"nominal\", \"field\": \"original\"}], \"x\": {\"type\": \"quantitative\", \"axis\": {\"title\": \"pca_0\"}, \"field\": \"x_axis\"}, \"y\": {\"type\": \"quantitative\", \"axis\": {\"title\": \"pca_1\"}, \"field\": \"y_axis\"}}, \"selection\": {\"selector076\": {\"type\": \"interval\", \"bind\": \"scales\", \"encodings\": [\"x\", \"y\"]}}, \"title\": \"pca_0 vs. pca_1\"}, {\"mark\": {\"type\": \"text\", \"color\": \"black\", \"dx\": -15, \"dy\": 3}, \"encoding\": {\"text\": {\"type\": \"nominal\", \"field\": \"original\"}, \"x\": {\"type\": \"quantitative\", \"axis\": {\"title\": \"pca_0\"}, \"field\": \"x_axis\"}, \"y\": {\"type\": \"quantitative\", \"axis\": {\"title\": \"pca_1\"}, \"field\": \"y_axis\"}}}], \"data\": {\"name\": \"data-67942e0c9f17a6a3e3244f355b4127bc\"}}], \"$schema\": \"https://vega.github.io/schema/vega-lite/v4.0.2.json\", \"datasets\": {\"data-eb725dd56fbb1c875e295c18fbb74234\": [{\"x_axis\": -5.1195759773254395, \"y_axis\": -0.8356651067733765, \"name\": \"dog\", \"original\": \"dog\"}, {\"x_axis\": -2.625354528427124, \"y_axis\": -2.920870065689087, \"name\": \"cat\", \"original\": \"cat\"}, {\"x_axis\": 2.6260647773742676, \"y_axis\": -5.68449068069458, \"name\": \"mouse\", \"original\": \"mouse\"}, {\"x_axis\": -0.07125915586948395, \"y_axis\": 12.482808113098145, \"name\": \"deer\", \"original\": \"deer\"}, {\"x_axis\": 5.464134693145752, \"y_axis\": -2.491166353225708, \"name\": \"elephant\", \"original\": \"elephant\"}, {\"x_axis\": 7.950778961181641, \"y_axis\": 5.453446388244629, \"name\": \"zebra\", \"original\": \"zebra\"}, {\"x_axis\": -5.721877098083496, \"y_axis\": -0.11706196516752243, \"name\": \"fish\", \"original\": \"fish\"}, {\"x_axis\": -4.368842601776123, \"y_axis\": 3.220268964767456, \"name\": \"rabbit\", \"original\": \"rabbit\"}, {\"x_axis\": 0.06739696115255356, \"y_axis\": -1.1803253889083862, \"name\": \"rat\", \"original\": \"rat\"}, {\"x_axis\": -2.1542224884033203, \"y_axis\": 1.3530752658843994, \"name\": \"tomato\", \"original\": \"tomato\"}, {\"x_axis\": 0.06402222067117691, \"y_axis\": 0.8025760650634766, \"name\": \"banana\", \"original\": \"banana\"}, {\"x_axis\": -2.8132002353668213, \"y_axis\": -4.9925079345703125, \"name\": \"coffee\", \"original\": \"coffee\"}, {\"x_axis\": -4.029880046844482, \"y_axis\": -2.4596590995788574, \"name\": \"tea\", \"original\": \"tea\"}, {\"x_axis\": 1.703190565109253, \"y_axis\": 1.3298954963684082, \"name\": \"apple\", \"original\": \"apple\"}, {\"x_axis\": 9.028623580932617, \"y_axis\": -3.9603259563446045, \"name\": \"union\", \"original\": \"union\"}], \"data-67942e0c9f17a6a3e3244f355b4127bc\": [{\"x_axis\": -3.0633111000061035, \"y_axis\": 6.47857666015625, \"name\": \"run\", \"original\": \"run\"}, {\"x_axis\": -3.183206796646118, \"y_axis\": 0.012674766592681408, \"name\": \"swim\", \"original\": \"swim\"}, {\"x_axis\": -2.873988389968872, \"y_axis\": 0.49098217487335205, \"name\": \"dance\", \"original\": \"dance\"}, {\"x_axis\": -1.874295711517334, \"y_axis\": 4.5532355308532715, \"name\": \"sit\", \"original\": \"sit\"}, {\"x_axis\": -1.6338623762130737, \"y_axis\": 2.3298676013946533, \"name\": \"eat\", \"original\": \"eat\"}, {\"x_axis\": -1.5577855110168457, \"y_axis\": 2.825950860977173, \"name\": \"hear\", \"original\": \"hear\"}, {\"x_axis\": -3.434386730194092, \"y_axis\": 4.9115118980407715, \"name\": \"look\", \"original\": \"look\"}, {\"x_axis\": -2.8633103370666504, \"y_axis\": 1.0961978435516357, \"name\": \"stand\", \"original\": \"stand\"}]}}, {\"mode\": \"vega-lite\"});\n",
       "</script>"
      ],
      "text/plain": [
       "alt.HConcatChart(...)"
      ]
     },
     "execution_count": 61,
     "metadata": {},
     "output_type": "execute_result"
    }
   ],
   "source": [
    "pca = Pca(2)\n",
    "\n",
    "emb1 = lang[words1].transform(pca)\n",
    "emb2 = lang[words2].transform(pca)\n",
    "\n",
    "p1 = emb1.plot_interactive('pca_0', 'pca_1', )\n",
    "p2 = emb2.plot_interactive('pca_0', 'pca_1', )\n",
    "\n",
    "p1 | p2"
   ]
  },
  {
   "cell_type": "markdown",
   "metadata": {},
   "source": [
    "### Out of Scope Detection\n",
    "\n",
    "We can improve this flow of working though. We can add properties to embeddings that can be used for plotting.\n",
    "\n",
    "To demonstrate this we're going to train UMAP on one set and then we'll apply it on another one. \n",
    "\n",
    "A clearer example might be to demonstrate `Umap`. We will train it on one set but apply it on both. "
   ]
  },
  {
   "cell_type": "code",
   "execution_count": 66,
   "metadata": {},
   "outputs": [
    {
     "name": "stderr",
     "output_type": "stream",
     "text": [
      "/Users/vincent/Development/whatlies/venv/lib/python3.7/site-packages/umap/umap_.py:1383: UserWarning: n_neighbors is larger than the dataset size; truncating to X.shape[0] - 1\n",
      "  \"n_neighbors is larger than the dataset size; truncating to \"\n"
     ]
    },
    {
     "data": {
      "text/html": [
       "\n",
       "<div id=\"altair-viz-3b486e335263424e8fd75f94fb930871\"></div>\n",
       "<script type=\"text/javascript\">\n",
       "  (function(spec, embedOpt){\n",
       "    const outputDiv = document.getElementById(\"altair-viz-3b486e335263424e8fd75f94fb930871\");\n",
       "    const paths = {\n",
       "      \"vega\": \"https://cdn.jsdelivr.net/npm//vega@5?noext\",\n",
       "      \"vega-lib\": \"https://cdn.jsdelivr.net/npm//vega-lib?noext\",\n",
       "      \"vega-lite\": \"https://cdn.jsdelivr.net/npm//vega-lite@4.0.2?noext\",\n",
       "      \"vega-embed\": \"https://cdn.jsdelivr.net/npm//vega-embed@6?noext\",\n",
       "    };\n",
       "\n",
       "    function loadScript(lib) {\n",
       "      return new Promise(function(resolve, reject) {\n",
       "        var s = document.createElement('script');\n",
       "        s.src = paths[lib];\n",
       "        s.async = true;\n",
       "        s.onload = () => resolve(paths[lib]);\n",
       "        s.onerror = () => reject(`Error loading script: ${paths[lib]}`);\n",
       "        document.getElementsByTagName(\"head\")[0].appendChild(s);\n",
       "      });\n",
       "    }\n",
       "\n",
       "    function showError(err) {\n",
       "      outputDiv.innerHTML = `<div class=\"error\" style=\"color:red;\">${err}</div>`;\n",
       "      throw err;\n",
       "    }\n",
       "\n",
       "    function displayChart(vegaEmbed) {\n",
       "      vegaEmbed(outputDiv, spec, embedOpt)\n",
       "        .catch(err => showError(`Javascript Error: ${err.message}<br>This usually means there's a typo in your chart specification. See the javascript console for the full traceback.`));\n",
       "    }\n",
       "\n",
       "    if(typeof define === \"function\" && define.amd) {\n",
       "      requirejs.config({paths});\n",
       "      require([\"vega-embed\"], displayChart, err => showError(`Error loading script: ${err.message}`));\n",
       "    } else if (typeof vegaEmbed === \"function\") {\n",
       "      displayChart(vegaEmbed);\n",
       "    } else {\n",
       "      loadScript(\"vega\")\n",
       "        .then(() => loadScript(\"vega-lite\"))\n",
       "        .then(() => loadScript(\"vega-embed\"))\n",
       "        .catch(showError)\n",
       "        .then(() => displayChart(vegaEmbed));\n",
       "    }\n",
       "  })({\"config\": {\"view\": {\"continuousWidth\": 400, \"continuousHeight\": 300}}, \"layer\": [{\"mark\": {\"type\": \"circle\", \"size\": 60}, \"encoding\": {\"color\": {\"type\": \"nominal\", \"field\": \"set\"}, \"tooltip\": [{\"type\": \"nominal\", \"field\": \"name\"}, {\"type\": \"nominal\", \"field\": \"original\"}], \"x\": {\"type\": \"quantitative\", \"axis\": {\"title\": \"umap_0\"}, \"field\": \"x_axis\"}, \"y\": {\"type\": \"quantitative\", \"axis\": {\"title\": \"umap_1\"}, \"field\": \"y_axis\"}}, \"selection\": {\"selector081\": {\"type\": \"interval\", \"bind\": \"scales\", \"encodings\": [\"x\", \"y\"]}}, \"title\": \"umap_0 vs. umap_1\"}, {\"mark\": {\"type\": \"text\", \"color\": \"black\", \"dx\": -15, \"dy\": 3}, \"encoding\": {\"text\": {\"type\": \"nominal\", \"field\": \"original\"}, \"x\": {\"type\": \"quantitative\", \"axis\": {\"title\": \"umap_0\"}, \"field\": \"x_axis\"}, \"y\": {\"type\": \"quantitative\", \"axis\": {\"title\": \"umap_1\"}, \"field\": \"y_axis\"}}}], \"data\": {\"name\": \"data-7788bb7ccc9a30f2b316c3bb63264480\"}, \"height\": 400, \"width\": 500, \"$schema\": \"https://vega.github.io/schema/vega-lite/v4.0.2.json\", \"datasets\": {\"data-7788bb7ccc9a30f2b316c3bb63264480\": [{\"x_axis\": 6.6528849601745605, \"y_axis\": 8.910093307495117, \"name\": \"dog\", \"original\": \"dog\", \"set\": \"set-one\"}, {\"x_axis\": 5.970019817352295, \"y_axis\": 8.234575271606445, \"name\": \"cat\", \"original\": \"cat\", \"set\": \"set-one\"}, {\"x_axis\": 6.482957363128662, \"y_axis\": 11.708208084106445, \"name\": \"mouse\", \"original\": \"mouse\", \"set\": \"set-one\"}, {\"x_axis\": 7.471012592315674, \"y_axis\": 8.55300235748291, \"name\": \"deer\", \"original\": \"deer\", \"set\": \"set-one\"}, {\"x_axis\": 4.557001113891602, \"y_axis\": 10.372868537902832, \"name\": \"elephant\", \"original\": \"elephant\", \"set\": \"set-one\"}, {\"x_axis\": 5.517018795013428, \"y_axis\": 10.032718658447266, \"name\": \"zebra\", \"original\": \"zebra\", \"set\": \"set-one\"}, {\"x_axis\": 8.545554161071777, \"y_axis\": 10.206141471862793, \"name\": \"fish\", \"original\": \"fish\", \"set\": \"set-one\"}, {\"x_axis\": 7.827315807342529, \"y_axis\": 9.539144515991211, \"name\": \"rabbit\", \"original\": \"rabbit\", \"set\": \"set-one\"}, {\"x_axis\": 6.283914566040039, \"y_axis\": 10.646312713623047, \"name\": \"rat\", \"original\": \"rat\", \"set\": \"set-one\"}, {\"x_axis\": 4.93984842300415, \"y_axis\": 8.638723373413086, \"name\": \"tomato\", \"original\": \"tomato\", \"set\": \"set-one\"}, {\"x_axis\": 7.3066086769104, \"y_axis\": 10.544156074523926, \"name\": \"banana\", \"original\": \"banana\", \"set\": \"set-one\"}, {\"x_axis\": 7.8810038566589355, \"y_axis\": 11.283811569213867, \"name\": \"coffee\", \"original\": \"coffee\", \"set\": \"set-one\"}, {\"x_axis\": 6.74514627456665, \"y_axis\": 9.834522247314453, \"name\": \"tea\", \"original\": \"tea\", \"set\": \"set-one\"}, {\"x_axis\": 5.569642066955566, \"y_axis\": 9.29172420501709, \"name\": \"apple\", \"original\": \"apple\", \"set\": \"set-one\"}, {\"x_axis\": 5.324005603790283, \"y_axis\": 11.230820655822754, \"name\": \"union\", \"original\": \"union\", \"set\": \"set-one\"}, {\"x_axis\": 9.116556167602539, \"y_axis\": 8.490546226501465, \"name\": \"run\", \"original\": \"run\", \"set\": \"set-two\"}, {\"x_axis\": 8.838555335998535, \"y_axis\": 8.273831367492676, \"name\": \"swim\", \"original\": \"swim\", \"set\": \"set-two\"}, {\"x_axis\": 8.93570327758789, \"y_axis\": 8.381425857543945, \"name\": \"dance\", \"original\": \"dance\", \"set\": \"set-two\"}, {\"x_axis\": 3.5131101608276367, \"y_axis\": 9.414864540100098, \"name\": \"sit\", \"original\": \"sit\", \"set\": \"set-two\"}, {\"x_axis\": 8.831226348876953, \"y_axis\": 8.272842407226562, \"name\": \"eat\", \"original\": \"eat\", \"set\": \"set-two\"}, {\"x_axis\": 8.471084594726562, \"y_axis\": 7.860967636108398, \"name\": \"hear\", \"original\": \"hear\", \"set\": \"set-two\"}, {\"x_axis\": 3.671424627304077, \"y_axis\": 9.161993026733398, \"name\": \"look\", \"original\": \"look\", \"set\": \"set-two\"}, {\"x_axis\": 3.644371747970581, \"y_axis\": 9.16650676727295, \"name\": \"stand\", \"original\": \"stand\", \"set\": \"set-two\"}]}}, {\"mode\": \"vega-lite\"});\n",
       "</script>"
      ],
      "text/plain": [
       "alt.LayerChart(...)"
      ]
     },
     "execution_count": 66,
     "metadata": {},
     "output_type": "execute_result"
    }
   ],
   "source": [
    "umap = Umap(2)\n",
    "\n",
    "emb1 = lang[words1].transform(umap).add_property('set', lambda d: 'set-one')\n",
    "emb2 = lang[words2].transform(umap).add_property('set', lambda d: 'set-two')\n",
    "both = emb1.merge(emb2)\n",
    "\n",
    "both.plot_interactive('umap_0', 'umap_1', color='set').properties(width=500, height=400)"
   ]
  },
  {
   "cell_type": "markdown",
   "metadata": {},
   "source": [
    "The plot demonstrates a tendency to place words that are out of scope on the outside."
   ]
  },
  {
   "cell_type": "code",
   "execution_count": 67,
   "metadata": {},
   "outputs": [
    {
     "data": {
      "text/html": [
       "\n",
       "<div id=\"altair-viz-7c037ebe54a748dcbacab5feacff2258\"></div>\n",
       "<script type=\"text/javascript\">\n",
       "  (function(spec, embedOpt){\n",
       "    const outputDiv = document.getElementById(\"altair-viz-7c037ebe54a748dcbacab5feacff2258\");\n",
       "    const paths = {\n",
       "      \"vega\": \"https://cdn.jsdelivr.net/npm//vega@5?noext\",\n",
       "      \"vega-lib\": \"https://cdn.jsdelivr.net/npm//vega-lib?noext\",\n",
       "      \"vega-lite\": \"https://cdn.jsdelivr.net/npm//vega-lite@4.0.2?noext\",\n",
       "      \"vega-embed\": \"https://cdn.jsdelivr.net/npm//vega-embed@6?noext\",\n",
       "    };\n",
       "\n",
       "    function loadScript(lib) {\n",
       "      return new Promise(function(resolve, reject) {\n",
       "        var s = document.createElement('script');\n",
       "        s.src = paths[lib];\n",
       "        s.async = true;\n",
       "        s.onload = () => resolve(paths[lib]);\n",
       "        s.onerror = () => reject(`Error loading script: ${paths[lib]}`);\n",
       "        document.getElementsByTagName(\"head\")[0].appendChild(s);\n",
       "      });\n",
       "    }\n",
       "\n",
       "    function showError(err) {\n",
       "      outputDiv.innerHTML = `<div class=\"error\" style=\"color:red;\">${err}</div>`;\n",
       "      throw err;\n",
       "    }\n",
       "\n",
       "    function displayChart(vegaEmbed) {\n",
       "      vegaEmbed(outputDiv, spec, embedOpt)\n",
       "        .catch(err => showError(`Javascript Error: ${err.message}<br>This usually means there's a typo in your chart specification. See the javascript console for the full traceback.`));\n",
       "    }\n",
       "\n",
       "    if(typeof define === \"function\" && define.amd) {\n",
       "      requirejs.config({paths});\n",
       "      require([\"vega-embed\"], displayChart, err => showError(`Error loading script: ${err.message}`));\n",
       "    } else if (typeof vegaEmbed === \"function\") {\n",
       "      displayChart(vegaEmbed);\n",
       "    } else {\n",
       "      loadScript(\"vega\")\n",
       "        .then(() => loadScript(\"vega-lite\"))\n",
       "        .then(() => loadScript(\"vega-embed\"))\n",
       "        .catch(showError)\n",
       "        .then(() => displayChart(vegaEmbed));\n",
       "    }\n",
       "  })({\"config\": {\"view\": {\"continuousWidth\": 400, \"continuousHeight\": 300}}, \"layer\": [{\"mark\": {\"type\": \"circle\", \"size\": 60}, \"encoding\": {\"color\": {\"type\": \"nominal\", \"field\": \"set\"}, \"tooltip\": [{\"type\": \"nominal\", \"field\": \"name\"}, {\"type\": \"nominal\", \"field\": \"original\"}], \"x\": {\"type\": \"quantitative\", \"axis\": {\"title\": \"umap_0\"}, \"field\": \"x_axis\"}, \"y\": {\"type\": \"quantitative\", \"axis\": {\"title\": \"umap_1\"}, \"field\": \"y_axis\"}}, \"selection\": {\"selector082\": {\"type\": \"interval\", \"bind\": \"scales\", \"encodings\": [\"x\", \"y\"]}}, \"title\": \"umap_0 vs. umap_1\"}, {\"mark\": {\"type\": \"text\", \"color\": \"black\", \"dx\": -15, \"dy\": 3}, \"encoding\": {\"text\": {\"type\": \"nominal\", \"field\": \"original\"}, \"x\": {\"type\": \"quantitative\", \"axis\": {\"title\": \"umap_0\"}, \"field\": \"x_axis\"}, \"y\": {\"type\": \"quantitative\", \"axis\": {\"title\": \"umap_1\"}, \"field\": \"y_axis\"}}}], \"data\": {\"name\": \"data-8f6dd7333e15271a15f02bed1a42e546\"}, \"height\": 400, \"width\": 500, \"$schema\": \"https://vega.github.io/schema/vega-lite/v4.0.2.json\", \"datasets\": {\"data-8f6dd7333e15271a15f02bed1a42e546\": [{\"x_axis\": 6.6528849601745605, \"y_axis\": 8.910093307495117, \"name\": \"dog\", \"original\": \"dog\", \"set\": \"set-one\"}, {\"x_axis\": 5.970019817352295, \"y_axis\": 8.234575271606445, \"name\": \"cat\", \"original\": \"cat\", \"set\": \"set-one\"}, {\"x_axis\": 6.482957363128662, \"y_axis\": 11.708208084106445, \"name\": \"mouse\", \"original\": \"mouse\", \"set\": \"set-one\"}, {\"x_axis\": 7.471012592315674, \"y_axis\": 8.55300235748291, \"name\": \"deer\", \"original\": \"deer\", \"set\": \"set-one\"}, {\"x_axis\": 4.557001113891602, \"y_axis\": 10.372868537902832, \"name\": \"elephant\", \"original\": \"elephant\", \"set\": \"set-one\"}, {\"x_axis\": 5.517018795013428, \"y_axis\": 10.032718658447266, \"name\": \"zebra\", \"original\": \"zebra\", \"set\": \"set-one\"}, {\"x_axis\": 8.545554161071777, \"y_axis\": 10.206141471862793, \"name\": \"fish\", \"original\": \"fish\", \"set\": \"set-one\"}, {\"x_axis\": 7.827315807342529, \"y_axis\": 9.539144515991211, \"name\": \"rabbit\", \"original\": \"rabbit\", \"set\": \"set-one\"}, {\"x_axis\": 6.283914566040039, \"y_axis\": 10.646312713623047, \"name\": \"rat\", \"original\": \"rat\", \"set\": \"set-one\"}, {\"x_axis\": 4.93984842300415, \"y_axis\": 8.638723373413086, \"name\": \"tomato\", \"original\": \"tomato\", \"set\": \"set-one\"}, {\"x_axis\": 7.3066086769104, \"y_axis\": 10.544156074523926, \"name\": \"banana\", \"original\": \"banana\", \"set\": \"set-one\"}, {\"x_axis\": 7.8810038566589355, \"y_axis\": 11.283811569213867, \"name\": \"coffee\", \"original\": \"coffee\", \"set\": \"set-one\"}, {\"x_axis\": 6.74514627456665, \"y_axis\": 9.834522247314453, \"name\": \"tea\", \"original\": \"tea\", \"set\": \"set-one\"}, {\"x_axis\": 5.569642066955566, \"y_axis\": 9.29172420501709, \"name\": \"apple\", \"original\": \"apple\", \"set\": \"set-one\"}, {\"x_axis\": 5.324005603790283, \"y_axis\": 11.230820655822754, \"name\": \"union\", \"original\": \"union\", \"set\": \"set-one\"}, {\"x_axis\": 9.116556167602539, \"y_axis\": 8.490546226501465, \"name\": \"run\", \"original\": \"run\", \"set\": \"set-two\"}, {\"x_axis\": 8.838555335998535, \"y_axis\": 8.273831367492676, \"name\": \"swim\", \"original\": \"swim\", \"set\": \"set-two\"}, {\"x_axis\": 8.93570327758789, \"y_axis\": 8.381425857543945, \"name\": \"dance\", \"original\": \"dance\", \"set\": \"set-two\"}, {\"x_axis\": 3.5131101608276367, \"y_axis\": 9.414864540100098, \"name\": \"sit\", \"original\": \"sit\", \"set\": \"set-two\"}, {\"x_axis\": 8.831226348876953, \"y_axis\": 8.272842407226562, \"name\": \"eat\", \"original\": \"eat\", \"set\": \"set-two\"}, {\"x_axis\": 8.471084594726562, \"y_axis\": 7.860967636108398, \"name\": \"hear\", \"original\": \"hear\", \"set\": \"set-two\"}, {\"x_axis\": 3.671424627304077, \"y_axis\": 9.161993026733398, \"name\": \"look\", \"original\": \"look\", \"set\": \"set-two\"}, {\"x_axis\": 3.644371747970581, \"y_axis\": 9.16650676727295, \"name\": \"stand\", \"original\": \"stand\", \"set\": \"set-two\"}, {\"x_axis\": 9.111388206481934, \"y_axis\": 8.567828178405762, \"name\": \"kitten\", \"original\": \"kitten\", \"set\": \"set-three\"}, {\"x_axis\": 7.484454154968262, \"y_axis\": 12.701517105102539, \"name\": \"doggy\", \"original\": \"doggy\", \"set\": \"set-three\"}, {\"x_axis\": 9.117158889770508, \"y_axis\": 8.668082237243652, \"name\": \"puppy\", \"original\": \"puppy\", \"set\": \"set-three\"}]}}, {\"mode\": \"vega-lite\"});\n",
       "</script>"
      ],
      "text/plain": [
       "alt.LayerChart(...)"
      ]
     },
     "execution_count": 67,
     "metadata": {},
     "output_type": "execute_result"
    }
   ],
   "source": [
    "words3 = ['kitten', 'doggy', 'puppy']\n",
    "\n",
    "emb3 = lang[words3].transform(umap).add_property('set', lambda d: 'set-three')\n",
    "all_three = emb1.merge(emb2).merge(emb3)\n",
    "\n",
    "all_three.plot_interactive('umap_0', 'umap_1', color='set').properties(width=500, height=400)"
   ]
  },
  {
   "cell_type": "code",
   "execution_count": null,
   "metadata": {},
   "outputs": [],
   "source": []
  }
 ],
 "metadata": {
  "kernelspec": {
   "display_name": "Python 3",
   "language": "python",
   "name": "python3"
  },
  "language_info": {
   "codemirror_mode": {
    "name": "ipython",
    "version": 3
   },
   "file_extension": ".py",
   "mimetype": "text/x-python",
   "name": "python",
   "nbconvert_exporter": "python",
   "pygments_lexer": "ipython3",
   "version": "3.7.3"
  }
 },
 "nbformat": 4,
 "nbformat_minor": 4
}
