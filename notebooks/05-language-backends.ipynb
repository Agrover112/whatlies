{
 "cells": [
  {
   "cell_type": "markdown",
   "metadata": {},
   "source": [
    "This is a placeholder on how to select backends.\n",
    "\n",
    "We'd like to have a `Language` object that behaves like a lazy-`EmbeddingSet`. It might have features like \"select closest\" but it should also allow you to easily select different models. \n",
    "\n",
    "Think; \n",
    "\n",
    "```\n",
    "Language.from_spacy(\"en\")\n",
    "Language.from_spacy(\"en_trf_robertabase_lg\") <- transformer style! \n",
    "Language.from_gensim(\"glove\")\n",
    "Language.from_rasa_model(\"<path-to-model>\")\n",
    "```"
   ]
  },
  {
   "cell_type": "code",
   "execution_count": 1,
   "metadata": {},
   "outputs": [],
   "source": [
    "%load_ext autoreload\n",
    "%autoreload 2"
   ]
  },
  {
   "cell_type": "code",
   "execution_count": 2,
   "metadata": {},
   "outputs": [],
   "source": [
    "from whatlies.language import Sense2VecLangauge"
   ]
  },
  {
   "cell_type": "code",
   "execution_count": 3,
   "metadata": {},
   "outputs": [],
   "source": [
    "lang = Sense2VecLangauge(\"../s2v_old/\")"
   ]
  },
  {
   "cell_type": "code",
   "execution_count": 37,
   "metadata": {},
   "outputs": [],
   "source": [
    "emb1 = lang.embset_similar(\"bank|VERB\")\n",
    "emb2 = lang.embset_similar(\"bank|NOUN\")"
   ]
  },
  {
   "cell_type": "code",
   "execution_count": 32,
   "metadata": {},
   "outputs": [
    {
     "data": {
      "text/plain": [
       "Embset[s2v similar_10:bank|NOUN]"
      ]
     },
     "execution_count": 32,
     "metadata": {},
     "output_type": "execute_result"
    }
   ],
   "source": [
    "lang.embset_similar(\"bank|NOUN\")"
   ]
  },
  {
   "cell_type": "code",
   "execution_count": 20,
   "metadata": {},
   "outputs": [],
   "source": [
    "from whatlies.transformers import pca, umap\n",
    "\n",
    "words = [\"bank|NOUN\", \"bank|VERB\", \"duck|NOUN\", \"duck|VERB\", \"dog|NOUN\", \"cat|NOUN\", \"jump|VERB\", \"run|VERB\"]"
   ]
  },
  {
   "cell_type": "code",
   "execution_count": 58,
   "metadata": {},
   "outputs": [],
   "source": [
    "words = [\"bank|NOUN\", \"bank|VERB\", \"duck|NOUN\", \"duck|VERB\", \n",
    "         \"dog|NOUN\", \"cat|NOUN\", \"jump|VERB\", \"run|VERB\", \n",
    "         \"chicken|NOUN\", \"puppy|NOUN\", \"kitten|NOUN\", \"carrot|NOUN\"]\n",
    "\n",
    "emb = lang[words]"
   ]
  },
  {
   "cell_type": "code",
   "execution_count": 51,
   "metadata": {},
   "outputs": [
    {
     "data": {
      "text/html": [
       "\n",
       "<div id=\"altair-viz-6811d9a61448458384d59d634bc87f57\"></div>\n",
       "<script type=\"text/javascript\">\n",
       "  (function(spec, embedOpt){\n",
       "    const outputDiv = document.getElementById(\"altair-viz-6811d9a61448458384d59d634bc87f57\");\n",
       "    const paths = {\n",
       "      \"vega\": \"https://cdn.jsdelivr.net/npm//vega@5?noext\",\n",
       "      \"vega-lib\": \"https://cdn.jsdelivr.net/npm//vega-lib?noext\",\n",
       "      \"vega-lite\": \"https://cdn.jsdelivr.net/npm//vega-lite@4.0.2?noext\",\n",
       "      \"vega-embed\": \"https://cdn.jsdelivr.net/npm//vega-embed@6?noext\",\n",
       "    };\n",
       "\n",
       "    function loadScript(lib) {\n",
       "      return new Promise(function(resolve, reject) {\n",
       "        var s = document.createElement('script');\n",
       "        s.src = paths[lib];\n",
       "        s.async = true;\n",
       "        s.onload = () => resolve(paths[lib]);\n",
       "        s.onerror = () => reject(`Error loading script: ${paths[lib]}`);\n",
       "        document.getElementsByTagName(\"head\")[0].appendChild(s);\n",
       "      });\n",
       "    }\n",
       "\n",
       "    function showError(err) {\n",
       "      outputDiv.innerHTML = `<div class=\"error\" style=\"color:red;\">${err}</div>`;\n",
       "      throw err;\n",
       "    }\n",
       "\n",
       "    function displayChart(vegaEmbed) {\n",
       "      vegaEmbed(outputDiv, spec, embedOpt)\n",
       "        .catch(err => showError(`Javascript Error: ${err.message}<br>This usually means there's a typo in your chart specification. See the javascript console for the full traceback.`));\n",
       "    }\n",
       "\n",
       "    if(typeof define === \"function\" && define.amd) {\n",
       "      requirejs.config({paths});\n",
       "      require([\"vega-embed\"], displayChart, err => showError(`Error loading script: ${err.message}`));\n",
       "    } else if (typeof vegaEmbed === \"function\") {\n",
       "      displayChart(vegaEmbed);\n",
       "    } else {\n",
       "      loadScript(\"vega\")\n",
       "        .then(() => loadScript(\"vega-lite\"))\n",
       "        .then(() => loadScript(\"vega-embed\"))\n",
       "        .catch(showError)\n",
       "        .then(() => displayChart(vegaEmbed));\n",
       "    }\n",
       "  })({\"config\": {\"view\": {\"continuousWidth\": 400, \"continuousHeight\": 300}}, \"layer\": [{\"mark\": {\"type\": \"circle\", \"size\": 60}, \"encoding\": {\"tooltip\": [{\"type\": \"nominal\", \"field\": \"name\"}, {\"type\": \"nominal\", \"field\": \"original\"}], \"x\": {\"type\": \"quantitative\", \"axis\": {\"title\": \"pca_0\"}, \"field\": \"x_axis\"}, \"y\": {\"type\": \"quantitative\", \"axis\": {\"title\": \"pca_1\"}, \"field\": \"y_axis\"}}, \"selection\": {\"selector018\": {\"type\": \"interval\", \"bind\": \"scales\", \"encodings\": [\"x\", \"y\"]}}, \"title\": \"pca_0 vs. pca_1\"}, {\"mark\": {\"type\": \"text\", \"color\": \"black\", \"dx\": -15, \"dy\": 3}, \"encoding\": {\"text\": {\"type\": \"nominal\", \"field\": \"original\"}, \"x\": {\"type\": \"quantitative\", \"axis\": {\"title\": \"pca_0\"}, \"field\": \"x_axis\"}, \"y\": {\"type\": \"quantitative\", \"axis\": {\"title\": \"pca_1\"}, \"field\": \"y_axis\"}}}], \"data\": {\"name\": \"data-8ce48a30332c725ebc83f0b37aec8c22\"}, \"$schema\": \"https://vega.github.io/schema/vega-lite/v4.0.2.json\", \"datasets\": {\"data-8ce48a30332c725ebc83f0b37aec8c22\": [{\"x_axis\": -0.7908062934875488, \"y_axis\": 0.3812985420227051, \"name\": \"bank|NOUN\", \"original\": \"bank|NOUN\"}, {\"x_axis\": -0.13276050984859467, \"y_axis\": -1.0078035593032837, \"name\": \"bank|VERB\", \"original\": \"bank|VERB\"}, {\"x_axis\": 2.15816068649292, \"y_axis\": 0.39063817262649536, \"name\": \"duck|NOUN\", \"original\": \"duck|NOUN\"}, {\"x_axis\": 1.192262887954712, \"y_axis\": -0.5096396207809448, \"name\": \"duck|VERB\", \"original\": \"duck|VERB\"}, {\"x_axis\": 1.9230446815490723, \"y_axis\": 1.0799391269683838, \"name\": \"dog|NOUN\", \"original\": \"dog|NOUN\"}, {\"x_axis\": 2.137314558029175, \"y_axis\": 0.9434711933135986, \"name\": \"cat|NOUN\", \"original\": \"cat|NOUN\"}, {\"x_axis\": 1.1012423038482666, \"y_axis\": -0.8694308400154114, \"name\": \"jump|VERB\", \"original\": \"jump|VERB\"}, {\"x_axis\": 0.8370332717895508, \"y_axis\": -0.9461891651153564, \"name\": \"run|VERB\", \"original\": \"run|VERB\"}, {\"x_axis\": 1.8787120580673218, \"y_axis\": 0.31831440329551697, \"name\": \"chicken|NOUN\", \"original\": \"chicken|NOUN\"}, {\"x_axis\": 2.1471035480499268, \"y_axis\": 1.3935885429382324, \"name\": \"puppy|NOUN\", \"original\": \"puppy|NOUN\"}, {\"x_axis\": 2.1710078716278076, \"y_axis\": 1.0555548667907715, \"name\": \"kitten|NOUN\", \"original\": \"kitten|NOUN\"}, {\"x_axis\": 1.8762027025222778, \"y_axis\": -0.10897011309862137, \"name\": \"carrot|NOUN\", \"original\": \"carrot|NOUN\"}, {\"x_axis\": 0.22655490040779114, \"y_axis\": -1.2339264154434204, \"name\": \"banking|VERB\", \"original\": \"banking|VERB\"}, {\"x_axis\": 0.1372399479150772, \"y_axis\": -1.1855428218841553, \"name\": \"banked|VERB\", \"original\": \"banked|VERB\"}, {\"x_axis\": -0.5820133090019226, \"y_axis\": -0.8144902586936951, \"name\": \"cash|VERB\", \"original\": \"cash|VERB\"}, {\"x_axis\": -0.6904929876327515, \"y_axis\": -0.7406454086303711, \"name\": \"decent_bank|NOUN\", \"original\": \"decent_bank|NOUN\"}, {\"x_axis\": -0.5294361710548401, \"y_axis\": -0.41064104437828064, \"name\": \"cash|NOUN\", \"original\": \"cash|NOUN\"}, {\"x_axis\": -0.21778419613838196, \"y_axis\": -0.7424801588058472, \"name\": \"enough_cash|NOUN\", \"original\": \"enough_cash|NOUN\"}, {\"x_axis\": 0.1684923619031906, \"y_axis\": -1.285399317741394, \"name\": \"gamble|VERB\", \"original\": \"gamble|VERB\"}, {\"x_axis\": -0.5724731087684631, \"y_axis\": -0.829167902469635, \"name\": \"payout|VERB\", \"original\": \"payout|VERB\"}, {\"x_axis\": -0.5650641918182373, \"y_axis\": -0.7117913365364075, \"name\": \"payoff|VERB\", \"original\": \"payoff|VERB\"}, {\"x_axis\": -0.5441184639930725, \"y_axis\": -0.9362605214118958, \"name\": \"accrue|VERB\", \"original\": \"accrue|VERB\"}, {\"x_axis\": -1.445842981338501, \"y_axis\": 0.9998319745063782, \"name\": \"local_bank|NOUN\", \"original\": \"local_bank|NOUN\"}, {\"x_axis\": -1.0659898519515991, \"y_axis\": 0.7011772394180298, \"name\": \"bank_account|NOUN\", \"original\": \"bank_account|NOUN\"}, {\"x_axis\": -1.717355728149414, \"y_axis\": 0.6949776411056519, \"name\": \"same_bank|NOUN\", \"original\": \"same_bank|NOUN\"}, {\"x_axis\": -1.2439881563186646, \"y_axis\": 0.8047525882720947, \"name\": \"other_bank|NOUN\", \"original\": \"other_bank|NOUN\"}, {\"x_axis\": -1.6466789245605469, \"y_axis\": 0.9613156914710999, \"name\": \"cash_deposits|NOUN\", \"original\": \"cash_deposits|NOUN\"}, {\"x_axis\": -1.5159293413162231, \"y_axis\": 0.549457848072052, \"name\": \"most_banks|NOUN\", \"original\": \"most_banks|NOUN\"}, {\"x_axis\": -1.4776818752288818, \"y_axis\": 0.2879719138145447, \"name\": \"bank_money|NOUN\", \"original\": \"bank_money|NOUN\"}, {\"x_axis\": -1.3067041635513306, \"y_axis\": 0.7098670601844788, \"name\": \"financial_institution|NOUN\", \"original\": \"financial_institution|NOUN\"}, {\"x_axis\": -1.9092512130737305, \"y_axis\": 1.0602216720581055, \"name\": \"different_bank|NOUN\", \"original\": \"different_bank|NOUN\"}]}}, {\"mode\": \"vega-lite\"});\n",
       "</script>"
      ],
      "text/plain": [
       "alt.LayerChart(...)"
      ]
     },
     "execution_count": 51,
     "metadata": {},
     "output_type": "execute_result"
    }
   ],
   "source": [
    "from whatlies.embeddingset import EmbeddingSet\n",
    "\n",
    "(emb\n",
    " .merge(lang.embset_similar(\"bank|VERB\"))\n",
    " .merge(lang.embset_similar(\"bank|NOUN\"))\n",
    " .transform(pca(2))\n",
    " .plot_interactive(\"pca_0\", \"pca_1\"))"
   ]
  },
  {
   "cell_type": "code",
   "execution_count": 54,
   "metadata": {},
   "outputs": [
    {
     "data": {
      "text/html": [
       "\n",
       "<div id=\"altair-viz-3e078d3e933e49ac9152a03fde3a62b7\"></div>\n",
       "<script type=\"text/javascript\">\n",
       "  (function(spec, embedOpt){\n",
       "    const outputDiv = document.getElementById(\"altair-viz-3e078d3e933e49ac9152a03fde3a62b7\");\n",
       "    const paths = {\n",
       "      \"vega\": \"https://cdn.jsdelivr.net/npm//vega@5?noext\",\n",
       "      \"vega-lib\": \"https://cdn.jsdelivr.net/npm//vega-lib?noext\",\n",
       "      \"vega-lite\": \"https://cdn.jsdelivr.net/npm//vega-lite@4.0.2?noext\",\n",
       "      \"vega-embed\": \"https://cdn.jsdelivr.net/npm//vega-embed@6?noext\",\n",
       "    };\n",
       "\n",
       "    function loadScript(lib) {\n",
       "      return new Promise(function(resolve, reject) {\n",
       "        var s = document.createElement('script');\n",
       "        s.src = paths[lib];\n",
       "        s.async = true;\n",
       "        s.onload = () => resolve(paths[lib]);\n",
       "        s.onerror = () => reject(`Error loading script: ${paths[lib]}`);\n",
       "        document.getElementsByTagName(\"head\")[0].appendChild(s);\n",
       "      });\n",
       "    }\n",
       "\n",
       "    function showError(err) {\n",
       "      outputDiv.innerHTML = `<div class=\"error\" style=\"color:red;\">${err}</div>`;\n",
       "      throw err;\n",
       "    }\n",
       "\n",
       "    function displayChart(vegaEmbed) {\n",
       "      vegaEmbed(outputDiv, spec, embedOpt)\n",
       "        .catch(err => showError(`Javascript Error: ${err.message}<br>This usually means there's a typo in your chart specification. See the javascript console for the full traceback.`));\n",
       "    }\n",
       "\n",
       "    if(typeof define === \"function\" && define.amd) {\n",
       "      requirejs.config({paths});\n",
       "      require([\"vega-embed\"], displayChart, err => showError(`Error loading script: ${err.message}`));\n",
       "    } else if (typeof vegaEmbed === \"function\") {\n",
       "      displayChart(vegaEmbed);\n",
       "    } else {\n",
       "      loadScript(\"vega\")\n",
       "        .then(() => loadScript(\"vega-lite\"))\n",
       "        .then(() => loadScript(\"vega-embed\"))\n",
       "        .catch(showError)\n",
       "        .then(() => displayChart(vegaEmbed));\n",
       "    }\n",
       "  })({\"config\": {\"view\": {\"continuousWidth\": 400, \"continuousHeight\": 300}}, \"hconcat\": [{\"layer\": [{\"mark\": {\"type\": \"circle\", \"size\": 60}, \"encoding\": {\"tooltip\": [{\"type\": \"nominal\", \"field\": \"name\"}, {\"type\": \"nominal\", \"field\": \"original\"}], \"x\": {\"type\": \"quantitative\", \"axis\": {\"title\": \"dog|NOUN\"}, \"field\": \"x_axis\"}, \"y\": {\"type\": \"quantitative\", \"axis\": {\"title\": \"jump|VERB\"}, \"field\": \"y_axis\"}}, \"selection\": {\"selector021\": {\"type\": \"interval\", \"bind\": \"scales\", \"encodings\": [\"x\", \"y\"]}}, \"title\": \"dog|NOUN vs. jump|VERB\"}, {\"mark\": {\"type\": \"text\", \"color\": \"black\", \"dx\": -15, \"dy\": 3}, \"encoding\": {\"text\": {\"type\": \"nominal\", \"field\": \"original\"}, \"x\": {\"type\": \"quantitative\", \"axis\": {\"title\": \"dog|NOUN\"}, \"field\": \"x_axis\"}, \"y\": {\"type\": \"quantitative\", \"axis\": {\"title\": \"jump|VERB\"}, \"field\": \"y_axis\"}}}], \"data\": {\"name\": \"data-20aac4c118bcb2f8eac97eef2e046c33\"}, \"height\": 200, \"width\": 200}, {\"layer\": [{\"mark\": {\"type\": \"circle\", \"size\": 60}, \"encoding\": {\"tooltip\": [{\"type\": \"nominal\", \"field\": \"name\"}, {\"type\": \"nominal\", \"field\": \"original\"}], \"x\": {\"type\": \"quantitative\", \"axis\": {\"title\": \"pca_0\"}, \"field\": \"x_axis\"}, \"y\": {\"type\": \"quantitative\", \"axis\": {\"title\": \"pca_1\"}, \"field\": \"y_axis\"}}, \"selection\": {\"selector022\": {\"type\": \"interval\", \"bind\": \"scales\", \"encodings\": [\"x\", \"y\"]}}, \"title\": \"pca_0 vs. pca_1\"}, {\"mark\": {\"type\": \"text\", \"color\": \"black\", \"dx\": -15, \"dy\": 3}, \"encoding\": {\"text\": {\"type\": \"nominal\", \"field\": \"original\"}, \"x\": {\"type\": \"quantitative\", \"axis\": {\"title\": \"pca_0\"}, \"field\": \"x_axis\"}, \"y\": {\"type\": \"quantitative\", \"axis\": {\"title\": \"pca_1\"}, \"field\": \"y_axis\"}}}], \"data\": {\"name\": \"data-1356c088bd21e8cb6276ef3d762bafa5\"}, \"height\": 200, \"width\": 200}], \"$schema\": \"https://vega.github.io/schema/vega-lite/v4.0.2.json\", \"datasets\": {\"data-20aac4c118bcb2f8eac97eef2e046c33\": [{\"x_axis\": 0.3153420686721802, \"y_axis\": 0.31042325496673584, \"name\": \"bank|NOUN\", \"original\": \"bank|NOUN\"}, {\"x_axis\": 0.11151804029941559, \"y_axis\": 0.51321941614151, \"name\": \"bank|VERB\", \"original\": \"bank|VERB\"}, {\"x_axis\": 0.6829494833946228, \"y_axis\": 0.5315228700637817, \"name\": \"duck|NOUN\", \"original\": \"duck|NOUN\"}, {\"x_axis\": 0.4108758866786957, \"y_axis\": 0.8623756766319275, \"name\": \"duck|VERB\", \"original\": \"duck|VERB\"}, {\"x_axis\": 0.927598237991333, \"y_axis\": 0.3935065269470215, \"name\": \"cat|NOUN\", \"original\": \"cat|NOUN\"}, {\"x_axis\": 0.19120612740516663, \"y_axis\": 0.5492537617683411, \"name\": \"run|VERB\", \"original\": \"run|VERB\"}, {\"x_axis\": 0.5541935563087463, \"y_axis\": 0.3115540146827698, \"name\": \"chicken|NOUN\", \"original\": \"chicken|NOUN\"}, {\"x_axis\": 1.1498100757598877, \"y_axis\": 0.3851936459541321, \"name\": \"puppy|NOUN\", \"original\": \"puppy|NOUN\"}, {\"x_axis\": 0.9748619794845581, \"y_axis\": 0.41429010033607483, \"name\": \"kitten|NOUN\", \"original\": \"kitten|NOUN\"}, {\"x_axis\": 0.4540609121322632, \"y_axis\": 0.36359357833862305, \"name\": \"carrot|NOUN\", \"original\": \"carrot|NOUN\"}], \"data-1356c088bd21e8cb6276ef3d762bafa5\": [{\"x_axis\": -1.2664328813552856, \"y_axis\": -0.6386659741401672, \"name\": \"bank|NOUN\", \"original\": \"bank|NOUN\"}, {\"x_axis\": -1.6877156496047974, \"y_axis\": -0.4234119951725006, \"name\": \"bank|VERB\", \"original\": \"bank|VERB\"}, {\"x_axis\": 0.4553013741970062, \"y_axis\": 0.6853375434875488, \"name\": \"duck|NOUN\", \"original\": \"duck|NOUN\"}, {\"x_axis\": -0.9870074987411499, \"y_axis\": -0.3996664583683014, \"name\": \"duck|VERB\", \"original\": \"duck|VERB\"}, {\"x_axis\": 1.1991078853607178, \"y_axis\": -0.6116825938224792, \"name\": \"dog|NOUN\", \"original\": \"dog|NOUN\"}, {\"x_axis\": 1.25762140750885, \"y_axis\": -0.5167407393455505, \"name\": \"cat|NOUN\", \"original\": \"cat|NOUN\"}, {\"x_axis\": -1.1357975006103516, \"y_axis\": -0.6099547147750854, \"name\": \"jump|VERB\", \"original\": \"jump|VERB\"}, {\"x_axis\": -1.231139063835144, \"y_axis\": -0.5279161334037781, \"name\": \"run|VERB\", \"original\": \"run|VERB\"}, {\"x_axis\": 0.15443304181098938, \"y_axis\": 2.1476171016693115, \"name\": \"chicken|NOUN\", \"original\": \"chicken|NOUN\"}, {\"x_axis\": 1.8462194204330444, \"y_axis\": -0.831046998500824, \"name\": \"puppy|NOUN\", \"original\": \"puppy|NOUN\"}, {\"x_axis\": 1.4607986211776733, \"y_axis\": -0.5725495219230652, \"name\": \"kitten|NOUN\", \"original\": \"kitten|NOUN\"}, {\"x_axis\": -0.06538902968168259, \"y_axis\": 2.298680543899536, \"name\": \"carrot|NOUN\", \"original\": \"carrot|NOUN\"}]}}, {\"mode\": \"vega-lite\"});\n",
       "</script>"
      ],
      "text/plain": [
       "alt.HConcatChart(...)"
      ]
     },
     "execution_count": 54,
     "metadata": {},
     "output_type": "execute_result"
    }
   ],
   "source": [
    "s = 200\n",
    "p1 = emb.plot_interactive(emb[\"dog|NOUN\"], emb[\"jump|VERB\"]).properties(width=s, height=s)\n",
    "p2 = emb.transform(pca(2)).plot_interactive(\"pca_0\", \"pca_1\").properties(width=s, height=s)\n",
    "p1 | p2"
   ]
  },
  {
   "cell_type": "code",
   "execution_count": null,
   "metadata": {},
   "outputs": [],
   "source": [
    "lang.embset_similar(\"bank|VERB\")"
   ]
  },
  {
   "cell_type": "code",
   "execution_count": null,
   "metadata": {},
   "outputs": [],
   "source": [
    "lang.score_similar(\"rhcp|NOUN\")"
   ]
  }
 ],
 "metadata": {
  "kernelspec": {
   "display_name": "Python 3",
   "language": "python",
   "name": "python3"
  },
  "language_info": {
   "codemirror_mode": {
    "name": "ipython",
    "version": 3
   },
   "file_extension": ".py",
   "mimetype": "text/x-python",
   "name": "python",
   "nbconvert_exporter": "python",
   "pygments_lexer": "ipython3",
   "version": "3.7.3"
  }
 },
 "nbformat": 4,
 "nbformat_minor": 4
}
