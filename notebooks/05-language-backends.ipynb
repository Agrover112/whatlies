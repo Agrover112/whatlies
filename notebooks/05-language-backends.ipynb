{
 "cells": [
  {
   "cell_type": "markdown",
   "metadata": {},
   "source": [
    "This is a placeholder on how to select backends.\n",
    "\n",
    "We'd like to have a `Language` object that behaves like a lazy-`EmbeddingSet`. It might have features like \"select closest\" but it should also allow you to easily select different models. \n",
    "\n",
    "Think; \n",
    "\n",
    "```\n",
    "Language.from_spacy(\"en\")\n",
    "Language.from_spacy(\"en_trf_robertabase_lg\") <- transformer style! \n",
    "Language.from_gensim(\"glove\")\n",
    "Language.from_rasa_model(\"<path-to-model>\")\n",
    "```"
   ]
  },
  {
   "cell_type": "code",
   "execution_count": null,
   "metadata": {},
   "outputs": [],
   "source": [
    "%load_ext autoreload\n",
    "%autoreload 2"
   ]
  },
  {
   "cell_type": "code",
   "execution_count": null,
   "metadata": {},
   "outputs": [],
   "source": [
    "from whatlies.language import Sense2VecLangauge"
   ]
  },
  {
   "cell_type": "code",
   "execution_count": null,
   "metadata": {},
   "outputs": [],
   "source": [
    "lang = Sense2VecLangauge(\"../s2v_old/\")"
   ]
  },
  {
   "cell_type": "code",
   "execution_count": null,
   "metadata": {},
   "outputs": [],
   "source": [
    "from whatlies.transformers import pca\n",
    "\n",
    "lang.embset_similar(\"bank|NOUN\").transform(pca(2))[['pca_0', 'pca_1']]"
   ]
  },
  {
   "cell_type": "code",
   "execution_count": null,
   "metadata": {},
   "outputs": [],
   "source": [
    "lang.embset_similar(\"bank|VERB\")"
   ]
  },
  {
   "cell_type": "code",
   "execution_count": null,
   "metadata": {},
   "outputs": [],
   "source": [
    "lang.score_similar(\"rhcp|NOUN\")"
   ]
  }
 ],
 "metadata": {
  "kernelspec": {
   "display_name": "Python 3",
   "language": "python",
   "name": "python3"
  },
  "language_info": {
   "codemirror_mode": {
    "name": "ipython",
    "version": 3
   },
   "file_extension": ".py",
   "mimetype": "text/x-python",
   "name": "python",
   "nbconvert_exporter": "python",
   "pygments_lexer": "ipython3",
   "version": "3.7.3"
  }
 },
 "nbformat": 4,
 "nbformat_minor": 4
}
