{
 "cells": [
  {
   "cell_type": "markdown",
   "metadata": {},
   "source": [
    "The previous two notebooks might have gotten your attention but usually we get the response; \n",
    "\n",
    "> But what about BERT-embeddings? \n",
    "\n",
    "Let's explain how to get there, but first ... we should explain languages."
   ]
  },
  {
   "cell_type": "code",
   "execution_count": 1,
   "metadata": {},
   "outputs": [],
   "source": [
    "%load_ext autoreload\n",
    "%autoreload 2"
   ]
  },
  {
   "cell_type": "code",
   "execution_count": 2,
   "metadata": {},
   "outputs": [],
   "source": [
    "from whatlies import Embedding, EmbeddingSet\n",
    "import spacy \n",
    "import matplotlib.pylab as plt"
   ]
  },
  {
   "cell_type": "markdown",
   "metadata": {},
   "source": [
    "## Multi-Token Embeddings\n",
    "\n",
    "We can also have embeddings that represent more than one token. If we'd do this via spacy, we'd have a an average of all the word embeddings."
   ]
  },
  {
   "cell_type": "code",
   "execution_count": 3,
   "metadata": {},
   "outputs": [],
   "source": [
    "nlp = spacy.load(\"en_core_web_md\")\n",
    "\n",
    "contexts = (\"this snake is a python\",\n",
    "            \"i like to program in python\",\n",
    "            \"programming is super fun!\",\n",
    "            \"i go to the supermarket\",\n",
    "            \"i like to code\", \n",
    "            \"i love animals\")\n",
    "\n",
    "emb = EmbeddingSet({k: Embedding(k, nlp(k).vector) for k in contexts})"
   ]
  },
  {
   "cell_type": "code",
   "execution_count": 5,
   "metadata": {},
   "outputs": [
    {
     "data": {
      "text/html": [
       "\n",
       "<div id=\"altair-viz-91326f40335d4c8386d585cb34c5bd2f\"></div>\n",
       "<script type=\"text/javascript\">\n",
       "  (function(spec, embedOpt){\n",
       "    const outputDiv = document.getElementById(\"altair-viz-91326f40335d4c8386d585cb34c5bd2f\");\n",
       "    const paths = {\n",
       "      \"vega\": \"https://cdn.jsdelivr.net/npm//vega@5?noext\",\n",
       "      \"vega-lib\": \"https://cdn.jsdelivr.net/npm//vega-lib?noext\",\n",
       "      \"vega-lite\": \"https://cdn.jsdelivr.net/npm//vega-lite@4.0.2?noext\",\n",
       "      \"vega-embed\": \"https://cdn.jsdelivr.net/npm//vega-embed@6?noext\",\n",
       "    };\n",
       "\n",
       "    function loadScript(lib) {\n",
       "      return new Promise(function(resolve, reject) {\n",
       "        var s = document.createElement('script');\n",
       "        s.src = paths[lib];\n",
       "        s.async = true;\n",
       "        s.onload = () => resolve(paths[lib]);\n",
       "        s.onerror = () => reject(`Error loading script: ${paths[lib]}`);\n",
       "        document.getElementsByTagName(\"head\")[0].appendChild(s);\n",
       "      });\n",
       "    }\n",
       "\n",
       "    function showError(err) {\n",
       "      outputDiv.innerHTML = `<div class=\"error\" style=\"color:red;\">${err}</div>`;\n",
       "      throw err;\n",
       "    }\n",
       "\n",
       "    function displayChart(vegaEmbed) {\n",
       "      vegaEmbed(outputDiv, spec, embedOpt)\n",
       "        .catch(err => showError(`Javascript Error: ${err.message}<br>This usually means there's a typo in your chart specification. See the javascript console for the full traceback.`));\n",
       "    }\n",
       "\n",
       "    if(typeof define === \"function\" && define.amd) {\n",
       "      requirejs.config({paths});\n",
       "      require([\"vega-embed\"], displayChart, err => showError(`Error loading script: ${err.message}`));\n",
       "    } else if (typeof vegaEmbed === \"function\") {\n",
       "      displayChart(vegaEmbed);\n",
       "    } else {\n",
       "      loadScript(\"vega\")\n",
       "        .then(() => loadScript(\"vega-lite\"))\n",
       "        .then(() => loadScript(\"vega-embed\"))\n",
       "        .catch(showError)\n",
       "        .then(() => displayChart(vegaEmbed));\n",
       "    }\n",
       "  })({\"config\": {\"view\": {\"continuousWidth\": 400, \"continuousHeight\": 300}}, \"layer\": [{\"mark\": {\"type\": \"circle\", \"size\": 60}, \"encoding\": {\"tooltip\": [{\"type\": \"nominal\", \"field\": \"name\"}, {\"type\": \"nominal\", \"field\": \"original\"}], \"x\": {\"type\": \"quantitative\", \"field\": \"python is for programming\"}, \"y\": {\"type\": \"quantitative\", \"field\": \"snakes are slimy creatures\"}}, \"selection\": {\"selector001\": {\"type\": \"interval\", \"bind\": \"scales\", \"encodings\": [\"x\", \"y\"]}}, \"title\": \"python is for programming vs. snakes are slimy creatures\"}, {\"mark\": {\"type\": \"text\", \"color\": \"black\", \"dx\": -15, \"dy\": 3}, \"encoding\": {\"text\": {\"type\": \"nominal\", \"field\": \"original\"}, \"x\": {\"type\": \"quantitative\", \"field\": \"python is for programming\"}, \"y\": {\"type\": \"quantitative\", \"field\": \"snakes are slimy creatures\"}}}], \"data\": {\"name\": \"data-9db3639894ddd659dc24d4f97e6542cc\"}, \"$schema\": \"https://vega.github.io/schema/vega-lite/v4.0.2.json\", \"datasets\": {\"data-9db3639894ddd659dc24d4f97e6542cc\": [{\"python is for programming\": 0.7620851397514343, \"snakes are slimy creatures\": 0.46533307433128357, \"name\": \"this snake is a python\", \"original\": \"this snake is a python\"}, {\"python is for programming\": 0.725583016872406, \"snakes are slimy creatures\": 0.3643815517425537, \"name\": \"i like to program in python\", \"original\": \"i like to program in python\"}, {\"python is for programming\": 0.7156033515930176, \"snakes are slimy creatures\": 0.3570227324962616, \"name\": \"programming is super fun!\", \"original\": \"programming is super fun!\"}, {\"python is for programming\": 0.4657047390937805, \"snakes are slimy creatures\": 0.3518235683441162, \"name\": \"i go to the supermarket\", \"original\": \"i go to the supermarket\"}, {\"python is for programming\": 0.6384759545326233, \"snakes are slimy creatures\": 0.3584940731525421, \"name\": \"i like to code\", \"original\": \"i like to code\"}, {\"python is for programming\": 0.55930495262146, \"snakes are slimy creatures\": 0.6445141434669495, \"name\": \"i love animals\", \"original\": \"i love animals\"}]}}, {\"mode\": \"vega-lite\"});\n",
       "</script>"
      ],
      "text/plain": [
       "alt.LayerChart(...)"
      ]
     },
     "execution_count": 5,
     "metadata": {},
     "output_type": "execute_result"
    }
   ],
   "source": [
    "x_str, y_str = \"python is for programming\", \"snakes are slimy creatures\"\n",
    "x_axis = Embedding(x_str, nlp(x_str).vector)\n",
    "y_axis = Embedding(y_str, nlp(y_str).vector)\n",
    "emb.plot_interactive(x_axis=x_axis, y_axis=y_axis)"
   ]
  },
  {
   "cell_type": "markdown",
   "metadata": {},
   "source": [
    "## Embeddings of Tokens with Context\n",
    "\n",
    "But maybe we'd like to have BERT-style models. These models work differently. Luckily ... spaCy also supports this these days. "
   ]
  },
  {
   "cell_type": "code",
   "execution_count": 8,
   "metadata": {},
   "outputs": [
    {
     "data": {
      "text/html": [
       "\n",
       "<div id=\"altair-viz-9f61cf3fdee246e7a3513e637bd06a27\"></div>\n",
       "<script type=\"text/javascript\">\n",
       "  (function(spec, embedOpt){\n",
       "    const outputDiv = document.getElementById(\"altair-viz-9f61cf3fdee246e7a3513e637bd06a27\");\n",
       "    const paths = {\n",
       "      \"vega\": \"https://cdn.jsdelivr.net/npm//vega@5?noext\",\n",
       "      \"vega-lib\": \"https://cdn.jsdelivr.net/npm//vega-lib?noext\",\n",
       "      \"vega-lite\": \"https://cdn.jsdelivr.net/npm//vega-lite@4.0.2?noext\",\n",
       "      \"vega-embed\": \"https://cdn.jsdelivr.net/npm//vega-embed@6?noext\",\n",
       "    };\n",
       "\n",
       "    function loadScript(lib) {\n",
       "      return new Promise(function(resolve, reject) {\n",
       "        var s = document.createElement('script');\n",
       "        s.src = paths[lib];\n",
       "        s.async = true;\n",
       "        s.onload = () => resolve(paths[lib]);\n",
       "        s.onerror = () => reject(`Error loading script: ${paths[lib]}`);\n",
       "        document.getElementsByTagName(\"head\")[0].appendChild(s);\n",
       "      });\n",
       "    }\n",
       "\n",
       "    function showError(err) {\n",
       "      outputDiv.innerHTML = `<div class=\"error\" style=\"color:red;\">${err}</div>`;\n",
       "      throw err;\n",
       "    }\n",
       "\n",
       "    function displayChart(vegaEmbed) {\n",
       "      vegaEmbed(outputDiv, spec, embedOpt)\n",
       "        .catch(err => showError(`Javascript Error: ${err.message}<br>This usually means there's a typo in your chart specification. See the javascript console for the full traceback.`));\n",
       "    }\n",
       "\n",
       "    if(typeof define === \"function\" && define.amd) {\n",
       "      requirejs.config({paths});\n",
       "      require([\"vega-embed\"], displayChart, err => showError(`Error loading script: ${err.message}`));\n",
       "    } else if (typeof vegaEmbed === \"function\") {\n",
       "      displayChart(vegaEmbed);\n",
       "    } else {\n",
       "      loadScript(\"vega\")\n",
       "        .then(() => loadScript(\"vega-lite\"))\n",
       "        .then(() => loadScript(\"vega-embed\"))\n",
       "        .catch(showError)\n",
       "        .then(() => displayChart(vegaEmbed));\n",
       "    }\n",
       "  })({\"config\": {\"view\": {\"continuousWidth\": 400, \"continuousHeight\": 300}}, \"layer\": [{\"mark\": {\"type\": \"circle\", \"size\": 60}, \"encoding\": {\"tooltip\": [{\"type\": \"nominal\", \"field\": \"name\"}, {\"type\": \"nominal\", \"field\": \"original\"}], \"x\": {\"type\": \"quantitative\", \"field\": \"python is for programming\"}, \"y\": {\"type\": \"quantitative\", \"field\": \"dogs are cool\"}}, \"selection\": {\"selector003\": {\"type\": \"interval\", \"bind\": \"scales\", \"encodings\": [\"x\", \"y\"]}}, \"title\": \"python is for programming vs. dogs are cool\"}, {\"mark\": {\"type\": \"text\", \"color\": \"black\", \"dx\": -15, \"dy\": 3}, \"encoding\": {\"text\": {\"type\": \"nominal\", \"field\": \"original\"}, \"x\": {\"type\": \"quantitative\", \"field\": \"python is for programming\"}, \"y\": {\"type\": \"quantitative\", \"field\": \"dogs are cool\"}}}], \"data\": {\"name\": \"data-0c225876d1327442908b9ed44b050fe0\"}, \"$schema\": \"https://vega.github.io/schema/vega-lite/v4.0.2.json\", \"datasets\": {\"data-0c225876d1327442908b9ed44b050fe0\": [{\"python is for programming\": 1.144073724746704, \"dogs are cool\": 1.3308799266815186, \"name\": \"this snake is a python\", \"original\": \"this snake is a python\"}, {\"python is for programming\": 1.300294041633606, \"dogs are cool\": 1.5033687353134155, \"name\": \"i like to program in python\", \"original\": \"i like to program in python\"}, {\"python is for programming\": 1.3160514831542969, \"dogs are cool\": 1.5487240552902222, \"name\": \"programming is super fun!\", \"original\": \"programming is super fun!\"}, {\"python is for programming\": 1.0894197225570679, \"dogs are cool\": 1.2830896377563477, \"name\": \"i go to the supermarket\", \"original\": \"i go to the supermarket\"}, {\"python is for programming\": 0.9419794678688049, \"dogs are cool\": 1.1170157194137573, \"name\": \"i like to code\", \"original\": \"i like to code\"}, {\"python is for programming\": 0.8128737807273865, \"dogs are cool\": 0.9750963449478149, \"name\": \"i love animals\", \"original\": \"i love animals\"}]}}, {\"mode\": \"vega-lite\"});\n",
       "</script>"
      ],
      "text/plain": [
       "alt.LayerChart(...)"
      ]
     },
     "execution_count": 8,
     "metadata": {},
     "output_type": "execute_result"
    }
   ],
   "source": [
    "nlp = spacy.load(\"en_trf_robertabase_lg\")\n",
    "\n",
    "contexts = (\"this snake is a python\",\n",
    "            \"i like to program in python\",\n",
    "            \"programming is super fun!\",\n",
    "            \"i go to the supermarket\",\n",
    "            \"i like to code\", \n",
    "            \"i love animals\")\n",
    "\n",
    "t = EmbeddingSet({k: Embedding(k, nlp(k).vector) for k in contexts})\n",
    "\n",
    "x_str, y_str = \"python is for programming\", \"dogs are cool\"\n",
    "x_axis = Embedding(x_str, nlp(x_str).vector)\n",
    "y_axis = Embedding(y_str, nlp(y_str).vector)\n",
    "t.plot_interactive(x_axis=x_axis, y_axis=y_axis)"
   ]
  },
  {
   "cell_type": "markdown",
   "metadata": {},
   "source": [
    "We can go a step further too. If we have the sentence `this snake is a python` then an algorithm like Bert will not apply seperate word embeddings for each token. Rather, the entire document will first learn it's representation before assigning it to seperate tokens. If you are interested in a Bert representation of a word given the context that it is in ... you can get them with a special syntax."
   ]
  },
  {
   "cell_type": "code",
   "execution_count": 55,
   "metadata": {},
   "outputs": [],
   "source": [
    "contexts = (\"i put my money on the [bank]\",\n",
    "            \"i put my money on the bank\",\n",
    "            \"the water flows on the river [bank]\",\n",
    "            \"the water flows on the river bank\",\n",
    "            \"i really like [to swim] in water\",\n",
    "            \"i want to be so rich that i am [drowning] in money\",\n",
    "            \"i have plenty of [cash] on me\",\n",
    "            \"money is important to my [cash] flow\", \n",
    "            \"a beach is next to the ocean\", \n",
    "            \"google gives me a wealth of information\",\n",
    "            \"that banker person is very wealthy\", \n",
    "            \"i like cats and dogs\")"
   ]
  },
  {
   "cell_type": "markdown",
   "metadata": {},
   "source": [
    "But to make use of this syntax we need a new object; the `Language` object. This is a tool for `whatlies` to grab the appropriate word embeddings on your behalf. It will handle the context but can also be seen as a lazy `EmbeddingSet`."
   ]
  },
  {
   "cell_type": "code",
   "execution_count": 56,
   "metadata": {},
   "outputs": [],
   "source": [
    "import numpy as np\n",
    "from whatlies.language import SpacyLanguage\n",
    "\n",
    "lang = SpacyLanguage(\"en_trf_robertabase_lg\")"
   ]
  },
  {
   "cell_type": "code",
   "execution_count": 57,
   "metadata": {},
   "outputs": [
    {
     "data": {
      "text/plain": [
       "array([-0.10710682,  0.02091791,  0.06176348, -0.21725698,  0.6821515 ,\n",
       "       -0.39927804, -0.05537288,  0.14486104, -0.00605936, -0.07999073],\n",
       "      dtype=float32)"
      ]
     },
     "execution_count": 57,
     "metadata": {},
     "output_type": "execute_result"
    }
   ],
   "source": [
    "lang['red'].vector[:10]"
   ]
  },
  {
   "cell_type": "markdown",
   "metadata": {},
   "source": [
    "Note that these embeddings are kind of special, they depend on the context around the token of interest!"
   ]
  },
  {
   "cell_type": "code",
   "execution_count": 58,
   "metadata": {},
   "outputs": [
    {
     "data": {
      "text/plain": [
       "False"
      ]
     },
     "execution_count": 58,
     "metadata": {},
     "output_type": "execute_result"
    }
   ],
   "source": [
    "np.array_equal(lang['Going to the [store]'].vector, \n",
    "               lang['[store] this in the drawer please.'].vector)"
   ]
  },
  {
   "cell_type": "markdown",
   "metadata": {},
   "source": [
    "But we can also use the `EmbeddingSet` again. "
   ]
  },
  {
   "cell_type": "code",
   "execution_count": 59,
   "metadata": {},
   "outputs": [
    {
     "name": "stderr",
     "output_type": "stream",
     "text": [
      "/Users/vincent/Development/whatlies/venv/lib/python3.7/site-packages/umap/umap_.py:1383: UserWarning: n_neighbors is larger than the dataset size; truncating to X.shape[0] - 1\n",
      "  \"n_neighbors is larger than the dataset size; truncating to \"\n"
     ]
    }
   ],
   "source": [
    "from whatlies.transformers import umap\n",
    "\n",
    "t = EmbeddingSet({k: lang[k] for k in contexts}).transform(umap(2))"
   ]
  },
  {
   "cell_type": "code",
   "execution_count": 61,
   "metadata": {},
   "outputs": [
    {
     "data": {
      "text/html": [
       "\n",
       "<div id=\"altair-viz-59fb3c73701b4cc992e738bee3acdc9b\"></div>\n",
       "<script type=\"text/javascript\">\n",
       "  (function(spec, embedOpt){\n",
       "    const outputDiv = document.getElementById(\"altair-viz-59fb3c73701b4cc992e738bee3acdc9b\");\n",
       "    const paths = {\n",
       "      \"vega\": \"https://cdn.jsdelivr.net/npm//vega@5?noext\",\n",
       "      \"vega-lib\": \"https://cdn.jsdelivr.net/npm//vega-lib?noext\",\n",
       "      \"vega-lite\": \"https://cdn.jsdelivr.net/npm//vega-lite@4.0.2?noext\",\n",
       "      \"vega-embed\": \"https://cdn.jsdelivr.net/npm//vega-embed@6?noext\",\n",
       "    };\n",
       "\n",
       "    function loadScript(lib) {\n",
       "      return new Promise(function(resolve, reject) {\n",
       "        var s = document.createElement('script');\n",
       "        s.src = paths[lib];\n",
       "        s.async = true;\n",
       "        s.onload = () => resolve(paths[lib]);\n",
       "        s.onerror = () => reject(`Error loading script: ${paths[lib]}`);\n",
       "        document.getElementsByTagName(\"head\")[0].appendChild(s);\n",
       "      });\n",
       "    }\n",
       "\n",
       "    function showError(err) {\n",
       "      outputDiv.innerHTML = `<div class=\"error\" style=\"color:red;\">${err}</div>`;\n",
       "      throw err;\n",
       "    }\n",
       "\n",
       "    function displayChart(vegaEmbed) {\n",
       "      vegaEmbed(outputDiv, spec, embedOpt)\n",
       "        .catch(err => showError(`Javascript Error: ${err.message}<br>This usually means there's a typo in your chart specification. See the javascript console for the full traceback.`));\n",
       "    }\n",
       "\n",
       "    if(typeof define === \"function\" && define.amd) {\n",
       "      requirejs.config({paths});\n",
       "      require([\"vega-embed\"], displayChart, err => showError(`Error loading script: ${err.message}`));\n",
       "    } else if (typeof vegaEmbed === \"function\") {\n",
       "      displayChart(vegaEmbed);\n",
       "    } else {\n",
       "      loadScript(\"vega\")\n",
       "        .then(() => loadScript(\"vega-lite\"))\n",
       "        .then(() => loadScript(\"vega-embed\"))\n",
       "        .catch(showError)\n",
       "        .then(() => displayChart(vegaEmbed));\n",
       "    }\n",
       "  })({\"config\": {\"view\": {\"continuousWidth\": 400, \"continuousHeight\": 300}}, \"hconcat\": [{\"layer\": [{\"mark\": {\"type\": \"circle\", \"size\": 60}, \"encoding\": {\"tooltip\": [{\"type\": \"nominal\", \"field\": \"name\"}, {\"type\": \"nominal\", \"field\": \"original\"}], \"x\": {\"type\": \"quantitative\", \"axis\": {\"title\": \"i like cats and dogs\"}, \"field\": \"x_axis\"}, \"y\": {\"type\": \"quantitative\", \"axis\": {\"title\": \"i put my money on the [bank]\"}, \"field\": \"y_axis\"}}, \"selection\": {\"selector028\": {\"type\": \"interval\", \"bind\": \"scales\", \"encodings\": [\"x\", \"y\"]}}, \"title\": \"i like cats and dogs vs. i put my money on the [bank]\"}, {\"mark\": {\"type\": \"text\", \"color\": \"black\", \"dx\": -15, \"dy\": 3}, \"encoding\": {\"text\": {\"type\": \"nominal\", \"field\": \"original\"}, \"x\": {\"type\": \"quantitative\", \"axis\": {\"title\": \"i like cats and dogs\"}, \"field\": \"x_axis\"}, \"y\": {\"type\": \"quantitative\", \"axis\": {\"title\": \"i put my money on the [bank]\"}, \"field\": \"y_axis\"}}}], \"data\": {\"name\": \"data-178c8c05c6ca4a95bda44e1636561cc9\"}}, {\"layer\": [{\"mark\": {\"type\": \"circle\", \"size\": 60}, \"encoding\": {\"tooltip\": [{\"type\": \"nominal\", \"field\": \"name\"}, {\"type\": \"nominal\", \"field\": \"original\"}], \"x\": {\"type\": \"quantitative\", \"axis\": {\"title\": \"i like cats and dogs\"}, \"field\": \"x_axis\"}, \"y\": {\"type\": \"quantitative\", \"axis\": {\"title\": \"i put my money on the bank\"}, \"field\": \"y_axis\"}}, \"selection\": {\"selector029\": {\"type\": \"interval\", \"bind\": \"scales\", \"encodings\": [\"x\", \"y\"]}}, \"title\": \"i like cats and dogs vs. i put my money on the bank\"}, {\"mark\": {\"type\": \"text\", \"color\": \"black\", \"dx\": -15, \"dy\": 3}, \"encoding\": {\"text\": {\"type\": \"nominal\", \"field\": \"original\"}, \"x\": {\"type\": \"quantitative\", \"axis\": {\"title\": \"i like cats and dogs\"}, \"field\": \"x_axis\"}, \"y\": {\"type\": \"quantitative\", \"axis\": {\"title\": \"i put my money on the bank\"}, \"field\": \"y_axis\"}}}], \"data\": {\"name\": \"data-454b0ab02a87175fdcee3b23626ec5ef\"}}], \"$schema\": \"https://vega.github.io/schema/vega-lite/v4.0.2.json\", \"datasets\": {\"data-178c8c05c6ca4a95bda44e1636561cc9\": [{\"x_axis\": 1.1271551427480695, \"y_axis\": 0.2585784143519762, \"name\": \"i put my money on the bank\", \"original\": \"i put my money on the bank\"}, {\"x_axis\": 0.9541353237592486, \"y_axis\": 1.0317757037948017, \"name\": \"the water flows on the river [bank]\", \"original\": \"the water flows on the river [bank]\"}, {\"x_axis\": 1.0838094692895637, \"y_axis\": 0.2118172924250799, \"name\": \"the water flows on the river bank\", \"original\": \"the water flows on the river bank\"}, {\"x_axis\": 1.0476804335544778, \"y_axis\": 1.0606388738048211, \"name\": \"i really like [to swim] in water\", \"original\": \"i really like [to swim] in water\"}, {\"x_axis\": 0.9104698767813493, \"y_axis\": 0.9917454501235006, \"name\": \"i want to be so rich that i am [drowning] in money\", \"original\": \"i want to be so rich that i am [drowning] in money\"}, {\"x_axis\": 1.0095045650653922, \"y_axis\": 1.0293095913827621, \"name\": \"i have plenty of [cash] on me\", \"original\": \"i have plenty of [cash] on me\"}, {\"x_axis\": 1.0502402262462618, \"y_axis\": 1.017503929773179, \"name\": \"money is important to my [cash] flow\", \"original\": \"money is important to my [cash] flow\"}, {\"x_axis\": 1.045500063429735, \"y_axis\": 0.26171092512162036, \"name\": \"a beach is next to the ocean\", \"original\": \"a beach is next to the ocean\"}, {\"x_axis\": 1.0542337576860294, \"y_axis\": 0.23212156653308003, \"name\": \"google gives me a wealth of information\", \"original\": \"google gives me a wealth of information\"}, {\"x_axis\": 0.97573879235005, \"y_axis\": 0.2244948791193906, \"name\": \"that banker person is very wealthy\", \"original\": \"that banker person is very wealthy\"}, {\"x_axis\": -0.03094710644701454, \"y_axis\": 0.03764791488893156, \"name\": \"umap_0\", \"original\": \"umap_0\"}, {\"x_axis\": -0.1074847714578842, \"y_axis\": -0.034848359910197746, \"name\": \"umap_1\", \"original\": \"umap_1\"}], \"data-454b0ab02a87175fdcee3b23626ec5ef\": [{\"x_axis\": 0.9805455487399815, \"y_axis\": 0.9644385409937575, \"name\": \"i put my money on the [bank]\", \"original\": \"i put my money on the [bank]\"}, {\"x_axis\": 0.9541353237592486, \"y_axis\": 0.9456211422455185, \"name\": \"the water flows on the river [bank]\", \"original\": \"the water flows on the river [bank]\"}, {\"x_axis\": 1.0838094692895637, \"y_axis\": 0.9570547398322375, \"name\": \"the water flows on the river bank\", \"original\": \"the water flows on the river bank\"}, {\"x_axis\": 1.0476804335544778, \"y_axis\": 1.029516095641945, \"name\": \"i really like [to swim] in water\", \"original\": \"i really like [to swim] in water\"}, {\"x_axis\": 0.9104698767813493, \"y_axis\": 0.9032218793135113, \"name\": \"i want to be so rich that i am [drowning] in money\", \"original\": \"i want to be so rich that i am [drowning] in money\"}, {\"x_axis\": 1.0095045650653922, \"y_axis\": 0.9928945474669165, \"name\": \"i have plenty of [cash] on me\", \"original\": \"i have plenty of [cash] on me\"}, {\"x_axis\": 1.0502402262462618, \"y_axis\": 1.0264557013345743, \"name\": \"money is important to my [cash] flow\", \"original\": \"money is important to my [cash] flow\"}, {\"x_axis\": 1.045500063429735, \"y_axis\": 0.9302226507358483, \"name\": \"a beach is next to the ocean\", \"original\": \"a beach is next to the ocean\"}, {\"x_axis\": 1.0542337576860294, \"y_axis\": 0.934118697039702, \"name\": \"google gives me a wealth of information\", \"original\": \"google gives me a wealth of information\"}, {\"x_axis\": 0.97573879235005, \"y_axis\": 0.8657446072294112, \"name\": \"that banker person is very wealthy\", \"original\": \"that banker person is very wealthy\"}, {\"x_axis\": -0.03094710644701454, \"y_axis\": -0.021999510020023216, \"name\": \"umap_0\", \"original\": \"umap_0\"}, {\"x_axis\": -0.1074847714578842, \"y_axis\": -0.09660195376332684, \"name\": \"umap_1\", \"original\": \"umap_1\"}]}}, {\"mode\": \"vega-lite\"});\n",
       "</script>"
      ],
      "text/plain": [
       "alt.HConcatChart(...)"
      ]
     },
     "execution_count": 61,
     "metadata": {},
     "output_type": "execute_result"
    }
   ],
   "source": [
    "p1 = t.plot_interactive(\"i like cats and dogs\", \"i put my money on the [bank]\")\n",
    "p2 = t.plot_interactive(\"i like cats and dogs\", \"i put my money on the bank\")\n",
    "p1 | p2"
   ]
  },
  {
   "cell_type": "code",
   "execution_count": null,
   "metadata": {},
   "outputs": [],
   "source": []
  }
 ],
 "metadata": {
  "kernelspec": {
   "display_name": "Python 3",
   "language": "python",
   "name": "python3"
  },
  "language_info": {
   "codemirror_mode": {
    "name": "ipython",
    "version": 3
   },
   "file_extension": ".py",
   "mimetype": "text/x-python",
   "name": "python",
   "nbconvert_exporter": "python",
   "pygments_lexer": "ipython3",
   "version": "3.7.3"
  }
 },
 "nbformat": 4,
 "nbformat_minor": 4
}
