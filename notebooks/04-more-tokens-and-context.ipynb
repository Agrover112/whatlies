{
 "cells": [
  {
   "cell_type": "markdown",
   "metadata": {},
   "source": [
    "The previous two notebooks might have gotten your attention but usually we get the response; \n",
    "\n",
    "> But what about BERT-embeddings? \n",
    "\n",
    "Let's explain how to get there, but first ... we should explain languages."
   ]
  },
  {
   "cell_type": "code",
   "execution_count": 1,
   "metadata": {},
   "outputs": [],
   "source": [
    "%load_ext autoreload\n",
    "%autoreload 2"
   ]
  },
  {
   "cell_type": "code",
   "execution_count": 2,
   "metadata": {},
   "outputs": [],
   "source": [
    "from whatlies import Embedding, EmbeddingSet\n",
    "import spacy \n",
    "import matplotlib.pylab as plt"
   ]
  },
  {
   "cell_type": "markdown",
   "metadata": {},
   "source": [
    "## Multi-Token Embeddings\n",
    "\n",
    "We can also have embeddings that represent more than one token. If we'd do this via spacy, we'd have a an average of all the word embeddings."
   ]
  },
  {
   "cell_type": "code",
   "execution_count": 4,
   "metadata": {},
   "outputs": [
    {
     "data": {
      "text/html": [
       "\n",
       "<div id=\"altair-viz-7082a0d202e94ce4bff72679c2c0065b\"></div>\n",
       "<script type=\"text/javascript\">\n",
       "  (function(spec, embedOpt){\n",
       "    const outputDiv = document.getElementById(\"altair-viz-7082a0d202e94ce4bff72679c2c0065b\");\n",
       "    const paths = {\n",
       "      \"vega\": \"https://cdn.jsdelivr.net/npm//vega@5?noext\",\n",
       "      \"vega-lib\": \"https://cdn.jsdelivr.net/npm//vega-lib?noext\",\n",
       "      \"vega-lite\": \"https://cdn.jsdelivr.net/npm//vega-lite@4.0.2?noext\",\n",
       "      \"vega-embed\": \"https://cdn.jsdelivr.net/npm//vega-embed@6?noext\",\n",
       "    };\n",
       "\n",
       "    function loadScript(lib) {\n",
       "      return new Promise(function(resolve, reject) {\n",
       "        var s = document.createElement('script');\n",
       "        s.src = paths[lib];\n",
       "        s.async = true;\n",
       "        s.onload = () => resolve(paths[lib]);\n",
       "        s.onerror = () => reject(`Error loading script: ${paths[lib]}`);\n",
       "        document.getElementsByTagName(\"head\")[0].appendChild(s);\n",
       "      });\n",
       "    }\n",
       "\n",
       "    function showError(err) {\n",
       "      outputDiv.innerHTML = `<div class=\"error\" style=\"color:red;\">${err}</div>`;\n",
       "      throw err;\n",
       "    }\n",
       "\n",
       "    function displayChart(vegaEmbed) {\n",
       "      vegaEmbed(outputDiv, spec, embedOpt)\n",
       "        .catch(err => showError(`Javascript Error: ${err.message}<br>This usually means there's a typo in your chart specification. See the javascript console for the full traceback.`));\n",
       "    }\n",
       "\n",
       "    if(typeof define === \"function\" && define.amd) {\n",
       "      requirejs.config({paths});\n",
       "      require([\"vega-embed\"], displayChart, err => showError(`Error loading script: ${err.message}`));\n",
       "    } else if (typeof vegaEmbed === \"function\") {\n",
       "      displayChart(vegaEmbed);\n",
       "    } else {\n",
       "      loadScript(\"vega\")\n",
       "        .then(() => loadScript(\"vega-lite\"))\n",
       "        .then(() => loadScript(\"vega-embed\"))\n",
       "        .catch(showError)\n",
       "        .then(() => displayChart(vegaEmbed));\n",
       "    }\n",
       "  })({\"config\": {\"view\": {\"continuousWidth\": 400, \"continuousHeight\": 300}}, \"layer\": [{\"mark\": {\"type\": \"circle\", \"size\": 60}, \"encoding\": {\"tooltip\": [{\"type\": \"nominal\", \"field\": \"name\"}, {\"type\": \"nominal\", \"field\": \"original\"}], \"x\": {\"type\": \"quantitative\", \"axis\": {\"title\": \"Emb.pca_2()[pca_0]\"}, \"field\": \"x_axis\"}, \"y\": {\"type\": \"quantitative\", \"axis\": {\"title\": \"Emb.pca_2()[pca_1]\"}, \"field\": \"y_axis\"}}, \"selection\": {\"selector001\": {\"type\": \"interval\", \"bind\": \"scales\", \"encodings\": [\"x\", \"y\"]}}, \"title\": \"Emb.pca_2()[pca_0] vs. Emb.pca_2()[pca_1]\"}, {\"mark\": {\"type\": \"text\", \"color\": \"black\", \"dx\": -15, \"dy\": 3}, \"encoding\": {\"text\": {\"type\": \"nominal\", \"field\": \"original\"}, \"x\": {\"type\": \"quantitative\", \"axis\": {\"title\": \"Emb.pca_2()[pca_0]\"}, \"field\": \"x_axis\"}, \"y\": {\"type\": \"quantitative\", \"axis\": {\"title\": \"Emb.pca_2()[pca_1]\"}, \"field\": \"y_axis\"}}}], \"data\": {\"name\": \"data-2f840311b06c3e7342fada4f93582cdc\"}, \"height\": 400, \"width\": 400, \"$schema\": \"https://vega.github.io/schema/vega-lite/v4.0.2.json\", \"datasets\": {\"data-2f840311b06c3e7342fada4f93582cdc\": [{\"x_axis\": -3.1928529739379883, \"y_axis\": 1.8354978561401367, \"name\": \"Emb.pca_2()[i am super duper happy]\", \"original\": \"i am super duper happy\"}, {\"x_axis\": 5.428829669952393, \"y_axis\": -4.098637104034424, \"name\": \"Emb.pca_2()[happy happy joy joy]\", \"original\": \"happy happy joy joy\"}, {\"x_axis\": -6.6852498054504395, \"y_axis\": -6.786552429199219, \"name\": \"Emb.pca_2()[programming is super fun!]\", \"original\": \"programming is super fun!\"}, {\"x_axis\": -3.5197815895080566, \"y_axis\": 7.7793803215026855, \"name\": \"Emb.pca_2()[i am going crazy i hate it]\", \"original\": \"i am going crazy i hate it\"}, {\"x_axis\": 7.969057083129883, \"y_axis\": 1.2703118324279785, \"name\": \"Emb.pca_2()[boo and hiss]\", \"original\": \"boo and hiss\"}]}}, {\"mode\": \"vega-lite\"});\n",
       "</script>"
      ],
      "text/plain": [
       "alt.LayerChart(...)"
      ]
     },
     "execution_count": 4,
     "metadata": {},
     "output_type": "execute_result"
    }
   ],
   "source": [
    "from whatlies.language import SpacyLanguage\n",
    "from whatlies.transformers import Pca \n",
    "\n",
    "lang = SpacyLanguage(\"en_core_web_sm\")\n",
    "\n",
    "contexts = [\"i am super duper happy\",\n",
    "            \"happy happy joy joy\",\n",
    "            \"programming is super fun!\",\n",
    "            \"i am going crazy i hate it\",\n",
    "            \"boo and hiss\",]\n",
    "\n",
    "emb = lang[contexts]\n",
    "emb.transform(Pca(2)).plot_interactive('pca_0', 'pca_1').properties(width=400, height=400)"
   ]
  },
  {
   "cell_type": "code",
   "execution_count": 5,
   "metadata": {},
   "outputs": [],
   "source": [
    "nlp = spacy.load(\"en_core_web_md\")\n",
    "\n",
    "contexts = (\"this snake is a python\",\n",
    "            \"i like to program in python\",\n",
    "            \"programming is super fun!\",\n",
    "            \"i go to the supermarket\",\n",
    "            \"i like to code\", \n",
    "            \"i love animals\")\n",
    "\n",
    "emb = EmbeddingSet({k: Embedding(k, nlp(k).vector) for k in contexts})"
   ]
  },
  {
   "cell_type": "code",
   "execution_count": 6,
   "metadata": {},
   "outputs": [
    {
     "data": {
      "text/html": [
       "\n",
       "<div id=\"altair-viz-d78bb1bc548640cda681d745ef270373\"></div>\n",
       "<script type=\"text/javascript\">\n",
       "  (function(spec, embedOpt){\n",
       "    const outputDiv = document.getElementById(\"altair-viz-d78bb1bc548640cda681d745ef270373\");\n",
       "    const paths = {\n",
       "      \"vega\": \"https://cdn.jsdelivr.net/npm//vega@5?noext\",\n",
       "      \"vega-lib\": \"https://cdn.jsdelivr.net/npm//vega-lib?noext\",\n",
       "      \"vega-lite\": \"https://cdn.jsdelivr.net/npm//vega-lite@4.0.2?noext\",\n",
       "      \"vega-embed\": \"https://cdn.jsdelivr.net/npm//vega-embed@6?noext\",\n",
       "    };\n",
       "\n",
       "    function loadScript(lib) {\n",
       "      return new Promise(function(resolve, reject) {\n",
       "        var s = document.createElement('script');\n",
       "        s.src = paths[lib];\n",
       "        s.async = true;\n",
       "        s.onload = () => resolve(paths[lib]);\n",
       "        s.onerror = () => reject(`Error loading script: ${paths[lib]}`);\n",
       "        document.getElementsByTagName(\"head\")[0].appendChild(s);\n",
       "      });\n",
       "    }\n",
       "\n",
       "    function showError(err) {\n",
       "      outputDiv.innerHTML = `<div class=\"error\" style=\"color:red;\">${err}</div>`;\n",
       "      throw err;\n",
       "    }\n",
       "\n",
       "    function displayChart(vegaEmbed) {\n",
       "      vegaEmbed(outputDiv, spec, embedOpt)\n",
       "        .catch(err => showError(`Javascript Error: ${err.message}<br>This usually means there's a typo in your chart specification. See the javascript console for the full traceback.`));\n",
       "    }\n",
       "\n",
       "    if(typeof define === \"function\" && define.amd) {\n",
       "      requirejs.config({paths});\n",
       "      require([\"vega-embed\"], displayChart, err => showError(`Error loading script: ${err.message}`));\n",
       "    } else if (typeof vegaEmbed === \"function\") {\n",
       "      displayChart(vegaEmbed);\n",
       "    } else {\n",
       "      loadScript(\"vega\")\n",
       "        .then(() => loadScript(\"vega-lite\"))\n",
       "        .then(() => loadScript(\"vega-embed\"))\n",
       "        .catch(showError)\n",
       "        .then(() => displayChart(vegaEmbed));\n",
       "    }\n",
       "  })({\"config\": {\"view\": {\"continuousWidth\": 400, \"continuousHeight\": 300}}, \"layer\": [{\"mark\": {\"type\": \"circle\", \"size\": 60}, \"encoding\": {\"tooltip\": [{\"type\": \"nominal\", \"field\": \"name\"}, {\"type\": \"nominal\", \"field\": \"original\"}], \"x\": {\"type\": \"quantitative\", \"axis\": {\"title\": \"python is for programming\"}, \"field\": \"x_axis\"}, \"y\": {\"type\": \"quantitative\", \"axis\": {\"title\": \"snakes are slimy creatures\"}, \"field\": \"y_axis\"}}, \"selection\": {\"selector002\": {\"type\": \"interval\", \"bind\": \"scales\", \"encodings\": [\"x\", \"y\"]}}, \"title\": \"python is for programming vs. snakes are slimy creatures\"}, {\"mark\": {\"type\": \"text\", \"color\": \"black\", \"dx\": -15, \"dy\": 3}, \"encoding\": {\"text\": {\"type\": \"nominal\", \"field\": \"original\"}, \"x\": {\"type\": \"quantitative\", \"axis\": {\"title\": \"python is for programming\"}, \"field\": \"x_axis\"}, \"y\": {\"type\": \"quantitative\", \"axis\": {\"title\": \"snakes are slimy creatures\"}, \"field\": \"y_axis\"}}}], \"data\": {\"name\": \"data-4c971b1adb98cc4d25efcc1cbb0f6341\"}, \"$schema\": \"https://vega.github.io/schema/vega-lite/v4.0.2.json\", \"datasets\": {\"data-4c971b1adb98cc4d25efcc1cbb0f6341\": [{\"x_axis\": 0.7620851397514343, \"y_axis\": 0.46533307433128357, \"name\": \"Emb[this snake is a python]\", \"original\": \"this snake is a python\"}, {\"x_axis\": 0.725583016872406, \"y_axis\": 0.3643815517425537, \"name\": \"Emb[i like to program in python]\", \"original\": \"i like to program in python\"}, {\"x_axis\": 0.7156033515930176, \"y_axis\": 0.3570227324962616, \"name\": \"Emb[programming is super fun!]\", \"original\": \"programming is super fun!\"}, {\"x_axis\": 0.4657047390937805, \"y_axis\": 0.3518235683441162, \"name\": \"Emb[i go to the supermarket]\", \"original\": \"i go to the supermarket\"}, {\"x_axis\": 0.6384759545326233, \"y_axis\": 0.3584940731525421, \"name\": \"Emb[i like to code]\", \"original\": \"i like to code\"}, {\"x_axis\": 0.55930495262146, \"y_axis\": 0.6445141434669495, \"name\": \"Emb[i love animals]\", \"original\": \"i love animals\"}]}}, {\"mode\": \"vega-lite\"});\n",
       "</script>"
      ],
      "text/plain": [
       "alt.LayerChart(...)"
      ]
     },
     "execution_count": 6,
     "metadata": {},
     "output_type": "execute_result"
    }
   ],
   "source": [
    "x_str, y_str = \"python is for programming\", \"snakes are slimy creatures\"\n",
    "x_axis = Embedding(x_str, nlp(x_str).vector)\n",
    "y_axis = Embedding(y_str, nlp(y_str).vector)\n",
    "emb.plot_interactive(x_axis=x_axis, y_axis=y_axis)"
   ]
  },
  {
   "cell_type": "markdown",
   "metadata": {},
   "source": [
    "## Embeddings of Tokens with Context\n",
    "\n",
    "But maybe we'd like to have BERT-style models. These models work differently. Luckily ... spaCy also supports this these days. \n",
    "\n",
    "Note that you'll need to download and install this model first. You can do that by running;\n",
    "\n",
    "```\n",
    "pip install spacy-transformers\n",
    "python -m spacy download en_trf_robertabase_lg\n",
    "```"
   ]
  },
  {
   "cell_type": "code",
   "execution_count": 7,
   "metadata": {},
   "outputs": [
    {
     "data": {
      "text/html": [
       "\n",
       "<div id=\"altair-viz-168785f2ca344fd4a56dc55139896214\"></div>\n",
       "<script type=\"text/javascript\">\n",
       "  (function(spec, embedOpt){\n",
       "    const outputDiv = document.getElementById(\"altair-viz-168785f2ca344fd4a56dc55139896214\");\n",
       "    const paths = {\n",
       "      \"vega\": \"https://cdn.jsdelivr.net/npm//vega@5?noext\",\n",
       "      \"vega-lib\": \"https://cdn.jsdelivr.net/npm//vega-lib?noext\",\n",
       "      \"vega-lite\": \"https://cdn.jsdelivr.net/npm//vega-lite@4.0.2?noext\",\n",
       "      \"vega-embed\": \"https://cdn.jsdelivr.net/npm//vega-embed@6?noext\",\n",
       "    };\n",
       "\n",
       "    function loadScript(lib) {\n",
       "      return new Promise(function(resolve, reject) {\n",
       "        var s = document.createElement('script');\n",
       "        s.src = paths[lib];\n",
       "        s.async = true;\n",
       "        s.onload = () => resolve(paths[lib]);\n",
       "        s.onerror = () => reject(`Error loading script: ${paths[lib]}`);\n",
       "        document.getElementsByTagName(\"head\")[0].appendChild(s);\n",
       "      });\n",
       "    }\n",
       "\n",
       "    function showError(err) {\n",
       "      outputDiv.innerHTML = `<div class=\"error\" style=\"color:red;\">${err}</div>`;\n",
       "      throw err;\n",
       "    }\n",
       "\n",
       "    function displayChart(vegaEmbed) {\n",
       "      vegaEmbed(outputDiv, spec, embedOpt)\n",
       "        .catch(err => showError(`Javascript Error: ${err.message}<br>This usually means there's a typo in your chart specification. See the javascript console for the full traceback.`));\n",
       "    }\n",
       "\n",
       "    if(typeof define === \"function\" && define.amd) {\n",
       "      requirejs.config({paths});\n",
       "      require([\"vega-embed\"], displayChart, err => showError(`Error loading script: ${err.message}`));\n",
       "    } else if (typeof vegaEmbed === \"function\") {\n",
       "      displayChart(vegaEmbed);\n",
       "    } else {\n",
       "      loadScript(\"vega\")\n",
       "        .then(() => loadScript(\"vega-lite\"))\n",
       "        .then(() => loadScript(\"vega-embed\"))\n",
       "        .catch(showError)\n",
       "        .then(() => displayChart(vegaEmbed));\n",
       "    }\n",
       "  })({\"config\": {\"view\": {\"continuousWidth\": 400, \"continuousHeight\": 300}}, \"layer\": [{\"mark\": {\"type\": \"circle\", \"size\": 60}, \"encoding\": {\"tooltip\": [{\"type\": \"nominal\", \"field\": \"name\"}, {\"type\": \"nominal\", \"field\": \"original\"}], \"x\": {\"type\": \"quantitative\", \"axis\": {\"title\": \"python is for programming\"}, \"field\": \"x_axis\"}, \"y\": {\"type\": \"quantitative\", \"axis\": {\"title\": \"dogs are cool\"}, \"field\": \"y_axis\"}}, \"selection\": {\"selector003\": {\"type\": \"interval\", \"bind\": \"scales\", \"encodings\": [\"x\", \"y\"]}}, \"title\": \"python is for programming vs. dogs are cool\"}, {\"mark\": {\"type\": \"text\", \"color\": \"black\", \"dx\": -15, \"dy\": 3}, \"encoding\": {\"text\": {\"type\": \"nominal\", \"field\": \"original\"}, \"x\": {\"type\": \"quantitative\", \"axis\": {\"title\": \"python is for programming\"}, \"field\": \"x_axis\"}, \"y\": {\"type\": \"quantitative\", \"axis\": {\"title\": \"dogs are cool\"}, \"field\": \"y_axis\"}}}], \"data\": {\"name\": \"data-dc0f8e808cca6a0fd3a295f8fb2e1920\"}, \"$schema\": \"https://vega.github.io/schema/vega-lite/v4.0.2.json\", \"datasets\": {\"data-dc0f8e808cca6a0fd3a295f8fb2e1920\": [{\"x_axis\": 1.144073724746704, \"y_axis\": 1.3308799266815186, \"name\": \"Emb[this snake is a python]\", \"original\": \"this snake is a python\"}, {\"x_axis\": 1.300294041633606, \"y_axis\": 1.5033687353134155, \"name\": \"Emb[i like to program in python]\", \"original\": \"i like to program in python\"}, {\"x_axis\": 1.3160514831542969, \"y_axis\": 1.5487240552902222, \"name\": \"Emb[programming is super fun!]\", \"original\": \"programming is super fun!\"}, {\"x_axis\": 1.0894197225570679, \"y_axis\": 1.2830896377563477, \"name\": \"Emb[i go to the supermarket]\", \"original\": \"i go to the supermarket\"}, {\"x_axis\": 0.9419794678688049, \"y_axis\": 1.1170157194137573, \"name\": \"Emb[i like to code]\", \"original\": \"i like to code\"}, {\"x_axis\": 0.8128737807273865, \"y_axis\": 0.9750963449478149, \"name\": \"Emb[i love animals]\", \"original\": \"i love animals\"}]}}, {\"mode\": \"vega-lite\"});\n",
       "</script>"
      ],
      "text/plain": [
       "alt.LayerChart(...)"
      ]
     },
     "execution_count": 7,
     "metadata": {},
     "output_type": "execute_result"
    }
   ],
   "source": [
    "nlp = spacy.load(\"en_trf_robertabase_lg\")\n",
    "\n",
    "contexts = (\"this snake is a python\",\n",
    "            \"i like to program in python\",\n",
    "            \"programming is super fun!\",\n",
    "            \"i go to the supermarket\",\n",
    "            \"i like to code\", \n",
    "            \"i love animals\")\n",
    "\n",
    "t = EmbeddingSet({k: Embedding(k, nlp(k).vector) for k in contexts})\n",
    "\n",
    "x_str, y_str = \"python is for programming\", \"dogs are cool\"\n",
    "x_axis = Embedding(x_str, nlp(x_str).vector)\n",
    "y_axis = Embedding(y_str, nlp(y_str).vector)\n",
    "t.plot_interactive(x_axis=x_axis, y_axis=y_axis)"
   ]
  },
  {
   "cell_type": "markdown",
   "metadata": {},
   "source": [
    "We can go a step further too. If we have the sentence `this snake is a python` then an algorithm like Bert will not apply seperate word embeddings for each token. Rather, the entire document will first learn it's representation before assigning it to seperate tokens. If you are interested in a Bert representation of a word given the context that it is in ... you can get them with a special syntax."
   ]
  },
  {
   "cell_type": "code",
   "execution_count": 8,
   "metadata": {},
   "outputs": [],
   "source": [
    "contexts = (\"i put my money on the [bank]\",\n",
    "            \"i put my money on the bank\",\n",
    "            \"the water flows on the river [bank]\",\n",
    "            \"the water flows on the river bank\",\n",
    "            \"i really like [to swim] in water\",\n",
    "            \"i want to be so rich that i am [drowning] in money\",\n",
    "            \"i have plenty of [cash] on me\",\n",
    "            \"money is important to my [cash] flow\", \n",
    "            \"a beach is next to the ocean\", \n",
    "            \"google gives me a wealth of information\",\n",
    "            \"that banker person is very wealthy\", \n",
    "            \"i like cats and dogs\")"
   ]
  },
  {
   "cell_type": "markdown",
   "metadata": {},
   "source": [
    "But to make use of this syntax we need a new object; the `Language` object. This is a tool for `whatlies` to grab the appropriate word embeddings on your behalf. It will handle the context but can also be seen as a lazy `EmbeddingSet`."
   ]
  },
  {
   "cell_type": "code",
   "execution_count": 9,
   "metadata": {},
   "outputs": [],
   "source": [
    "import numpy as np\n",
    "from whatlies.language import SpacyLanguage\n",
    "\n",
    "lang = SpacyLanguage(\"en_trf_robertabase_lg\")"
   ]
  },
  {
   "cell_type": "code",
   "execution_count": 10,
   "metadata": {},
   "outputs": [
    {
     "data": {
      "text/plain": [
       "array([-0.10710682,  0.02091791,  0.06176348, -0.21725698,  0.6821515 ,\n",
       "       -0.39927804, -0.05537288,  0.14486104, -0.00605936, -0.07999073],\n",
       "      dtype=float32)"
      ]
     },
     "execution_count": 10,
     "metadata": {},
     "output_type": "execute_result"
    }
   ],
   "source": [
    "lang['red'].vector[:10]"
   ]
  },
  {
   "cell_type": "markdown",
   "metadata": {},
   "source": [
    "Note that these embeddings are kind of special, they depend on the context around the token of interest!"
   ]
  },
  {
   "cell_type": "code",
   "execution_count": 11,
   "metadata": {},
   "outputs": [
    {
     "data": {
      "text/plain": [
       "False"
      ]
     },
     "execution_count": 11,
     "metadata": {},
     "output_type": "execute_result"
    }
   ],
   "source": [
    "np.array_equal(lang['Going to the [store]'].vector, \n",
    "               lang['[store] this in the drawer please.'].vector)"
   ]
  },
  {
   "cell_type": "markdown",
   "metadata": {},
   "source": [
    "But we can also use the `EmbeddingSet` again. "
   ]
  },
  {
   "cell_type": "code",
   "execution_count": 13,
   "metadata": {},
   "outputs": [
    {
     "name": "stderr",
     "output_type": "stream",
     "text": [
      "/Users/vincent/Development/whatlies/venv/lib/python3.7/site-packages/umap/umap_.py:1383: UserWarning: n_neighbors is larger than the dataset size; truncating to X.shape[0] - 1\n",
      "  \"n_neighbors is larger than the dataset size; truncating to \"\n"
     ]
    }
   ],
   "source": [
    "from whatlies.transformers import Umap\n",
    "\n",
    "t = EmbeddingSet({k: lang[k] for k in contexts}).transform(Umap(2))"
   ]
  },
  {
   "cell_type": "code",
   "execution_count": 14,
   "metadata": {},
   "outputs": [
    {
     "data": {
      "text/html": [
       "\n",
       "<div id=\"altair-viz-d4e2b62897694582badbfc51005d3e35\"></div>\n",
       "<script type=\"text/javascript\">\n",
       "  (function(spec, embedOpt){\n",
       "    const outputDiv = document.getElementById(\"altair-viz-d4e2b62897694582badbfc51005d3e35\");\n",
       "    const paths = {\n",
       "      \"vega\": \"https://cdn.jsdelivr.net/npm//vega@5?noext\",\n",
       "      \"vega-lib\": \"https://cdn.jsdelivr.net/npm//vega-lib?noext\",\n",
       "      \"vega-lite\": \"https://cdn.jsdelivr.net/npm//vega-lite@4.0.2?noext\",\n",
       "      \"vega-embed\": \"https://cdn.jsdelivr.net/npm//vega-embed@6?noext\",\n",
       "    };\n",
       "\n",
       "    function loadScript(lib) {\n",
       "      return new Promise(function(resolve, reject) {\n",
       "        var s = document.createElement('script');\n",
       "        s.src = paths[lib];\n",
       "        s.async = true;\n",
       "        s.onload = () => resolve(paths[lib]);\n",
       "        s.onerror = () => reject(`Error loading script: ${paths[lib]}`);\n",
       "        document.getElementsByTagName(\"head\")[0].appendChild(s);\n",
       "      });\n",
       "    }\n",
       "\n",
       "    function showError(err) {\n",
       "      outputDiv.innerHTML = `<div class=\"error\" style=\"color:red;\">${err}</div>`;\n",
       "      throw err;\n",
       "    }\n",
       "\n",
       "    function displayChart(vegaEmbed) {\n",
       "      vegaEmbed(outputDiv, spec, embedOpt)\n",
       "        .catch(err => showError(`Javascript Error: ${err.message}<br>This usually means there's a typo in your chart specification. See the javascript console for the full traceback.`));\n",
       "    }\n",
       "\n",
       "    if(typeof define === \"function\" && define.amd) {\n",
       "      requirejs.config({paths});\n",
       "      require([\"vega-embed\"], displayChart, err => showError(`Error loading script: ${err.message}`));\n",
       "    } else if (typeof vegaEmbed === \"function\") {\n",
       "      displayChart(vegaEmbed);\n",
       "    } else {\n",
       "      loadScript(\"vega\")\n",
       "        .then(() => loadScript(\"vega-lite\"))\n",
       "        .then(() => loadScript(\"vega-embed\"))\n",
       "        .catch(showError)\n",
       "        .then(() => displayChart(vegaEmbed));\n",
       "    }\n",
       "  })({\"config\": {\"view\": {\"continuousWidth\": 400, \"continuousHeight\": 300}}, \"hconcat\": [{\"layer\": [{\"mark\": {\"type\": \"circle\", \"size\": 60}, \"encoding\": {\"tooltip\": [{\"type\": \"nominal\", \"field\": \"name\"}, {\"type\": \"nominal\", \"field\": \"original\"}], \"x\": {\"type\": \"quantitative\", \"axis\": {\"title\": \"Emb.umap_2()[i like cats and dogs]\"}, \"field\": \"x_axis\"}, \"y\": {\"type\": \"quantitative\", \"axis\": {\"title\": \"Emb.umap_2()[i put my money on the [bank]]\"}, \"field\": \"y_axis\"}}, \"selection\": {\"selector004\": {\"type\": \"interval\", \"bind\": \"scales\", \"encodings\": [\"x\", \"y\"]}}, \"title\": \"Emb.umap_2()[i like cats and dogs] vs. Emb.umap_2()[i put my money on the [bank]]\"}, {\"mark\": {\"type\": \"text\", \"color\": \"black\", \"dx\": -15, \"dy\": 3}, \"encoding\": {\"text\": {\"type\": \"nominal\", \"field\": \"original\"}, \"x\": {\"type\": \"quantitative\", \"axis\": {\"title\": \"Emb.umap_2()[i like cats and dogs]\"}, \"field\": \"x_axis\"}, \"y\": {\"type\": \"quantitative\", \"axis\": {\"title\": \"Emb.umap_2()[i put my money on the [bank]]\"}, \"field\": \"y_axis\"}}}], \"data\": {\"name\": \"data-79543c93d13de758cbf75327899d154d\"}}, {\"layer\": [{\"mark\": {\"type\": \"circle\", \"size\": 60}, \"encoding\": {\"tooltip\": [{\"type\": \"nominal\", \"field\": \"name\"}, {\"type\": \"nominal\", \"field\": \"original\"}], \"x\": {\"type\": \"quantitative\", \"axis\": {\"title\": \"Emb.umap_2()[i like cats and dogs]\"}, \"field\": \"x_axis\"}, \"y\": {\"type\": \"quantitative\", \"axis\": {\"title\": \"Emb.umap_2()[i put my money on the bank]\"}, \"field\": \"y_axis\"}}, \"selection\": {\"selector005\": {\"type\": \"interval\", \"bind\": \"scales\", \"encodings\": [\"x\", \"y\"]}}, \"title\": \"Emb.umap_2()[i like cats and dogs] vs. Emb.umap_2()[i put my money on the bank]\"}, {\"mark\": {\"type\": \"text\", \"color\": \"black\", \"dx\": -15, \"dy\": 3}, \"encoding\": {\"text\": {\"type\": \"nominal\", \"field\": \"original\"}, \"x\": {\"type\": \"quantitative\", \"axis\": {\"title\": \"Emb.umap_2()[i like cats and dogs]\"}, \"field\": \"x_axis\"}, \"y\": {\"type\": \"quantitative\", \"axis\": {\"title\": \"Emb.umap_2()[i put my money on the bank]\"}, \"field\": \"y_axis\"}}}], \"data\": {\"name\": \"data-d9b9ef072baa00d053a368865814ff1b\"}}], \"$schema\": \"https://vega.github.io/schema/vega-lite/v4.0.2.json\", \"datasets\": {\"data-79543c93d13de758cbf75327899d154d\": [{\"x_axis\": 1.0431380864222697, \"y_axis\": -0.8604117108013836, \"name\": \"Emb.umap_2()[i put my money on the bank]\", \"original\": \"i put my money on the bank\"}, {\"x_axis\": -0.7892356241121181, \"y_axis\": 0.9624346090067853, \"name\": \"Emb.umap_2()[the water flows on the river [bank]]\", \"original\": \"the water flows on the river [bank]\"}, {\"x_axis\": 0.9768597231574958, \"y_axis\": -0.7818958739764917, \"name\": \"Emb.umap_2()[the water flows on the river bank]\", \"original\": \"the water flows on the river bank\"}, {\"x_axis\": -0.8291973783740972, \"y_axis\": 0.9468233903005465, \"name\": \"Emb.umap_2()[i really like [to swim] in water]\", \"original\": \"i really like [to swim] in water\"}, {\"x_axis\": -0.849491411427712, \"y_axis\": 1.0218065968113186, \"name\": \"Emb.umap_2()[i want to be so rich that i am [drowning] in money]\", \"original\": \"i want to be so rich that i am [drowning] in money\"}, {\"x_axis\": -0.8487808583239888, \"y_axis\": 0.9862536984115295, \"name\": \"Emb.umap_2()[i have plenty of [cash] on me]\", \"original\": \"i have plenty of [cash] on me\"}, {\"x_axis\": -0.8008622807241906, \"y_axis\": 0.9440400964359484, \"name\": \"Emb.umap_2()[money is important to my [cash] flow]\", \"original\": \"money is important to my [cash] flow\"}, {\"x_axis\": 1.0209865659772812, \"y_axis\": -0.8163913291992513, \"name\": \"Emb.umap_2()[a beach is next to the ocean]\", \"original\": \"a beach is next to the ocean\"}, {\"x_axis\": 1.074467432281525, \"y_axis\": -0.851888800038363, \"name\": \"Emb.umap_2()[google gives me a wealth of information]\", \"original\": \"google gives me a wealth of information\"}, {\"x_axis\": 1.0427037969759492, \"y_axis\": -0.8035099235687709, \"name\": \"Emb.umap_2()[that banker person is very wealthy]\", \"original\": \"that banker person is very wealthy\"}, {\"x_axis\": -0.07058221583515174, \"y_axis\": 0.07437838689326512, \"name\": \"Emb.umap_2()[umap_0]\", \"original\": \"umap_0\"}, {\"x_axis\": -0.033358995778578225, \"y_axis\": -0.01708142603589037, \"name\": \"Emb.umap_2()[umap_1]\", \"original\": \"umap_1\"}], \"data-d9b9ef072baa00d053a368865814ff1b\": [{\"x_axis\": -0.8035777445326039, \"y_axis\": -0.8202105527496415, \"name\": \"Emb.umap_2()[i put my money on the [bank]]\", \"original\": \"i put my money on the [bank]\"}, {\"x_axis\": -0.7892356241121181, \"y_axis\": -0.8026556710100837, \"name\": \"Emb.umap_2()[the water flows on the river [bank]]\", \"original\": \"the water flows on the river [bank]\"}, {\"x_axis\": 0.9768597231574958, \"y_axis\": 0.9329358779698285, \"name\": \"Emb.umap_2()[the water flows on the river bank]\", \"original\": \"the water flows on the river bank\"}, {\"x_axis\": -0.8291973783740972, \"y_axis\": -0.8337817136810315, \"name\": \"Emb.umap_2()[i really like [to swim] in water]\", \"original\": \"i really like [to swim] in water\"}, {\"x_axis\": -0.849491411427712, \"y_axis\": -0.8618498424992467, \"name\": \"Emb.umap_2()[i want to be so rich that i am [drowning] in money]\", \"original\": \"i want to be so rich that i am [drowning] in money\"}, {\"x_axis\": -0.8487808583239888, \"y_axis\": -0.8559976588926141, \"name\": \"Emb.umap_2()[i have plenty of [cash] on me]\", \"original\": \"i have plenty of [cash] on me\"}, {\"x_axis\": -0.8008622807241906, \"y_axis\": -0.8096630669086108, \"name\": \"Emb.umap_2()[money is important to my [cash] flow]\", \"original\": \"money is important to my [cash] flow\"}, {\"x_axis\": 1.0209865659772812, \"y_axis\": 0.9749566636820066, \"name\": \"Emb.umap_2()[a beach is next to the ocean]\", \"original\": \"a beach is next to the ocean\"}, {\"x_axis\": 1.074467432281525, \"y_axis\": 1.024951834526213, \"name\": \"Emb.umap_2()[google gives me a wealth of information]\", \"original\": \"google gives me a wealth of information\"}, {\"x_axis\": 1.0427037969759492, \"y_axis\": 0.9912218086024464, \"name\": \"Emb.umap_2()[that banker person is very wealthy]\", \"original\": \"that banker person is very wealthy\"}, {\"x_axis\": -0.07058221583515174, \"y_axis\": -0.07005315321364107, \"name\": \"Emb.umap_2()[umap_0]\", \"original\": \"umap_0\"}, {\"x_axis\": -0.033358995778578225, \"y_axis\": -0.025384312572882678, \"name\": \"Emb.umap_2()[umap_1]\", \"original\": \"umap_1\"}]}}, {\"mode\": \"vega-lite\"});\n",
       "</script>"
      ],
      "text/plain": [
       "alt.HConcatChart(...)"
      ]
     },
     "execution_count": 14,
     "metadata": {},
     "output_type": "execute_result"
    }
   ],
   "source": [
    "p1 = t.plot_interactive(\"i like cats and dogs\", \"i put my money on the [bank]\")\n",
    "p2 = t.plot_interactive(\"i like cats and dogs\", \"i put my money on the bank\")\n",
    "p1 | p2"
   ]
  },
  {
   "cell_type": "code",
   "execution_count": null,
   "metadata": {},
   "outputs": [],
   "source": []
  }
 ],
 "metadata": {
  "kernelspec": {
   "display_name": "Python 3",
   "language": "python",
   "name": "python3"
  },
  "language_info": {
   "codemirror_mode": {
    "name": "ipython",
    "version": 3
   },
   "file_extension": ".py",
   "mimetype": "text/x-python",
   "name": "python",
   "nbconvert_exporter": "python",
   "pygments_lexer": "ipython3",
   "version": "3.7.3"
  }
 },
 "nbformat": 4,
 "nbformat_minor": 4
}
