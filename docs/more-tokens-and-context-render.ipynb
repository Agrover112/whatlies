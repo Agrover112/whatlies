{
 "cells": [
  {
   "cell_type": "markdown",
   "metadata": {},
   "source": [
    "The previous two notebooks might have gotten your attention but usually we get the response; \n",
    "\n",
    "> But what about BERT-embeddings? \n",
    "\n",
    "Let's explain how to get there, but first ... we should explain languages."
   ]
  },
  {
   "cell_type": "code",
   "execution_count": 1,
   "metadata": {},
   "outputs": [],
   "source": [
    "%load_ext autoreload\n",
    "%autoreload 2"
   ]
  },
  {
   "cell_type": "code",
   "execution_count": 2,
   "metadata": {},
   "outputs": [],
   "source": [
    "from whatlies import Embedding, EmbeddingSet\n",
    "import spacy \n",
    "import matplotlib.pylab as plt"
   ]
  },
  {
   "cell_type": "markdown",
   "metadata": {},
   "source": [
    "## Multi-Token Embeddings\n",
    "\n",
    "We can also have embeddings that represent more than one token. If we'd do this via spacy, we'd have a an average of all the word embeddings."
   ]
  },
  {
   "cell_type": "code",
   "execution_count": 3,
   "metadata": {},
   "outputs": [],
   "source": [
    "nlp = spacy.load(\"en_core_web_md\")\n",
    "\n",
    "contexts = (\"this snake is a python\",\n",
    "            \"i like to program in python\",\n",
    "            \"programming is super fun!\",\n",
    "            \"i go to the supermarket\",\n",
    "            \"i like to code\", \n",
    "            \"i love animals\")\n",
    "\n",
    "emb = EmbeddingSet({k: Embedding(k, nlp(k).vector) for k in contexts})"
   ]
  },
  {
   "cell_type": "code",
   "execution_count": 4,
   "metadata": {},
   "outputs": [
    {
     "data": {
      "text/html": [
       "\n",
       "<div id=\"altair-viz-08e44afedef444e883ebc34dcc0ca511\"></div>\n",
       "<script type=\"text/javascript\">\n",
       "  (function(spec, embedOpt){\n",
       "    const outputDiv = document.getElementById(\"altair-viz-08e44afedef444e883ebc34dcc0ca511\");\n",
       "    const paths = {\n",
       "      \"vega\": \"https://cdn.jsdelivr.net/npm//vega@5?noext\",\n",
       "      \"vega-lib\": \"https://cdn.jsdelivr.net/npm//vega-lib?noext\",\n",
       "      \"vega-lite\": \"https://cdn.jsdelivr.net/npm//vega-lite@4.0.2?noext\",\n",
       "      \"vega-embed\": \"https://cdn.jsdelivr.net/npm//vega-embed@6?noext\",\n",
       "    };\n",
       "\n",
       "    function loadScript(lib) {\n",
       "      return new Promise(function(resolve, reject) {\n",
       "        var s = document.createElement('script');\n",
       "        s.src = paths[lib];\n",
       "        s.async = true;\n",
       "        s.onload = () => resolve(paths[lib]);\n",
       "        s.onerror = () => reject(`Error loading script: ${paths[lib]}`);\n",
       "        document.getElementsByTagName(\"head\")[0].appendChild(s);\n",
       "      });\n",
       "    }\n",
       "\n",
       "    function showError(err) {\n",
       "      outputDiv.innerHTML = `<div class=\"error\" style=\"color:red;\">${err}</div>`;\n",
       "      throw err;\n",
       "    }\n",
       "\n",
       "    function displayChart(vegaEmbed) {\n",
       "      vegaEmbed(outputDiv, spec, embedOpt)\n",
       "        .catch(err => showError(`Javascript Error: ${err.message}<br>This usually means there's a typo in your chart specification. See the javascript console for the full traceback.`));\n",
       "    }\n",
       "\n",
       "    if(typeof define === \"function\" && define.amd) {\n",
       "      requirejs.config({paths});\n",
       "      require([\"vega-embed\"], displayChart, err => showError(`Error loading script: ${err.message}`));\n",
       "    } else if (typeof vegaEmbed === \"function\") {\n",
       "      displayChart(vegaEmbed);\n",
       "    } else {\n",
       "      loadScript(\"vega\")\n",
       "        .then(() => loadScript(\"vega-lite\"))\n",
       "        .then(() => loadScript(\"vega-embed\"))\n",
       "        .catch(showError)\n",
       "        .then(() => displayChart(vegaEmbed));\n",
       "    }\n",
       "  })({\"config\": {\"view\": {\"continuousWidth\": 400, \"continuousHeight\": 300}}, \"layer\": [{\"mark\": {\"type\": \"circle\", \"size\": 60}, \"encoding\": {\"tooltip\": [{\"type\": \"nominal\", \"field\": \"name\"}, {\"type\": \"nominal\", \"field\": \"original\"}], \"x\": {\"type\": \"quantitative\", \"axis\": {\"title\": \"python is for programming\"}, \"field\": \"x_axis\"}, \"y\": {\"type\": \"quantitative\", \"axis\": {\"title\": \"snakes are slimy creatures\"}, \"field\": \"y_axis\"}}, \"selection\": {\"selector001\": {\"type\": \"interval\", \"bind\": \"scales\", \"encodings\": [\"x\", \"y\"]}}, \"title\": \"python is for programming vs. snakes are slimy creatures\"}, {\"mark\": {\"type\": \"text\", \"color\": \"black\", \"dx\": -15, \"dy\": 3}, \"encoding\": {\"text\": {\"type\": \"nominal\", \"field\": \"original\"}, \"x\": {\"type\": \"quantitative\", \"axis\": {\"title\": \"python is for programming\"}, \"field\": \"x_axis\"}, \"y\": {\"type\": \"quantitative\", \"axis\": {\"title\": \"snakes are slimy creatures\"}, \"field\": \"y_axis\"}}}], \"data\": {\"name\": \"data-89f652deee286e31f69fc65ef9734079\"}, \"$schema\": \"https://vega.github.io/schema/vega-lite/v4.0.2.json\", \"datasets\": {\"data-89f652deee286e31f69fc65ef9734079\": [{\"x_axis\": 0.7620851397514343, \"y_axis\": 0.46533307433128357, \"name\": \"this snake is a python\", \"original\": \"this snake is a python\"}, {\"x_axis\": 0.725583016872406, \"y_axis\": 0.3643815517425537, \"name\": \"i like to program in python\", \"original\": \"i like to program in python\"}, {\"x_axis\": 0.7156033515930176, \"y_axis\": 0.3570227324962616, \"name\": \"programming is super fun!\", \"original\": \"programming is super fun!\"}, {\"x_axis\": 0.4657047390937805, \"y_axis\": 0.3518235683441162, \"name\": \"i go to the supermarket\", \"original\": \"i go to the supermarket\"}, {\"x_axis\": 0.6384759545326233, \"y_axis\": 0.3584940731525421, \"name\": \"i like to code\", \"original\": \"i like to code\"}, {\"x_axis\": 0.55930495262146, \"y_axis\": 0.6445141434669495, \"name\": \"i love animals\", \"original\": \"i love animals\"}]}}, {\"mode\": \"vega-lite\"});\n",
       "</script>"
      ],
      "text/plain": [
       "alt.LayerChart(...)"
      ]
     },
     "execution_count": 4,
     "metadata": {},
     "output_type": "execute_result"
    }
   ],
   "source": [
    "x_str, y_str = \"python is for programming\", \"snakes are slimy creatures\"\n",
    "x_axis = Embedding(x_str, nlp(x_str).vector)\n",
    "y_axis = Embedding(y_str, nlp(y_str).vector)\n",
    "emb.plot_interactive(x_axis=x_axis, y_axis=y_axis)"
   ]
  },
  {
   "cell_type": "markdown",
   "metadata": {},
   "source": [
    "## Embeddings of Tokens with Context\n",
    "\n",
    "But maybe we'd like to have BERT-style models. These models work differently. Luckily ... spaCy also supports this these days. "
   ]
  },
  {
   "cell_type": "code",
   "execution_count": 5,
   "metadata": {},
   "outputs": [
    {
     "data": {
      "text/html": [
       "\n",
       "<div id=\"altair-viz-285a2685e3cc485ebf9cbc9b940cdcd0\"></div>\n",
       "<script type=\"text/javascript\">\n",
       "  (function(spec, embedOpt){\n",
       "    const outputDiv = document.getElementById(\"altair-viz-285a2685e3cc485ebf9cbc9b940cdcd0\");\n",
       "    const paths = {\n",
       "      \"vega\": \"https://cdn.jsdelivr.net/npm//vega@5?noext\",\n",
       "      \"vega-lib\": \"https://cdn.jsdelivr.net/npm//vega-lib?noext\",\n",
       "      \"vega-lite\": \"https://cdn.jsdelivr.net/npm//vega-lite@4.0.2?noext\",\n",
       "      \"vega-embed\": \"https://cdn.jsdelivr.net/npm//vega-embed@6?noext\",\n",
       "    };\n",
       "\n",
       "    function loadScript(lib) {\n",
       "      return new Promise(function(resolve, reject) {\n",
       "        var s = document.createElement('script');\n",
       "        s.src = paths[lib];\n",
       "        s.async = true;\n",
       "        s.onload = () => resolve(paths[lib]);\n",
       "        s.onerror = () => reject(`Error loading script: ${paths[lib]}`);\n",
       "        document.getElementsByTagName(\"head\")[0].appendChild(s);\n",
       "      });\n",
       "    }\n",
       "\n",
       "    function showError(err) {\n",
       "      outputDiv.innerHTML = `<div class=\"error\" style=\"color:red;\">${err}</div>`;\n",
       "      throw err;\n",
       "    }\n",
       "\n",
       "    function displayChart(vegaEmbed) {\n",
       "      vegaEmbed(outputDiv, spec, embedOpt)\n",
       "        .catch(err => showError(`Javascript Error: ${err.message}<br>This usually means there's a typo in your chart specification. See the javascript console for the full traceback.`));\n",
       "    }\n",
       "\n",
       "    if(typeof define === \"function\" && define.amd) {\n",
       "      requirejs.config({paths});\n",
       "      require([\"vega-embed\"], displayChart, err => showError(`Error loading script: ${err.message}`));\n",
       "    } else if (typeof vegaEmbed === \"function\") {\n",
       "      displayChart(vegaEmbed);\n",
       "    } else {\n",
       "      loadScript(\"vega\")\n",
       "        .then(() => loadScript(\"vega-lite\"))\n",
       "        .then(() => loadScript(\"vega-embed\"))\n",
       "        .catch(showError)\n",
       "        .then(() => displayChart(vegaEmbed));\n",
       "    }\n",
       "  })({\"config\": {\"view\": {\"continuousWidth\": 400, \"continuousHeight\": 300}}, \"layer\": [{\"mark\": {\"type\": \"circle\", \"size\": 60}, \"encoding\": {\"tooltip\": [{\"type\": \"nominal\", \"field\": \"name\"}, {\"type\": \"nominal\", \"field\": \"original\"}], \"x\": {\"type\": \"quantitative\", \"axis\": {\"title\": \"python is for programming\"}, \"field\": \"x_axis\"}, \"y\": {\"type\": \"quantitative\", \"axis\": {\"title\": \"dogs are cool\"}, \"field\": \"y_axis\"}}, \"selection\": {\"selector002\": {\"type\": \"interval\", \"bind\": \"scales\", \"encodings\": [\"x\", \"y\"]}}, \"title\": \"python is for programming vs. dogs are cool\"}, {\"mark\": {\"type\": \"text\", \"color\": \"black\", \"dx\": -15, \"dy\": 3}, \"encoding\": {\"text\": {\"type\": \"nominal\", \"field\": \"original\"}, \"x\": {\"type\": \"quantitative\", \"axis\": {\"title\": \"python is for programming\"}, \"field\": \"x_axis\"}, \"y\": {\"type\": \"quantitative\", \"axis\": {\"title\": \"dogs are cool\"}, \"field\": \"y_axis\"}}}], \"data\": {\"name\": \"data-ee7849759e706042e23f69940bb8fba0\"}, \"$schema\": \"https://vega.github.io/schema/vega-lite/v4.0.2.json\", \"datasets\": {\"data-ee7849759e706042e23f69940bb8fba0\": [{\"x_axis\": 1.144073724746704, \"y_axis\": 1.3308799266815186, \"name\": \"this snake is a python\", \"original\": \"this snake is a python\"}, {\"x_axis\": 1.300294041633606, \"y_axis\": 1.5033687353134155, \"name\": \"i like to program in python\", \"original\": \"i like to program in python\"}, {\"x_axis\": 1.3160514831542969, \"y_axis\": 1.5487240552902222, \"name\": \"programming is super fun!\", \"original\": \"programming is super fun!\"}, {\"x_axis\": 1.0894197225570679, \"y_axis\": 1.2830896377563477, \"name\": \"i go to the supermarket\", \"original\": \"i go to the supermarket\"}, {\"x_axis\": 0.9419794678688049, \"y_axis\": 1.1170157194137573, \"name\": \"i like to code\", \"original\": \"i like to code\"}, {\"x_axis\": 0.8128737807273865, \"y_axis\": 0.9750963449478149, \"name\": \"i love animals\", \"original\": \"i love animals\"}]}}, {\"mode\": \"vega-lite\"});\n",
       "</script>"
      ],
      "text/plain": [
       "alt.LayerChart(...)"
      ]
     },
     "execution_count": 5,
     "metadata": {},
     "output_type": "execute_result"
    }
   ],
   "source": [
    "nlp = spacy.load(\"en_trf_robertabase_lg\")\n",
    "\n",
    "contexts = (\"this snake is a python\",\n",
    "            \"i like to program in python\",\n",
    "            \"programming is super fun!\",\n",
    "            \"i go to the supermarket\",\n",
    "            \"i like to code\", \n",
    "            \"i love animals\")\n",
    "\n",
    "t = EmbeddingSet({k: Embedding(k, nlp(k).vector) for k in contexts})\n",
    "\n",
    "x_str, y_str = \"python is for programming\", \"dogs are cool\"\n",
    "x_axis = Embedding(x_str, nlp(x_str).vector)\n",
    "y_axis = Embedding(y_str, nlp(y_str).vector)\n",
    "t.plot_interactive(x_axis=x_axis, y_axis=y_axis)"
   ]
  },
  {
   "cell_type": "markdown",
   "metadata": {},
   "source": [
    "We can go a step further too. If we have the sentence `this snake is a python` then an algorithm like Bert will not apply seperate word embeddings for each token. Rather, the entire document will first learn it's representation before assigning it to seperate tokens. If you are interested in a Bert representation of a word given the context that it is in ... you can get them with a special syntax."
   ]
  },
  {
   "cell_type": "code",
   "execution_count": 6,
   "metadata": {},
   "outputs": [],
   "source": [
    "contexts = (\"i put my money on the [bank]\",\n",
    "            \"i put my money on the bank\",\n",
    "            \"the water flows on the river [bank]\",\n",
    "            \"the water flows on the river bank\",\n",
    "            \"i really like [to swim] in water\",\n",
    "            \"i want to be so rich that i am [drowning] in money\",\n",
    "            \"i have plenty of [cash] on me\",\n",
    "            \"money is important to my [cash] flow\", \n",
    "            \"a beach is next to the ocean\", \n",
    "            \"google gives me a wealth of information\",\n",
    "            \"that banker person is very wealthy\", \n",
    "            \"i like cats and dogs\")"
   ]
  },
  {
   "cell_type": "markdown",
   "metadata": {},
   "source": [
    "But to make use of this syntax we need a new object; the `Language` object. This is a tool for `whatlies` to grab the appropriate word embeddings on your behalf. It will handle the context but can also be seen as a lazy `EmbeddingSet`."
   ]
  },
  {
   "cell_type": "code",
   "execution_count": 7,
   "metadata": {},
   "outputs": [],
   "source": [
    "import numpy as np\n",
    "from whatlies.language import SpacyLanguage\n",
    "\n",
    "lang = SpacyLanguage(\"en_trf_robertabase_lg\")"
   ]
  },
  {
   "cell_type": "code",
   "execution_count": 8,
   "metadata": {},
   "outputs": [
    {
     "data": {
      "text/plain": [
       "array([-0.10710682,  0.02091791,  0.06176348, -0.21725698,  0.6821515 ,\n",
       "       -0.39927804, -0.05537288,  0.14486104, -0.00605936, -0.07999073],\n",
       "      dtype=float32)"
      ]
     },
     "execution_count": 8,
     "metadata": {},
     "output_type": "execute_result"
    }
   ],
   "source": [
    "lang['red'].vector[:10]"
   ]
  },
  {
   "cell_type": "markdown",
   "metadata": {},
   "source": [
    "Note that these embeddings are kind of special, they depend on the context around the token of interest!"
   ]
  },
  {
   "cell_type": "code",
   "execution_count": 9,
   "metadata": {},
   "outputs": [
    {
     "data": {
      "text/plain": [
       "False"
      ]
     },
     "execution_count": 9,
     "metadata": {},
     "output_type": "execute_result"
    }
   ],
   "source": [
    "np.array_equal(lang['Going to the [store]'].vector, \n",
    "               lang['[store] this in the drawer please.'].vector)"
   ]
  },
  {
   "cell_type": "markdown",
   "metadata": {},
   "source": [
    "But we can also use the `EmbeddingSet` again. "
   ]
  },
  {
   "cell_type": "code",
   "execution_count": 10,
   "metadata": {},
   "outputs": [
    {
     "name": "stderr",
     "output_type": "stream",
     "text": [
      "/Users/vincent/Development/whatlies/venv/lib/python3.7/site-packages/umap/umap_.py:1383: UserWarning: n_neighbors is larger than the dataset size; truncating to X.shape[0] - 1\n",
      "  \"n_neighbors is larger than the dataset size; truncating to \"\n"
     ]
    }
   ],
   "source": [
    "from whatlies.transformers import umap\n",
    "\n",
    "t = EmbeddingSet({k: lang[k] for k in contexts}).transform(umap(2))"
   ]
  },
  {
   "cell_type": "code",
   "execution_count": 11,
   "metadata": {},
   "outputs": [
    {
     "data": {
      "text/html": [
       "\n",
       "<div id=\"altair-viz-6fd4a3a791ec43ad8f1b3a13a6bfda67\"></div>\n",
       "<script type=\"text/javascript\">\n",
       "  (function(spec, embedOpt){\n",
       "    const outputDiv = document.getElementById(\"altair-viz-6fd4a3a791ec43ad8f1b3a13a6bfda67\");\n",
       "    const paths = {\n",
       "      \"vega\": \"https://cdn.jsdelivr.net/npm//vega@5?noext\",\n",
       "      \"vega-lib\": \"https://cdn.jsdelivr.net/npm//vega-lib?noext\",\n",
       "      \"vega-lite\": \"https://cdn.jsdelivr.net/npm//vega-lite@4.0.2?noext\",\n",
       "      \"vega-embed\": \"https://cdn.jsdelivr.net/npm//vega-embed@6?noext\",\n",
       "    };\n",
       "\n",
       "    function loadScript(lib) {\n",
       "      return new Promise(function(resolve, reject) {\n",
       "        var s = document.createElement('script');\n",
       "        s.src = paths[lib];\n",
       "        s.async = true;\n",
       "        s.onload = () => resolve(paths[lib]);\n",
       "        s.onerror = () => reject(`Error loading script: ${paths[lib]}`);\n",
       "        document.getElementsByTagName(\"head\")[0].appendChild(s);\n",
       "      });\n",
       "    }\n",
       "\n",
       "    function showError(err) {\n",
       "      outputDiv.innerHTML = `<div class=\"error\" style=\"color:red;\">${err}</div>`;\n",
       "      throw err;\n",
       "    }\n",
       "\n",
       "    function displayChart(vegaEmbed) {\n",
       "      vegaEmbed(outputDiv, spec, embedOpt)\n",
       "        .catch(err => showError(`Javascript Error: ${err.message}<br>This usually means there's a typo in your chart specification. See the javascript console for the full traceback.`));\n",
       "    }\n",
       "\n",
       "    if(typeof define === \"function\" && define.amd) {\n",
       "      requirejs.config({paths});\n",
       "      require([\"vega-embed\"], displayChart, err => showError(`Error loading script: ${err.message}`));\n",
       "    } else if (typeof vegaEmbed === \"function\") {\n",
       "      displayChart(vegaEmbed);\n",
       "    } else {\n",
       "      loadScript(\"vega\")\n",
       "        .then(() => loadScript(\"vega-lite\"))\n",
       "        .then(() => loadScript(\"vega-embed\"))\n",
       "        .catch(showError)\n",
       "        .then(() => displayChart(vegaEmbed));\n",
       "    }\n",
       "  })({\"config\": {\"view\": {\"continuousWidth\": 400, \"continuousHeight\": 300}}, \"hconcat\": [{\"layer\": [{\"mark\": {\"type\": \"circle\", \"size\": 60}, \"encoding\": {\"tooltip\": [{\"type\": \"nominal\", \"field\": \"name\"}, {\"type\": \"nominal\", \"field\": \"original\"}], \"x\": {\"type\": \"quantitative\", \"axis\": {\"title\": \"i like cats and dogs\"}, \"field\": \"x_axis\"}, \"y\": {\"type\": \"quantitative\", \"axis\": {\"title\": \"i put my money on the [bank]\"}, \"field\": \"y_axis\"}}, \"selection\": {\"selector003\": {\"type\": \"interval\", \"bind\": \"scales\", \"encodings\": [\"x\", \"y\"]}}, \"title\": \"i like cats and dogs vs. i put my money on the [bank]\"}, {\"mark\": {\"type\": \"text\", \"color\": \"black\", \"dx\": -15, \"dy\": 3}, \"encoding\": {\"text\": {\"type\": \"nominal\", \"field\": \"original\"}, \"x\": {\"type\": \"quantitative\", \"axis\": {\"title\": \"i like cats and dogs\"}, \"field\": \"x_axis\"}, \"y\": {\"type\": \"quantitative\", \"axis\": {\"title\": \"i put my money on the [bank]\"}, \"field\": \"y_axis\"}}}], \"data\": {\"name\": \"data-75cf3b2dd6bcd8f38ec30b26d50a5073\"}}, {\"layer\": [{\"mark\": {\"type\": \"circle\", \"size\": 60}, \"encoding\": {\"tooltip\": [{\"type\": \"nominal\", \"field\": \"name\"}, {\"type\": \"nominal\", \"field\": \"original\"}], \"x\": {\"type\": \"quantitative\", \"axis\": {\"title\": \"i like cats and dogs\"}, \"field\": \"x_axis\"}, \"y\": {\"type\": \"quantitative\", \"axis\": {\"title\": \"i put my money on the bank\"}, \"field\": \"y_axis\"}}, \"selection\": {\"selector004\": {\"type\": \"interval\", \"bind\": \"scales\", \"encodings\": [\"x\", \"y\"]}}, \"title\": \"i like cats and dogs vs. i put my money on the bank\"}, {\"mark\": {\"type\": \"text\", \"color\": \"black\", \"dx\": -15, \"dy\": 3}, \"encoding\": {\"text\": {\"type\": \"nominal\", \"field\": \"original\"}, \"x\": {\"type\": \"quantitative\", \"axis\": {\"title\": \"i like cats and dogs\"}, \"field\": \"x_axis\"}, \"y\": {\"type\": \"quantitative\", \"axis\": {\"title\": \"i put my money on the bank\"}, \"field\": \"y_axis\"}}}], \"data\": {\"name\": \"data-f89d1d08bd18ff1fa367457fb2416843\"}}], \"$schema\": \"https://vega.github.io/schema/vega-lite/v4.0.2.json\", \"datasets\": {\"data-75cf3b2dd6bcd8f38ec30b26d50a5073\": [{\"x_axis\": 0.9532508485348843, \"y_axis\": -1.4399551774063304, \"name\": \"i put my money on the bank\", \"original\": \"i put my money on the bank\"}, {\"x_axis\": -0.2531949198320457, \"y_axis\": 0.9626197510279563, \"name\": \"the water flows on the river [bank]\", \"original\": \"the water flows on the river [bank]\"}, {\"x_axis\": 0.9951122624616089, \"y_axis\": -1.5153613226252616, \"name\": \"the water flows on the river bank\", \"original\": \"the water flows on the river bank\"}, {\"x_axis\": -0.19707125301726813, \"y_axis\": 0.8772449692629158, \"name\": \"i really like [to swim] in water\", \"original\": \"i really like [to swim] in water\"}, {\"x_axis\": -0.21836164010813944, \"y_axis\": 0.8758584036014901, \"name\": \"i want to be so rich that i am [drowning] in money\", \"original\": \"i want to be so rich that i am [drowning] in money\"}, {\"x_axis\": -0.21506332073731227, \"y_axis\": 0.9397453042420469, \"name\": \"i have plenty of [cash] on me\", \"original\": \"i have plenty of [cash] on me\"}, {\"x_axis\": -0.24367473810441767, \"y_axis\": 0.9057540608295127, \"name\": \"money is important to my [cash] flow\", \"original\": \"money is important to my [cash] flow\"}, {\"x_axis\": 1.0210046721214823, \"y_axis\": -1.5855893465791937, \"name\": \"a beach is next to the ocean\", \"original\": \"a beach is next to the ocean\"}, {\"x_axis\": 0.9716333031226672, \"y_axis\": -1.5151468521549007, \"name\": \"google gives me a wealth of information\", \"original\": \"google gives me a wealth of information\"}, {\"x_axis\": 0.9766864000317756, \"y_axis\": -1.5782464426700709, \"name\": \"that banker person is very wealthy\", \"original\": \"that banker person is very wealthy\"}, {\"x_axis\": -0.016024278710211594, \"y_axis\": -0.06197504529008688, \"name\": \"umap_0\", \"original\": \"umap_0\"}, {\"x_axis\": 0.0430845463978683, \"y_axis\": -0.10137239718526057, \"name\": \"umap_1\", \"original\": \"umap_1\"}], \"data-f89d1d08bd18ff1fa367457fb2416843\": [{\"x_axis\": -0.2390319484157646, \"y_axis\": -0.2367613404849074, \"name\": \"i put my money on the [bank]\", \"original\": \"i put my money on the [bank]\"}, {\"x_axis\": -0.2531949198320457, \"y_axis\": -0.2529061161721025, \"name\": \"the water flows on the river [bank]\", \"original\": \"the water flows on the river [bank]\"}, {\"x_axis\": 0.9951122624616089, \"y_axis\": 1.0436478059814442, \"name\": \"the water flows on the river bank\", \"original\": \"the water flows on the river bank\"}, {\"x_axis\": -0.19707125301726813, \"y_axis\": -0.19404309322524899, \"name\": \"i really like [to swim] in water\", \"original\": \"i really like [to swim] in water\"}, {\"x_axis\": -0.21836164010813944, \"y_axis\": -0.21711232200989208, \"name\": \"i want to be so rich that i am [drowning] in money\", \"original\": \"i want to be so rich that i am [drowning] in money\"}, {\"x_axis\": -0.21506332073731227, \"y_axis\": -0.2121439331899502, \"name\": \"i have plenty of [cash] on me\", \"original\": \"i have plenty of [cash] on me\"}, {\"x_axis\": -0.24367473810441767, \"y_axis\": -0.24384951131916716, \"name\": \"money is important to my [cash] flow\", \"original\": \"money is important to my [cash] flow\"}, {\"x_axis\": 1.0210046721214823, \"y_axis\": 1.070128558899791, \"name\": \"a beach is next to the ocean\", \"original\": \"a beach is next to the ocean\"}, {\"x_axis\": 0.9716333031226672, \"y_axis\": 1.0182453328047985, \"name\": \"google gives me a wealth of information\", \"original\": \"google gives me a wealth of information\"}, {\"x_axis\": 0.9766864000317756, \"y_axis\": 1.022331463815698, \"name\": \"that banker person is very wealthy\", \"original\": \"that banker person is very wealthy\"}, {\"x_axis\": -0.016024278710211594, \"y_axis\": -0.018697596577565364, \"name\": \"umap_0\", \"original\": \"umap_0\"}, {\"x_axis\": 0.0430845463978683, \"y_axis\": 0.0444026982451239, \"name\": \"umap_1\", \"original\": \"umap_1\"}]}}, {\"mode\": \"vega-lite\"});\n",
       "</script>"
      ],
      "text/plain": [
       "alt.HConcatChart(...)"
      ]
     },
     "execution_count": 11,
     "metadata": {},
     "output_type": "execute_result"
    }
   ],
   "source": [
    "p1 = t.plot_interactive(\"i like cats and dogs\", \"i put my money on the [bank]\")\n",
    "p2 = t.plot_interactive(\"i like cats and dogs\", \"i put my money on the bank\")\n",
    "p1 | p2"
   ]
  },
  {
   "cell_type": "code",
   "execution_count": null,
   "metadata": {},
   "outputs": [],
   "source": []
  }
 ],
 "metadata": {
  "kernelspec": {
   "display_name": "Python 3",
   "language": "python",
   "name": "python3"
  },
  "language_info": {
   "codemirror_mode": {
    "name": "ipython",
    "version": 3
   },
   "file_extension": ".py",
   "mimetype": "text/x-python",
   "name": "python",
   "nbconvert_exporter": "python",
   "pygments_lexer": "ipython3",
   "version": "3.7.3"
  }
 },
 "nbformat": 4,
 "nbformat_minor": 4
}
